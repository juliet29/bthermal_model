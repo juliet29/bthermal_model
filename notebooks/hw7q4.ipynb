{
 "cells": [
  {
   "cell_type": "code",
   "execution_count": 1,
   "metadata": {},
   "outputs": [],
   "source": [
    "using Plots\n",
    "using PlotlyJS\n",
    "using Statistics\n",
    "using QuadGK\n",
    "using MAT"
   ]
  },
  {
   "cell_type": "code",
   "execution_count": 18,
   "metadata": {},
   "outputs": [],
   "source": [
    "vars_q4 = matread(\"../solutions/Q4data.mat\")\n",
    "time = vars_q4[\"time\"];\n",
    "Tout = vars_q4[\"Tout\"];\n",
    "TintRec = vars_q4[\"TintMeas\"];"
   ]
  },
  {
   "cell_type": "code",
   "execution_count": 3,
   "metadata": {},
   "outputs": [],
   "source": [
    "# definining constants again, just for completeness and avoid issues..\n",
    "va      = 2880;     # Volume of air inside the building [m^3]\n",
    "rhoa    = 1.225;     # Density of air [kg/m^3]\n",
    "ca      = 1005;      # Specific heat of air [J/KgK]\n",
    "th      = 0.1;       # Thickness of thermal mass floors[m]\n",
    "A_f     = 2*90;       # Area of the 3 floors [m^2]\n",
    "rho_f   = 2300;     # Density of Thermal Mass concrete [kg/m^3]\n",
    "k_f     = 0.8;         # Conductivity of Thermal Mass concrete [W/mK]\n",
    "c_f     = 750;        # Specific heat of Thermal Mass concrete [J/KgK]\n",
    "hconv   = 4;           # Convective heat coefficient [W/m2.K]\n",
    "Eint    = 250;      # Internal loads due to occupancy, lighting and equipment [W]"
   ]
  },
  {
   "cell_type": "code",
   "execution_count": null,
   "metadata": {},
   "outputs": [],
   "source": [
    "# do we have to implement own version of E_v or not? "
   ]
  },
  {
   "cell_type": "markdown",
   "metadata": {},
   "source": [
    "## Fabric calculation "
   ]
  },
  {
   "cell_type": "code",
   "execution_count": 5,
   "metadata": {},
   "outputs": [
    {
     "data": {
      "text/plain": [
       "11"
      ]
     },
     "metadata": {},
     "output_type": "display_data"
    }
   ],
   "source": [
    "# Discretization variables\n",
    "dt = 15;\n",
    "dx = th/10;\n",
    "x = range(0, th, step = dx)  |> collect \n",
    "Nx = length(x)"
   ]
  },
  {
   "cell_type": "code",
   "execution_count": 14,
   "metadata": {},
   "outputs": [
    {
     "data": {
      "text/plain": [
       "conductionMatrix (generic function with 1 method)"
      ]
     },
     "metadata": {},
     "output_type": "display_data"
    }
   ],
   "source": [
    "function conductionMatrix(lambda, dt, dx, Nx)\n",
    "    # used to calculate temperature evolution within a fabric \n",
    "    A = zeros(Nx, Nx)\n",
    "\n",
    "    A[1,1] = 1-lambda;  \n",
    "    A[1,2] = lambda;\n",
    "    A[Nx,Nx-1] = lambda;\n",
    "    A[Nx,Nx] = 1-lambda;  \n",
    "    \n",
    "    # all other rows \n",
    "    for i = 2:Nx-1\n",
    "        A[i, i-1] = lambda;\n",
    "        A[i, i] = 1-2*lambda;\n",
    "        A[i, i+1] = lambda;\n",
    "    end\n",
    "\n",
    "    return A\n",
    "\n",
    "end"
   ]
  },
  {
   "cell_type": "code",
   "execution_count": 15,
   "metadata": {},
   "outputs": [],
   "source": [
    "# Matrix for conduction \n",
    "alpha = k_f/(rho_f*c_f) # thermal conductivity / (density * specific heat )\n",
    "lambda = alpha * dt / dx^2\n",
    "A = conductionMatrix(lambda, dt, dx, Nx);\n"
   ]
  },
  {
   "cell_type": "code",
   "execution_count": 21,
   "metadata": {},
   "outputs": [],
   "source": [
    "# first loop for thermal mass initial temperature \n",
    "\n",
    "# initialize night flush conditions => convert from clecius to kelvin \n",
    "Tint    = 273+TintRec[1]; \n",
    "T0      = 273+TintRec[1];\n",
    "TNx     = 273+TintRec[1];\n",
    "Tf      = T0 .+ (TNx-T0)*x'/th; # !!! why not just set the fabric temp to T0?? => 1x11 matrix of 296..."
   ]
  },
  {
   "cell_type": "markdown",
   "metadata": {},
   "source": [
    "## natural ventilation "
   ]
  },
  {
   "cell_type": "code",
   "execution_count": 32,
   "metadata": {},
   "outputs": [],
   "source": [
    "g = 9.81;"
   ]
  },
  {
   "cell_type": "code",
   "execution_count": 33,
   "metadata": {},
   "outputs": [
    {
     "data": {
      "text/plain": [
       "cd_pivot (generic function with 1 method)"
      ]
     },
     "metadata": {},
     "output_type": "display_data"
    }
   ],
   "source": [
    "function cd_pivot(alpha)\n",
    "    W=1;\n",
    "    H=1;\n",
    "    W_pivot = z -> (1/W^2 + 1/(2*(H-z)*tand(alpha)+sind(alpha)*W).^2) .^(-1/2)\n",
    "    h = H * (1- cosd(alpha));\n",
    "    integral, est = quadgk(W_pivot,h,H) #rtol=1e-8 -> error when go to last element of angle array\n",
    "    A_eff = W*h + integral ;\n",
    "    Cd0 = 0.611;\n",
    "    Cd = A_eff / (H*W) * Cd0;   \n",
    "    \n",
    "end"
   ]
  },
  {
   "cell_type": "markdown",
   "metadata": {},
   "source": [
    "### windows"
   ]
  },
  {
   "cell_type": "code",
   "execution_count": null,
   "metadata": {},
   "outputs": [],
   "source": [
    "# window properties \n",
    "w1 = Dict(\"alpha\" => 42, \"area\" => 1.61, \"l\" => 11.34)\n",
    "w1[\"cd\"] = cd_pivot(w1[\"alpha\"])\n",
    "\n",
    "w2 = Dict(\"alpha\" => 42, \"area\" => 1.755, \"l\" => 6.62)\n",
    "w2[\"cd\"] = cd_pivot(w2[\"alpha\"])\n",
    "\n",
    "w3 = Dict(\"alpha\" => 42, \"area\" => 1.755, \"l\" => 2.07)\n",
    "w3[\"cd\"] = cd_pivot(w3[\"alpha\"]);"
   ]
  },
  {
   "cell_type": "code",
   "execution_count": 38,
   "metadata": {},
   "outputs": [],
   "source": [
    "# convert data into kelvin \n",
    "time_in_seconds = time*3600;\n",
    "time_in_hours   = time;\n",
    "Tout        = 273 .+Tout;\n",
    "TintReal    = 273 .+TintRec;"
   ]
  },
  {
   "cell_type": "markdown",
   "metadata": {},
   "source": [
    "## recursive loop - compute ventilation, internal temperature, and fabric temperature.."
   ]
  },
  {
   "cell_type": "code",
   "execution_count": null,
   "metadata": {},
   "outputs": [],
   "source": [
    "for t=1:length(time)\n",
    "    # equivalent hour \n",
    "    h = time_in_hours[t];\n",
    "\n",
    "\n",
    "    # calculate energy of nat vent at each time step... \n",
    "    # TODO..?\n",
    "\n",
    "    # Q = \\dot{V} => rate of change of volume \n",
    "    for (w, Q) in zip([w1, w2, w3], [Q1, Q2, Q3])\n",
    "        try \n",
    "            Q[t] = w[\"cd\"] * w[\"area\"] * sqrt(2*g*w[\"l\"] *(TintMeas[i]-Tout[i])/(Tout[i]+273));\n",
    "        catch y\n",
    "            if isa(y, DomainError)\n",
    "                # windows should be closed if Tint < Tout, which is what would cause a domain error \n",
    "                Q[i] = 0\n",
    "            end\n",
    "        end \n",
    "    end\n",
    "    Q_tot[t] = Q1[t] + Q2[t] + Q3[t]\n",
    "    Env[t] = rhoa * ca * Q_tot[t] * (Tout[t] - Tint[t])\n",
    "\n",
    "\n",
    "    # convective heat flux\n",
    "    qconv = hconv* (Tf[1,t] - Tint[t]) # first floor\n",
    "    qconvst[t] = qconv\n",
    "\n",
    "    # wall boundary conditions \n",
    "    # at x = 0 -->\n",
    "    # TODO\n",
    "    b[1] = - lambda * dx / (k_f * qconv)\n",
    "    b[Nx] = - lambda * dx / (k_f * qconv)\n",
    "\n",
    "\n",
    "\n",
    "\n",
    " end"
   ]
  }
 ],
 "metadata": {
  "kernelspec": {
   "display_name": "Julia 1.7.2",
   "language": "julia",
   "name": "julia-1.7"
  },
  "language_info": {
   "file_extension": ".jl",
   "mimetype": "application/julia",
   "name": "julia",
   "version": "1.7.2"
  },
  "orig_nbformat": 4,
  "vscode": {
   "interpreter": {
    "hash": "31f2aee4e71d21fbe5cf8b01ff0e069b9275f58929596ceb00d14d90e3e16cd6"
   }
  }
 },
 "nbformat": 4,
 "nbformat_minor": 2
}
