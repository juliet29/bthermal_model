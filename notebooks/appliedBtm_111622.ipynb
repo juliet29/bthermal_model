{
 "cells": [
  {
   "cell_type": "code",
   "execution_count": 1,
   "metadata": {},
   "outputs": [],
   "source": [
    "using Plots\n",
    "using PlotlyJS\n",
    "using Statistics\n",
    "using QuadGK\n",
    "using MAT"
   ]
  },
  {
   "cell_type": "markdown",
   "metadata": {},
   "source": [
    "## constants"
   ]
  },
  {
   "cell_type": "code",
   "execution_count": 2,
   "metadata": {},
   "outputs": [],
   "source": [
    "# physical constants\n",
    "g = 9.81 # gravitational acceleration [m/s^2]\n",
    "\n",
    "# fluid properties \n",
    "rho_a    = 1.225;     # Density of air [kg/m^3]\n",
    "c_a      = 1005;      # Specific heat of air [J/KgK]\n",
    "\n",
    "# building model properties\n",
    "v_a      = 2880;     # Volume of air inside the building [m^3]\n",
    "A_f     = 2*90;       # Area of the 3 floors [m^2]\n",
    "th      = 0.1;       # Thickness of thermal mass floors[m]\n",
    "E_int    = 250;      # Internal loads due to occupancy, lighting and equipment [W]\n",
    "\n",
    "# material properties\n",
    "rho_f   = 2300;     # Density of Thermal Mass concrete [kg/m^3]\n",
    "k_f     = 0.8;         # Conductivity of Thermal Mass concrete [W/mK]\n",
    "c_f     = 750;        # Specific heat of Thermal Mass concrete [J/KgK]\n",
    "h  = 4;           # Convective heat coefficient [W/m2.K]"
   ]
  },
  {
   "cell_type": "markdown",
   "metadata": {},
   "source": [
    "## functions"
   ]
  },
  {
   "cell_type": "code",
   "execution_count": 3,
   "metadata": {},
   "outputs": [
    {
     "data": {
      "text/plain": [
       "cd_pivot (generic function with 1 method)"
      ]
     },
     "metadata": {},
     "output_type": "display_data"
    }
   ],
   "source": [
    "\n",
    "function conductionMatrix(lambda, dt, dx, Nx)\n",
    "    \"\"\"calculate temperature evolution within a fabric \"\"\"\n",
    "    A = zeros(Nx, Nx)\n",
    "\n",
    "    A[1,1] = 1-lambda;  \n",
    "    A[1,2] = lambda;\n",
    "    A[Nx,Nx-1] = lambda;\n",
    "    A[Nx,Nx] = 1-lambda;  \n",
    "    \n",
    "    # all other rows \n",
    "    for i = 2:Nx-1\n",
    "        A[i, i-1] = lambda;\n",
    "        A[i, i] = 1-2*lambda;\n",
    "        A[i, i+1] = lambda;\n",
    "    end\n",
    "\n",
    "    return A\n",
    "\n",
    "end\n",
    "\n",
    "function cd_pivot(alpha)\n",
    "    \"calculate discharge coefficient based on window opening angle\"\n",
    "    W=1;\n",
    "    H=1;\n",
    "    W_pivot = z -> (1/W^2 + 1/(2*(H-z)*tand(alpha)+sind(alpha)*W).^2) .^(-1/2)\n",
    "    h = H * (1- cosd(alpha));\n",
    "    integral, est = quadgk(W_pivot,h,H) #rtol=1e-8 -> error when go to last element of angle array\n",
    "    A_eff = W*h + integral ;\n",
    "    Cd0 = 0.611;\n",
    "    Cd = A_eff / (H*W) * Cd0;   \n",
    "    \n",
    "end"
   ]
  },
  {
   "cell_type": "markdown",
   "metadata": {},
   "source": [
    "## initialize variables for convective heat transfer calculation "
   ]
  },
  {
   "cell_type": "code",
   "execution_count": 4,
   "metadata": {},
   "outputs": [
    {
     "data": {
      "text/plain": [
       "11"
      ]
     },
     "metadata": {},
     "output_type": "display_data"
    }
   ],
   "source": [
    "# Discrete variables for 1D conduction calculation over time_val => T(t+1,x) = A*T(t,x) + b\n",
    "dt = 15;\n",
    "dx = th/10;\n",
    "x = range(0, th, step = dx)  |> collect \n",
    "Nx = length(x)"
   ]
  },
  {
   "cell_type": "code",
   "execution_count": 5,
   "metadata": {},
   "outputs": [],
   "source": [
    "# initialize A matrix \n",
    "alpha = k_f/(rho_f*c_f) # thermal conductivity / (density * specific heat )\n",
    "lambda = alpha * dt / dx^2 # this could all go into the matrix \n",
    "A = conductionMatrix(lambda, dt, dx, Nx);"
   ]
  },
  {
   "cell_type": "code",
   "execution_count": 6,
   "metadata": {},
   "outputs": [
    {
     "data": {
      "text/plain": [
       "11×11 Matrix{Float64}:\n",
       " 0.930435   0.0695652  0.0        …  0.0        0.0        0.0\n",
       " 0.0695652  0.86087    0.0695652     0.0        0.0        0.0\n",
       " 0.0        0.0695652  0.86087       0.0        0.0        0.0\n",
       " 0.0        0.0        0.0695652     0.0        0.0        0.0\n",
       " 0.0        0.0        0.0           0.0        0.0        0.0\n",
       " 0.0        0.0        0.0        …  0.0        0.0        0.0\n",
       " 0.0        0.0        0.0           0.0        0.0        0.0\n",
       " 0.0        0.0        0.0           0.0695652  0.0        0.0\n",
       " 0.0        0.0        0.0           0.86087    0.0695652  0.0\n",
       " 0.0        0.0        0.0           0.0695652  0.86087    0.0695652\n",
       " 0.0        0.0        0.0        …  0.0        0.0695652  0.930435"
      ]
     },
     "metadata": {},
     "output_type": "display_data"
    }
   ],
   "source": [
    "A"
   ]
  },
  {
   "cell_type": "code",
   "execution_count": 7,
   "metadata": {},
   "outputs": [],
   "source": [
    "# initialize T_f matrix\n",
    "# T_f => [x * t]"
   ]
  },
  {
   "cell_type": "markdown",
   "metadata": {},
   "source": [
    "## initialize variables for natural ventilation calculation"
   ]
  },
  {
   "cell_type": "code",
   "execution_count": 8,
   "metadata": {},
   "outputs": [],
   "source": [
    "# window properties \n",
    "w1 = Dict(\"alpha\" => 42, \"area\" => 1.61, \"l\" => 11.34)\n",
    "w1[\"cd\"] = cd_pivot(w1[\"alpha\"])\n",
    "\n",
    "w2 = Dict(\"alpha\" => 42, \"area\" => 1.755, \"l\" => 6.62)\n",
    "w2[\"cd\"] = cd_pivot(w2[\"alpha\"])\n",
    "\n",
    "w3 = Dict(\"alpha\" => 42, \"area\" => 1.755, \"l\" => 2.07)\n",
    "w3[\"cd\"] = cd_pivot(w3[\"alpha\"]);"
   ]
  },
  {
   "cell_type": "code",
   "execution_count": 11,
   "metadata": {},
   "outputs": [
    {
     "ename": "UndefVarError",
     "evalue": "UndefVarError: T_in_meas not defined",
     "output_type": "error",
     "traceback": [
      "UndefVarError: T_in_meas not defined\n",
      "\n",
      "Stacktrace:\n",
      " [1] top-level scope\n",
      "   @ ~/UILCode/buildingThermalModel/notebooks/appliedBtm_111622.ipynb:1"
     ]
    }
   ],
   "source": [
    "Plots.plot(time_val, T_in_meas, label=\"T_in_meas\")\n",
    "Plots.plot!(time_val, T_out_meas, label=\"T_out_meas\")"
   ]
  },
  {
   "cell_type": "markdown",
   "metadata": {},
   "source": [
    "## initialize other variables"
   ]
  },
  {
   "cell_type": "code",
   "execution_count": 65,
   "metadata": {},
   "outputs": [],
   "source": [
    "time_val = range(0, dt*20, step = dt)\n",
    "to_Kelvin = 273.5\n",
    "T_in_meas = sind.(time_val) .+ to_Kelvin\n",
    "T_out_meas = T_in_meas .- (sind.(time_val.* 0.1)) .- 0.1 \n",
    "\n",
    "# values to calculate \n",
    "T_in = zeros(length(time_val))\n",
    "T_f = zeros(length(x),length(time_val));\n",
    "\n",
    "# values to\n",
    "T_in[1] = T_in_meas[1];  # interior starts at the fabric?\n",
    "T_f[:,1] .= T_in_meas[1]- 1;\n",
    "# TODO -> issue: fabric and calculated interior air temperature cant be initialized to equal each other if they are being subtracted to determine the convective heat flux??\n",
    "\n",
    "# empty vectors \n",
    "Q1 = zeros(length(time_val));\n",
    "Q2 = zeros(length(time_val));\n",
    "Q3 = zeros(length(time_val));\n",
    "Q_tot = zeros(length(time_val));\n",
    "E_nv = zeros(length(time_val));\n",
    "E_conv_out_time = zeros(length(time_val)); # save value of E_conv over time\n",
    "E_conv_in_time = zeros(length(time_val));\n",
    "b = zeros(1,Nx)\n",
    "Eist = zeros(length(time_val));"
   ]
  },
  {
   "cell_type": "markdown",
   "metadata": {},
   "source": [
    "## dynamic thermal model"
   ]
  },
  {
   "cell_type": "code",
   "execution_count": 66,
   "metadata": {},
   "outputs": [
    {
     "name": "stdout",
     "output_type": "stream",
     "text": [
      "b [-1.3419216317767381e-6, 0.0, 1.2077294685990338e-6], time_val 1 \n",
      "b [-1.0662927337201975e-6, 0.0, 2.6690319007446083e-6], time_val 2 \n",
      "b [-8.961635503281526e-7, 0.0, 5.817650973107224e-6], time_val 3 \n",
      "b [-7.900623965039347e-7, 0.0, 1.2227954510575999e-5], time_val 4 \n",
      "b [-7.268907847346868e-7, 0.0, 2.367729680905259e-5], time_val 5 \n",
      "b [-6.959357111301862e-7, 0.0, 3.9569706631783245e-5], time_val 6 \n",
      "b [-6.926761604513041e-7, 0.0, 5.477149815433232e-5], time_val 7 \n",
      "b [-7.173087936624164e-7, 0.0, 6.464929141886386e-5], time_val 8 \n",
      "b [-7.751200808362092e-7, 0.0, 6.994712376381816e-5], time_val 9 \n",
      "b [-8.792008125686489e-7, 0.0, 7.37980700365458e-5], time_val 10 \n",
      "b [-1.0583094314751835e-6, 0.0, 7.878604417264442e-5], time_val 11 \n",
      "b [-1.3805605393617448e-6, 0.0, 8.692888139184223e-5], time_val 12 \n",
      "b [-2.04356569921603e-6, 0.0, 0.00010069831626547703], time_val 13 \n",
      "b [-3.9290580358564915e-6, 0.0, 0.00012476634764755414], time_val 14 \n",
      "b [-2.9000348338853723e-5, 0.0, 0.0001708147220085884], time_val 15 \n",
      "b [6.364891149571013e-6, 0.0, 0.00027967226432700295], time_val 16 \n",
      "b [3.2402304788944987e-6, 0.0, 0.0007702081644872249], time_val 17 \n",
      "b [2.4329299829064813e-6, 0.0, -0.0009138834104003659], time_val 18 \n",
      "b [2.180147477698021e-6, 0.0, -0.0006949180824805618], time_val 19 \n",
      "b [2.223916582509375e-6, 0.0, -0.0004533934701529069], time_val 20 \n"
     ]
    }
   ],
   "source": [
    "for t=1:length(time_val)-1\n",
    "\n",
    "    # calculate E_nv at each time_val step \n",
    "    # TODO make function that calculates E_nv, how was this done before we knew outside vs inside?\n",
    "    for (w, Q) in zip([w1, w2, w3], [Q1, Q2, Q3]) \n",
    "        \n",
    "        # TODO adjust this to consider wind ventilation, in addition to buoyancy \n",
    "        Q[t] = w[\"cd\"] * w[\"area\"] * sqrt(2*g*w[\"l\"] * (T_in_meas[t]-T_out_meas[t]) /(T_out_meas[t]))\n",
    "    end\n",
    "    Q_tot[t] = Q1[t] + Q2[t] + Q3[t]\n",
    "    E_nv[t] = rho_a * c_a * Q_tot[t] * (T_out_meas[t] - T_in[t])\n",
    "\n",
    "\n",
    "    # # wall boundary conditions \n",
    "    # -> outside to wall \n",
    "    E_conv_out = h * A_f * (T_out_meas[t]- T_f[1,t] )\n",
    "    E_conv_out_time[t] =  E_conv_out # save value of E_conv over time\n",
    "    b[1] = - lambda * dx / (k_f * E_conv_out)\n",
    "\n",
    "    # -> wall to inside \n",
    "    E_conv_in = h * A_f * (T_f[Nx,t] - T_in[t])\n",
    "    E_conv_in_time[t] =  E_conv_in # save value of E_conv over time\n",
    "    b[Nx] = - lambda * dx / (k_f * E_conv_in)\n",
    "    print(\"b $(unique(b)), time_val $t \\n\")\n",
    "\n",
    "    # calculate surface temperature at each time_val step\n",
    "    T_f[:, t+1] = A*T_f[:,t] + b'\n",
    "\n",
    "    # calculate interior average air temperaure at each time_val step \n",
    "    T_in[t + 1] = T_in[t] + (E_conv_in * A_f + E_int + E_nv[t]) * dt/(v_a * rho_a * c_a)\n",
    " end"
   ]
  },
  {
   "cell_type": "code",
   "execution_count": 67,
   "metadata": {},
   "outputs": [
    {
     "data": {
      "application/vnd.plotly.v1+json": {
       "config": {
        "editable": false,
        "responsive": true,
        "scrollZoom": false,
        "showLink": false,
        "staticPlot": false
       },
       "data": [
        {
         "line": {
          "dash": "dot",
          "width": 3
         },
         "mode": "lines",
         "name": "T_in(t)",
         "type": "scatter",
         "x": [
          0,
          15,
          30,
          45,
          60,
          75,
          90,
          105,
          120,
          135,
          150,
          165,
          180,
          195,
          210,
          225,
          240,
          255,
          270,
          285,
          300
         ],
         "y": [
          273.5,
          272.95249841027777,
          272.70760123614343,
          272.5987772589642,
          272.5510288649914,
          272.5305648056595,
          272.5221302853648,
          272.5188107610538,
          272.5174521586554,
          272.5166094027728,
          272.5156320814904,
          272.5142567485642,
          272.51242259035695,
          272.5101850269476,
          272.5076717284227,
          272.50505686683175,
          272.5025448931604,
          272.5003698936965,
          272.4989374341155,
          272.49729143942557
         ]
        },
        {
         "line": {
          "dash": "dashdot",
          "width": 3
         },
         "mode": "lines",
         "name": "'T_f(x=th,t)'",
         "type": "scatter",
         "x": [
          0,
          15,
          30,
          45,
          60,
          75,
          90,
          105,
          120,
          135,
          150,
          165,
          180,
          195,
          210,
          225,
          240,
          255,
          270,
          285,
          300
         ],
         "y": [
          272.5,
          272.5000012077295,
          272.5000037927454,
          272.5000093523978,
          272.50002095313647,
          272.50004323824334,
          272.50007995792635,
          272.5001295127046,
          272.50018583798897,
          272.5002440768503,
          272.5003028505171,
          272.5003634434939,
          272.5004290485244,
          272.50050509729215,
          272.5006013222282,
          272.50073849271087,
          272.50097683724476,
          272.5016914293047,
          272.5006753792043,
          272.4999551951876
         ]
        },
        {
         "line": {
          "dash": "none",
          "width": 3
         },
         "mode": "lines",
         "name": "'T_out_meas(t)'",
         "type": "scatter",
         "x": [
          0,
          15,
          30,
          45,
          60,
          75,
          90,
          105,
          120,
          135,
          150,
          165,
          180,
          195,
          210,
          225,
          240,
          255,
          270,
          285,
          300
         ],
         "y": [
          273.4,
          273.63264209679465,
          273.84766404375705,
          274.0286476854587,
          274.16149694051677,
          274.23539963406904,
          274.24356553495977,
          274.1836903007969,
          274.05811371296664,
          273.87366141733065,
          273.64118095489744,
          273.3748037003986,
          273.09098300562505,
          272.80737409566365,
          272.54163205045467,
          272.31020978644835,
          272.12723795313974,
          272.0035630769026,
          271.9460095002604,
          271.95691541345127,
          272.03397459621556
         ]
        },
        {
         "line": {
          "dash": "none",
          "width": 3
         },
         "mode": "lines",
         "name": "'T_in_meas(t)'",
         "type": "scatter",
         "x": [
          0,
          15,
          30,
          45,
          60,
          75,
          90,
          105,
          120,
          135,
          150,
          165,
          180,
          195,
          210,
          225,
          240,
          255,
          270,
          285,
          300
         ],
         "y": [
          273.5,
          273.75881904510254,
          274,
          274.20710678118655,
          274.3660254037844,
          274.4659258262891,
          274.5,
          274.4659258262891,
          274.3660254037844,
          274.20710678118655,
          274,
          273.75881904510254,
          273.5,
          273.24118095489746,
          273,
          272.79289321881345,
          272.6339745962156,
          272.5340741737109,
          272.5,
          272.5340741737109,
          272.6339745962156
         ]
        }
       ],
       "frames": [],
       "layout": {
        "margin": {
         "b": 50,
         "l": 50,
         "r": 50,
         "t": 60
        },
        "showlegend": true,
        "template": {
         "data": {
          "bar": [
           {
            "error_x": {
             "color": "#2a3f5f"
            },
            "error_y": {
             "color": "#2a3f5f"
            },
            "marker": {
             "line": {
              "color": "#E5ECF6",
              "width": 0.5
             }
            },
            "type": "bar"
           }
          ],
          "barpolar": [
           {
            "marker": {
             "line": {
              "color": "#E5ECF6",
              "width": 0.5
             }
            },
            "type": "barpolar"
           }
          ],
          "carpet": [
           {
            "aaxis": {
             "endlinecolor": "#2a3f5f",
             "gridcolor": "white",
             "linecolor": "white",
             "minorgridcolor": "white",
             "startlinecolor": "#2a3f5f"
            },
            "baxis": {
             "endlinecolor": "#2a3f5f",
             "gridcolor": "white",
             "linecolor": "white",
             "minorgridcolor": "white",
             "startlinecolor": "#2a3f5f"
            },
            "type": "carpet"
           }
          ],
          "choropleth": [
           {
            "colorbar": {
             "outlinewidth": 0,
             "ticks": ""
            },
            "type": "choropleth"
           }
          ],
          "contour": [
           {
            "colorbar": {
             "outlinewidth": 0,
             "ticks": ""
            },
            "colorscale": [
             [
              0,
              "#0d0887"
             ],
             [
              0.1111111111111111,
              "#46039f"
             ],
             [
              0.2222222222222222,
              "#7201a8"
             ],
             [
              0.3333333333333333,
              "#9c179e"
             ],
             [
              0.4444444444444444,
              "#bd3786"
             ],
             [
              0.5555555555555556,
              "#d8576b"
             ],
             [
              0.6666666666666666,
              "#ed7953"
             ],
             [
              0.7777777777777778,
              "#fb9f3a"
             ],
             [
              0.8888888888888888,
              "#fdca26"
             ],
             [
              1,
              "#f0f921"
             ]
            ],
            "type": "contour"
           }
          ],
          "contourcarpet": [
           {
            "colorbar": {
             "outlinewidth": 0,
             "ticks": ""
            },
            "type": "contourcarpet"
           }
          ],
          "heatmap": [
           {
            "colorbar": {
             "outlinewidth": 0,
             "ticks": ""
            },
            "colorscale": [
             [
              0,
              "#0d0887"
             ],
             [
              0.1111111111111111,
              "#46039f"
             ],
             [
              0.2222222222222222,
              "#7201a8"
             ],
             [
              0.3333333333333333,
              "#9c179e"
             ],
             [
              0.4444444444444444,
              "#bd3786"
             ],
             [
              0.5555555555555556,
              "#d8576b"
             ],
             [
              0.6666666666666666,
              "#ed7953"
             ],
             [
              0.7777777777777778,
              "#fb9f3a"
             ],
             [
              0.8888888888888888,
              "#fdca26"
             ],
             [
              1,
              "#f0f921"
             ]
            ],
            "type": "heatmap"
           }
          ],
          "heatmapgl": [
           {
            "colorbar": {
             "outlinewidth": 0,
             "ticks": ""
            },
            "colorscale": [
             [
              0,
              "#0d0887"
             ],
             [
              0.1111111111111111,
              "#46039f"
             ],
             [
              0.2222222222222222,
              "#7201a8"
             ],
             [
              0.3333333333333333,
              "#9c179e"
             ],
             [
              0.4444444444444444,
              "#bd3786"
             ],
             [
              0.5555555555555556,
              "#d8576b"
             ],
             [
              0.6666666666666666,
              "#ed7953"
             ],
             [
              0.7777777777777778,
              "#fb9f3a"
             ],
             [
              0.8888888888888888,
              "#fdca26"
             ],
             [
              1,
              "#f0f921"
             ]
            ],
            "type": "heatmapgl"
           }
          ],
          "histogram": [
           {
            "marker": {
             "colorbar": {
              "outlinewidth": 0,
              "ticks": ""
             }
            },
            "type": "histogram"
           }
          ],
          "histogram2d": [
           {
            "colorbar": {
             "outlinewidth": 0,
             "ticks": ""
            },
            "colorscale": [
             [
              0,
              "#0d0887"
             ],
             [
              0.1111111111111111,
              "#46039f"
             ],
             [
              0.2222222222222222,
              "#7201a8"
             ],
             [
              0.3333333333333333,
              "#9c179e"
             ],
             [
              0.4444444444444444,
              "#bd3786"
             ],
             [
              0.5555555555555556,
              "#d8576b"
             ],
             [
              0.6666666666666666,
              "#ed7953"
             ],
             [
              0.7777777777777778,
              "#fb9f3a"
             ],
             [
              0.8888888888888888,
              "#fdca26"
             ],
             [
              1,
              "#f0f921"
             ]
            ],
            "type": "histogram2d"
           }
          ],
          "histogram2dcontour": [
           {
            "colorbar": {
             "outlinewidth": 0,
             "ticks": ""
            },
            "colorscale": [
             [
              0,
              "#0d0887"
             ],
             [
              0.1111111111111111,
              "#46039f"
             ],
             [
              0.2222222222222222,
              "#7201a8"
             ],
             [
              0.3333333333333333,
              "#9c179e"
             ],
             [
              0.4444444444444444,
              "#bd3786"
             ],
             [
              0.5555555555555556,
              "#d8576b"
             ],
             [
              0.6666666666666666,
              "#ed7953"
             ],
             [
              0.7777777777777778,
              "#fb9f3a"
             ],
             [
              0.8888888888888888,
              "#fdca26"
             ],
             [
              1,
              "#f0f921"
             ]
            ],
            "type": "histogram2dcontour"
           }
          ],
          "mesh3d": [
           {
            "colorbar": {
             "outlinewidth": 0,
             "ticks": ""
            },
            "type": "mesh3d"
           }
          ],
          "parcoords": [
           {
            "line": {
             "colorbar": {
              "outlinewidth": 0,
              "ticks": ""
             }
            },
            "type": "parcoords"
           }
          ],
          "pie": [
           {
            "automargin": true,
            "type": "pie"
           }
          ],
          "scatter": [
           {
            "marker": {
             "colorbar": {
              "outlinewidth": 0,
              "ticks": ""
             }
            },
            "type": "scatter"
           }
          ],
          "scatter3d": [
           {
            "line": {
             "colorbar": {
              "outlinewidth": 0,
              "ticks": ""
             }
            },
            "marker": {
             "colorbar": {
              "outlinewidth": 0,
              "ticks": ""
             }
            },
            "type": "scatter3d"
           }
          ],
          "scattercarpet": [
           {
            "marker": {
             "colorbar": {
              "outlinewidth": 0,
              "ticks": ""
             }
            },
            "type": "scattercarpet"
           }
          ],
          "scattergeo": [
           {
            "marker": {
             "colorbar": {
              "outlinewidth": 0,
              "ticks": ""
             }
            },
            "type": "scattergeo"
           }
          ],
          "scattergl": [
           {
            "marker": {
             "colorbar": {
              "outlinewidth": 0,
              "ticks": ""
             }
            },
            "type": "scattergl"
           }
          ],
          "scattermapbox": [
           {
            "marker": {
             "colorbar": {
              "outlinewidth": 0,
              "ticks": ""
             }
            },
            "type": "scattermapbox"
           }
          ],
          "scatterpolar": [
           {
            "marker": {
             "colorbar": {
              "outlinewidth": 0,
              "ticks": ""
             }
            },
            "type": "scatterpolar"
           }
          ],
          "scatterpolargl": [
           {
            "marker": {
             "colorbar": {
              "outlinewidth": 0,
              "ticks": ""
             }
            },
            "type": "scatterpolargl"
           }
          ],
          "scatterternary": [
           {
            "marker": {
             "colorbar": {
              "outlinewidth": 0,
              "ticks": ""
             }
            },
            "type": "scatterternary"
           }
          ],
          "surface": [
           {
            "colorbar": {
             "outlinewidth": 0,
             "ticks": ""
            },
            "colorscale": [
             [
              0,
              "#0d0887"
             ],
             [
              0.1111111111111111,
              "#46039f"
             ],
             [
              0.2222222222222222,
              "#7201a8"
             ],
             [
              0.3333333333333333,
              "#9c179e"
             ],
             [
              0.4444444444444444,
              "#bd3786"
             ],
             [
              0.5555555555555556,
              "#d8576b"
             ],
             [
              0.6666666666666666,
              "#ed7953"
             ],
             [
              0.7777777777777778,
              "#fb9f3a"
             ],
             [
              0.8888888888888888,
              "#fdca26"
             ],
             [
              1,
              "#f0f921"
             ]
            ],
            "type": "surface"
           }
          ],
          "table": [
           {
            "cells": {
             "fill": {
              "color": "#EBF0F8"
             },
             "line": {
              "color": "white"
             }
            },
            "header": {
             "fill": {
              "color": "#C8D4E3"
             },
             "line": {
              "color": "white"
             }
            },
            "type": "table"
           }
          ]
         },
         "layout": {
          "annotationdefaults": {
           "arrowcolor": "#2a3f5f",
           "arrowhead": 0,
           "arrowwidth": 1
          },
          "autotypenumbers": "strict",
          "coloraxis": {
           "colorbar": {
            "outlinewidth": 0,
            "ticks": ""
           }
          },
          "colorscale": {
           "diverging": [
            [
             0,
             "#8e0152"
            ],
            [
             0.1,
             "#c51b7d"
            ],
            [
             0.2,
             "#de77ae"
            ],
            [
             0.3,
             "#f1b6da"
            ],
            [
             0.4,
             "#fde0ef"
            ],
            [
             0.5,
             "#f7f7f7"
            ],
            [
             0.6,
             "#e6f5d0"
            ],
            [
             0.7,
             "#b8e186"
            ],
            [
             0.8,
             "#7fbc41"
            ],
            [
             0.9,
             "#4d9221"
            ],
            [
             1,
             "#276419"
            ]
           ],
           "sequential": [
            [
             0,
             "#0d0887"
            ],
            [
             0.1111111111111111,
             "#46039f"
            ],
            [
             0.2222222222222222,
             "#7201a8"
            ],
            [
             0.3333333333333333,
             "#9c179e"
            ],
            [
             0.4444444444444444,
             "#bd3786"
            ],
            [
             0.5555555555555556,
             "#d8576b"
            ],
            [
             0.6666666666666666,
             "#ed7953"
            ],
            [
             0.7777777777777778,
             "#fb9f3a"
            ],
            [
             0.8888888888888888,
             "#fdca26"
            ],
            [
             1,
             "#f0f921"
            ]
           ],
           "sequentialminus": [
            [
             0,
             "#0d0887"
            ],
            [
             0.1111111111111111,
             "#46039f"
            ],
            [
             0.2222222222222222,
             "#7201a8"
            ],
            [
             0.3333333333333333,
             "#9c179e"
            ],
            [
             0.4444444444444444,
             "#bd3786"
            ],
            [
             0.5555555555555556,
             "#d8576b"
            ],
            [
             0.6666666666666666,
             "#ed7953"
            ],
            [
             0.7777777777777778,
             "#fb9f3a"
            ],
            [
             0.8888888888888888,
             "#fdca26"
            ],
            [
             1,
             "#f0f921"
            ]
           ]
          },
          "colorway": [
           "#636efa",
           "#EF553B",
           "#00cc96",
           "#ab63fa",
           "#FFA15A",
           "#19d3f3",
           "#FF6692",
           "#B6E880",
           "#FF97FF",
           "#FECB52"
          ],
          "font": {
           "color": "#2a3f5f"
          },
          "geo": {
           "bgcolor": "white",
           "lakecolor": "white",
           "landcolor": "#E5ECF6",
           "showlakes": true,
           "showland": true,
           "subunitcolor": "white"
          },
          "hoverlabel": {
           "align": "left"
          },
          "hovermode": "closest",
          "mapbox": {
           "style": "light"
          },
          "paper_bgcolor": "white",
          "plot_bgcolor": "#E5ECF6",
          "polar": {
           "angularaxis": {
            "gridcolor": "white",
            "linecolor": "white",
            "ticks": ""
           },
           "bgcolor": "#E5ECF6",
           "radialaxis": {
            "gridcolor": "white",
            "linecolor": "white",
            "ticks": ""
           }
          },
          "scene": {
           "xaxis": {
            "backgroundcolor": "#E5ECF6",
            "gridcolor": "white",
            "gridwidth": 2,
            "linecolor": "white",
            "showbackground": true,
            "ticks": "",
            "zerolinecolor": "white"
           },
           "yaxis": {
            "backgroundcolor": "#E5ECF6",
            "gridcolor": "white",
            "gridwidth": 2,
            "linecolor": "white",
            "showbackground": true,
            "ticks": "",
            "zerolinecolor": "white"
           },
           "zaxis": {
            "backgroundcolor": "#E5ECF6",
            "gridcolor": "white",
            "gridwidth": 2,
            "linecolor": "white",
            "showbackground": true,
            "ticks": "",
            "zerolinecolor": "white"
           }
          },
          "shapedefaults": {
           "line": {
            "color": "#2a3f5f"
           }
          },
          "ternary": {
           "aaxis": {
            "gridcolor": "white",
            "linecolor": "white",
            "ticks": ""
           },
           "baxis": {
            "gridcolor": "white",
            "linecolor": "white",
            "ticks": ""
           },
           "bgcolor": "#E5ECF6",
           "caxis": {
            "gridcolor": "white",
            "linecolor": "white",
            "ticks": ""
           }
          },
          "title": {
           "x": 0.05
          },
          "xaxis": {
           "automargin": true,
           "gridcolor": "white",
           "linecolor": "white",
           "ticks": "",
           "title": {
            "standoff": 15
           },
           "zerolinecolor": "white",
           "zerolinewidth": 2
          },
          "yaxis": {
           "automargin": true,
           "gridcolor": "white",
           "linecolor": "white",
           "ticks": "",
           "title": {
            "standoff": 15
           },
           "zerolinecolor": "white",
           "zerolinewidth": 2
          }
         }
        },
        "title": "Temperature over time [s]",
        "xaxis": {
         "title": {
          "text": " time [s]"
         }
        },
        "yaxis": {
         "title": {
          "text": "Temperature (K)"
         }
        }
       }
      },
      "image/png": "[encoded data removed]",
      "image/svg+xml": "<svg class=\"main-svg\" xmlns=\"http://www.w3.org/2000/svg\" xmlns:xlink=\"http://www.w3.org/1999/xlink\" width=\"700\" height=\"500\" style=\"\" viewBox=\"0 0 700 500\"><rect x=\"0\" y=\"0\" width=\"700\" height=\"500\" style=\"fill: rgb(255, 255, 255); fill-opacity: 1;\"/><defs id=\"defs-abc380\"><g class=\"clips\"><clipPath id=\"clipabc380xyplot\" class=\"plotclip\"><rect width=\"464\" height=\"388\"/></clipPath><clipPath class=\"axesclip\" id=\"clipabc380x\"><rect x=\"73\" y=\"0\" width=\"464\" height=\"500\"/></clipPath><clipPath class=\"axesclip\" id=\"clipabc380y\"><rect x=\"0\" y=\"60\" width=\"700\" height=\"388\"/></clipPath><clipPath class=\"axesclip\" id=\"clipabc380xy\"><rect x=\"73\" y=\"60\" width=\"464\" height=\"388\"/></clipPath></g><g class=\"gradients\"/></defs><g class=\"bglayer\"><rect class=\"bg\" x=\"73\" y=\"60\" width=\"464\" height=\"388\" style=\"fill: rgb(229, 236, 246); fill-opacity: 1; stroke-width: 0;\"/></g><g class=\"layer-below\"><g class=\"imagelayer\"/><g class=\"shapelayer\"/></g><g class=\"cartesianlayer\"><g class=\"subplot xy\"><g class=\"layer-subplot\"><g class=\"shapelayer\"/><g class=\"imagelayer\"/></g><g class=\"gridlayer\"><g class=\"x\"><path class=\"xgrid crisp\" transform=\"translate(150.32999999999998,0)\" d=\"M0,60v388\" style=\"stroke: rgb(255, 255, 255); stroke-opacity: 1; stroke-width: 1px;\"/><path class=\"xgrid crisp\" transform=\"translate(227.67,0)\" d=\"M0,60v388\" style=\"stroke: rgb(255, 255, 255); stroke-opacity: 1; stroke-width: 1px;\"/><path class=\"xgrid crisp\" transform=\"translate(305,0)\" d=\"M0,60v388\" style=\"stroke: rgb(255, 255, 255); stroke-opacity: 1; stroke-width: 1px;\"/><path class=\"xgrid crisp\" transform=\"translate(382.33,0)\" d=\"M0,60v388\" style=\"stroke: rgb(255, 255, 255); stroke-opacity: 1; stroke-width: 1px;\"/><path class=\"xgrid crisp\" transform=\"translate(459.67,0)\" d=\"M0,60v388\" style=\"stroke: rgb(255, 255, 255); stroke-opacity: 1; stroke-width: 1px;\"/></g><g class=\"y\"><path class=\"ygrid crisp\" transform=\"translate(0,421.22)\" d=\"M73,0h464\" style=\"stroke: rgb(255, 255, 255); stroke-opacity: 1; stroke-width: 1px;\"/><path class=\"ygrid crisp\" transform=\"translate(0,352.85)\" d=\"M73,0h464\" style=\"stroke: rgb(255, 255, 255); stroke-opacity: 1; stroke-width: 1px;\"/><path class=\"ygrid crisp\" transform=\"translate(0,284.49)\" d=\"M73,0h464\" style=\"stroke: rgb(255, 255, 255); stroke-opacity: 1; stroke-width: 1px;\"/><path class=\"ygrid crisp\" transform=\"translate(0,216.13)\" d=\"M73,0h464\" style=\"stroke: rgb(255, 255, 255); stroke-opacity: 1; stroke-width: 1px;\"/><path class=\"ygrid crisp\" transform=\"translate(0,147.76)\" d=\"M73,0h464\" style=\"stroke: rgb(255, 255, 255); stroke-opacity: 1; stroke-width: 1px;\"/><path class=\"ygrid crisp\" transform=\"translate(0,79.4)\" d=\"M73,0h464\" style=\"stroke: rgb(255, 255, 255); stroke-opacity: 1; stroke-width: 1px;\"/></g></g><g class=\"zerolinelayer\"><path class=\"xzl zl crisp\" transform=\"translate(73,0)\" d=\"M0,60v388\" style=\"stroke: rgb(255, 255, 255); stroke-opacity: 1; stroke-width: 2px;\"/></g><path class=\"xlines-below\"/><path class=\"ylines-below\"/><g class=\"overlines-below\"/><g class=\"xaxislayer-below\"/><g class=\"yaxislayer-below\"/><g class=\"overaxes-below\"/><g class=\"plot\" transform=\"translate(73,60)\" clip-path=\"url('#clipabc380xyplot')\"><g class=\"scatterlayer mlayer\"><g class=\"trace scatter tracedfc7f6\" style=\"stroke-miterlimit: 2; opacity: 1;\"><g class=\"fills\"/><g class=\"errorbars\"/><g class=\"lines\"><path class=\"js-line\" d=\"M0,156.13L23.2,230.99L46.4,264.47L69.6,279.35L92.8,285.88L116,288.68L139.2,289.83L208.8,290.58L232,290.72L394.4,292.8L417.6,293L440.8,293.22\" style=\"vector-effect: non-scaling-stroke; fill: none; stroke: rgb(99, 110, 250); stroke-opacity: 1; stroke-width: 3px; opacity: 1; stroke-dasharray: 3px, 3px;\"/></g><g class=\"points\"/><g class=\"text\"/></g><g class=\"trace scatter trace025650\" style=\"stroke-miterlimit: 2; opacity: 1;\"><g class=\"fills\"/><g class=\"errorbars\"/><g class=\"lines\"><path class=\"js-line\" d=\"M0,292.85L440.8,292.86\" style=\"vector-effect: non-scaling-stroke; fill: none; stroke: rgb(239, 85, 59); stroke-opacity: 1; stroke-width: 3px; opacity: 1; stroke-dasharray: 9px, 3px, 3px, 3px;\"/></g><g class=\"points\"/><g class=\"text\"/></g><g class=\"trace scatter trace53805f\" style=\"stroke-miterlimit: 2; opacity: 1;\"><g class=\"fills\"/><g class=\"errorbars\"/><g class=\"lines\"><path class=\"js-line\" d=\"M0,169.8L23.2,137.99L46.4,108.59L69.6,83.85L92.8,65.68L116,55.58L139.2,54.46L162.4,62.65L185.6,79.82L208.8,105.04L232,136.82L255.2,173.24L278.4,212.05L301.6,250.83L324.8,287.16L348,318.8L371.2,343.82L394.4,360.73L417.6,368.6L440.8,367.11L464,356.57\" style=\"vector-effect: non-scaling-stroke; fill: none; stroke: rgb(0, 204, 150); stroke-opacity: 1; stroke-width: 3px; opacity: 1; stroke-dasharray: none;\"/></g><g class=\"points\"/><g class=\"text\"/></g><g class=\"trace scatter trace4728b2\" style=\"stroke-miterlimit: 2; opacity: 1;\"><g class=\"fills\"/><g class=\"errorbars\"/><g class=\"lines\"><path class=\"js-line\" d=\"M0,156.13L23.2,120.74L46.4,87.76L69.6,59.45L92.8,37.72L116,24.06L139.2,19.4L162.4,24.06L185.6,37.72L208.8,59.45L232,87.76L255.2,120.74L278.4,156.13L301.6,191.51L324.8,224.49L348,252.81L371.2,274.54L394.4,288.2L417.6,292.85L440.8,288.2L464,274.54\" style=\"vector-effect: non-scaling-stroke; fill: none; stroke: rgb(171, 99, 250); stroke-opacity: 1; stroke-width: 3px; opacity: 1; stroke-dasharray: none;\"/></g><g class=\"points\"/><g class=\"text\"/></g></g></g><g class=\"overplot\"/><path class=\"xlines-above crisp\" d=\"M0,0\" style=\"fill: none;\"/><path class=\"ylines-above crisp\" d=\"M0,0\" style=\"fill: none;\"/><g class=\"overlines-above\"/><g class=\"xaxislayer-above\"><g class=\"xtick\"><text text-anchor=\"middle\" x=\"0\" y=\"461\" transform=\"translate(73,0)\" style=\"font-family: 'Open Sans', verdana, arial, sans-serif; font-size: 12px; fill: rgb(42, 63, 95); fill-opacity: 1; white-space: pre;\">0</text></g><g class=\"xtick\"><text text-anchor=\"middle\" x=\"0\" y=\"461\" transform=\"translate(150.32999999999998,0)\" style=\"font-family: 'Open Sans', verdana, arial, sans-serif; font-size: 12px; fill: rgb(42, 63, 95); fill-opacity: 1; white-space: pre;\">50</text></g><g class=\"xtick\"><text text-anchor=\"middle\" x=\"0\" y=\"461\" transform=\"translate(227.67,0)\" style=\"font-family: 'Open Sans', verdana, arial, sans-serif; font-size: 12px; fill: rgb(42, 63, 95); fill-opacity: 1; white-space: pre;\">100</text></g><g class=\"xtick\"><text text-anchor=\"middle\" x=\"0\" y=\"461\" transform=\"translate(305,0)\" style=\"font-family: 'Open Sans', verdana, arial, sans-serif; font-size: 12px; fill: rgb(42, 63, 95); fill-opacity: 1; white-space: pre;\">150</text></g><g class=\"xtick\"><text text-anchor=\"middle\" x=\"0\" y=\"461\" transform=\"translate(382.33,0)\" style=\"font-family: 'Open Sans', verdana, arial, sans-serif; font-size: 12px; fill: rgb(42, 63, 95); fill-opacity: 1; white-space: pre;\">200</text></g><g class=\"xtick\"><text text-anchor=\"middle\" x=\"0\" y=\"461\" transform=\"translate(459.67,0)\" style=\"font-family: 'Open Sans', verdana, arial, sans-serif; font-size: 12px; fill: rgb(42, 63, 95); fill-opacity: 1; white-space: pre;\">250</text></g><g class=\"xtick\"><text text-anchor=\"middle\" x=\"0\" y=\"461\" transform=\"translate(537,0)\" style=\"font-family: 'Open Sans', verdana, arial, sans-serif; font-size: 12px; fill: rgb(42, 63, 95); fill-opacity: 1; white-space: pre;\">300</text></g></g><g class=\"yaxislayer-above\"><g class=\"ytick\"><text text-anchor=\"end\" x=\"72\" y=\"4.199999999999999\" transform=\"translate(0,421.22)\" style=\"font-family: 'Open Sans', verdana, arial, sans-serif; font-size: 12px; fill: rgb(42, 63, 95); fill-opacity: 1; white-space: pre;\">272</text></g><g class=\"ytick\"><text text-anchor=\"end\" x=\"72\" y=\"4.199999999999999\" transform=\"translate(0,352.85)\" style=\"font-family: 'Open Sans', verdana, arial, sans-serif; font-size: 12px; fill: rgb(42, 63, 95); fill-opacity: 1; white-space: pre;\">272.5</text></g><g class=\"ytick\"><text text-anchor=\"end\" x=\"72\" y=\"4.199999999999999\" transform=\"translate(0,284.49)\" style=\"font-family: 'Open Sans', verdana, arial, sans-serif; font-size: 12px; fill: rgb(42, 63, 95); fill-opacity: 1; white-space: pre;\">273</text></g><g class=\"ytick\"><text text-anchor=\"end\" x=\"72\" y=\"4.199999999999999\" transform=\"translate(0,216.13)\" style=\"font-family: 'Open Sans', verdana, arial, sans-serif; font-size: 12px; fill: rgb(42, 63, 95); fill-opacity: 1; white-space: pre;\">273.5</text></g><g class=\"ytick\"><text text-anchor=\"end\" x=\"72\" y=\"4.199999999999999\" transform=\"translate(0,147.76)\" style=\"font-family: 'Open Sans', verdana, arial, sans-serif; font-size: 12px; fill: rgb(42, 63, 95); fill-opacity: 1; white-space: pre;\">274</text></g><g class=\"ytick\"><text text-anchor=\"end\" x=\"72\" y=\"4.199999999999999\" transform=\"translate(0,79.4)\" style=\"font-family: 'Open Sans', verdana, arial, sans-serif; font-size: 12px; fill: rgb(42, 63, 95); fill-opacity: 1; white-space: pre;\">274.5</text></g></g><g class=\"overaxes-above\"/></g></g><g class=\"polarlayer\"/><g class=\"ternarylayer\"/><g class=\"geolayer\"/><g class=\"funnelarealayer\"/><g class=\"pielayer\"/><g class=\"treemaplayer\"/><g class=\"sunburstlayer\"/><g class=\"glimages\"/><defs id=\"topdefs-abc380\"><g class=\"clips\"/><clipPath id=\"legendabc380\"><rect width=\"142\" height=\"86\" x=\"0\" y=\"0\"/></clipPath></defs><g class=\"layer-above\"><g class=\"imagelayer\"/><g class=\"shapelayer\"/></g><g class=\"infolayer\"><g class=\"legend\" pointer-events=\"all\" transform=\"translate(546.28,60)\"><rect class=\"bg\" shape-rendering=\"crispEdges\" width=\"142\" height=\"86\" x=\"0\" y=\"0\" style=\"stroke: rgb(68, 68, 68); stroke-opacity: 1; fill: rgb(255, 255, 255); fill-opacity: 1; stroke-width: 0px;\"/><g class=\"scrollbox\" transform=\"\" clip-path=\"url('#legendabc380')\"><g class=\"groups\"><g class=\"traces\" transform=\"translate(0,14.5)\" style=\"opacity: 1;\"><text class=\"legendtext\" text-anchor=\"start\" x=\"40\" y=\"4.680000000000001\" style=\"font-family: 'Open Sans', verdana, arial, sans-serif; font-size: 12px; fill: rgb(42, 63, 95); fill-opacity: 1; white-space: pre;\">T_in(t)</text><g class=\"layers\" style=\"opacity: 1;\"><g class=\"legendfill\"/><g class=\"legendlines\"><path class=\"js-line\" d=\"M5,0h30\" style=\"fill: none; stroke: rgb(99, 110, 250); stroke-opacity: 1; stroke-dasharray: 3px, 3px; stroke-width: 3px;\"/></g><g class=\"legendsymbols\"><g class=\"legendpoints\"/></g></g><rect class=\"legendtoggle\" x=\"0\" y=\"-9.5\" width=\"136.609375\" height=\"19\" style=\"fill: rgb(0, 0, 0); fill-opacity: 0;\"/></g><g class=\"traces\" transform=\"translate(0,33.5)\" style=\"opacity: 1;\"><text class=\"legendtext\" text-anchor=\"start\" x=\"40\" y=\"4.680000000000001\" style=\"font-family: 'Open Sans', verdana, arial, sans-serif; font-size: 12px; fill: rgb(42, 63, 95); fill-opacity: 1; white-space: pre;\">'T_f(x=th,t)'</text><g class=\"layers\" style=\"opacity: 1;\"><g class=\"legendfill\"/><g class=\"legendlines\"><path class=\"js-line\" d=\"M5,0h30\" style=\"fill: none; stroke: rgb(239, 85, 59); stroke-opacity: 1; stroke-dasharray: 9px, 3px, 3px, 3px; stroke-width: 3px;\"/></g><g class=\"legendsymbols\"><g class=\"legendpoints\"/></g></g><rect class=\"legendtoggle\" x=\"0\" y=\"-9.5\" width=\"136.609375\" height=\"19\" style=\"fill: rgb(0, 0, 0); fill-opacity: 0;\"/></g><g class=\"traces\" transform=\"translate(0,52.5)\" style=\"opacity: 1;\"><text class=\"legendtext\" text-anchor=\"start\" x=\"40\" y=\"4.680000000000001\" style=\"font-family: 'Open Sans', verdana, arial, sans-serif; font-size: 12px; fill: rgb(42, 63, 95); fill-opacity: 1; white-space: pre;\">'T_out_meas(t)'</text><g class=\"layers\" style=\"opacity: 1;\"><g class=\"legendfill\"/><g class=\"legendlines\"><path class=\"js-line\" d=\"M5,0h30\" style=\"fill: none; stroke: rgb(0, 204, 150); stroke-opacity: 1; stroke-dasharray: none; stroke-width: 3px;\"/></g><g class=\"legendsymbols\"><g class=\"legendpoints\"/></g></g><rect class=\"legendtoggle\" x=\"0\" y=\"-9.5\" width=\"136.609375\" height=\"19\" style=\"fill: rgb(0, 0, 0); fill-opacity: 0;\"/></g><g class=\"traces\" transform=\"translate(0,71.5)\" style=\"opacity: 1;\"><text class=\"legendtext\" text-anchor=\"start\" x=\"40\" y=\"4.680000000000001\" style=\"font-family: 'Open Sans', verdana, arial, sans-serif; font-size: 12px; fill: rgb(42, 63, 95); fill-opacity: 1; white-space: pre;\">'T_in_meas(t)'</text><g class=\"layers\" style=\"opacity: 1;\"><g class=\"legendfill\"/><g class=\"legendlines\"><path class=\"js-line\" d=\"M5,0h30\" style=\"fill: none; stroke: rgb(171, 99, 250); stroke-opacity: 1; stroke-dasharray: none; stroke-width: 3px;\"/></g><g class=\"legendsymbols\"><g class=\"legendpoints\"/></g></g><rect class=\"legendtoggle\" x=\"0\" y=\"-9.5\" width=\"136.609375\" height=\"19\" style=\"fill: rgb(0, 0, 0); fill-opacity: 0;\"/></g></g></g><rect class=\"scrollbar\" rx=\"20\" ry=\"3\" width=\"0\" height=\"0\" x=\"0\" y=\"0\" style=\"fill: rgb(128, 139, 164); fill-opacity: 1;\"/></g><g class=\"g-gtitle\"><text class=\"gtitle\" x=\"35\" y=\"30\" text-anchor=\"start\" dy=\"0em\" style=\"font-family: 'Open Sans', verdana, arial, sans-serif; font-size: 17px; fill: rgb(42, 63, 95); opacity: 1; font-weight: normal; white-space: pre;\">Temperature over time [s]</text></g><g class=\"g-xtitle\"><text class=\"xtitle\" x=\"305\" y=\"488.3\" text-anchor=\"middle\" style=\"font-family: 'Open Sans', verdana, arial, sans-serif; font-size: 14px; fill: rgb(42, 63, 95); opacity: 1; font-weight: normal; white-space: pre;\">time [s]</text></g><g class=\"g-ytitle\" transform=\"translate(1.6904296875,0)\"><text class=\"ytitle\" transform=\"rotate(-90,12.309375000000003,254)\" x=\"12.309375000000003\" y=\"254\" text-anchor=\"middle\" style=\"font-family: 'Open Sans', verdana, arial, sans-serif; font-size: 14px; fill: rgb(42, 63, 95); opacity: 1; font-weight: normal; white-space: pre;\">Temperature (K)</text></g></g></svg>",
      "text/html": [
       "<div\n",
       "    class=\"webio-mountpoint\"\n",
       "    data-webio-mountpoint=\"12903853677178450215\"\n",
       ">\n",
       "    <script>\n",
       "    (function(){\n",
       "    // Some integrations (namely, IJulia/Jupyter) use an alternate render pathway than\n",
       "    // just putting the html on the page. If WebIO isn't defined, then it's pretty likely\n",
       "    // that we're in one of those situations and the integration just isn't installed\n",
       "    // correctly.\n",
       "    if (typeof window.WebIO === \"undefined\") {\n",
       "        document\n",
       "            .querySelector('[data-webio-mountpoint=\"12903853677178450215\"]')\n",
       "            .innerHTML = (\n",
       "                '<div style=\"padding: 1em; background-color: #f8d6da; border: 1px solid #f5c6cb; font-weight: bold;\">' +\n",
       "                '<p><strong>WebIO not detected.</strong></p>' +\n",
       "                '<p>Please read ' +\n",
       "                '<a href=\"https://juliagizmos.github.io/WebIO.jl/latest/troubleshooting/not-detected/\" target=\"_blank\">the troubleshooting guide</a> ' +\n",
       "                'for more information on how to resolve this issue.</p>' +\n",
       "                '<p><a href=\"https://juliagizmos.github.io/WebIO.jl/latest/troubleshooting/not-detected/\" target=\"_blank\">https://juliagizmos.github.io/WebIO.jl/latest/troubleshooting/not-detected/</a></p>' +\n",
       "                '</div>'\n",
       "            );\n",
       "        return;\n",
       "    }\n",
       "    WebIO.mount(\n",
       "        document.querySelector('[data-webio-mountpoint=\"12903853677178450215\"]'),\n",
       "        {\"props\":{},\"nodeType\":\"Scope\",\"type\":\"node\",\"instanceArgs\":{\"imports\":{\"data\":[{\"name\":\"Plotly\",\"type\":\"js\",\"url\":\"\\/assetserver\\/5b3939436337838b354347cfaa22b7bc3003989a-plotly.min.js\"},{\"name\":null,\"type\":\"js\",\"url\":\"\\/assetserver\\/7e2197e88325f41c44111d393955af302af7055d-plotly_webio.bundle.js\"}],\"type\":\"async_block\"},\"id\":\"2708701648654094543\",\"handlers\":{\"_toImage\":[\"(function (options){return this.Plotly.toImage(this.plotElem,options).then((function (data){return WebIO.setval({\\\"name\\\":\\\"image\\\",\\\"scope\\\":\\\"2708701648654094543\\\",\\\"id\\\":\\\"14033722497983600592\\\",\\\"type\\\":\\\"observable\\\"},data)}))})\"],\"__get_gd_contents\":[\"(function (prop){prop==\\\"data\\\" ? (WebIO.setval({\\\"name\\\":\\\"__gd_contents\\\",\\\"scope\\\":\\\"2708701648654094543\\\",\\\"id\\\":\\\"2263123949322060466\\\",\\\"type\\\":\\\"observable\\\"},this.plotElem.data)) : undefined; return prop==\\\"layout\\\" ? (WebIO.setval({\\\"name\\\":\\\"__gd_contents\\\",\\\"scope\\\":\\\"2708701648654094543\\\",\\\"id\\\":\\\"2263123949322060466\\\",\\\"type\\\":\\\"observable\\\"},this.plotElem.layout)) : undefined})\"],\"_downloadImage\":[\"(function (options){return this.Plotly.downloadImage(this.plotElem,options)})\"],\"_commands\":[\"(function (args){var fn=args.shift(); var elem=this.plotElem; var Plotly=this.Plotly; args.unshift(elem); return Plotly[fn].apply(this,args)})\"]},\"systemjs_options\":null,\"mount_callbacks\":[\"function () {\\n    var handler = ((function (Plotly,PlotlyWebIO){PlotlyWebIO.init(WebIO); var gd=this.dom.querySelector(\\\"#plot-f7e60890-ee4f-425c-a9d5-7d54b2ea8c71\\\"); this.plotElem=gd; this.Plotly=Plotly; (window.Blink!==undefined) ? (gd.style.width=\\\"100%\\\", gd.style.height=\\\"100vh\\\", gd.style.marginLeft=\\\"0%\\\", gd.style.marginTop=\\\"0vh\\\") : undefined; window.onresize=(function (){return Plotly.Plots.resize(gd)}); Plotly.newPlot(gd,[{\\\"mode\\\":\\\"lines\\\",\\\"line\\\":{\\\"dash\\\":\\\"dot\\\",\\\"width\\\":3},\\\"y\\\":[273.5,272.95249841027777,272.70760123614343,272.5987772589642,272.5510288649914,272.5305648056595,272.5221302853648,272.5188107610538,272.5174521586554,272.5166094027728,272.5156320814904,272.5142567485642,272.51242259035695,272.5101850269476,272.5076717284227,272.50505686683175,272.5025448931604,272.5003698936965,272.4989374341155,272.49729143942557],\\\"type\\\":\\\"scatter\\\",\\\"name\\\":\\\"T_in(t)\\\",\\\"x\\\":[0,15,30,45,60,75,90,105,120,135,150,165,180,195,210,225,240,255,270,285,300]},{\\\"mode\\\":\\\"lines\\\",\\\"line\\\":{\\\"dash\\\":\\\"dashdot\\\",\\\"width\\\":3},\\\"y\\\":[272.5,272.5000012077295,272.5000037927454,272.5000093523978,272.50002095313647,272.50004323824334,272.50007995792635,272.5001295127046,272.50018583798897,272.5002440768503,272.5003028505171,272.5003634434939,272.5004290485244,272.50050509729215,272.5006013222282,272.50073849271087,272.50097683724476,272.5016914293047,272.5006753792043,272.4999551951876],\\\"type\\\":\\\"scatter\\\",\\\"name\\\":\\\"'T_f(x=th,t)'\\\",\\\"x\\\":[0,15,30,45,60,75,90,105,120,135,150,165,180,195,210,225,240,255,270,285,300]},{\\\"mode\\\":\\\"lines\\\",\\\"line\\\":{\\\"dash\\\":\\\"none\\\",\\\"width\\\":3},\\\"y\\\":[273.4,273.63264209679465,273.84766404375705,274.0286476854587,274.16149694051677,274.23539963406904,274.24356553495977,274.1836903007969,274.05811371296664,273.87366141733065,273.64118095489744,273.3748037003986,273.09098300562505,272.80737409566365,272.54163205045467,272.31020978644835,272.12723795313974,272.0035630769026,271.9460095002604,271.95691541345127,272.03397459621556],\\\"type\\\":\\\"scatter\\\",\\\"name\\\":\\\"'T_out_meas(t)'\\\",\\\"x\\\":[0,15,30,45,60,75,90,105,120,135,150,165,180,195,210,225,240,255,270,285,300]},{\\\"mode\\\":\\\"lines\\\",\\\"line\\\":{\\\"dash\\\":\\\"none\\\",\\\"width\\\":3},\\\"y\\\":[273.5,273.75881904510254,274.0,274.20710678118655,274.3660254037844,274.4659258262891,274.5,274.4659258262891,274.3660254037844,274.20710678118655,274.0,273.75881904510254,273.5,273.24118095489746,273.0,272.79289321881345,272.6339745962156,272.5340741737109,272.5,272.5340741737109,272.6339745962156],\\\"type\\\":\\\"scatter\\\",\\\"name\\\":\\\"'T_in_meas(t)'\\\",\\\"x\\\":[0,15,30,45,60,75,90,105,120,135,150,165,180,195,210,225,240,255,270,285,300]}],{\\\"showlegend\\\":true,\\\"xaxis\\\":{\\\"title\\\":{\\\"text\\\":\\\" time [s]\\\"}},\\\"template\\\":{\\\"layout\\\":{\\\"coloraxis\\\":{\\\"colorbar\\\":{\\\"ticks\\\":\\\"\\\",\\\"outlinewidth\\\":0}},\\\"xaxis\\\":{\\\"gridcolor\\\":\\\"white\\\",\\\"zerolinewidth\\\":2,\\\"title\\\":{\\\"standoff\\\":15},\\\"ticks\\\":\\\"\\\",\\\"zerolinecolor\\\":\\\"white\\\",\\\"automargin\\\":true,\\\"linecolor\\\":\\\"white\\\"},\\\"hovermode\\\":\\\"closest\\\",\\\"paper_bgcolor\\\":\\\"white\\\",\\\"geo\\\":{\\\"showlakes\\\":true,\\\"showland\\\":true,\\\"landcolor\\\":\\\"#E5ECF6\\\",\\\"bgcolor\\\":\\\"white\\\",\\\"subunitcolor\\\":\\\"white\\\",\\\"lakecolor\\\":\\\"white\\\"},\\\"colorscale\\\":{\\\"sequential\\\":[[0.0,\\\"#0d0887\\\"],[0.1111111111111111,\\\"#46039f\\\"],[0.2222222222222222,\\\"#7201a8\\\"],[0.3333333333333333,\\\"#9c179e\\\"],[0.4444444444444444,\\\"#bd3786\\\"],[0.5555555555555556,\\\"#d8576b\\\"],[0.6666666666666666,\\\"#ed7953\\\"],[0.7777777777777778,\\\"#fb9f3a\\\"],[0.8888888888888888,\\\"#fdca26\\\"],[1.0,\\\"#f0f921\\\"]],\\\"diverging\\\":[[0,\\\"#8e0152\\\"],[0.1,\\\"#c51b7d\\\"],[0.2,\\\"#de77ae\\\"],[0.3,\\\"#f1b6da\\\"],[0.4,\\\"#fde0ef\\\"],[0.5,\\\"#f7f7f7\\\"],[0.6,\\\"#e6f5d0\\\"],[0.7,\\\"#b8e186\\\"],[0.8,\\\"#7fbc41\\\"],[0.9,\\\"#4d9221\\\"],[1,\\\"#276419\\\"]],\\\"sequentialminus\\\":[[0.0,\\\"#0d0887\\\"],[0.1111111111111111,\\\"#46039f\\\"],[0.2222222222222222,\\\"#7201a8\\\"],[0.3333333333333333,\\\"#9c179e\\\"],[0.4444444444444444,\\\"#bd3786\\\"],[0.5555555555555556,\\\"#d8576b\\\"],[0.6666666666666666,\\\"#ed7953\\\"],[0.7777777777777778,\\\"#fb9f3a\\\"],[0.8888888888888888,\\\"#fdca26\\\"],[1.0,\\\"#f0f921\\\"]]},\\\"yaxis\\\":{\\\"gridcolor\\\":\\\"white\\\",\\\"zerolinewidth\\\":2,\\\"title\\\":{\\\"standoff\\\":15},\\\"ticks\\\":\\\"\\\",\\\"zerolinecolor\\\":\\\"white\\\",\\\"automargin\\\":true,\\\"linecolor\\\":\\\"white\\\"},\\\"shapedefaults\\\":{\\\"line\\\":{\\\"color\\\":\\\"#2a3f5f\\\"}},\\\"hoverlabel\\\":{\\\"align\\\":\\\"left\\\"},\\\"mapbox\\\":{\\\"style\\\":\\\"light\\\"},\\\"polar\\\":{\\\"angularaxis\\\":{\\\"gridcolor\\\":\\\"white\\\",\\\"ticks\\\":\\\"\\\",\\\"linecolor\\\":\\\"white\\\"},\\\"bgcolor\\\":\\\"#E5ECF6\\\",\\\"radialaxis\\\":{\\\"gridcolor\\\":\\\"white\\\",\\\"ticks\\\":\\\"\\\",\\\"linecolor\\\":\\\"white\\\"}},\\\"autotypenumbers\\\":\\\"strict\\\",\\\"font\\\":{\\\"color\\\":\\\"#2a3f5f\\\"},\\\"ternary\\\":{\\\"baxis\\\":{\\\"gridcolor\\\":\\\"white\\\",\\\"ticks\\\":\\\"\\\",\\\"linecolor\\\":\\\"white\\\"},\\\"bgcolor\\\":\\\"#E5ECF6\\\",\\\"caxis\\\":{\\\"gridcolor\\\":\\\"white\\\",\\\"ticks\\\":\\\"\\\",\\\"linecolor\\\":\\\"white\\\"},\\\"aaxis\\\":{\\\"gridcolor\\\":\\\"white\\\",\\\"ticks\\\":\\\"\\\",\\\"linecolor\\\":\\\"white\\\"}},\\\"annotationdefaults\\\":{\\\"arrowhead\\\":0,\\\"arrowwidth\\\":1,\\\"arrowcolor\\\":\\\"#2a3f5f\\\"},\\\"plot_bgcolor\\\":\\\"#E5ECF6\\\",\\\"title\\\":{\\\"x\\\":0.05},\\\"scene\\\":{\\\"xaxis\\\":{\\\"gridcolor\\\":\\\"white\\\",\\\"gridwidth\\\":2,\\\"backgroundcolor\\\":\\\"#E5ECF6\\\",\\\"ticks\\\":\\\"\\\",\\\"showbackground\\\":true,\\\"zerolinecolor\\\":\\\"white\\\",\\\"linecolor\\\":\\\"white\\\"},\\\"zaxis\\\":{\\\"gridcolor\\\":\\\"white\\\",\\\"gridwidth\\\":2,\\\"backgroundcolor\\\":\\\"#E5ECF6\\\",\\\"ticks\\\":\\\"\\\",\\\"showbackground\\\":true,\\\"zerolinecolor\\\":\\\"white\\\",\\\"linecolor\\\":\\\"white\\\"},\\\"yaxis\\\":{\\\"gridcolor\\\":\\\"white\\\",\\\"gridwidth\\\":2,\\\"backgroundcolor\\\":\\\"#E5ECF6\\\",\\\"ticks\\\":\\\"\\\",\\\"showbackground\\\":true,\\\"zerolinecolor\\\":\\\"white\\\",\\\"linecolor\\\":\\\"white\\\"}},\\\"colorway\\\":[\\\"#636efa\\\",\\\"#EF553B\\\",\\\"#00cc96\\\",\\\"#ab63fa\\\",\\\"#FFA15A\\\",\\\"#19d3f3\\\",\\\"#FF6692\\\",\\\"#B6E880\\\",\\\"#FF97FF\\\",\\\"#FECB52\\\"]},\\\"data\\\":{\\\"barpolar\\\":[{\\\"type\\\":\\\"barpolar\\\",\\\"marker\\\":{\\\"line\\\":{\\\"color\\\":\\\"#E5ECF6\\\",\\\"width\\\":0.5}}}],\\\"carpet\\\":[{\\\"aaxis\\\":{\\\"gridcolor\\\":\\\"white\\\",\\\"endlinecolor\\\":\\\"#2a3f5f\\\",\\\"minorgridcolor\\\":\\\"white\\\",\\\"startlinecolor\\\":\\\"#2a3f5f\\\",\\\"linecolor\\\":\\\"white\\\"},\\\"type\\\":\\\"carpet\\\",\\\"baxis\\\":{\\\"gridcolor\\\":\\\"white\\\",\\\"endlinecolor\\\":\\\"#2a3f5f\\\",\\\"minorgridcolor\\\":\\\"white\\\",\\\"startlinecolor\\\":\\\"#2a3f5f\\\",\\\"linecolor\\\":\\\"white\\\"}}],\\\"scatterpolar\\\":[{\\\"type\\\":\\\"scatterpolar\\\",\\\"marker\\\":{\\\"colorbar\\\":{\\\"ticks\\\":\\\"\\\",\\\"outlinewidth\\\":0}}}],\\\"parcoords\\\":[{\\\"line\\\":{\\\"colorbar\\\":{\\\"ticks\\\":\\\"\\\",\\\"outlinewidth\\\":0}},\\\"type\\\":\\\"parcoords\\\"}],\\\"scatter\\\":[{\\\"type\\\":\\\"scatter\\\",\\\"marker\\\":{\\\"colorbar\\\":{\\\"ticks\\\":\\\"\\\",\\\"outlinewidth\\\":0}}}],\\\"histogram2dcontour\\\":[{\\\"colorbar\\\":{\\\"ticks\\\":\\\"\\\",\\\"outlinewidth\\\":0},\\\"type\\\":\\\"histogram2dcontour\\\",\\\"colorscale\\\":[[0.0,\\\"#0d0887\\\"],[0.1111111111111111,\\\"#46039f\\\"],[0.2222222222222222,\\\"#7201a8\\\"],[0.3333333333333333,\\\"#9c179e\\\"],[0.4444444444444444,\\\"#bd3786\\\"],[0.5555555555555556,\\\"#d8576b\\\"],[0.6666666666666666,\\\"#ed7953\\\"],[0.7777777777777778,\\\"#fb9f3a\\\"],[0.8888888888888888,\\\"#fdca26\\\"],[1.0,\\\"#f0f921\\\"]]}],\\\"contour\\\":[{\\\"colorbar\\\":{\\\"ticks\\\":\\\"\\\",\\\"outlinewidth\\\":0},\\\"type\\\":\\\"contour\\\",\\\"colorscale\\\":[[0.0,\\\"#0d0887\\\"],[0.1111111111111111,\\\"#46039f\\\"],[0.2222222222222222,\\\"#7201a8\\\"],[0.3333333333333333,\\\"#9c179e\\\"],[0.4444444444444444,\\\"#bd3786\\\"],[0.5555555555555556,\\\"#d8576b\\\"],[0.6666666666666666,\\\"#ed7953\\\"],[0.7777777777777778,\\\"#fb9f3a\\\"],[0.8888888888888888,\\\"#fdca26\\\"],[1.0,\\\"#f0f921\\\"]]}],\\\"scattercarpet\\\":[{\\\"type\\\":\\\"scattercarpet\\\",\\\"marker\\\":{\\\"colorbar\\\":{\\\"ticks\\\":\\\"\\\",\\\"outlinewidth\\\":0}}}],\\\"mesh3d\\\":[{\\\"colorbar\\\":{\\\"ticks\\\":\\\"\\\",\\\"outlinewidth\\\":0},\\\"type\\\":\\\"mesh3d\\\"}],\\\"surface\\\":[{\\\"colorbar\\\":{\\\"ticks\\\":\\\"\\\",\\\"outlinewidth\\\":0},\\\"type\\\":\\\"surface\\\",\\\"colorscale\\\":[[0.0,\\\"#0d0887\\\"],[0.1111111111111111,\\\"#46039f\\\"],[0.2222222222222222,\\\"#7201a8\\\"],[0.3333333333333333,\\\"#9c179e\\\"],[0.4444444444444444,\\\"#bd3786\\\"],[0.5555555555555556,\\\"#d8576b\\\"],[0.6666666666666666,\\\"#ed7953\\\"],[0.7777777777777778,\\\"#fb9f3a\\\"],[0.8888888888888888,\\\"#fdca26\\\"],[1.0,\\\"#f0f921\\\"]]}],\\\"scattermapbox\\\":[{\\\"type\\\":\\\"scattermapbox\\\",\\\"marker\\\":{\\\"colorbar\\\":{\\\"ticks\\\":\\\"\\\",\\\"outlinewidth\\\":0}}}],\\\"scattergeo\\\":[{\\\"type\\\":\\\"scattergeo\\\",\\\"marker\\\":{\\\"colorbar\\\":{\\\"ticks\\\":\\\"\\\",\\\"outlinewidth\\\":0}}}],\\\"histogram\\\":[{\\\"type\\\":\\\"histogram\\\",\\\"marker\\\":{\\\"colorbar\\\":{\\\"ticks\\\":\\\"\\\",\\\"outlinewidth\\\":0}}}],\\\"pie\\\":[{\\\"type\\\":\\\"pie\\\",\\\"automargin\\\":true}],\\\"choropleth\\\":[{\\\"colorbar\\\":{\\\"ticks\\\":\\\"\\\",\\\"outlinewidth\\\":0},\\\"type\\\":\\\"choropleth\\\"}],\\\"heatmapgl\\\":[{\\\"colorbar\\\":{\\\"ticks\\\":\\\"\\\",\\\"outlinewidth\\\":0},\\\"type\\\":\\\"heatmapgl\\\",\\\"colorscale\\\":[[0.0,\\\"#0d0887\\\"],[0.1111111111111111,\\\"#46039f\\\"],[0.2222222222222222,\\\"#7201a8\\\"],[0.3333333333333333,\\\"#9c179e\\\"],[0.4444444444444444,\\\"#bd3786\\\"],[0.5555555555555556,\\\"#d8576b\\\"],[0.6666666666666666,\\\"#ed7953\\\"],[0.7777777777777778,\\\"#fb9f3a\\\"],[0.8888888888888888,\\\"#fdca26\\\"],[1.0,\\\"#f0f921\\\"]]}],\\\"bar\\\":[{\\\"type\\\":\\\"bar\\\",\\\"error_y\\\":{\\\"color\\\":\\\"#2a3f5f\\\"},\\\"error_x\\\":{\\\"color\\\":\\\"#2a3f5f\\\"},\\\"marker\\\":{\\\"line\\\":{\\\"color\\\":\\\"#E5ECF6\\\",\\\"width\\\":0.5}}}],\\\"heatmap\\\":[{\\\"colorbar\\\":{\\\"ticks\\\":\\\"\\\",\\\"outlinewidth\\\":0},\\\"type\\\":\\\"heatmap\\\",\\\"colorscale\\\":[[0.0,\\\"#0d0887\\\"],[0.1111111111111111,\\\"#46039f\\\"],[0.2222222222222222,\\\"#7201a8\\\"],[0.3333333333333333,\\\"#9c179e\\\"],[0.4444444444444444,\\\"#bd3786\\\"],[0.5555555555555556,\\\"#d8576b\\\"],[0.6666666666666666,\\\"#ed7953\\\"],[0.7777777777777778,\\\"#fb9f3a\\\"],[0.8888888888888888,\\\"#fdca26\\\"],[1.0,\\\"#f0f921\\\"]]}],\\\"contourcarpet\\\":[{\\\"colorbar\\\":{\\\"ticks\\\":\\\"\\\",\\\"outlinewidth\\\":0},\\\"type\\\":\\\"contourcarpet\\\"}],\\\"table\\\":[{\\\"type\\\":\\\"table\\\",\\\"header\\\":{\\\"line\\\":{\\\"color\\\":\\\"white\\\"},\\\"fill\\\":{\\\"color\\\":\\\"#C8D4E3\\\"}},\\\"cells\\\":{\\\"line\\\":{\\\"color\\\":\\\"white\\\"},\\\"fill\\\":{\\\"color\\\":\\\"#EBF0F8\\\"}}}],\\\"scatter3d\\\":[{\\\"line\\\":{\\\"colorbar\\\":{\\\"ticks\\\":\\\"\\\",\\\"outlinewidth\\\":0}},\\\"type\\\":\\\"scatter3d\\\",\\\"marker\\\":{\\\"colorbar\\\":{\\\"ticks\\\":\\\"\\\",\\\"outlinewidth\\\":0}}}],\\\"scattergl\\\":[{\\\"type\\\":\\\"scattergl\\\",\\\"marker\\\":{\\\"colorbar\\\":{\\\"ticks\\\":\\\"\\\",\\\"outlinewidth\\\":0}}}],\\\"histogram2d\\\":[{\\\"colorbar\\\":{\\\"ticks\\\":\\\"\\\",\\\"outlinewidth\\\":0},\\\"type\\\":\\\"histogram2d\\\",\\\"colorscale\\\":[[0.0,\\\"#0d0887\\\"],[0.1111111111111111,\\\"#46039f\\\"],[0.2222222222222222,\\\"#7201a8\\\"],[0.3333333333333333,\\\"#9c179e\\\"],[0.4444444444444444,\\\"#bd3786\\\"],[0.5555555555555556,\\\"#d8576b\\\"],[0.6666666666666666,\\\"#ed7953\\\"],[0.7777777777777778,\\\"#fb9f3a\\\"],[0.8888888888888888,\\\"#fdca26\\\"],[1.0,\\\"#f0f921\\\"]]}],\\\"scatterternary\\\":[{\\\"type\\\":\\\"scatterternary\\\",\\\"marker\\\":{\\\"colorbar\\\":{\\\"ticks\\\":\\\"\\\",\\\"outlinewidth\\\":0}}}],\\\"scatterpolargl\\\":[{\\\"type\\\":\\\"scatterpolargl\\\",\\\"marker\\\":{\\\"colorbar\\\":{\\\"ticks\\\":\\\"\\\",\\\"outlinewidth\\\":0}}}]}},\\\"margin\\\":{\\\"l\\\":50,\\\"b\\\":50,\\\"r\\\":50,\\\"t\\\":60},\\\"title\\\":\\\"Temperature over time [s]\\\",\\\"yaxis\\\":{\\\"title\\\":{\\\"text\\\":\\\"Temperature (K)\\\"}}},{\\\"showLink\\\":false,\\\"editable\\\":false,\\\"responsive\\\":true,\\\"staticPlot\\\":false,\\\"scrollZoom\\\":false}); gd.on(\\\"plotly_hover\\\",(function (data){var filtered_data=WebIO.PlotlyCommands.filterEventData(gd,data,\\\"hover\\\"); return !(filtered_data.isnil) ? (WebIO.setval({\\\"name\\\":\\\"hover\\\",\\\"scope\\\":\\\"2708701648654094543\\\",\\\"id\\\":\\\"5021943253425440698\\\",\\\"type\\\":\\\"observable\\\"},filtered_data.out)) : undefined})); gd.on(\\\"plotly_unhover\\\",(function (){return WebIO.setval({\\\"name\\\":\\\"hover\\\",\\\"scope\\\":\\\"2708701648654094543\\\",\\\"id\\\":\\\"5021943253425440698\\\",\\\"type\\\":\\\"observable\\\"},{})})); gd.on(\\\"plotly_selected\\\",(function (data){var filtered_data=WebIO.PlotlyCommands.filterEventData(gd,data,\\\"selected\\\"); return !(filtered_data.isnil) ? (WebIO.setval({\\\"name\\\":\\\"selected\\\",\\\"scope\\\":\\\"2708701648654094543\\\",\\\"id\\\":\\\"12978768337913802096\\\",\\\"type\\\":\\\"observable\\\"},filtered_data.out)) : undefined})); gd.on(\\\"plotly_deselect\\\",(function (){return WebIO.setval({\\\"name\\\":\\\"selected\\\",\\\"scope\\\":\\\"2708701648654094543\\\",\\\"id\\\":\\\"12978768337913802096\\\",\\\"type\\\":\\\"observable\\\"},{})})); gd.on(\\\"plotly_relayout\\\",(function (data){var filtered_data=WebIO.PlotlyCommands.filterEventData(gd,data,\\\"relayout\\\"); return !(filtered_data.isnil) ? (WebIO.setval({\\\"name\\\":\\\"relayout\\\",\\\"scope\\\":\\\"2708701648654094543\\\",\\\"id\\\":\\\"8645629069228746551\\\",\\\"type\\\":\\\"observable\\\"},filtered_data.out)) : undefined})); return gd.on(\\\"plotly_click\\\",(function (data){var filtered_data=WebIO.PlotlyCommands.filterEventData(gd,data,\\\"click\\\"); return !(filtered_data.isnil) ? (WebIO.setval({\\\"name\\\":\\\"click\\\",\\\"scope\\\":\\\"2708701648654094543\\\",\\\"id\\\":\\\"1703139923960945580\\\",\\\"type\\\":\\\"observable\\\"},filtered_data.out)) : undefined}))}));\\n    (WebIO.importBlock({\\\"data\\\":[{\\\"name\\\":\\\"Plotly\\\",\\\"type\\\":\\\"js\\\",\\\"url\\\":\\\"\\/assetserver\\/5b3939436337838b354347cfaa22b7bc3003989a-plotly.min.js\\\"},{\\\"name\\\":null,\\\"type\\\":\\\"js\\\",\\\"url\\\":\\\"\\/assetserver\\/7e2197e88325f41c44111d393955af302af7055d-plotly_webio.bundle.js\\\"}],\\\"type\\\":\\\"async_block\\\"})).then((imports) => handler.apply(this, imports));\\n}\\n\"],\"observables\":{\"_toImage\":{\"sync\":true,\"id\":\"15562978823861072797\",\"value\":{}},\"hover\":{\"sync\":false,\"id\":\"5021943253425440698\",\"value\":{}},\"selected\":{\"sync\":false,\"id\":\"12978768337913802096\",\"value\":{}},\"__gd_contents\":{\"sync\":false,\"id\":\"2263123949322060466\",\"value\":{}},\"click\":{\"sync\":false,\"id\":\"1703139923960945580\",\"value\":{}},\"image\":{\"sync\":true,\"id\":\"14033722497983600592\",\"value\":\"\"},\"__get_gd_contents\":{\"sync\":true,\"id\":\"4981748138394670397\",\"value\":\"\"},\"_downloadImage\":{\"sync\":true,\"id\":\"394915356259057080\",\"value\":{}},\"relayout\":{\"sync\":false,\"id\":\"8645629069228746551\",\"value\":{}},\"_commands\":{\"sync\":true,\"id\":\"18219480940942857784\",\"value\":[]}}},\"children\":[{\"props\":{\"id\":\"plot-f7e60890-ee4f-425c-a9d5-7d54b2ea8c71\"},\"nodeType\":\"DOM\",\"type\":\"node\",\"instanceArgs\":{\"namespace\":\"html\",\"tag\":\"div\"},\"children\":[]}]},\n",
       "        window,\n",
       "    );\n",
       "    })()\n",
       "    </script>\n",
       "</div>\n"
      ],
      "text/plain": [
       "data: [\n",
       "  \"scatter with fields line, mode, name, type, x, and y\",\n",
       "  \"scatter with fields line, mode, name, type, x, and y\",\n",
       "  \"scatter with fields line, mode, name, type, x, and y\",\n",
       "  \"scatter with fields line, mode, name, type, x, and y\"\n",
       "]\n",
       "\n",
       "layout: \"layout with fields margin, showlegend, template, title, xaxis, and yaxis\"\n",
       "\n"
      ]
     },
     "metadata": {},
     "output_type": "display_data"
    }
   ],
   "source": [
    "labels = [\"T_in(t)\",\"'T_f(x=th,t)'\",\"'T_out_meas(t)'\",\"'T_in_meas(t)'\"];\n",
    "vals = [T_in[1:end-1], T_f[end, 1:end-1], T_out_meas, T_in_meas]\n",
    "linewidths = [3,3,3,3]\n",
    "dashtypes = [\"dot\", \"dashdot\", \"none\", \"none\"]\n",
    "\n",
    "\n",
    "traces = [PlotlyJS.scatter(x=vec(time_val),  y=val, mode=\"lines\", name=label, line=attr(width=lw, dash=dt)) for (val,label, lw, dt) in zip(vals, labels, linewidths, dashtypes)];\n",
    "\n",
    "\n",
    "p3 = PlotlyJS.plot(traces, Layout(;title=\"Temperature over time [s]\", showlegend=true, xaxis_title=\" time [s]\", yaxis_title=\"Temperature (K)\" ),  config=PlotConfig(scrollZoom=false));\n",
    "p3"
   ]
  },
  {
   "cell_type": "code",
   "execution_count": 61,
   "metadata": {},
   "outputs": [
    {
     "data": {
      "text/plain": [
       "3-element Vector{Float64}:\n",
       "  7.877764349001787e-7\n",
       "  0.0\n",
       " -7.991645141860604e-5"
      ]
     },
     "metadata": {},
     "output_type": "display_data"
    }
   ],
   "source": [
    "unique(b)"
   ]
  },
  {
   "cell_type": "code",
   "execution_count": 76,
   "metadata": {},
   "outputs": [
    {
     "data": {
      "application/vnd.plotly.v1+json": {
       "config": {
        "editable": false,
        "responsive": true,
        "scrollZoom": false,
        "showLink": false,
        "staticPlot": false
       },
       "data": [
        {
         "mode": "lines",
         "name": "Outside -> Wall (x=0)",
         "type": "scatter",
         "x": [
          0,
          15,
          30,
          45,
          60,
          75,
          90,
          105,
          120,
          135,
          150,
          165,
          180,
          195,
          210,
          225,
          240,
          255,
          270,
          285,
          300
         ],
         "y": [
          647.9999999999836,
          815.5032758757261,
          970.3197782066582,
          1100.6285342008096,
          1196.2804256882873,
          1249.4907266350037,
          1255.370499288947,
          1212.2606401512257,
          1121.8458131715624,
          989.0405069699682,
          821.6549824933645,
          629.863879633499,
          425.51370759691963,
          221.31646044819718,
          29.98464733012497,
          -136.61902410537095,
          -268.3652360704855,
          -357.41481403113994,
          -398.85614449783134,
          -391.00622039075006,
          0
         ]
        },
        {
         "mode": "lines",
         "name": "Wall -> Inside (x=Nx)",
         "type": "scatter",
         "x": [
          0,
          15,
          30,
          45,
          60,
          75,
          90,
          105,
          120,
          135,
          150,
          165,
          180,
          195,
          210,
          225,
          240,
          255,
          270,
          285,
          300
         ],
         "y": [
          -720,
          -325.7979858347562,
          -149.4701592465708,
          -71.11289272782415,
          -36.72569653554547,
          -21.975528539624065,
          -15.876235755704329,
          -13.45049881146224,
          -12.43175087981399,
          -11.783034664194929,
          -11.037046300812108,
          -10.003179650634593,
          -8.635350119448049,
          -6.969549351942987,
          -5.090692460030368,
          -3.1092293670371873,
          -1.1290002592613746,
          0.9515056379132147,
          1.251320463970842,
          1.917904148681373,
          0
         ]
        }
       ],
       "frames": [],
       "layout": {
        "margin": {
         "b": 50,
         "l": 50,
         "r": 50,
         "t": 60
        },
        "showlegend": true,
        "template": {
         "data": {
          "bar": [
           {
            "error_x": {
             "color": "#2a3f5f"
            },
            "error_y": {
             "color": "#2a3f5f"
            },
            "marker": {
             "line": {
              "color": "#E5ECF6",
              "width": 0.5
             }
            },
            "type": "bar"
           }
          ],
          "barpolar": [
           {
            "marker": {
             "line": {
              "color": "#E5ECF6",
              "width": 0.5
             }
            },
            "type": "barpolar"
           }
          ],
          "carpet": [
           {
            "aaxis": {
             "endlinecolor": "#2a3f5f",
             "gridcolor": "white",
             "linecolor": "white",
             "minorgridcolor": "white",
             "startlinecolor": "#2a3f5f"
            },
            "baxis": {
             "endlinecolor": "#2a3f5f",
             "gridcolor": "white",
             "linecolor": "white",
             "minorgridcolor": "white",
             "startlinecolor": "#2a3f5f"
            },
            "type": "carpet"
           }
          ],
          "choropleth": [
           {
            "colorbar": {
             "outlinewidth": 0,
             "ticks": ""
            },
            "type": "choropleth"
           }
          ],
          "contour": [
           {
            "colorbar": {
             "outlinewidth": 0,
             "ticks": ""
            },
            "colorscale": [
             [
              0,
              "#0d0887"
             ],
             [
              0.1111111111111111,
              "#46039f"
             ],
             [
              0.2222222222222222,
              "#7201a8"
             ],
             [
              0.3333333333333333,
              "#9c179e"
             ],
             [
              0.4444444444444444,
              "#bd3786"
             ],
             [
              0.5555555555555556,
              "#d8576b"
             ],
             [
              0.6666666666666666,
              "#ed7953"
             ],
             [
              0.7777777777777778,
              "#fb9f3a"
             ],
             [
              0.8888888888888888,
              "#fdca26"
             ],
             [
              1,
              "#f0f921"
             ]
            ],
            "type": "contour"
           }
          ],
          "contourcarpet": [
           {
            "colorbar": {
             "outlinewidth": 0,
             "ticks": ""
            },
            "type": "contourcarpet"
           }
          ],
          "heatmap": [
           {
            "colorbar": {
             "outlinewidth": 0,
             "ticks": ""
            },
            "colorscale": [
             [
              0,
              "#0d0887"
             ],
             [
              0.1111111111111111,
              "#46039f"
             ],
             [
              0.2222222222222222,
              "#7201a8"
             ],
             [
              0.3333333333333333,
              "#9c179e"
             ],
             [
              0.4444444444444444,
              "#bd3786"
             ],
             [
              0.5555555555555556,
              "#d8576b"
             ],
             [
              0.6666666666666666,
              "#ed7953"
             ],
             [
              0.7777777777777778,
              "#fb9f3a"
             ],
             [
              0.8888888888888888,
              "#fdca26"
             ],
             [
              1,
              "#f0f921"
             ]
            ],
            "type": "heatmap"
           }
          ],
          "heatmapgl": [
           {
            "colorbar": {
             "outlinewidth": 0,
             "ticks": ""
            },
            "colorscale": [
             [
              0,
              "#0d0887"
             ],
             [
              0.1111111111111111,
              "#46039f"
             ],
             [
              0.2222222222222222,
              "#7201a8"
             ],
             [
              0.3333333333333333,
              "#9c179e"
             ],
             [
              0.4444444444444444,
              "#bd3786"
             ],
             [
              0.5555555555555556,
              "#d8576b"
             ],
             [
              0.6666666666666666,
              "#ed7953"
             ],
             [
              0.7777777777777778,
              "#fb9f3a"
             ],
             [
              0.8888888888888888,
              "#fdca26"
             ],
             [
              1,
              "#f0f921"
             ]
            ],
            "type": "heatmapgl"
           }
          ],
          "histogram": [
           {
            "marker": {
             "colorbar": {
              "outlinewidth": 0,
              "ticks": ""
             }
            },
            "type": "histogram"
           }
          ],
          "histogram2d": [
           {
            "colorbar": {
             "outlinewidth": 0,
             "ticks": ""
            },
            "colorscale": [
             [
              0,
              "#0d0887"
             ],
             [
              0.1111111111111111,
              "#46039f"
             ],
             [
              0.2222222222222222,
              "#7201a8"
             ],
             [
              0.3333333333333333,
              "#9c179e"
             ],
             [
              0.4444444444444444,
              "#bd3786"
             ],
             [
              0.5555555555555556,
              "#d8576b"
             ],
             [
              0.6666666666666666,
              "#ed7953"
             ],
             [
              0.7777777777777778,
              "#fb9f3a"
             ],
             [
              0.8888888888888888,
              "#fdca26"
             ],
             [
              1,
              "#f0f921"
             ]
            ],
            "type": "histogram2d"
           }
          ],
          "histogram2dcontour": [
           {
            "colorbar": {
             "outlinewidth": 0,
             "ticks": ""
            },
            "colorscale": [
             [
              0,
              "#0d0887"
             ],
             [
              0.1111111111111111,
              "#46039f"
             ],
             [
              0.2222222222222222,
              "#7201a8"
             ],
             [
              0.3333333333333333,
              "#9c179e"
             ],
             [
              0.4444444444444444,
              "#bd3786"
             ],
             [
              0.5555555555555556,
              "#d8576b"
             ],
             [
              0.6666666666666666,
              "#ed7953"
             ],
             [
              0.7777777777777778,
              "#fb9f3a"
             ],
             [
              0.8888888888888888,
              "#fdca26"
             ],
             [
              1,
              "#f0f921"
             ]
            ],
            "type": "histogram2dcontour"
           }
          ],
          "mesh3d": [
           {
            "colorbar": {
             "outlinewidth": 0,
             "ticks": ""
            },
            "type": "mesh3d"
           }
          ],
          "parcoords": [
           {
            "line": {
             "colorbar": {
              "outlinewidth": 0,
              "ticks": ""
             }
            },
            "type": "parcoords"
           }
          ],
          "pie": [
           {
            "automargin": true,
            "type": "pie"
           }
          ],
          "scatter": [
           {
            "marker": {
             "colorbar": {
              "outlinewidth": 0,
              "ticks": ""
             }
            },
            "type": "scatter"
           }
          ],
          "scatter3d": [
           {
            "line": {
             "colorbar": {
              "outlinewidth": 0,
              "ticks": ""
             }
            },
            "marker": {
             "colorbar": {
              "outlinewidth": 0,
              "ticks": ""
             }
            },
            "type": "scatter3d"
           }
          ],
          "scattercarpet": [
           {
            "marker": {
             "colorbar": {
              "outlinewidth": 0,
              "ticks": ""
             }
            },
            "type": "scattercarpet"
           }
          ],
          "scattergeo": [
           {
            "marker": {
             "colorbar": {
              "outlinewidth": 0,
              "ticks": ""
             }
            },
            "type": "scattergeo"
           }
          ],
          "scattergl": [
           {
            "marker": {
             "colorbar": {
              "outlinewidth": 0,
              "ticks": ""
             }
            },
            "type": "scattergl"
           }
          ],
          "scattermapbox": [
           {
            "marker": {
             "colorbar": {
              "outlinewidth": 0,
              "ticks": ""
             }
            },
            "type": "scattermapbox"
           }
          ],
          "scatterpolar": [
           {
            "marker": {
             "colorbar": {
              "outlinewidth": 0,
              "ticks": ""
             }
            },
            "type": "scatterpolar"
           }
          ],
          "scatterpolargl": [
           {
            "marker": {
             "colorbar": {
              "outlinewidth": 0,
              "ticks": ""
             }
            },
            "type": "scatterpolargl"
           }
          ],
          "scatterternary": [
           {
            "marker": {
             "colorbar": {
              "outlinewidth": 0,
              "ticks": ""
             }
            },
            "type": "scatterternary"
           }
          ],
          "surface": [
           {
            "colorbar": {
             "outlinewidth": 0,
             "ticks": ""
            },
            "colorscale": [
             [
              0,
              "#0d0887"
             ],
             [
              0.1111111111111111,
              "#46039f"
             ],
             [
              0.2222222222222222,
              "#7201a8"
             ],
             [
              0.3333333333333333,
              "#9c179e"
             ],
             [
              0.4444444444444444,
              "#bd3786"
             ],
             [
              0.5555555555555556,
              "#d8576b"
             ],
             [
              0.6666666666666666,
              "#ed7953"
             ],
             [
              0.7777777777777778,
              "#fb9f3a"
             ],
             [
              0.8888888888888888,
              "#fdca26"
             ],
             [
              1,
              "#f0f921"
             ]
            ],
            "type": "surface"
           }
          ],
          "table": [
           {
            "cells": {
             "fill": {
              "color": "#EBF0F8"
             },
             "line": {
              "color": "white"
             }
            },
            "header": {
             "fill": {
              "color": "#C8D4E3"
             },
             "line": {
              "color": "white"
             }
            },
            "type": "table"
           }
          ]
         },
         "layout": {
          "annotationdefaults": {
           "arrowcolor": "#2a3f5f",
           "arrowhead": 0,
           "arrowwidth": 1
          },
          "autotypenumbers": "strict",
          "coloraxis": {
           "colorbar": {
            "outlinewidth": 0,
            "ticks": ""
           }
          },
          "colorscale": {
           "diverging": [
            [
             0,
             "#8e0152"
            ],
            [
             0.1,
             "#c51b7d"
            ],
            [
             0.2,
             "#de77ae"
            ],
            [
             0.3,
             "#f1b6da"
            ],
            [
             0.4,
             "#fde0ef"
            ],
            [
             0.5,
             "#f7f7f7"
            ],
            [
             0.6,
             "#e6f5d0"
            ],
            [
             0.7,
             "#b8e186"
            ],
            [
             0.8,
             "#7fbc41"
            ],
            [
             0.9,
             "#4d9221"
            ],
            [
             1,
             "#276419"
            ]
           ],
           "sequential": [
            [
             0,
             "#0d0887"
            ],
            [
             0.1111111111111111,
             "#46039f"
            ],
            [
             0.2222222222222222,
             "#7201a8"
            ],
            [
             0.3333333333333333,
             "#9c179e"
            ],
            [
             0.4444444444444444,
             "#bd3786"
            ],
            [
             0.5555555555555556,
             "#d8576b"
            ],
            [
             0.6666666666666666,
             "#ed7953"
            ],
            [
             0.7777777777777778,
             "#fb9f3a"
            ],
            [
             0.8888888888888888,
             "#fdca26"
            ],
            [
             1,
             "#f0f921"
            ]
           ],
           "sequentialminus": [
            [
             0,
             "#0d0887"
            ],
            [
             0.1111111111111111,
             "#46039f"
            ],
            [
             0.2222222222222222,
             "#7201a8"
            ],
            [
             0.3333333333333333,
             "#9c179e"
            ],
            [
             0.4444444444444444,
             "#bd3786"
            ],
            [
             0.5555555555555556,
             "#d8576b"
            ],
            [
             0.6666666666666666,
             "#ed7953"
            ],
            [
             0.7777777777777778,
             "#fb9f3a"
            ],
            [
             0.8888888888888888,
             "#fdca26"
            ],
            [
             1,
             "#f0f921"
            ]
           ]
          },
          "colorway": [
           "#636efa",
           "#EF553B",
           "#00cc96",
           "#ab63fa",
           "#FFA15A",
           "#19d3f3",
           "#FF6692",
           "#B6E880",
           "#FF97FF",
           "#FECB52"
          ],
          "font": {
           "color": "#2a3f5f"
          },
          "geo": {
           "bgcolor": "white",
           "lakecolor": "white",
           "landcolor": "#E5ECF6",
           "showlakes": true,
           "showland": true,
           "subunitcolor": "white"
          },
          "hoverlabel": {
           "align": "left"
          },
          "hovermode": "closest",
          "mapbox": {
           "style": "light"
          },
          "paper_bgcolor": "white",
          "plot_bgcolor": "#E5ECF6",
          "polar": {
           "angularaxis": {
            "gridcolor": "white",
            "linecolor": "white",
            "ticks": ""
           },
           "bgcolor": "#E5ECF6",
           "radialaxis": {
            "gridcolor": "white",
            "linecolor": "white",
            "ticks": ""
           }
          },
          "scene": {
           "xaxis": {
            "backgroundcolor": "#E5ECF6",
            "gridcolor": "white",
            "gridwidth": 2,
            "linecolor": "white",
            "showbackground": true,
            "ticks": "",
            "zerolinecolor": "white"
           },
           "yaxis": {
            "backgroundcolor": "#E5ECF6",
            "gridcolor": "white",
            "gridwidth": 2,
            "linecolor": "white",
            "showbackground": true,
            "ticks": "",
            "zerolinecolor": "white"
           },
           "zaxis": {
            "backgroundcolor": "#E5ECF6",
            "gridcolor": "white",
            "gridwidth": 2,
            "linecolor": "white",
            "showbackground": true,
            "ticks": "",
            "zerolinecolor": "white"
           }
          },
          "shapedefaults": {
           "line": {
            "color": "#2a3f5f"
           }
          },
          "ternary": {
           "aaxis": {
            "gridcolor": "white",
            "linecolor": "white",
            "ticks": ""
           },
           "baxis": {
            "gridcolor": "white",
            "linecolor": "white",
            "ticks": ""
           },
           "bgcolor": "#E5ECF6",
           "caxis": {
            "gridcolor": "white",
            "linecolor": "white",
            "ticks": ""
           }
          },
          "title": {
           "x": 0.05
          },
          "xaxis": {
           "automargin": true,
           "gridcolor": "white",
           "linecolor": "white",
           "ticks": "",
           "title": {
            "standoff": 15
           },
           "zerolinecolor": "white",
           "zerolinewidth": 2
          },
          "yaxis": {
           "automargin": true,
           "gridcolor": "white",
           "linecolor": "white",
           "ticks": "",
           "title": {
            "standoff": 15
           },
           "zerolinecolor": "white",
           "zerolinewidth": 2
          }
         }
        },
        "title": "Heat Flux at Surfaces due to Convection",
        "xaxis": {
         "title": {
          "text": "Time [s]"
         }
        },
        "yaxis": {
         "title": {
          "text": "Heat Flux"
         }
        }
       }
      },
      "image/png": "[encoded data removed]",
      "image/svg+xml": "<svg class=\"main-svg\" xmlns=\"http://www.w3.org/2000/svg\" xmlns:xlink=\"http://www.w3.org/1999/xlink\" width=\"700\" height=\"500\" style=\"\" viewBox=\"0 0 700 500\"><rect x=\"0\" y=\"0\" width=\"700\" height=\"500\" style=\"fill: rgb(255, 255, 255); fill-opacity: 1;\"/><defs id=\"defs-963910\"><g class=\"clips\"><clipPath id=\"clip963910xyplot\" class=\"plotclip\"><rect width=\"428\" height=\"388\"/></clipPath><clipPath class=\"axesclip\" id=\"clip963910x\"><rect x=\"71\" y=\"0\" width=\"428\" height=\"500\"/></clipPath><clipPath class=\"axesclip\" id=\"clip963910y\"><rect x=\"0\" y=\"60\" width=\"700\" height=\"388\"/></clipPath><clipPath class=\"axesclip\" id=\"clip963910xy\"><rect x=\"71\" y=\"60\" width=\"428\" height=\"388\"/></clipPath></g><g class=\"gradients\"/></defs><g class=\"bglayer\"><rect class=\"bg\" x=\"71\" y=\"60\" width=\"428\" height=\"388\" style=\"fill: rgb(229, 236, 246); fill-opacity: 1; stroke-width: 0;\"/></g><g class=\"layer-below\"><g class=\"imagelayer\"/><g class=\"shapelayer\"/></g><g class=\"cartesianlayer\"><g class=\"subplot xy\"><g class=\"layer-subplot\"><g class=\"shapelayer\"/><g class=\"imagelayer\"/></g><g class=\"gridlayer\"><g class=\"x\"><path class=\"xgrid crisp\" transform=\"translate(142.32999999999998,0)\" d=\"M0,60v388\" style=\"stroke: rgb(255, 255, 255); stroke-opacity: 1; stroke-width: 1px;\"/><path class=\"xgrid crisp\" transform=\"translate(213.67,0)\" d=\"M0,60v388\" style=\"stroke: rgb(255, 255, 255); stroke-opacity: 1; stroke-width: 1px;\"/><path class=\"xgrid crisp\" transform=\"translate(285,0)\" d=\"M0,60v388\" style=\"stroke: rgb(255, 255, 255); stroke-opacity: 1; stroke-width: 1px;\"/><path class=\"xgrid crisp\" transform=\"translate(356.33,0)\" d=\"M0,60v388\" style=\"stroke: rgb(255, 255, 255); stroke-opacity: 1; stroke-width: 1px;\"/><path class=\"xgrid crisp\" transform=\"translate(427.67,0)\" d=\"M0,60v388\" style=\"stroke: rgb(255, 255, 255); stroke-opacity: 1; stroke-width: 1px;\"/></g><g class=\"y\"><path class=\"ygrid crisp\" transform=\"translate(0,389.71)\" d=\"M71,0h428\" style=\"stroke: rgb(255, 255, 255); stroke-opacity: 1; stroke-width: 1px;\"/><path class=\"ygrid crisp\" transform=\"translate(0,212.93)\" d=\"M71,0h428\" style=\"stroke: rgb(255, 255, 255); stroke-opacity: 1; stroke-width: 1px;\"/><path class=\"ygrid crisp\" transform=\"translate(0,124.54)\" d=\"M71,0h428\" style=\"stroke: rgb(255, 255, 255); stroke-opacity: 1; stroke-width: 1px;\"/></g></g><g class=\"zerolinelayer\"><path class=\"xzl zl crisp\" transform=\"translate(71,0)\" d=\"M0,60v388\" style=\"stroke: rgb(255, 255, 255); stroke-opacity: 1; stroke-width: 2px;\"/><path class=\"yzl zl crisp\" transform=\"translate(0,301.32)\" d=\"M71,0h428\" style=\"stroke: rgb(255, 255, 255); stroke-opacity: 1; stroke-width: 2px;\"/></g><path class=\"xlines-below\"/><path class=\"ylines-below\"/><g class=\"overlines-below\"/><g class=\"xaxislayer-below\"/><g class=\"yaxislayer-below\"/><g class=\"overaxes-below\"/><g class=\"plot\" transform=\"translate(71,60)\" clip-path=\"url('#clip963910xyplot')\"><g class=\"scatterlayer mlayer\"><g class=\"trace scatter trace1d5eee\" style=\"stroke-miterlimit: 2; opacity: 1;\"><g class=\"fills\"/><g class=\"errorbars\"/><g class=\"lines\"><path class=\"js-line\" d=\"M0,126.77L21.4,97.16L42.8,69.79L64.2,46.75L85.6,29.85L107,20.44L128.4,19.4L149.8,27.02L171.2,43L192.6,66.48L214,96.07L235.4,129.98L256.8,166.1L278.2,202.2L299.6,236.02L321,265.47L342.4,288.76L363.8,304.5L385.2,311.83L406.6,310.44L428,241.32\" style=\"vector-effect: non-scaling-stroke; fill: none; stroke: rgb(99, 110, 250); stroke-opacity: 1; stroke-width: 2px; opacity: 1;\"/></g><g class=\"points\"/><g class=\"text\"/></g><g class=\"trace scatter trace61f4f1\" style=\"stroke-miterlimit: 2; opacity: 1;\"><g class=\"fills\"/><g class=\"errorbars\"/><g class=\"lines\"><path class=\"js-line\" d=\"M0,368.6L21.4,298.91L42.8,267.74L64.2,253.89L85.6,247.81L107,245.21L128.4,244.13L192.6,243.4L214,243.27L342.4,241.52L363.8,241.15L428,241.32\" style=\"vector-effect: non-scaling-stroke; fill: none; stroke: rgb(239, 85, 59); stroke-opacity: 1; stroke-width: 2px; opacity: 1;\"/></g><g class=\"points\"/><g class=\"text\"/></g></g></g><g class=\"overplot\"/><path class=\"xlines-above crisp\" d=\"M0,0\" style=\"fill: none;\"/><path class=\"ylines-above crisp\" d=\"M0,0\" style=\"fill: none;\"/><g class=\"overlines-above\"/><g class=\"xaxislayer-above\"><g class=\"xtick\"><text text-anchor=\"middle\" x=\"0\" y=\"461\" transform=\"translate(71,0)\" style=\"font-family: 'Open Sans', verdana, arial, sans-serif; font-size: 12px; fill: rgb(42, 63, 95); fill-opacity: 1; white-space: pre;\">0</text></g><g class=\"xtick\"><text text-anchor=\"middle\" x=\"0\" y=\"461\" transform=\"translate(142.32999999999998,0)\" style=\"font-family: 'Open Sans', verdana, arial, sans-serif; font-size: 12px; fill: rgb(42, 63, 95); fill-opacity: 1; white-space: pre;\">50</text></g><g class=\"xtick\"><text text-anchor=\"middle\" x=\"0\" y=\"461\" transform=\"translate(213.67,0)\" style=\"font-family: 'Open Sans', verdana, arial, sans-serif; font-size: 12px; fill: rgb(42, 63, 95); fill-opacity: 1; white-space: pre;\">100</text></g><g class=\"xtick\"><text text-anchor=\"middle\" x=\"0\" y=\"461\" transform=\"translate(285,0)\" style=\"font-family: 'Open Sans', verdana, arial, sans-serif; font-size: 12px; fill: rgb(42, 63, 95); fill-opacity: 1; white-space: pre;\">150</text></g><g class=\"xtick\"><text text-anchor=\"middle\" x=\"0\" y=\"461\" transform=\"translate(356.33,0)\" style=\"font-family: 'Open Sans', verdana, arial, sans-serif; font-size: 12px; fill: rgb(42, 63, 95); fill-opacity: 1; white-space: pre;\">200</text></g><g class=\"xtick\"><text text-anchor=\"middle\" x=\"0\" y=\"461\" transform=\"translate(427.67,0)\" style=\"font-family: 'Open Sans', verdana, arial, sans-serif; font-size: 12px; fill: rgb(42, 63, 95); fill-opacity: 1; white-space: pre;\">250</text></g><g class=\"xtick\"><text text-anchor=\"middle\" x=\"0\" y=\"461\" transform=\"translate(499,0)\" style=\"font-family: 'Open Sans', verdana, arial, sans-serif; font-size: 12px; fill: rgb(42, 63, 95); fill-opacity: 1; white-space: pre;\">300</text></g></g><g class=\"yaxislayer-above\"><g class=\"ytick\"><text text-anchor=\"end\" x=\"70\" y=\"4.199999999999999\" transform=\"translate(0,389.71)\" style=\"font-family: 'Open Sans', verdana, arial, sans-serif; font-size: 12px; fill: rgb(42, 63, 95); fill-opacity: 1; white-space: pre;\">−500</text></g><g class=\"ytick\"><text text-anchor=\"end\" x=\"70\" y=\"4.199999999999999\" transform=\"translate(0,301.32)\" style=\"font-family: 'Open Sans', verdana, arial, sans-serif; font-size: 12px; fill: rgb(42, 63, 95); fill-opacity: 1; white-space: pre;\">0</text></g><g class=\"ytick\"><text text-anchor=\"end\" x=\"70\" y=\"4.199999999999999\" transform=\"translate(0,212.93)\" style=\"font-family: 'Open Sans', verdana, arial, sans-serif; font-size: 12px; fill: rgb(42, 63, 95); fill-opacity: 1; white-space: pre;\">500</text></g><g class=\"ytick\"><text text-anchor=\"end\" x=\"70\" y=\"4.199999999999999\" transform=\"translate(0,124.54)\" style=\"font-family: 'Open Sans', verdana, arial, sans-serif; font-size: 12px; fill: rgb(42, 63, 95); fill-opacity: 1; white-space: pre;\">1000</text></g></g><g class=\"overaxes-above\"/></g></g><g class=\"polarlayer\"/><g class=\"ternarylayer\"/><g class=\"geolayer\"/><g class=\"funnelarealayer\"/><g class=\"pielayer\"/><g class=\"treemaplayer\"/><g class=\"sunburstlayer\"/><g class=\"glimages\"/><defs id=\"topdefs-963910\"><g class=\"clips\"/><clipPath id=\"legend963910\"><rect width=\"180\" height=\"48\" x=\"0\" y=\"0\"/></clipPath></defs><g class=\"layer-above\"><g class=\"imagelayer\"/><g class=\"shapelayer\"/></g><g class=\"infolayer\"><g class=\"legend\" pointer-events=\"all\" transform=\"translate(507.56,60)\"><rect class=\"bg\" shape-rendering=\"crispEdges\" width=\"180\" height=\"48\" x=\"0\" y=\"0\" style=\"stroke: rgb(68, 68, 68); stroke-opacity: 1; fill: rgb(255, 255, 255); fill-opacity: 1; stroke-width: 0px;\"/><g class=\"scrollbox\" transform=\"\" clip-path=\"url('#legend963910')\"><g class=\"groups\"><g class=\"traces\" transform=\"translate(0,14.5)\" style=\"opacity: 1;\"><text class=\"legendtext\" text-anchor=\"start\" x=\"40\" y=\"4.680000000000001\" style=\"font-family: 'Open Sans', verdana, arial, sans-serif; font-size: 12px; fill: rgb(42, 63, 95); fill-opacity: 1; white-space: pre;\">Outside -> Wall (x=0)</text><g class=\"layers\" style=\"opacity: 1;\"><g class=\"legendfill\"/><g class=\"legendlines\"><path class=\"js-line\" d=\"M5,0h30\" style=\"fill: none; stroke: rgb(99, 110, 250); stroke-opacity: 1; stroke-width: 2px;\"/></g><g class=\"legendsymbols\"><g class=\"legendpoints\"/></g></g><rect class=\"legendtoggle\" x=\"0\" y=\"-9.5\" width=\"174.984375\" height=\"19\" style=\"fill: rgb(0, 0, 0); fill-opacity: 0;\"/></g><g class=\"traces\" transform=\"translate(0,33.5)\" style=\"opacity: 1;\"><text class=\"legendtext\" text-anchor=\"start\" x=\"40\" y=\"4.680000000000001\" style=\"font-family: 'Open Sans', verdana, arial, sans-serif; font-size: 12px; fill: rgb(42, 63, 95); fill-opacity: 1; white-space: pre;\">Wall -> Inside (x=Nx)</text><g class=\"layers\" style=\"opacity: 1;\"><g class=\"legendfill\"/><g class=\"legendlines\"><path class=\"js-line\" d=\"M5,0h30\" style=\"fill: none; stroke: rgb(239, 85, 59); stroke-opacity: 1; stroke-width: 2px;\"/></g><g class=\"legendsymbols\"><g class=\"legendpoints\"/></g></g><rect class=\"legendtoggle\" x=\"0\" y=\"-9.5\" width=\"174.984375\" height=\"19\" style=\"fill: rgb(0, 0, 0); fill-opacity: 0;\"/></g></g></g><rect class=\"scrollbar\" rx=\"20\" ry=\"3\" width=\"0\" height=\"0\" x=\"0\" y=\"0\" style=\"fill: rgb(128, 139, 164); fill-opacity: 1;\"/></g><g class=\"g-gtitle\"><text class=\"gtitle\" x=\"35\" y=\"30\" text-anchor=\"start\" dy=\"0em\" style=\"font-family: 'Open Sans', verdana, arial, sans-serif; font-size: 17px; fill: rgb(42, 63, 95); opacity: 1; font-weight: normal; white-space: pre;\">Heat Flux at Surfaces due to Convection</text></g><g class=\"g-xtitle\"><text class=\"xtitle\" x=\"285\" y=\"488.3\" text-anchor=\"middle\" style=\"font-family: 'Open Sans', verdana, arial, sans-serif; font-size: 14px; fill: rgb(42, 63, 95); opacity: 1; font-weight: normal; white-space: pre;\">Time [s]</text></g><g class=\"g-ytitle\" transform=\"translate(1.5185546875,0)\"><text class=\"ytitle\" transform=\"rotate(-90,12.481250000000003,254)\" x=\"12.481250000000003\" y=\"254\" text-anchor=\"middle\" style=\"font-family: 'Open Sans', verdana, arial, sans-serif; font-size: 14px; fill: rgb(42, 63, 95); opacity: 1; font-weight: normal; white-space: pre;\">Heat Flux</text></g></g></svg>",
      "text/html": [
       "<div\n",
       "    class=\"webio-mountpoint\"\n",
       "    data-webio-mountpoint=\"9714456256756356630\"\n",
       ">\n",
       "    <script>\n",
       "    (function(){\n",
       "    // Some integrations (namely, IJulia/Jupyter) use an alternate render pathway than\n",
       "    // just putting the html on the page. If WebIO isn't defined, then it's pretty likely\n",
       "    // that we're in one of those situations and the integration just isn't installed\n",
       "    // correctly.\n",
       "    if (typeof window.WebIO === \"undefined\") {\n",
       "        document\n",
       "            .querySelector('[data-webio-mountpoint=\"9714456256756356630\"]')\n",
       "            .innerHTML = (\n",
       "                '<div style=\"padding: 1em; background-color: #f8d6da; border: 1px solid #f5c6cb; font-weight: bold;\">' +\n",
       "                '<p><strong>WebIO not detected.</strong></p>' +\n",
       "                '<p>Please read ' +\n",
       "                '<a href=\"https://juliagizmos.github.io/WebIO.jl/latest/troubleshooting/not-detected/\" target=\"_blank\">the troubleshooting guide</a> ' +\n",
       "                'for more information on how to resolve this issue.</p>' +\n",
       "                '<p><a href=\"https://juliagizmos.github.io/WebIO.jl/latest/troubleshooting/not-detected/\" target=\"_blank\">https://juliagizmos.github.io/WebIO.jl/latest/troubleshooting/not-detected/</a></p>' +\n",
       "                '</div>'\n",
       "            );\n",
       "        return;\n",
       "    }\n",
       "    WebIO.mount(\n",
       "        document.querySelector('[data-webio-mountpoint=\"9714456256756356630\"]'),\n",
       "        {\"props\":{},\"nodeType\":\"Scope\",\"type\":\"node\",\"instanceArgs\":{\"imports\":{\"data\":[{\"name\":\"Plotly\",\"type\":\"js\",\"url\":\"\\/assetserver\\/5b3939436337838b354347cfaa22b7bc3003989a-plotly.min.js\"},{\"name\":null,\"type\":\"js\",\"url\":\"\\/assetserver\\/7e2197e88325f41c44111d393955af302af7055d-plotly_webio.bundle.js\"}],\"type\":\"async_block\"},\"id\":\"1844285405003907611\",\"handlers\":{\"_toImage\":[\"(function (options){return this.Plotly.toImage(this.plotElem,options).then((function (data){return WebIO.setval({\\\"name\\\":\\\"image\\\",\\\"scope\\\":\\\"1844285405003907611\\\",\\\"id\\\":\\\"569891770908500407\\\",\\\"type\\\":\\\"observable\\\"},data)}))})\"],\"__get_gd_contents\":[\"(function (prop){prop==\\\"data\\\" ? (WebIO.setval({\\\"name\\\":\\\"__gd_contents\\\",\\\"scope\\\":\\\"1844285405003907611\\\",\\\"id\\\":\\\"13091659812712211834\\\",\\\"type\\\":\\\"observable\\\"},this.plotElem.data)) : undefined; return prop==\\\"layout\\\" ? (WebIO.setval({\\\"name\\\":\\\"__gd_contents\\\",\\\"scope\\\":\\\"1844285405003907611\\\",\\\"id\\\":\\\"13091659812712211834\\\",\\\"type\\\":\\\"observable\\\"},this.plotElem.layout)) : undefined})\"],\"_downloadImage\":[\"(function (options){return this.Plotly.downloadImage(this.plotElem,options)})\"],\"_commands\":[\"(function (args){var fn=args.shift(); var elem=this.plotElem; var Plotly=this.Plotly; args.unshift(elem); return Plotly[fn].apply(this,args)})\"]},\"systemjs_options\":null,\"mount_callbacks\":[\"function () {\\n    var handler = ((function (Plotly,PlotlyWebIO){PlotlyWebIO.init(WebIO); var gd=this.dom.querySelector(\\\"#plot-ecbacede-8e74-4ce7-9b7c-84955c6f077b\\\"); this.plotElem=gd; this.Plotly=Plotly; (window.Blink!==undefined) ? (gd.style.width=\\\"100%\\\", gd.style.height=\\\"100vh\\\", gd.style.marginLeft=\\\"0%\\\", gd.style.marginTop=\\\"0vh\\\") : undefined; window.onresize=(function (){return Plotly.Plots.resize(gd)}); Plotly.newPlot(gd,[{\\\"mode\\\":\\\"lines\\\",\\\"y\\\":[647.9999999999836,815.5032758757261,970.3197782066582,1100.6285342008096,1196.2804256882873,1249.4907266350037,1255.370499288947,1212.2606401512257,1121.8458131715624,989.0405069699682,821.6549824933645,629.863879633499,425.51370759691963,221.31646044819718,29.98464733012497,-136.61902410537095,-268.3652360704855,-357.41481403113994,-398.85614449783134,-391.00622039075006,0.0],\\\"type\\\":\\\"scatter\\\",\\\"name\\\":\\\"Outside -> Wall (x=0)\\\",\\\"x\\\":[0,15,30,45,60,75,90,105,120,135,150,165,180,195,210,225,240,255,270,285,300]},{\\\"mode\\\":\\\"lines\\\",\\\"y\\\":[-720.0,-325.7979858347562,-149.4701592465708,-71.11289272782415,-36.72569653554547,-21.975528539624065,-15.876235755704329,-13.45049881146224,-12.43175087981399,-11.783034664194929,-11.037046300812108,-10.003179650634593,-8.635350119448049,-6.969549351942987,-5.090692460030368,-3.1092293670371873,-1.1290002592613746,0.9515056379132147,1.251320463970842,1.917904148681373,0.0],\\\"type\\\":\\\"scatter\\\",\\\"name\\\":\\\"Wall -> Inside (x=Nx)\\\",\\\"x\\\":[0,15,30,45,60,75,90,105,120,135,150,165,180,195,210,225,240,255,270,285,300]}],{\\\"showlegend\\\":true,\\\"xaxis\\\":{\\\"title\\\":{\\\"text\\\":\\\"Time [s]\\\"}},\\\"template\\\":{\\\"layout\\\":{\\\"coloraxis\\\":{\\\"colorbar\\\":{\\\"ticks\\\":\\\"\\\",\\\"outlinewidth\\\":0}},\\\"xaxis\\\":{\\\"gridcolor\\\":\\\"white\\\",\\\"zerolinewidth\\\":2,\\\"title\\\":{\\\"standoff\\\":15},\\\"ticks\\\":\\\"\\\",\\\"zerolinecolor\\\":\\\"white\\\",\\\"automargin\\\":true,\\\"linecolor\\\":\\\"white\\\"},\\\"hovermode\\\":\\\"closest\\\",\\\"paper_bgcolor\\\":\\\"white\\\",\\\"geo\\\":{\\\"showlakes\\\":true,\\\"showland\\\":true,\\\"landcolor\\\":\\\"#E5ECF6\\\",\\\"bgcolor\\\":\\\"white\\\",\\\"subunitcolor\\\":\\\"white\\\",\\\"lakecolor\\\":\\\"white\\\"},\\\"colorscale\\\":{\\\"sequential\\\":[[0.0,\\\"#0d0887\\\"],[0.1111111111111111,\\\"#46039f\\\"],[0.2222222222222222,\\\"#7201a8\\\"],[0.3333333333333333,\\\"#9c179e\\\"],[0.4444444444444444,\\\"#bd3786\\\"],[0.5555555555555556,\\\"#d8576b\\\"],[0.6666666666666666,\\\"#ed7953\\\"],[0.7777777777777778,\\\"#fb9f3a\\\"],[0.8888888888888888,\\\"#fdca26\\\"],[1.0,\\\"#f0f921\\\"]],\\\"diverging\\\":[[0,\\\"#8e0152\\\"],[0.1,\\\"#c51b7d\\\"],[0.2,\\\"#de77ae\\\"],[0.3,\\\"#f1b6da\\\"],[0.4,\\\"#fde0ef\\\"],[0.5,\\\"#f7f7f7\\\"],[0.6,\\\"#e6f5d0\\\"],[0.7,\\\"#b8e186\\\"],[0.8,\\\"#7fbc41\\\"],[0.9,\\\"#4d9221\\\"],[1,\\\"#276419\\\"]],\\\"sequentialminus\\\":[[0.0,\\\"#0d0887\\\"],[0.1111111111111111,\\\"#46039f\\\"],[0.2222222222222222,\\\"#7201a8\\\"],[0.3333333333333333,\\\"#9c179e\\\"],[0.4444444444444444,\\\"#bd3786\\\"],[0.5555555555555556,\\\"#d8576b\\\"],[0.6666666666666666,\\\"#ed7953\\\"],[0.7777777777777778,\\\"#fb9f3a\\\"],[0.8888888888888888,\\\"#fdca26\\\"],[1.0,\\\"#f0f921\\\"]]},\\\"yaxis\\\":{\\\"gridcolor\\\":\\\"white\\\",\\\"zerolinewidth\\\":2,\\\"title\\\":{\\\"standoff\\\":15},\\\"ticks\\\":\\\"\\\",\\\"zerolinecolor\\\":\\\"white\\\",\\\"automargin\\\":true,\\\"linecolor\\\":\\\"white\\\"},\\\"shapedefaults\\\":{\\\"line\\\":{\\\"color\\\":\\\"#2a3f5f\\\"}},\\\"hoverlabel\\\":{\\\"align\\\":\\\"left\\\"},\\\"mapbox\\\":{\\\"style\\\":\\\"light\\\"},\\\"polar\\\":{\\\"angularaxis\\\":{\\\"gridcolor\\\":\\\"white\\\",\\\"ticks\\\":\\\"\\\",\\\"linecolor\\\":\\\"white\\\"},\\\"bgcolor\\\":\\\"#E5ECF6\\\",\\\"radialaxis\\\":{\\\"gridcolor\\\":\\\"white\\\",\\\"ticks\\\":\\\"\\\",\\\"linecolor\\\":\\\"white\\\"}},\\\"autotypenumbers\\\":\\\"strict\\\",\\\"font\\\":{\\\"color\\\":\\\"#2a3f5f\\\"},\\\"ternary\\\":{\\\"baxis\\\":{\\\"gridcolor\\\":\\\"white\\\",\\\"ticks\\\":\\\"\\\",\\\"linecolor\\\":\\\"white\\\"},\\\"bgcolor\\\":\\\"#E5ECF6\\\",\\\"caxis\\\":{\\\"gridcolor\\\":\\\"white\\\",\\\"ticks\\\":\\\"\\\",\\\"linecolor\\\":\\\"white\\\"},\\\"aaxis\\\":{\\\"gridcolor\\\":\\\"white\\\",\\\"ticks\\\":\\\"\\\",\\\"linecolor\\\":\\\"white\\\"}},\\\"annotationdefaults\\\":{\\\"arrowhead\\\":0,\\\"arrowwidth\\\":1,\\\"arrowcolor\\\":\\\"#2a3f5f\\\"},\\\"plot_bgcolor\\\":\\\"#E5ECF6\\\",\\\"title\\\":{\\\"x\\\":0.05},\\\"scene\\\":{\\\"xaxis\\\":{\\\"gridcolor\\\":\\\"white\\\",\\\"gridwidth\\\":2,\\\"backgroundcolor\\\":\\\"#E5ECF6\\\",\\\"ticks\\\":\\\"\\\",\\\"showbackground\\\":true,\\\"zerolinecolor\\\":\\\"white\\\",\\\"linecolor\\\":\\\"white\\\"},\\\"zaxis\\\":{\\\"gridcolor\\\":\\\"white\\\",\\\"gridwidth\\\":2,\\\"backgroundcolor\\\":\\\"#E5ECF6\\\",\\\"ticks\\\":\\\"\\\",\\\"showbackground\\\":true,\\\"zerolinecolor\\\":\\\"white\\\",\\\"linecolor\\\":\\\"white\\\"},\\\"yaxis\\\":{\\\"gridcolor\\\":\\\"white\\\",\\\"gridwidth\\\":2,\\\"backgroundcolor\\\":\\\"#E5ECF6\\\",\\\"ticks\\\":\\\"\\\",\\\"showbackground\\\":true,\\\"zerolinecolor\\\":\\\"white\\\",\\\"linecolor\\\":\\\"white\\\"}},\\\"colorway\\\":[\\\"#636efa\\\",\\\"#EF553B\\\",\\\"#00cc96\\\",\\\"#ab63fa\\\",\\\"#FFA15A\\\",\\\"#19d3f3\\\",\\\"#FF6692\\\",\\\"#B6E880\\\",\\\"#FF97FF\\\",\\\"#FECB52\\\"]},\\\"data\\\":{\\\"barpolar\\\":[{\\\"type\\\":\\\"barpolar\\\",\\\"marker\\\":{\\\"line\\\":{\\\"color\\\":\\\"#E5ECF6\\\",\\\"width\\\":0.5}}}],\\\"carpet\\\":[{\\\"aaxis\\\":{\\\"gridcolor\\\":\\\"white\\\",\\\"endlinecolor\\\":\\\"#2a3f5f\\\",\\\"minorgridcolor\\\":\\\"white\\\",\\\"startlinecolor\\\":\\\"#2a3f5f\\\",\\\"linecolor\\\":\\\"white\\\"},\\\"type\\\":\\\"carpet\\\",\\\"baxis\\\":{\\\"gridcolor\\\":\\\"white\\\",\\\"endlinecolor\\\":\\\"#2a3f5f\\\",\\\"minorgridcolor\\\":\\\"white\\\",\\\"startlinecolor\\\":\\\"#2a3f5f\\\",\\\"linecolor\\\":\\\"white\\\"}}],\\\"scatterpolar\\\":[{\\\"type\\\":\\\"scatterpolar\\\",\\\"marker\\\":{\\\"colorbar\\\":{\\\"ticks\\\":\\\"\\\",\\\"outlinewidth\\\":0}}}],\\\"parcoords\\\":[{\\\"line\\\":{\\\"colorbar\\\":{\\\"ticks\\\":\\\"\\\",\\\"outlinewidth\\\":0}},\\\"type\\\":\\\"parcoords\\\"}],\\\"scatter\\\":[{\\\"type\\\":\\\"scatter\\\",\\\"marker\\\":{\\\"colorbar\\\":{\\\"ticks\\\":\\\"\\\",\\\"outlinewidth\\\":0}}}],\\\"histogram2dcontour\\\":[{\\\"colorbar\\\":{\\\"ticks\\\":\\\"\\\",\\\"outlinewidth\\\":0},\\\"type\\\":\\\"histogram2dcontour\\\",\\\"colorscale\\\":[[0.0,\\\"#0d0887\\\"],[0.1111111111111111,\\\"#46039f\\\"],[0.2222222222222222,\\\"#7201a8\\\"],[0.3333333333333333,\\\"#9c179e\\\"],[0.4444444444444444,\\\"#bd3786\\\"],[0.5555555555555556,\\\"#d8576b\\\"],[0.6666666666666666,\\\"#ed7953\\\"],[0.7777777777777778,\\\"#fb9f3a\\\"],[0.8888888888888888,\\\"#fdca26\\\"],[1.0,\\\"#f0f921\\\"]]}],\\\"contour\\\":[{\\\"colorbar\\\":{\\\"ticks\\\":\\\"\\\",\\\"outlinewidth\\\":0},\\\"type\\\":\\\"contour\\\",\\\"colorscale\\\":[[0.0,\\\"#0d0887\\\"],[0.1111111111111111,\\\"#46039f\\\"],[0.2222222222222222,\\\"#7201a8\\\"],[0.3333333333333333,\\\"#9c179e\\\"],[0.4444444444444444,\\\"#bd3786\\\"],[0.5555555555555556,\\\"#d8576b\\\"],[0.6666666666666666,\\\"#ed7953\\\"],[0.7777777777777778,\\\"#fb9f3a\\\"],[0.8888888888888888,\\\"#fdca26\\\"],[1.0,\\\"#f0f921\\\"]]}],\\\"scattercarpet\\\":[{\\\"type\\\":\\\"scattercarpet\\\",\\\"marker\\\":{\\\"colorbar\\\":{\\\"ticks\\\":\\\"\\\",\\\"outlinewidth\\\":0}}}],\\\"mesh3d\\\":[{\\\"colorbar\\\":{\\\"ticks\\\":\\\"\\\",\\\"outlinewidth\\\":0},\\\"type\\\":\\\"mesh3d\\\"}],\\\"surface\\\":[{\\\"colorbar\\\":{\\\"ticks\\\":\\\"\\\",\\\"outlinewidth\\\":0},\\\"type\\\":\\\"surface\\\",\\\"colorscale\\\":[[0.0,\\\"#0d0887\\\"],[0.1111111111111111,\\\"#46039f\\\"],[0.2222222222222222,\\\"#7201a8\\\"],[0.3333333333333333,\\\"#9c179e\\\"],[0.4444444444444444,\\\"#bd3786\\\"],[0.5555555555555556,\\\"#d8576b\\\"],[0.6666666666666666,\\\"#ed7953\\\"],[0.7777777777777778,\\\"#fb9f3a\\\"],[0.8888888888888888,\\\"#fdca26\\\"],[1.0,\\\"#f0f921\\\"]]}],\\\"scattermapbox\\\":[{\\\"type\\\":\\\"scattermapbox\\\",\\\"marker\\\":{\\\"colorbar\\\":{\\\"ticks\\\":\\\"\\\",\\\"outlinewidth\\\":0}}}],\\\"scattergeo\\\":[{\\\"type\\\":\\\"scattergeo\\\",\\\"marker\\\":{\\\"colorbar\\\":{\\\"ticks\\\":\\\"\\\",\\\"outlinewidth\\\":0}}}],\\\"histogram\\\":[{\\\"type\\\":\\\"histogram\\\",\\\"marker\\\":{\\\"colorbar\\\":{\\\"ticks\\\":\\\"\\\",\\\"outlinewidth\\\":0}}}],\\\"pie\\\":[{\\\"type\\\":\\\"pie\\\",\\\"automargin\\\":true}],\\\"choropleth\\\":[{\\\"colorbar\\\":{\\\"ticks\\\":\\\"\\\",\\\"outlinewidth\\\":0},\\\"type\\\":\\\"choropleth\\\"}],\\\"heatmapgl\\\":[{\\\"colorbar\\\":{\\\"ticks\\\":\\\"\\\",\\\"outlinewidth\\\":0},\\\"type\\\":\\\"heatmapgl\\\",\\\"colorscale\\\":[[0.0,\\\"#0d0887\\\"],[0.1111111111111111,\\\"#46039f\\\"],[0.2222222222222222,\\\"#7201a8\\\"],[0.3333333333333333,\\\"#9c179e\\\"],[0.4444444444444444,\\\"#bd3786\\\"],[0.5555555555555556,\\\"#d8576b\\\"],[0.6666666666666666,\\\"#ed7953\\\"],[0.7777777777777778,\\\"#fb9f3a\\\"],[0.8888888888888888,\\\"#fdca26\\\"],[1.0,\\\"#f0f921\\\"]]}],\\\"bar\\\":[{\\\"type\\\":\\\"bar\\\",\\\"error_y\\\":{\\\"color\\\":\\\"#2a3f5f\\\"},\\\"error_x\\\":{\\\"color\\\":\\\"#2a3f5f\\\"},\\\"marker\\\":{\\\"line\\\":{\\\"color\\\":\\\"#E5ECF6\\\",\\\"width\\\":0.5}}}],\\\"heatmap\\\":[{\\\"colorbar\\\":{\\\"ticks\\\":\\\"\\\",\\\"outlinewidth\\\":0},\\\"type\\\":\\\"heatmap\\\",\\\"colorscale\\\":[[0.0,\\\"#0d0887\\\"],[0.1111111111111111,\\\"#46039f\\\"],[0.2222222222222222,\\\"#7201a8\\\"],[0.3333333333333333,\\\"#9c179e\\\"],[0.4444444444444444,\\\"#bd3786\\\"],[0.5555555555555556,\\\"#d8576b\\\"],[0.6666666666666666,\\\"#ed7953\\\"],[0.7777777777777778,\\\"#fb9f3a\\\"],[0.8888888888888888,\\\"#fdca26\\\"],[1.0,\\\"#f0f921\\\"]]}],\\\"contourcarpet\\\":[{\\\"colorbar\\\":{\\\"ticks\\\":\\\"\\\",\\\"outlinewidth\\\":0},\\\"type\\\":\\\"contourcarpet\\\"}],\\\"table\\\":[{\\\"type\\\":\\\"table\\\",\\\"header\\\":{\\\"line\\\":{\\\"color\\\":\\\"white\\\"},\\\"fill\\\":{\\\"color\\\":\\\"#C8D4E3\\\"}},\\\"cells\\\":{\\\"line\\\":{\\\"color\\\":\\\"white\\\"},\\\"fill\\\":{\\\"color\\\":\\\"#EBF0F8\\\"}}}],\\\"scatter3d\\\":[{\\\"line\\\":{\\\"colorbar\\\":{\\\"ticks\\\":\\\"\\\",\\\"outlinewidth\\\":0}},\\\"type\\\":\\\"scatter3d\\\",\\\"marker\\\":{\\\"colorbar\\\":{\\\"ticks\\\":\\\"\\\",\\\"outlinewidth\\\":0}}}],\\\"scattergl\\\":[{\\\"type\\\":\\\"scattergl\\\",\\\"marker\\\":{\\\"colorbar\\\":{\\\"ticks\\\":\\\"\\\",\\\"outlinewidth\\\":0}}}],\\\"histogram2d\\\":[{\\\"colorbar\\\":{\\\"ticks\\\":\\\"\\\",\\\"outlinewidth\\\":0},\\\"type\\\":\\\"histogram2d\\\",\\\"colorscale\\\":[[0.0,\\\"#0d0887\\\"],[0.1111111111111111,\\\"#46039f\\\"],[0.2222222222222222,\\\"#7201a8\\\"],[0.3333333333333333,\\\"#9c179e\\\"],[0.4444444444444444,\\\"#bd3786\\\"],[0.5555555555555556,\\\"#d8576b\\\"],[0.6666666666666666,\\\"#ed7953\\\"],[0.7777777777777778,\\\"#fb9f3a\\\"],[0.8888888888888888,\\\"#fdca26\\\"],[1.0,\\\"#f0f921\\\"]]}],\\\"scatterternary\\\":[{\\\"type\\\":\\\"scatterternary\\\",\\\"marker\\\":{\\\"colorbar\\\":{\\\"ticks\\\":\\\"\\\",\\\"outlinewidth\\\":0}}}],\\\"scatterpolargl\\\":[{\\\"type\\\":\\\"scatterpolargl\\\",\\\"marker\\\":{\\\"colorbar\\\":{\\\"ticks\\\":\\\"\\\",\\\"outlinewidth\\\":0}}}]}},\\\"margin\\\":{\\\"l\\\":50,\\\"b\\\":50,\\\"r\\\":50,\\\"t\\\":60},\\\"title\\\":\\\"Heat Flux at Surfaces due to Convection\\\",\\\"yaxis\\\":{\\\"title\\\":{\\\"text\\\":\\\"Heat Flux\\\"}}},{\\\"showLink\\\":false,\\\"editable\\\":false,\\\"responsive\\\":true,\\\"staticPlot\\\":false,\\\"scrollZoom\\\":false}); gd.on(\\\"plotly_hover\\\",(function (data){var filtered_data=WebIO.PlotlyCommands.filterEventData(gd,data,\\\"hover\\\"); return !(filtered_data.isnil) ? (WebIO.setval({\\\"name\\\":\\\"hover\\\",\\\"scope\\\":\\\"1844285405003907611\\\",\\\"id\\\":\\\"16163836254385672678\\\",\\\"type\\\":\\\"observable\\\"},filtered_data.out)) : undefined})); gd.on(\\\"plotly_unhover\\\",(function (){return WebIO.setval({\\\"name\\\":\\\"hover\\\",\\\"scope\\\":\\\"1844285405003907611\\\",\\\"id\\\":\\\"16163836254385672678\\\",\\\"type\\\":\\\"observable\\\"},{})})); gd.on(\\\"plotly_selected\\\",(function (data){var filtered_data=WebIO.PlotlyCommands.filterEventData(gd,data,\\\"selected\\\"); return !(filtered_data.isnil) ? (WebIO.setval({\\\"name\\\":\\\"selected\\\",\\\"scope\\\":\\\"1844285405003907611\\\",\\\"id\\\":\\\"10457658494581226918\\\",\\\"type\\\":\\\"observable\\\"},filtered_data.out)) : undefined})); gd.on(\\\"plotly_deselect\\\",(function (){return WebIO.setval({\\\"name\\\":\\\"selected\\\",\\\"scope\\\":\\\"1844285405003907611\\\",\\\"id\\\":\\\"10457658494581226918\\\",\\\"type\\\":\\\"observable\\\"},{})})); gd.on(\\\"plotly_relayout\\\",(function (data){var filtered_data=WebIO.PlotlyCommands.filterEventData(gd,data,\\\"relayout\\\"); return !(filtered_data.isnil) ? (WebIO.setval({\\\"name\\\":\\\"relayout\\\",\\\"scope\\\":\\\"1844285405003907611\\\",\\\"id\\\":\\\"10975116251281028135\\\",\\\"type\\\":\\\"observable\\\"},filtered_data.out)) : undefined})); return gd.on(\\\"plotly_click\\\",(function (data){var filtered_data=WebIO.PlotlyCommands.filterEventData(gd,data,\\\"click\\\"); return !(filtered_data.isnil) ? (WebIO.setval({\\\"name\\\":\\\"click\\\",\\\"scope\\\":\\\"1844285405003907611\\\",\\\"id\\\":\\\"7406958905884918609\\\",\\\"type\\\":\\\"observable\\\"},filtered_data.out)) : undefined}))}));\\n    (WebIO.importBlock({\\\"data\\\":[{\\\"name\\\":\\\"Plotly\\\",\\\"type\\\":\\\"js\\\",\\\"url\\\":\\\"\\/assetserver\\/5b3939436337838b354347cfaa22b7bc3003989a-plotly.min.js\\\"},{\\\"name\\\":null,\\\"type\\\":\\\"js\\\",\\\"url\\\":\\\"\\/assetserver\\/7e2197e88325f41c44111d393955af302af7055d-plotly_webio.bundle.js\\\"}],\\\"type\\\":\\\"async_block\\\"})).then((imports) => handler.apply(this, imports));\\n}\\n\"],\"observables\":{\"_toImage\":{\"sync\":true,\"id\":\"10289152580142433225\",\"value\":{}},\"hover\":{\"sync\":false,\"id\":\"16163836254385672678\",\"value\":{}},\"selected\":{\"sync\":false,\"id\":\"10457658494581226918\",\"value\":{}},\"__gd_contents\":{\"sync\":false,\"id\":\"13091659812712211834\",\"value\":{}},\"click\":{\"sync\":false,\"id\":\"7406958905884918609\",\"value\":{}},\"image\":{\"sync\":true,\"id\":\"569891770908500407\",\"value\":\"\"},\"__get_gd_contents\":{\"sync\":true,\"id\":\"7099060710405314915\",\"value\":\"\"},\"_downloadImage\":{\"sync\":true,\"id\":\"13516940961242272441\",\"value\":{}},\"relayout\":{\"sync\":false,\"id\":\"10975116251281028135\",\"value\":{}},\"_commands\":{\"sync\":true,\"id\":\"6081484594168048419\",\"value\":[]}}},\"children\":[{\"props\":{\"id\":\"plot-ecbacede-8e74-4ce7-9b7c-84955c6f077b\"},\"nodeType\":\"DOM\",\"type\":\"node\",\"instanceArgs\":{\"namespace\":\"html\",\"tag\":\"div\"},\"children\":[]}]},\n",
       "        window,\n",
       "    );\n",
       "    })()\n",
       "    </script>\n",
       "</div>\n"
      ],
      "text/plain": [
       "data: [\n",
       "  \"scatter with fields mode, name, type, x, and y\",\n",
       "  \"scatter with fields mode, name, type, x, and y\"\n",
       "]\n",
       "\n",
       "layout: \"layout with fields margin, showlegend, template, title, xaxis, and yaxis\"\n",
       "\n"
      ]
     },
     "metadata": {},
     "output_type": "display_data"
    }
   ],
   "source": [
    "time_val_arr = time_val |> collect;\n",
    "trace1 = PlotlyJS.scatter(x=time_val_arr, y=E_conv_in_time, mode=\"lines\", name=\"Wall -> Inside (x=Nx)\")\n",
    "\n",
    "trace2 = PlotlyJS.scatter(x=time_val_arr, y=E_conv_out_time,mode=\"lines\", name=\"Outside -> Wall (x=0)\")\n",
    "\n",
    "# .plot(t/3600, T_int, mode=\"lines\", name=\"T_int\", )\n",
    "PlotlyJS.plot([trace2, trace1], Layout(;title=\"Heat Flux at Surfaces due to Convection\", showlegend=true, xaxis_title=\"Time [s]\", yaxis_title=\"Heat Flux\" ),  config=PlotConfig(scrollZoom=false))"
   ]
  },
  {
   "cell_type": "code",
   "execution_count": 68,
   "metadata": {},
   "outputs": [
    {
     "data": {
      "application/vnd.plotly.v1+json": {
       "config": {
        "editable": false,
        "responsive": true,
        "scrollZoom": false,
        "showLink": false,
        "staticPlot": false
       },
       "data": [
        {
         "colorbar": {
          "title": "Temperature [K]"
         },
         "transpose": true,
         "type": "contour",
         "x": [
          0,
          0.01,
          0.02,
          0.03,
          0.04,
          0.05,
          0.06,
          0.07,
          0.08,
          0.09,
          0.1
         ],
         "y": [
          0,
          15,
          30,
          45,
          60,
          75,
          90,
          105,
          120,
          135,
          150,
          165,
          180,
          195,
          210,
          225,
          240,
          255,
          270,
          285,
          300
         ],
         "z": [
          [
           272.5,
           272.49999865807837,
           272.4999976851367,
           272.4999969435131,
           272.49999634928304,
           272.499995847076,
           272.49999539705846,
           272.49999496725354,
           272.49999452800614,
           272.49999404653903,
           272.4999934792122,
           272.4999927564632,
           272.49999174507377,
           272.49999012281893,
           272.4999867069406,
           272.49995843103915,
           272.4999674476821,
           272.49997254083473,
           272.4999763676185,
           272.4999796084384,
           272.499982626693
          ],
          [
           272.5,
           272.5,
           272.49999990664895,
           272.49999975860294,
           272.4999995791117,
           272.49999938215007,
           272.4999991758333,
           272.4999989643867,
           272.49999874926846,
           272.49999852972803,
           272.49999830289335,
           272.49999806329794,
           272.4999978014178,
           272.4999974997778,
           272.4999971208641,
           272.49999654997157,
           272.4999940834392,
           272.4999925774831,
           272.49999161478513,
           272.49999102704754,
           272.49999071991726
          ],
          [
           272.5,
           272.5,
           272.5,
           272.49999999350604,
           272.4999999776167,
           272.4999999514203,
           272.499999915063,
           272.49999986919516,
           272.49999981463674,
           272.4999997521684,
           272.49999968239035,
           272.49999960560604,
           272.4999995216868,
           272.4999994298522,
           272.4999993282075,
           272.49999921250145,
           272.499999071077,
           272.49999877534754,
           272.49999841322364,
           272.4999980306588,
           272.49999765533335
          ],
          [
           272.5,
           272.5,
           272.5,
           272.5,
           272.49999999954827,
           272.499999998054,
           272.4999999949431,
           272.4999999897267,
           272.49999998202236,
           272.49999997154964,
           272.4999999581124,
           272.49999994157497,
           272.4999999218335,
           272.4999998987834,
           272.49999987227676,
           272.49999984205454,
           272.49999980760333,
           272.49999976768135,
           272.4999997122919,
           272.4999996389664,
           272.4999995487621
          ],
          [
           272.5,
           272.5,
           272.5,
           272.5,
           272.5,
           272.49999999996857,
           272.49999999983754,
           272.49999999950836,
           272.4999999988622,
           272.49999999777117,
           272.49999999610867,
           272.4999999937602,
           272.4999999906351,
           272.4999999866813,
           272.49999998190185,
           272.4999999763716,
           272.4999999702513,
           272.4999999637917,
           272.4999999573057,
           272.4999999505866,
           272.4999999435426
          ],
          [
           272.5,
           272.5,
           272.5,
           272.5,
           272.5,
           272.5,
           272.4999999999998,
           272.5000000000015,
           272.5000000000182,
           272.5000000000943,
           272.5000000003449,
           272.50000000102193,
           272.500000002601,
           272.500000005874,
           272.5000000120294,
           272.50000002270906,
           272.50000004004266,
           272.5000000666652,
           272.5000001057319,
           272.5000001609495,
           272.5000002366273
          ],
          [
           272.5,
           272.5,
           272.5,
           272.5,
           272.5,
           272.5000000000283,
           272.5000000001863,
           272.50000000073493,
           272.5000000022676,
           272.5000000060202,
           272.50000001431306,
           272.50000003098216,
           272.50000006161673,
           272.50000011354996,
           272.50000019567693,
           272.5000003182168,
           272.50000049253316,
           272.50000073112204,
           272.5000010479113,
           272.5000014591795,
           272.50000198612355
          ],
          [
           272.5,
           272.5,
           272.5,
           272.5,
           272.5000000004066,
           272.5000000023269,
           272.5000000082598,
           272.5000000235005,
           272.50000005846005,
           272.5000001311563,
           272.50000026789985,
           272.50000050131405,
           272.50000086717273,
           272.500001401801,
           272.50000214083434,
           272.5000031195222,
           272.5000043747389,
           272.5000059494247,
           272.5000079020704,
           272.5000103322303,
           272.5000135209477
          ],
          [
           272.5,
           272.5,
           272.5,
           272.5000000058446,
           272.50000002841716,
           272.50000008991134,
           272.500000235418,
           272.5000005488094,
           272.5000011596606,
           272.500002221981,
           272.50000387681564,
           272.5000062308638,
           272.50000935800983,
           272.5000133136563,
           272.50001815462946,
           272.5000239645678,
           272.50003089305284,
           272.50003923700933,
           272.50004968977754,
           272.50006504309346,
           272.5000789166998
          ],
          [
           272.5,
           272.5,
           272.50000008401594,
           272.50000033616993,
           272.50000094040666,
           272.5000022691538,
           272.500004967578,
           272.5000098551041,
           272.5000175317167,
           272.5000281010535,
           272.50004132517347,
           272.5000569131377,
           272.5000747112652,
           272.50009481450024,
           272.500117686288,
           272.50014440658583,
           272.50017735574113,
           272.50022278313696,
           272.5003121814006,
           272.500319187048,
           272.50027618629565
          ],
          [
           272.5,
           272.5000012077295,
           272.5000037927454,
           272.5000093523978,
           272.50002095313647,
           272.50004323824334,
           272.50007995792635,
           272.5001295127046,
           272.50018583798897,
           272.5002440768503,
           272.5003028505171,
           272.5003634434939,
           272.5004290485244,
           272.50050509729215,
           272.5006013222282,
           272.50073849271087,
           272.50097683724476,
           272.5016914293047,
           272.5006753792043,
           272.4999551951876,
           272.49952712289036
          ]
         ]
        }
       ],
       "frames": [],
       "layout": {
        "margin": {
         "b": 50,
         "l": 50,
         "r": 50,
         "t": 60
        },
        "template": {
         "data": {
          "bar": [
           {
            "error_x": {
             "color": "#2a3f5f"
            },
            "error_y": {
             "color": "#2a3f5f"
            },
            "marker": {
             "line": {
              "color": "#E5ECF6",
              "width": 0.5
             }
            },
            "type": "bar"
           }
          ],
          "barpolar": [
           {
            "marker": {
             "line": {
              "color": "#E5ECF6",
              "width": 0.5
             }
            },
            "type": "barpolar"
           }
          ],
          "carpet": [
           {
            "aaxis": {
             "endlinecolor": "#2a3f5f",
             "gridcolor": "white",
             "linecolor": "white",
             "minorgridcolor": "white",
             "startlinecolor": "#2a3f5f"
            },
            "baxis": {
             "endlinecolor": "#2a3f5f",
             "gridcolor": "white",
             "linecolor": "white",
             "minorgridcolor": "white",
             "startlinecolor": "#2a3f5f"
            },
            "type": "carpet"
           }
          ],
          "choropleth": [
           {
            "colorbar": {
             "outlinewidth": 0,
             "ticks": ""
            },
            "type": "choropleth"
           }
          ],
          "contour": [
           {
            "colorbar": {
             "outlinewidth": 0,
             "ticks": ""
            },
            "colorscale": [
             [
              0,
              "#0d0887"
             ],
             [
              0.1111111111111111,
              "#46039f"
             ],
             [
              0.2222222222222222,
              "#7201a8"
             ],
             [
              0.3333333333333333,
              "#9c179e"
             ],
             [
              0.4444444444444444,
              "#bd3786"
             ],
             [
              0.5555555555555556,
              "#d8576b"
             ],
             [
              0.6666666666666666,
              "#ed7953"
             ],
             [
              0.7777777777777778,
              "#fb9f3a"
             ],
             [
              0.8888888888888888,
              "#fdca26"
             ],
             [
              1,
              "#f0f921"
             ]
            ],
            "type": "contour"
           }
          ],
          "contourcarpet": [
           {
            "colorbar": {
             "outlinewidth": 0,
             "ticks": ""
            },
            "type": "contourcarpet"
           }
          ],
          "heatmap": [
           {
            "colorbar": {
             "outlinewidth": 0,
             "ticks": ""
            },
            "colorscale": [
             [
              0,
              "#0d0887"
             ],
             [
              0.1111111111111111,
              "#46039f"
             ],
             [
              0.2222222222222222,
              "#7201a8"
             ],
             [
              0.3333333333333333,
              "#9c179e"
             ],
             [
              0.4444444444444444,
              "#bd3786"
             ],
             [
              0.5555555555555556,
              "#d8576b"
             ],
             [
              0.6666666666666666,
              "#ed7953"
             ],
             [
              0.7777777777777778,
              "#fb9f3a"
             ],
             [
              0.8888888888888888,
              "#fdca26"
             ],
             [
              1,
              "#f0f921"
             ]
            ],
            "type": "heatmap"
           }
          ],
          "heatmapgl": [
           {
            "colorbar": {
             "outlinewidth": 0,
             "ticks": ""
            },
            "colorscale": [
             [
              0,
              "#0d0887"
             ],
             [
              0.1111111111111111,
              "#46039f"
             ],
             [
              0.2222222222222222,
              "#7201a8"
             ],
             [
              0.3333333333333333,
              "#9c179e"
             ],
             [
              0.4444444444444444,
              "#bd3786"
             ],
             [
              0.5555555555555556,
              "#d8576b"
             ],
             [
              0.6666666666666666,
              "#ed7953"
             ],
             [
              0.7777777777777778,
              "#fb9f3a"
             ],
             [
              0.8888888888888888,
              "#fdca26"
             ],
             [
              1,
              "#f0f921"
             ]
            ],
            "type": "heatmapgl"
           }
          ],
          "histogram": [
           {
            "marker": {
             "colorbar": {
              "outlinewidth": 0,
              "ticks": ""
             }
            },
            "type": "histogram"
           }
          ],
          "histogram2d": [
           {
            "colorbar": {
             "outlinewidth": 0,
             "ticks": ""
            },
            "colorscale": [
             [
              0,
              "#0d0887"
             ],
             [
              0.1111111111111111,
              "#46039f"
             ],
             [
              0.2222222222222222,
              "#7201a8"
             ],
             [
              0.3333333333333333,
              "#9c179e"
             ],
             [
              0.4444444444444444,
              "#bd3786"
             ],
             [
              0.5555555555555556,
              "#d8576b"
             ],
             [
              0.6666666666666666,
              "#ed7953"
             ],
             [
              0.7777777777777778,
              "#fb9f3a"
             ],
             [
              0.8888888888888888,
              "#fdca26"
             ],
             [
              1,
              "#f0f921"
             ]
            ],
            "type": "histogram2d"
           }
          ],
          "histogram2dcontour": [
           {
            "colorbar": {
             "outlinewidth": 0,
             "ticks": ""
            },
            "colorscale": [
             [
              0,
              "#0d0887"
             ],
             [
              0.1111111111111111,
              "#46039f"
             ],
             [
              0.2222222222222222,
              "#7201a8"
             ],
             [
              0.3333333333333333,
              "#9c179e"
             ],
             [
              0.4444444444444444,
              "#bd3786"
             ],
             [
              0.5555555555555556,
              "#d8576b"
             ],
             [
              0.6666666666666666,
              "#ed7953"
             ],
             [
              0.7777777777777778,
              "#fb9f3a"
             ],
             [
              0.8888888888888888,
              "#fdca26"
             ],
             [
              1,
              "#f0f921"
             ]
            ],
            "type": "histogram2dcontour"
           }
          ],
          "mesh3d": [
           {
            "colorbar": {
             "outlinewidth": 0,
             "ticks": ""
            },
            "type": "mesh3d"
           }
          ],
          "parcoords": [
           {
            "line": {
             "colorbar": {
              "outlinewidth": 0,
              "ticks": ""
             }
            },
            "type": "parcoords"
           }
          ],
          "pie": [
           {
            "automargin": true,
            "type": "pie"
           }
          ],
          "scatter": [
           {
            "marker": {
             "colorbar": {
              "outlinewidth": 0,
              "ticks": ""
             }
            },
            "type": "scatter"
           }
          ],
          "scatter3d": [
           {
            "line": {
             "colorbar": {
              "outlinewidth": 0,
              "ticks": ""
             }
            },
            "marker": {
             "colorbar": {
              "outlinewidth": 0,
              "ticks": ""
             }
            },
            "type": "scatter3d"
           }
          ],
          "scattercarpet": [
           {
            "marker": {
             "colorbar": {
              "outlinewidth": 0,
              "ticks": ""
             }
            },
            "type": "scattercarpet"
           }
          ],
          "scattergeo": [
           {
            "marker": {
             "colorbar": {
              "outlinewidth": 0,
              "ticks": ""
             }
            },
            "type": "scattergeo"
           }
          ],
          "scattergl": [
           {
            "marker": {
             "colorbar": {
              "outlinewidth": 0,
              "ticks": ""
             }
            },
            "type": "scattergl"
           }
          ],
          "scattermapbox": [
           {
            "marker": {
             "colorbar": {
              "outlinewidth": 0,
              "ticks": ""
             }
            },
            "type": "scattermapbox"
           }
          ],
          "scatterpolar": [
           {
            "marker": {
             "colorbar": {
              "outlinewidth": 0,
              "ticks": ""
             }
            },
            "type": "scatterpolar"
           }
          ],
          "scatterpolargl": [
           {
            "marker": {
             "colorbar": {
              "outlinewidth": 0,
              "ticks": ""
             }
            },
            "type": "scatterpolargl"
           }
          ],
          "scatterternary": [
           {
            "marker": {
             "colorbar": {
              "outlinewidth": 0,
              "ticks": ""
             }
            },
            "type": "scatterternary"
           }
          ],
          "surface": [
           {
            "colorbar": {
             "outlinewidth": 0,
             "ticks": ""
            },
            "colorscale": [
             [
              0,
              "#0d0887"
             ],
             [
              0.1111111111111111,
              "#46039f"
             ],
             [
              0.2222222222222222,
              "#7201a8"
             ],
             [
              0.3333333333333333,
              "#9c179e"
             ],
             [
              0.4444444444444444,
              "#bd3786"
             ],
             [
              0.5555555555555556,
              "#d8576b"
             ],
             [
              0.6666666666666666,
              "#ed7953"
             ],
             [
              0.7777777777777778,
              "#fb9f3a"
             ],
             [
              0.8888888888888888,
              "#fdca26"
             ],
             [
              1,
              "#f0f921"
             ]
            ],
            "type": "surface"
           }
          ],
          "table": [
           {
            "cells": {
             "fill": {
              "color": "#EBF0F8"
             },
             "line": {
              "color": "white"
             }
            },
            "header": {
             "fill": {
              "color": "#C8D4E3"
             },
             "line": {
              "color": "white"
             }
            },
            "type": "table"
           }
          ]
         },
         "layout": {
          "annotationdefaults": {
           "arrowcolor": "#2a3f5f",
           "arrowhead": 0,
           "arrowwidth": 1
          },
          "autotypenumbers": "strict",
          "coloraxis": {
           "colorbar": {
            "outlinewidth": 0,
            "ticks": ""
           }
          },
          "colorscale": {
           "diverging": [
            [
             0,
             "#8e0152"
            ],
            [
             0.1,
             "#c51b7d"
            ],
            [
             0.2,
             "#de77ae"
            ],
            [
             0.3,
             "#f1b6da"
            ],
            [
             0.4,
             "#fde0ef"
            ],
            [
             0.5,
             "#f7f7f7"
            ],
            [
             0.6,
             "#e6f5d0"
            ],
            [
             0.7,
             "#b8e186"
            ],
            [
             0.8,
             "#7fbc41"
            ],
            [
             0.9,
             "#4d9221"
            ],
            [
             1,
             "#276419"
            ]
           ],
           "sequential": [
            [
             0,
             "#0d0887"
            ],
            [
             0.1111111111111111,
             "#46039f"
            ],
            [
             0.2222222222222222,
             "#7201a8"
            ],
            [
             0.3333333333333333,
             "#9c179e"
            ],
            [
             0.4444444444444444,
             "#bd3786"
            ],
            [
             0.5555555555555556,
             "#d8576b"
            ],
            [
             0.6666666666666666,
             "#ed7953"
            ],
            [
             0.7777777777777778,
             "#fb9f3a"
            ],
            [
             0.8888888888888888,
             "#fdca26"
            ],
            [
             1,
             "#f0f921"
            ]
           ],
           "sequentialminus": [
            [
             0,
             "#0d0887"
            ],
            [
             0.1111111111111111,
             "#46039f"
            ],
            [
             0.2222222222222222,
             "#7201a8"
            ],
            [
             0.3333333333333333,
             "#9c179e"
            ],
            [
             0.4444444444444444,
             "#bd3786"
            ],
            [
             0.5555555555555556,
             "#d8576b"
            ],
            [
             0.6666666666666666,
             "#ed7953"
            ],
            [
             0.7777777777777778,
             "#fb9f3a"
            ],
            [
             0.8888888888888888,
             "#fdca26"
            ],
            [
             1,
             "#f0f921"
            ]
           ]
          },
          "colorway": [
           "#636efa",
           "#EF553B",
           "#00cc96",
           "#ab63fa",
           "#FFA15A",
           "#19d3f3",
           "#FF6692",
           "#B6E880",
           "#FF97FF",
           "#FECB52"
          ],
          "font": {
           "color": "#2a3f5f"
          },
          "geo": {
           "bgcolor": "white",
           "lakecolor": "white",
           "landcolor": "#E5ECF6",
           "showlakes": true,
           "showland": true,
           "subunitcolor": "white"
          },
          "hoverlabel": {
           "align": "left"
          },
          "hovermode": "closest",
          "mapbox": {
           "style": "light"
          },
          "paper_bgcolor": "white",
          "plot_bgcolor": "#E5ECF6",
          "polar": {
           "angularaxis": {
            "gridcolor": "white",
            "linecolor": "white",
            "ticks": ""
           },
           "bgcolor": "#E5ECF6",
           "radialaxis": {
            "gridcolor": "white",
            "linecolor": "white",
            "ticks": ""
           }
          },
          "scene": {
           "xaxis": {
            "backgroundcolor": "#E5ECF6",
            "gridcolor": "white",
            "gridwidth": 2,
            "linecolor": "white",
            "showbackground": true,
            "ticks": "",
            "zerolinecolor": "white"
           },
           "yaxis": {
            "backgroundcolor": "#E5ECF6",
            "gridcolor": "white",
            "gridwidth": 2,
            "linecolor": "white",
            "showbackground": true,
            "ticks": "",
            "zerolinecolor": "white"
           },
           "zaxis": {
            "backgroundcolor": "#E5ECF6",
            "gridcolor": "white",
            "gridwidth": 2,
            "linecolor": "white",
            "showbackground": true,
            "ticks": "",
            "zerolinecolor": "white"
           }
          },
          "shapedefaults": {
           "line": {
            "color": "#2a3f5f"
           }
          },
          "ternary": {
           "aaxis": {
            "gridcolor": "white",
            "linecolor": "white",
            "ticks": ""
           },
           "baxis": {
            "gridcolor": "white",
            "linecolor": "white",
            "ticks": ""
           },
           "bgcolor": "#E5ECF6",
           "caxis": {
            "gridcolor": "white",
            "linecolor": "white",
            "ticks": ""
           }
          },
          "title": {
           "x": 0.05
          },
          "xaxis": {
           "automargin": true,
           "gridcolor": "white",
           "linecolor": "white",
           "ticks": "",
           "title": {
            "standoff": 15
           },
           "zerolinecolor": "white",
           "zerolinewidth": 2
          },
          "yaxis": {
           "automargin": true,
           "gridcolor": "white",
           "linecolor": "white",
           "ticks": "",
           "title": {
            "standoff": 15
           },
           "zerolinecolor": "white",
           "zerolinewidth": 2
          }
         }
        },
        "title": "2D Heat Conduction through fabric over time",
        "xaxis": {
         "title": {
          "text": "x [m]"
         }
        },
        "yaxis": {
         "title": {
          "text": "time [s]"
         }
        }
       }
      },
      "image/png": "[encoded data removed]",
      "image/svg+xml": "<svg class=\"main-svg\" xmlns=\"http://www.w3.org/2000/svg\" xmlns:xlink=\"http://www.w3.org/1999/xlink\" width=\"700\" height=\"500\" style=\"\" viewBox=\"0 0 700 500\"><rect x=\"0\" y=\"0\" width=\"700\" height=\"500\" style=\"fill: rgb(255, 255, 255); fill-opacity: 1;\"/><defs id=\"defs-4d6237\"><g class=\"clips\"><clipPath id=\"clip4d6237xyplot\" class=\"plotclip\"><rect width=\"496\" height=\"388\"/></clipPath><clipPath class=\"axesclip\" id=\"clip4d6237x\"><rect x=\"61\" y=\"0\" width=\"496\" height=\"500\"/></clipPath><clipPath class=\"axesclip\" id=\"clip4d6237y\"><rect x=\"0\" y=\"60\" width=\"700\" height=\"388\"/></clipPath><clipPath class=\"axesclip\" id=\"clip4d6237xy\"><rect x=\"61\" y=\"60\" width=\"496\" height=\"388\"/></clipPath><clipPath class=\"contourclip\" id=\"clipfd5175\"><path d=\"M0,0L496,0L496,388L0,388Z\"/></clipPath></g><g class=\"gradients\"/></defs><g class=\"bglayer\"><rect class=\"bg\" x=\"61\" y=\"60\" width=\"496\" height=\"388\" style=\"fill: rgb(229, 236, 246); fill-opacity: 1; stroke-width: 0;\"/></g><g class=\"layer-below\"><g class=\"imagelayer\"/><g class=\"shapelayer\"/></g><g class=\"cartesianlayer\"><g class=\"subplot xy\"><g class=\"layer-subplot\"><g class=\"shapelayer\"/><g class=\"imagelayer\"/></g><g class=\"gridlayer\"><g class=\"x\"><path class=\"xgrid crisp\" transform=\"translate(160.2,0)\" d=\"M0,60v388\" style=\"stroke: rgb(255, 255, 255); stroke-opacity: 1; stroke-width: 1px;\"/><path class=\"xgrid crisp\" transform=\"translate(259.4,0)\" d=\"M0,60v388\" style=\"stroke: rgb(255, 255, 255); stroke-opacity: 1; stroke-width: 1px;\"/><path class=\"xgrid crisp\" transform=\"translate(358.6,0)\" d=\"M0,60v388\" style=\"stroke: rgb(255, 255, 255); stroke-opacity: 1; stroke-width: 1px;\"/><path class=\"xgrid crisp\" transform=\"translate(457.8,0)\" d=\"M0,60v388\" style=\"stroke: rgb(255, 255, 255); stroke-opacity: 1; stroke-width: 1px;\"/></g><g class=\"y\"><path class=\"ygrid crisp\" transform=\"translate(0,383.33)\" d=\"M61,0h496\" style=\"stroke: rgb(255, 255, 255); stroke-opacity: 1; stroke-width: 1px;\"/><path class=\"ygrid crisp\" transform=\"translate(0,318.67)\" d=\"M61,0h496\" style=\"stroke: rgb(255, 255, 255); stroke-opacity: 1; stroke-width: 1px;\"/><path class=\"ygrid crisp\" transform=\"translate(0,254)\" d=\"M61,0h496\" style=\"stroke: rgb(255, 255, 255); stroke-opacity: 1; stroke-width: 1px;\"/><path class=\"ygrid crisp\" transform=\"translate(0,189.33)\" d=\"M61,0h496\" style=\"stroke: rgb(255, 255, 255); stroke-opacity: 1; stroke-width: 1px;\"/><path class=\"ygrid crisp\" transform=\"translate(0,124.67)\" d=\"M61,0h496\" style=\"stroke: rgb(255, 255, 255); stroke-opacity: 1; stroke-width: 1px;\"/></g></g><g class=\"zerolinelayer\"><path class=\"xzl zl crisp\" transform=\"translate(61,0)\" d=\"M0,60v388\" style=\"stroke: rgb(255, 255, 255); stroke-opacity: 1; stroke-width: 2px;\"/><path class=\"yzl zl crisp\" transform=\"translate(0,448)\" d=\"M61,0h496\" style=\"stroke: rgb(255, 255, 255); stroke-opacity: 1; stroke-width: 2px;\"/></g><path class=\"xlines-below\"/><path class=\"ylines-below\"/><g class=\"overlines-below\"/><g class=\"xaxislayer-below\"/><g class=\"yaxislayer-below\"/><g class=\"overaxes-below\"/><g class=\"plot\" transform=\"translate(61,60)\" clip-path=\"url('#clip4d6237xyplot')\"><g class=\"contourlayer mlayer\"><g class=\"contour\" clip-path=\"url('#clipfd5175')\" style=\"opacity: 1;\"><g class=\"heatmapcoloring\"/><g class=\"contourbg\"><path d=\"M0,0L496,0L496,388L0,388Z\" style=\"stroke: none; fill: rgb(13, 8, 135);\"/></g><g class=\"contourfill\"><path d=\"M491.17,0L496,3.3L496,388L0,388L0,0Z\" style=\"stroke: none; fill: rgb(60, 4, 155);\"/><path d=\"M477.93,0L496,12.37L496,388L0,388L0,0Z\" style=\"stroke: none; fill: rgb(98, 2, 165);\"/><path d=\"M496,388Q462.93,375.07 446.4,368.6C429.87,362.13 413.33,355.67 396.8,349.2C380.27,342.73 363.73,336.27 347.2,329.8C330.67,323.33 314.13,316.87 297.6,310.4C281.07,303.93 254.34,300.3 248,291C244.05,285.2 248.06,276.97 248.03,270.305C248,264.07 247.98,258.34 247.85,252.2C247.72,245.84 247.53,239.26 247.22,232.8C246.91,226.33 246.53,219.86 245.99,213.4C245.45,206.93 244.79,200.46 243.96,194C243.13,187.52 242.14,181.05 241.02,174.6C239.9,168.12 238.58,161.66 237.22,155.2C235.85,148.72 234.32,142.26 232.82,135.8C231.32,129.33 229.72,122.87 228.2,116.4C226.68,109.94 225.13,103.47 223.69,97C222.25,90.54 220.85,84.07 219.54,77.6C218.24,71.14 217.01,64.67 215.86,58.2C214.72,51.74 213.64,45.27 212.67,38.8C211.7,32.34 210.84,25.87 210.05,19.4Q209.26,12.94 207.95,0L464.69,0Q484.12,16.78 489.89,19.4Q492.44,20.56 496,20.61Z\" style=\"stroke: none; fill: rgb(133, 11, 163);\"/><path d=\"M496,228.08Q489,218.76 485.88,213.4C482.45,207.5 479.23,200.54 476.49,194C473.81,187.6 471.65,181.1 469.55,174.6C467.47,168.17 465.68,161.68 463.94,155.2C462.21,148.75 460.64,142.28 459.12,135.8C457.61,129.34 456.19,122.87 454.84,116.4C453.5,109.94 452.21,103.47 451.04,97C449.87,90.54 448.63,82.96 447.8,77.6C447.21,73.82 447.55,71.04 446.4,67.93C445.15,64.55 442.85,61.93 440.24,58.2C436.42,52.76 427.97,45.68 425.2,38.8C422.73,32.66 422.81,25.84 423.14,19.4Q423.47,12.91 427.24,0L451.44,0Q456.54,15.03 462.64,19.4Q470.16,24.78 496,25.99Z\" style=\"stroke: none; fill: rgb(165, 32, 151);\"/><path d=\"M496,163.79Q493.52,158.65 491.93,155.2C489.56,150.04 486.06,142.29 483.29,135.8C480.54,129.35 477.95,122.88 475.35,116.4C472.76,109.94 470.26,103.47 467.74,97C465.22,90.54 462.76,84.06 460.21,77.6C457.65,71.13 452.66,64.72 452.39,58.2C452.12,51.78 453.39,43.3 458.39,38.8Q465.26,32.62 496,31.38Z\" style=\"stroke: none; fill: rgb(191, 58, 132);\"/><path d=\"M496,116.67Q488.34,103.52 484.44,97C480.55,90.5 476.79,84 472.62,77.6C468.37,71.07 458.13,64.21 459.14,58.2C460.33,51.1 478.63,41.9 485.71,38.8Q489.71,37.05 496,36.77Z\" style=\"stroke: none; fill: rgb(214, 84, 109);\"/><path d=\"M496,91.99Q489.38,82.61 485.03,77.6C479.69,71.45 465.08,63.99 465.89,58.2Q466.8,51.67 496,41.18Z\" style=\"stroke: none; fill: rgb(231, 112, 90);\"/><path d=\"M496,76.97Q472.21,63.63 472.65,58.2Q473.07,53.06 496,45Z\" style=\"stroke: none; fill: rgb(245, 142, 69);\"/><path d=\"M496,71.54Q479.09,62.06 479.4,58.2Q479.7,54.55 496,48.82Z\" style=\"stroke: none; fill: rgb(252, 175, 51);\"/><path d=\"M496,66.11Q485.97,60.49 486.16,58.2Q486.34,56.03 496,52.64Z\" style=\"stroke: none; fill: rgb(251, 211, 37);\"/><path d=\"M496,60.68Q492.85,58.92 492.91,58.2Q492.96,57.52 496,56.45Z\" style=\"stroke: none; fill: rgb(240, 249, 33);\"/></g><g class=\"contourlines\"><g class=\"contourlevel\"><path class=\"openline\" d=\"M491.17,0L496,3.3\" style=\"stroke-miterlimit: 1; vector-effect: non-scaling-stroke; fill: none; stroke: rgb(0, 0, 0); stroke-opacity: 1; stroke-width: 0.5px;\"/></g><g class=\"contourlevel\"><path class=\"openline\" d=\"M477.93,0L496,12.37\" style=\"stroke-miterlimit: 1; vector-effect: non-scaling-stroke; fill: none; stroke: rgb(0, 0, 0); stroke-opacity: 1; stroke-width: 0.5px;\"/></g><g class=\"contourlevel\"><path class=\"openline\" d=\"M496,388Q462.93,375.07 446.4,368.6C429.87,362.13 413.33,355.67 396.8,349.2C380.27,342.73 363.73,336.27 347.2,329.8C330.67,323.33 314.13,316.87 297.6,310.4C281.07,303.93 254.34,300.3 248,291C244.05,285.2 248.06,276.97 248.03,270.305C248,264.07 247.98,258.34 247.85,252.2C247.72,245.84 247.53,239.26 247.22,232.8C246.91,226.33 246.53,219.86 245.99,213.4C245.45,206.93 244.79,200.46 243.96,194C243.13,187.52 242.14,181.05 241.02,174.6C239.9,168.12 238.58,161.66 237.22,155.2C235.85,148.72 234.32,142.26 232.82,135.8C231.32,129.33 229.72,122.87 228.2,116.4C226.68,109.94 225.13,103.47 223.69,97C222.25,90.54 220.85,84.07 219.54,77.6C218.24,71.14 217.01,64.67 215.86,58.2C214.72,51.74 213.64,45.27 212.67,38.8C211.7,32.34 210.84,25.87 210.05,19.4Q209.26,12.94 207.95,0\" style=\"stroke-miterlimit: 1; vector-effect: non-scaling-stroke; fill: none; stroke: rgb(0, 0, 0); stroke-opacity: 1; stroke-width: 0.5px;\"/><path class=\"openline\" d=\"M464.69,0Q484.12,16.78 489.89,19.4Q492.44,20.56 496,20.61\" style=\"stroke-miterlimit: 1; vector-effect: non-scaling-stroke; fill: none; stroke: rgb(0, 0, 0); stroke-opacity: 1; stroke-width: 0.5px;\"/></g><g class=\"contourlevel\"><path class=\"openline\" d=\"M496,228.08Q489,218.76 485.88,213.4C482.45,207.5 479.23,200.54 476.49,194C473.81,187.6 471.65,181.1 469.55,174.6C467.47,168.17 465.68,161.68 463.94,155.2C462.21,148.75 460.64,142.28 459.12,135.8C457.61,129.34 456.19,122.87 454.84,116.4C453.5,109.94 452.21,103.47 451.04,97C449.87,90.54 448.63,82.96 447.8,77.6C447.21,73.82 447.55,71.04 446.4,67.93C445.15,64.55 442.85,61.93 440.24,58.2C436.42,52.76 427.97,45.68 425.2,38.8C422.73,32.66 422.81,25.84 423.14,19.4Q423.47,12.91 427.24,0\" style=\"stroke-miterlimit: 1; vector-effect: non-scaling-stroke; fill: none; stroke: rgb(0, 0, 0); stroke-opacity: 1; stroke-width: 0.5px;\"/><path class=\"openline\" d=\"M451.44,0Q456.54,15.03 462.64,19.4Q470.16,24.78 496,25.99\" style=\"stroke-miterlimit: 1; vector-effect: non-scaling-stroke; fill: none; stroke: rgb(0, 0, 0); stroke-opacity: 1; stroke-width: 0.5px;\"/></g><g class=\"contourlevel\"><path class=\"openline\" d=\"M496,163.79Q493.52,158.65 491.93,155.2C489.56,150.04 486.06,142.29 483.29,135.8C480.54,129.35 477.95,122.88 475.35,116.4C472.76,109.94 470.26,103.47 467.74,97C465.22,90.54 462.76,84.06 460.21,77.6C457.65,71.13 452.66,64.72 452.39,58.2C452.12,51.78 453.39,43.3 458.39,38.8Q465.26,32.62 496,31.38\" style=\"stroke-miterlimit: 1; vector-effect: non-scaling-stroke; fill: none; stroke: rgb(0, 0, 0); stroke-opacity: 1; stroke-width: 0.5px;\"/></g><g class=\"contourlevel\"><path class=\"openline\" d=\"M496,116.67Q488.34,103.52 484.44,97C480.55,90.5 476.79,84 472.62,77.6C468.37,71.07 458.13,64.21 459.14,58.2C460.33,51.1 478.63,41.9 485.71,38.8Q489.71,37.05 496,36.77\" style=\"stroke-miterlimit: 1; vector-effect: non-scaling-stroke; fill: none; stroke: rgb(0, 0, 0); stroke-opacity: 1; stroke-width: 0.5px;\"/></g><g class=\"contourlevel\"><path class=\"openline\" d=\"M496,91.99Q489.38,82.61 485.03,77.6C479.69,71.45 465.08,63.99 465.89,58.2Q466.8,51.67 496,41.18\" style=\"stroke-miterlimit: 1; vector-effect: non-scaling-stroke; fill: none; stroke: rgb(0, 0, 0); stroke-opacity: 1; stroke-width: 0.5px;\"/></g><g class=\"contourlevel\"><path class=\"openline\" d=\"M496,76.97Q472.21,63.63 472.65,58.2Q473.07,53.06 496,45\" style=\"stroke-miterlimit: 1; vector-effect: non-scaling-stroke; fill: none; stroke: rgb(0, 0, 0); stroke-opacity: 1; stroke-width: 0.5px;\"/></g><g class=\"contourlevel\"><path class=\"openline\" d=\"M496,71.54Q479.09,62.06 479.4,58.2Q479.7,54.55 496,48.82\" style=\"stroke-miterlimit: 1; vector-effect: non-scaling-stroke; fill: none; stroke: rgb(0, 0, 0); stroke-opacity: 1; stroke-width: 0.5px;\"/></g><g class=\"contourlevel\"><path class=\"openline\" d=\"M496,66.11Q485.97,60.49 486.16,58.2Q486.34,56.03 496,52.64\" style=\"stroke-miterlimit: 1; vector-effect: non-scaling-stroke; fill: none; stroke: rgb(0, 0, 0); stroke-opacity: 1; stroke-width: 0.5px;\"/></g><g class=\"contourlevel\"><path class=\"openline\" d=\"M496,60.68Q492.85,58.92 492.91,58.2Q492.96,57.52 496,56.45\" style=\"stroke-miterlimit: 1; vector-effect: non-scaling-stroke; fill: none; stroke: rgb(0, 0, 0); stroke-opacity: 1; stroke-width: 0.5px;\"/></g></g></g></g></g><g class=\"overplot\"/><path class=\"xlines-above crisp\" d=\"M0,0\" style=\"fill: none;\"/><path class=\"ylines-above crisp\" d=\"M0,0\" style=\"fill: none;\"/><g class=\"overlines-above\"/><g class=\"xaxislayer-above\"><g class=\"xtick\"><text text-anchor=\"middle\" x=\"0\" y=\"461\" transform=\"translate(61,0)\" style=\"font-family: 'Open Sans', verdana, arial, sans-serif; font-size: 12px; fill: rgb(42, 63, 95); fill-opacity: 1; white-space: pre;\">0</text></g><g class=\"xtick\"><text text-anchor=\"middle\" x=\"0\" y=\"461\" transform=\"translate(160.2,0)\" style=\"font-family: 'Open Sans', verdana, arial, sans-serif; font-size: 12px; fill: rgb(42, 63, 95); fill-opacity: 1; white-space: pre;\">0.02</text></g><g class=\"xtick\"><text text-anchor=\"middle\" x=\"0\" y=\"461\" transform=\"translate(259.4,0)\" style=\"font-family: 'Open Sans', verdana, arial, sans-serif; font-size: 12px; fill: rgb(42, 63, 95); fill-opacity: 1; white-space: pre;\">0.04</text></g><g class=\"xtick\"><text text-anchor=\"middle\" x=\"0\" y=\"461\" transform=\"translate(358.6,0)\" style=\"font-family: 'Open Sans', verdana, arial, sans-serif; font-size: 12px; fill: rgb(42, 63, 95); fill-opacity: 1; white-space: pre;\">0.06</text></g><g class=\"xtick\"><text text-anchor=\"middle\" x=\"0\" y=\"461\" transform=\"translate(457.8,0)\" style=\"font-family: 'Open Sans', verdana, arial, sans-serif; font-size: 12px; fill: rgb(42, 63, 95); fill-opacity: 1; white-space: pre;\">0.08</text></g><g class=\"xtick\"><text text-anchor=\"middle\" x=\"0\" y=\"461\" transform=\"translate(557,0)\" style=\"font-family: 'Open Sans', verdana, arial, sans-serif; font-size: 12px; fill: rgb(42, 63, 95); fill-opacity: 1; white-space: pre;\">0.1</text></g></g><g class=\"yaxislayer-above\"><g class=\"ytick\"><text text-anchor=\"end\" x=\"60\" y=\"4.199999999999999\" transform=\"translate(0,448)\" style=\"font-family: 'Open Sans', verdana, arial, sans-serif; font-size: 12px; fill: rgb(42, 63, 95); fill-opacity: 1; white-space: pre;\">0</text></g><g class=\"ytick\"><text text-anchor=\"end\" x=\"60\" y=\"4.199999999999999\" transform=\"translate(0,383.33)\" style=\"font-family: 'Open Sans', verdana, arial, sans-serif; font-size: 12px; fill: rgb(42, 63, 95); fill-opacity: 1; white-space: pre;\">50</text></g><g class=\"ytick\"><text text-anchor=\"end\" x=\"60\" y=\"4.199999999999999\" transform=\"translate(0,318.67)\" style=\"font-family: 'Open Sans', verdana, arial, sans-serif; font-size: 12px; fill: rgb(42, 63, 95); fill-opacity: 1; white-space: pre;\">100</text></g><g class=\"ytick\"><text text-anchor=\"end\" x=\"60\" y=\"4.199999999999999\" transform=\"translate(0,254)\" style=\"font-family: 'Open Sans', verdana, arial, sans-serif; font-size: 12px; fill: rgb(42, 63, 95); fill-opacity: 1; white-space: pre;\">150</text></g><g class=\"ytick\"><text text-anchor=\"end\" x=\"60\" y=\"4.199999999999999\" transform=\"translate(0,189.33)\" style=\"font-family: 'Open Sans', verdana, arial, sans-serif; font-size: 12px; fill: rgb(42, 63, 95); fill-opacity: 1; white-space: pre;\">200</text></g><g class=\"ytick\"><text text-anchor=\"end\" x=\"60\" y=\"4.199999999999999\" transform=\"translate(0,124.67)\" style=\"font-family: 'Open Sans', verdana, arial, sans-serif; font-size: 12px; fill: rgb(42, 63, 95); fill-opacity: 1; white-space: pre;\">250</text></g><g class=\"ytick\"><text text-anchor=\"end\" x=\"60\" y=\"4.199999999999999\" transform=\"translate(0,60)\" style=\"font-family: 'Open Sans', verdana, arial, sans-serif; font-size: 12px; fill: rgb(42, 63, 95); fill-opacity: 1; white-space: pre;\">300</text></g></g><g class=\"overaxes-above\"/></g></g><g class=\"polarlayer\"/><g class=\"ternarylayer\"/><g class=\"geolayer\"/><g class=\"funnelarealayer\"/><g class=\"pielayer\"/><g class=\"treemaplayer\"/><g class=\"sunburstlayer\"/><g class=\"glimages\"/><defs id=\"topdefs-4d6237\"><g class=\"clips\"/></defs><g class=\"layer-above\"><g class=\"imagelayer\"/><g class=\"shapelayer\"/></g><g class=\"infolayer\"><g class=\"cbfd5175 colorbar\" transform=\"translate(61,60)\"><rect class=\"cbbg\" x=\"506\" y=\"0\" width=\"121.125\" height=\"388\" style=\"fill: rgb(0, 0, 0); fill-opacity: 0; stroke: rgb(68, 68, 68); stroke-opacity: 1; stroke-width: 0;\"/><g class=\"cbfills\" transform=\"translate(0,30)\"><rect class=\"cbfill\" x=\"516\" width=\"30\" y=\"1\" height=\"348\" fill=\"#0d0887\" style=\"\"/><rect class=\"cbfill\" x=\"516\" width=\"30\" y=\"1\" height=\"332\" fill=\"#3c049b\" style=\"\"/><rect class=\"cbfill\" x=\"516\" width=\"30\" y=\"1\" height=\"300\" fill=\"#6202a5\" style=\"\"/><rect class=\"cbfill\" x=\"516\" width=\"30\" y=\"1\" height=\"268\" fill=\"#850ba3\" style=\"\"/><rect class=\"cbfill\" x=\"516\" width=\"30\" y=\"1\" height=\"237\" fill=\"#a52097\" style=\"\"/><rect class=\"cbfill\" x=\"516\" width=\"30\" y=\"1\" height=\"205\" fill=\"#bf3a84\" style=\"\"/><rect class=\"cbfill\" x=\"516\" width=\"30\" y=\"1\" height=\"173\" fill=\"#d6546d\" style=\"\"/><rect class=\"cbfill\" x=\"516\" width=\"30\" y=\"1\" height=\"142\" fill=\"#e7705a\" style=\"\"/><rect class=\"cbfill\" x=\"516\" width=\"30\" y=\"1\" height=\"110\" fill=\"#f58e45\" style=\"\"/><rect class=\"cbfill\" x=\"516\" width=\"30\" y=\"1\" height=\"78\" fill=\"#fcaf33\" style=\"\"/><rect class=\"cbfill\" x=\"516\" width=\"30\" y=\"1\" height=\"47\" fill=\"#fbd325\" style=\"\"/><rect class=\"cbfill\" x=\"516\" width=\"30\" y=\"0\" height=\"16\" fill=\"#f0f921\" style=\"\"/></g><g class=\"cblines\" transform=\"translate(0,30)\"><path class=\"cbline\" d=\"M516,333.25h30\" style=\"fill: none; stroke: rgb(0, 0, 0); stroke-opacity: 1; stroke-width: 0.5px;\"/><path class=\"cbline\" d=\"M516,301.25h30\" style=\"fill: none; stroke: rgb(0, 0, 0); stroke-opacity: 1; stroke-width: 0.5px;\"/><path class=\"cbline\" d=\"M516,269.25h30\" style=\"fill: none; stroke: rgb(0, 0, 0); stroke-opacity: 1; stroke-width: 0.5px;\"/><path class=\"cbline\" d=\"M516,238.25h30\" style=\"fill: none; stroke: rgb(0, 0, 0); stroke-opacity: 1; stroke-width: 0.5px;\"/><path class=\"cbline\" d=\"M516,206.25h30\" style=\"fill: none; stroke: rgb(0, 0, 0); stroke-opacity: 1; stroke-width: 0.5px;\"/><path class=\"cbline\" d=\"M516,174.25h30\" style=\"fill: none; stroke: rgb(0, 0, 0); stroke-opacity: 1; stroke-width: 0.5px;\"/><path class=\"cbline\" d=\"M516,143.25h30\" style=\"fill: none; stroke: rgb(0, 0, 0); stroke-opacity: 1; stroke-width: 0.5px;\"/><path class=\"cbline\" d=\"M516,111.25h30\" style=\"fill: none; stroke: rgb(0, 0, 0); stroke-opacity: 1; stroke-width: 0.5px;\"/><path class=\"cbline\" d=\"M516,79.25h30\" style=\"fill: none; stroke: rgb(0, 0, 0); stroke-opacity: 1; stroke-width: 0.5px;\"/><path class=\"cbline\" d=\"M516,48.25h30\" style=\"fill: none; stroke: rgb(0, 0, 0); stroke-opacity: 1; stroke-width: 0.5px;\"/><path class=\"cbline\" d=\"M516,16.25h30\" style=\"fill: none; stroke: rgb(0, 0, 0); stroke-opacity: 1; stroke-width: 0.5px;\"/></g><g class=\"cbaxis crisp\" transform=\"translate(0,-60)\"><g class=\"ycbfd5175tick\"><text text-anchor=\"start\" x=\"548.9\" y=\"4.199999999999999\" transform=\"translate(0,422.1600000000001)\" style=\"font-family: 'Open Sans', verdana, arial, sans-serif; font-size: 12px; fill: rgb(42, 63, 95); fill-opacity: 1; white-space: pre;\">272.4996</text></g><g class=\"ycbfd5175tick\"><text text-anchor=\"start\" x=\"548.9\" y=\"4.199999999999999\" transform=\"translate(0,358.80000000000007)\" style=\"font-family: 'Open Sans', verdana, arial, sans-serif; font-size: 12px; fill: rgb(42, 63, 95); fill-opacity: 1; white-space: pre;\">272.5</text></g><g class=\"ycbfd5175tick\"><text text-anchor=\"start\" x=\"548.9\" y=\"4.199999999999999\" transform=\"translate(0,295.43000000000006)\" style=\"font-family: 'Open Sans', verdana, arial, sans-serif; font-size: 12px; fill: rgb(42, 63, 95); fill-opacity: 1; white-space: pre;\">272.5004</text></g><g class=\"ycbfd5175tick\"><text text-anchor=\"start\" x=\"548.9\" y=\"4.199999999999999\" transform=\"translate(0,232.07000000000002)\" style=\"font-family: 'Open Sans', verdana, arial, sans-serif; font-size: 12px; fill: rgb(42, 63, 95); fill-opacity: 1; white-space: pre;\">272.5008</text></g><g class=\"ycbfd5175tick\"><text text-anchor=\"start\" x=\"548.9\" y=\"4.199999999999999\" transform=\"translate(0,168.70000000000005)\" style=\"font-family: 'Open Sans', verdana, arial, sans-serif; font-size: 12px; fill: rgb(42, 63, 95); fill-opacity: 1; white-space: pre;\">272.5012</text></g><g class=\"ycbfd5175tick\"><text text-anchor=\"start\" x=\"548.9\" y=\"4.199999999999999\" transform=\"translate(0,105.34000000000003)\" style=\"font-family: 'Open Sans', verdana, arial, sans-serif; font-size: 12px; fill: rgb(42, 63, 95); fill-opacity: 1; white-space: pre;\">272.5016</text></g></g><g class=\"cbtitleunshift\" transform=\"translate(-61,-60)\"><g class=\"cbtitle\" transform=\"\"><text class=\"ycbfd5175title\" x=\"576.9200000000001\" y=\"82\" text-anchor=\"start\" style=\"font-family: 'Open Sans', verdana, arial, sans-serif; font-size: 12px; fill: rgb(42, 63, 95); opacity: 1; font-weight: normal; white-space: pre;\">Temperature [K]</text></g></g><rect class=\"cboutline\" x=\"516\" y=\"29.5\" width=\"30\" height=\"348.5\" style=\"stroke: rgb(68, 68, 68); stroke-opacity: 1; fill: none; stroke-width: 0;\"/></g><g class=\"g-gtitle\"><text class=\"gtitle\" x=\"35\" y=\"30\" text-anchor=\"start\" dy=\"0em\" style=\"font-family: 'Open Sans', verdana, arial, sans-serif; font-size: 17px; fill: rgb(42, 63, 95); opacity: 1; font-weight: normal; white-space: pre;\">2D Heat Conduction through fabric over time</text></g><g class=\"g-xtitle\"><text class=\"xtitle\" x=\"309\" y=\"488.3\" text-anchor=\"middle\" style=\"font-family: 'Open Sans', verdana, arial, sans-serif; font-size: 14px; fill: rgb(42, 63, 95); opacity: 1; font-weight: normal; white-space: pre;\">x [m]</text></g><g class=\"g-ytitle\" transform=\"translate(1.6904296875,0)\"><text class=\"ytitle\" transform=\"rotate(-90,12.309375000000003,254)\" x=\"12.309375000000003\" y=\"254\" text-anchor=\"middle\" style=\"font-family: 'Open Sans', verdana, arial, sans-serif; font-size: 14px; fill: rgb(42, 63, 95); opacity: 1; font-weight: normal; white-space: pre;\">time [s]</text></g></g></svg>",
      "text/html": [
       "<div\n",
       "    class=\"webio-mountpoint\"\n",
       "    data-webio-mountpoint=\"6253048497931178687\"\n",
       ">\n",
       "    <script>\n",
       "    (function(){\n",
       "    // Some integrations (namely, IJulia/Jupyter) use an alternate render pathway than\n",
       "    // just putting the html on the page. If WebIO isn't defined, then it's pretty likely\n",
       "    // that we're in one of those situations and the integration just isn't installed\n",
       "    // correctly.\n",
       "    if (typeof window.WebIO === \"undefined\") {\n",
       "        document\n",
       "            .querySelector('[data-webio-mountpoint=\"6253048497931178687\"]')\n",
       "            .innerHTML = (\n",
       "                '<div style=\"padding: 1em; background-color: #f8d6da; border: 1px solid #f5c6cb; font-weight: bold;\">' +\n",
       "                '<p><strong>WebIO not detected.</strong></p>' +\n",
       "                '<p>Please read ' +\n",
       "                '<a href=\"https://juliagizmos.github.io/WebIO.jl/latest/troubleshooting/not-detected/\" target=\"_blank\">the troubleshooting guide</a> ' +\n",
       "                'for more information on how to resolve this issue.</p>' +\n",
       "                '<p><a href=\"https://juliagizmos.github.io/WebIO.jl/latest/troubleshooting/not-detected/\" target=\"_blank\">https://juliagizmos.github.io/WebIO.jl/latest/troubleshooting/not-detected/</a></p>' +\n",
       "                '</div>'\n",
       "            );\n",
       "        return;\n",
       "    }\n",
       "    WebIO.mount(\n",
       "        document.querySelector('[data-webio-mountpoint=\"6253048497931178687\"]'),\n",
       "        {\"props\":{},\"nodeType\":\"Scope\",\"type\":\"node\",\"instanceArgs\":{\"imports\":{\"data\":[{\"name\":\"Plotly\",\"type\":\"js\",\"url\":\"\\/assetserver\\/5b3939436337838b354347cfaa22b7bc3003989a-plotly.min.js\"},{\"name\":null,\"type\":\"js\",\"url\":\"\\/assetserver\\/7e2197e88325f41c44111d393955af302af7055d-plotly_webio.bundle.js\"}],\"type\":\"async_block\"},\"id\":\"3290061223744904891\",\"handlers\":{\"_toImage\":[\"(function (options){return this.Plotly.toImage(this.plotElem,options).then((function (data){return WebIO.setval({\\\"name\\\":\\\"image\\\",\\\"scope\\\":\\\"3290061223744904891\\\",\\\"id\\\":\\\"10242325809105451854\\\",\\\"type\\\":\\\"observable\\\"},data)}))})\"],\"__get_gd_contents\":[\"(function (prop){prop==\\\"data\\\" ? (WebIO.setval({\\\"name\\\":\\\"__gd_contents\\\",\\\"scope\\\":\\\"3290061223744904891\\\",\\\"id\\\":\\\"5526300374138771336\\\",\\\"type\\\":\\\"observable\\\"},this.plotElem.data)) : undefined; return prop==\\\"layout\\\" ? (WebIO.setval({\\\"name\\\":\\\"__gd_contents\\\",\\\"scope\\\":\\\"3290061223744904891\\\",\\\"id\\\":\\\"5526300374138771336\\\",\\\"type\\\":\\\"observable\\\"},this.plotElem.layout)) : undefined})\"],\"_downloadImage\":[\"(function (options){return this.Plotly.downloadImage(this.plotElem,options)})\"],\"_commands\":[\"(function (args){var fn=args.shift(); var elem=this.plotElem; var Plotly=this.Plotly; args.unshift(elem); return Plotly[fn].apply(this,args)})\"]},\"systemjs_options\":null,\"mount_callbacks\":[\"function () {\\n    var handler = ((function (Plotly,PlotlyWebIO){PlotlyWebIO.init(WebIO); var gd=this.dom.querySelector(\\\"#plot-160b049d-5e5a-418d-87fa-813327f6fb1a\\\"); this.plotElem=gd; this.Plotly=Plotly; (window.Blink!==undefined) ? (gd.style.width=\\\"100%\\\", gd.style.height=\\\"100vh\\\", gd.style.marginLeft=\\\"0%\\\", gd.style.marginTop=\\\"0vh\\\") : undefined; window.onresize=(function (){return Plotly.Plots.resize(gd)}); Plotly.newPlot(gd,[{\\\"colorbar\\\":{\\\"title\\\":\\\"Temperature [K]\\\"},\\\"y\\\":[0,15,30,45,60,75,90,105,120,135,150,165,180,195,210,225,240,255,270,285,300],\\\"type\\\":\\\"contour\\\",\\\"z\\\":[[272.5,272.49999865807837,272.4999976851367,272.4999969435131,272.49999634928304,272.499995847076,272.49999539705846,272.49999496725354,272.49999452800614,272.49999404653903,272.4999934792122,272.4999927564632,272.49999174507377,272.49999012281893,272.4999867069406,272.49995843103915,272.4999674476821,272.49997254083473,272.4999763676185,272.4999796084384,272.499982626693],[272.5,272.5,272.49999990664895,272.49999975860294,272.4999995791117,272.49999938215007,272.4999991758333,272.4999989643867,272.49999874926846,272.49999852972803,272.49999830289335,272.49999806329794,272.4999978014178,272.4999974997778,272.4999971208641,272.49999654997157,272.4999940834392,272.4999925774831,272.49999161478513,272.49999102704754,272.49999071991726],[272.5,272.5,272.5,272.49999999350604,272.4999999776167,272.4999999514203,272.499999915063,272.49999986919516,272.49999981463674,272.4999997521684,272.49999968239035,272.49999960560604,272.4999995216868,272.4999994298522,272.4999993282075,272.49999921250145,272.499999071077,272.49999877534754,272.49999841322364,272.4999980306588,272.49999765533335],[272.5,272.5,272.5,272.5,272.49999999954827,272.499999998054,272.4999999949431,272.4999999897267,272.49999998202236,272.49999997154964,272.4999999581124,272.49999994157497,272.4999999218335,272.4999998987834,272.49999987227676,272.49999984205454,272.49999980760333,272.49999976768135,272.4999997122919,272.4999996389664,272.4999995487621],[272.5,272.5,272.5,272.5,272.5,272.49999999996857,272.49999999983754,272.49999999950836,272.4999999988622,272.49999999777117,272.49999999610867,272.4999999937602,272.4999999906351,272.4999999866813,272.49999998190185,272.4999999763716,272.4999999702513,272.4999999637917,272.4999999573057,272.4999999505866,272.4999999435426],[272.5,272.5,272.5,272.5,272.5,272.5,272.4999999999998,272.5000000000015,272.5000000000182,272.5000000000943,272.5000000003449,272.50000000102193,272.500000002601,272.500000005874,272.5000000120294,272.50000002270906,272.50000004004266,272.5000000666652,272.5000001057319,272.5000001609495,272.5000002366273],[272.5,272.5,272.5,272.5,272.5,272.5000000000283,272.5000000001863,272.50000000073493,272.5000000022676,272.5000000060202,272.50000001431306,272.50000003098216,272.50000006161673,272.50000011354996,272.50000019567693,272.5000003182168,272.50000049253316,272.50000073112204,272.5000010479113,272.5000014591795,272.50000198612355],[272.5,272.5,272.5,272.5,272.5000000004066,272.5000000023269,272.5000000082598,272.5000000235005,272.50000005846005,272.5000001311563,272.50000026789985,272.50000050131405,272.50000086717273,272.500001401801,272.50000214083434,272.5000031195222,272.5000043747389,272.5000059494247,272.5000079020704,272.5000103322303,272.5000135209477],[272.5,272.5,272.5,272.5000000058446,272.50000002841716,272.50000008991134,272.500000235418,272.5000005488094,272.5000011596606,272.500002221981,272.50000387681564,272.5000062308638,272.50000935800983,272.5000133136563,272.50001815462946,272.5000239645678,272.50003089305284,272.50003923700933,272.50004968977754,272.50006504309346,272.5000789166998],[272.5,272.5,272.50000008401594,272.50000033616993,272.50000094040666,272.5000022691538,272.500004967578,272.5000098551041,272.5000175317167,272.5000281010535,272.50004132517347,272.5000569131377,272.5000747112652,272.50009481450024,272.500117686288,272.50014440658583,272.50017735574113,272.50022278313696,272.5003121814006,272.500319187048,272.50027618629565],[272.5,272.5000012077295,272.5000037927454,272.5000093523978,272.50002095313647,272.50004323824334,272.50007995792635,272.5001295127046,272.50018583798897,272.5002440768503,272.5003028505171,272.5003634434939,272.5004290485244,272.50050509729215,272.5006013222282,272.50073849271087,272.50097683724476,272.5016914293047,272.5006753792043,272.4999551951876,272.49952712289036]],\\\"transpose\\\":true,\\\"x\\\":[0.0,0.01,0.02,0.03,0.04,0.05,0.06,0.07,0.08,0.09,0.1]}],{\\\"xaxis\\\":{\\\"title\\\":{\\\"text\\\":\\\"x [m]\\\"}},\\\"template\\\":{\\\"layout\\\":{\\\"coloraxis\\\":{\\\"colorbar\\\":{\\\"ticks\\\":\\\"\\\",\\\"outlinewidth\\\":0}},\\\"xaxis\\\":{\\\"gridcolor\\\":\\\"white\\\",\\\"zerolinewidth\\\":2,\\\"title\\\":{\\\"standoff\\\":15},\\\"ticks\\\":\\\"\\\",\\\"zerolinecolor\\\":\\\"white\\\",\\\"automargin\\\":true,\\\"linecolor\\\":\\\"white\\\"},\\\"hovermode\\\":\\\"closest\\\",\\\"paper_bgcolor\\\":\\\"white\\\",\\\"geo\\\":{\\\"showlakes\\\":true,\\\"showland\\\":true,\\\"landcolor\\\":\\\"#E5ECF6\\\",\\\"bgcolor\\\":\\\"white\\\",\\\"subunitcolor\\\":\\\"white\\\",\\\"lakecolor\\\":\\\"white\\\"},\\\"colorscale\\\":{\\\"sequential\\\":[[0.0,\\\"#0d0887\\\"],[0.1111111111111111,\\\"#46039f\\\"],[0.2222222222222222,\\\"#7201a8\\\"],[0.3333333333333333,\\\"#9c179e\\\"],[0.4444444444444444,\\\"#bd3786\\\"],[0.5555555555555556,\\\"#d8576b\\\"],[0.6666666666666666,\\\"#ed7953\\\"],[0.7777777777777778,\\\"#fb9f3a\\\"],[0.8888888888888888,\\\"#fdca26\\\"],[1.0,\\\"#f0f921\\\"]],\\\"diverging\\\":[[0,\\\"#8e0152\\\"],[0.1,\\\"#c51b7d\\\"],[0.2,\\\"#de77ae\\\"],[0.3,\\\"#f1b6da\\\"],[0.4,\\\"#fde0ef\\\"],[0.5,\\\"#f7f7f7\\\"],[0.6,\\\"#e6f5d0\\\"],[0.7,\\\"#b8e186\\\"],[0.8,\\\"#7fbc41\\\"],[0.9,\\\"#4d9221\\\"],[1,\\\"#276419\\\"]],\\\"sequentialminus\\\":[[0.0,\\\"#0d0887\\\"],[0.1111111111111111,\\\"#46039f\\\"],[0.2222222222222222,\\\"#7201a8\\\"],[0.3333333333333333,\\\"#9c179e\\\"],[0.4444444444444444,\\\"#bd3786\\\"],[0.5555555555555556,\\\"#d8576b\\\"],[0.6666666666666666,\\\"#ed7953\\\"],[0.7777777777777778,\\\"#fb9f3a\\\"],[0.8888888888888888,\\\"#fdca26\\\"],[1.0,\\\"#f0f921\\\"]]},\\\"yaxis\\\":{\\\"gridcolor\\\":\\\"white\\\",\\\"zerolinewidth\\\":2,\\\"title\\\":{\\\"standoff\\\":15},\\\"ticks\\\":\\\"\\\",\\\"zerolinecolor\\\":\\\"white\\\",\\\"automargin\\\":true,\\\"linecolor\\\":\\\"white\\\"},\\\"shapedefaults\\\":{\\\"line\\\":{\\\"color\\\":\\\"#2a3f5f\\\"}},\\\"hoverlabel\\\":{\\\"align\\\":\\\"left\\\"},\\\"mapbox\\\":{\\\"style\\\":\\\"light\\\"},\\\"polar\\\":{\\\"angularaxis\\\":{\\\"gridcolor\\\":\\\"white\\\",\\\"ticks\\\":\\\"\\\",\\\"linecolor\\\":\\\"white\\\"},\\\"bgcolor\\\":\\\"#E5ECF6\\\",\\\"radialaxis\\\":{\\\"gridcolor\\\":\\\"white\\\",\\\"ticks\\\":\\\"\\\",\\\"linecolor\\\":\\\"white\\\"}},\\\"autotypenumbers\\\":\\\"strict\\\",\\\"font\\\":{\\\"color\\\":\\\"#2a3f5f\\\"},\\\"ternary\\\":{\\\"baxis\\\":{\\\"gridcolor\\\":\\\"white\\\",\\\"ticks\\\":\\\"\\\",\\\"linecolor\\\":\\\"white\\\"},\\\"bgcolor\\\":\\\"#E5ECF6\\\",\\\"caxis\\\":{\\\"gridcolor\\\":\\\"white\\\",\\\"ticks\\\":\\\"\\\",\\\"linecolor\\\":\\\"white\\\"},\\\"aaxis\\\":{\\\"gridcolor\\\":\\\"white\\\",\\\"ticks\\\":\\\"\\\",\\\"linecolor\\\":\\\"white\\\"}},\\\"annotationdefaults\\\":{\\\"arrowhead\\\":0,\\\"arrowwidth\\\":1,\\\"arrowcolor\\\":\\\"#2a3f5f\\\"},\\\"plot_bgcolor\\\":\\\"#E5ECF6\\\",\\\"title\\\":{\\\"x\\\":0.05},\\\"scene\\\":{\\\"xaxis\\\":{\\\"gridcolor\\\":\\\"white\\\",\\\"gridwidth\\\":2,\\\"backgroundcolor\\\":\\\"#E5ECF6\\\",\\\"ticks\\\":\\\"\\\",\\\"showbackground\\\":true,\\\"zerolinecolor\\\":\\\"white\\\",\\\"linecolor\\\":\\\"white\\\"},\\\"zaxis\\\":{\\\"gridcolor\\\":\\\"white\\\",\\\"gridwidth\\\":2,\\\"backgroundcolor\\\":\\\"#E5ECF6\\\",\\\"ticks\\\":\\\"\\\",\\\"showbackground\\\":true,\\\"zerolinecolor\\\":\\\"white\\\",\\\"linecolor\\\":\\\"white\\\"},\\\"yaxis\\\":{\\\"gridcolor\\\":\\\"white\\\",\\\"gridwidth\\\":2,\\\"backgroundcolor\\\":\\\"#E5ECF6\\\",\\\"ticks\\\":\\\"\\\",\\\"showbackground\\\":true,\\\"zerolinecolor\\\":\\\"white\\\",\\\"linecolor\\\":\\\"white\\\"}},\\\"colorway\\\":[\\\"#636efa\\\",\\\"#EF553B\\\",\\\"#00cc96\\\",\\\"#ab63fa\\\",\\\"#FFA15A\\\",\\\"#19d3f3\\\",\\\"#FF6692\\\",\\\"#B6E880\\\",\\\"#FF97FF\\\",\\\"#FECB52\\\"]},\\\"data\\\":{\\\"barpolar\\\":[{\\\"type\\\":\\\"barpolar\\\",\\\"marker\\\":{\\\"line\\\":{\\\"color\\\":\\\"#E5ECF6\\\",\\\"width\\\":0.5}}}],\\\"carpet\\\":[{\\\"aaxis\\\":{\\\"gridcolor\\\":\\\"white\\\",\\\"endlinecolor\\\":\\\"#2a3f5f\\\",\\\"minorgridcolor\\\":\\\"white\\\",\\\"startlinecolor\\\":\\\"#2a3f5f\\\",\\\"linecolor\\\":\\\"white\\\"},\\\"type\\\":\\\"carpet\\\",\\\"baxis\\\":{\\\"gridcolor\\\":\\\"white\\\",\\\"endlinecolor\\\":\\\"#2a3f5f\\\",\\\"minorgridcolor\\\":\\\"white\\\",\\\"startlinecolor\\\":\\\"#2a3f5f\\\",\\\"linecolor\\\":\\\"white\\\"}}],\\\"scatterpolar\\\":[{\\\"type\\\":\\\"scatterpolar\\\",\\\"marker\\\":{\\\"colorbar\\\":{\\\"ticks\\\":\\\"\\\",\\\"outlinewidth\\\":0}}}],\\\"parcoords\\\":[{\\\"line\\\":{\\\"colorbar\\\":{\\\"ticks\\\":\\\"\\\",\\\"outlinewidth\\\":0}},\\\"type\\\":\\\"parcoords\\\"}],\\\"scatter\\\":[{\\\"type\\\":\\\"scatter\\\",\\\"marker\\\":{\\\"colorbar\\\":{\\\"ticks\\\":\\\"\\\",\\\"outlinewidth\\\":0}}}],\\\"histogram2dcontour\\\":[{\\\"colorbar\\\":{\\\"ticks\\\":\\\"\\\",\\\"outlinewidth\\\":0},\\\"type\\\":\\\"histogram2dcontour\\\",\\\"colorscale\\\":[[0.0,\\\"#0d0887\\\"],[0.1111111111111111,\\\"#46039f\\\"],[0.2222222222222222,\\\"#7201a8\\\"],[0.3333333333333333,\\\"#9c179e\\\"],[0.4444444444444444,\\\"#bd3786\\\"],[0.5555555555555556,\\\"#d8576b\\\"],[0.6666666666666666,\\\"#ed7953\\\"],[0.7777777777777778,\\\"#fb9f3a\\\"],[0.8888888888888888,\\\"#fdca26\\\"],[1.0,\\\"#f0f921\\\"]]}],\\\"contour\\\":[{\\\"colorbar\\\":{\\\"ticks\\\":\\\"\\\",\\\"outlinewidth\\\":0},\\\"type\\\":\\\"contour\\\",\\\"colorscale\\\":[[0.0,\\\"#0d0887\\\"],[0.1111111111111111,\\\"#46039f\\\"],[0.2222222222222222,\\\"#7201a8\\\"],[0.3333333333333333,\\\"#9c179e\\\"],[0.4444444444444444,\\\"#bd3786\\\"],[0.5555555555555556,\\\"#d8576b\\\"],[0.6666666666666666,\\\"#ed7953\\\"],[0.7777777777777778,\\\"#fb9f3a\\\"],[0.8888888888888888,\\\"#fdca26\\\"],[1.0,\\\"#f0f921\\\"]]}],\\\"scattercarpet\\\":[{\\\"type\\\":\\\"scattercarpet\\\",\\\"marker\\\":{\\\"colorbar\\\":{\\\"ticks\\\":\\\"\\\",\\\"outlinewidth\\\":0}}}],\\\"mesh3d\\\":[{\\\"colorbar\\\":{\\\"ticks\\\":\\\"\\\",\\\"outlinewidth\\\":0},\\\"type\\\":\\\"mesh3d\\\"}],\\\"surface\\\":[{\\\"colorbar\\\":{\\\"ticks\\\":\\\"\\\",\\\"outlinewidth\\\":0},\\\"type\\\":\\\"surface\\\",\\\"colorscale\\\":[[0.0,\\\"#0d0887\\\"],[0.1111111111111111,\\\"#46039f\\\"],[0.2222222222222222,\\\"#7201a8\\\"],[0.3333333333333333,\\\"#9c179e\\\"],[0.4444444444444444,\\\"#bd3786\\\"],[0.5555555555555556,\\\"#d8576b\\\"],[0.6666666666666666,\\\"#ed7953\\\"],[0.7777777777777778,\\\"#fb9f3a\\\"],[0.8888888888888888,\\\"#fdca26\\\"],[1.0,\\\"#f0f921\\\"]]}],\\\"scattermapbox\\\":[{\\\"type\\\":\\\"scattermapbox\\\",\\\"marker\\\":{\\\"colorbar\\\":{\\\"ticks\\\":\\\"\\\",\\\"outlinewidth\\\":0}}}],\\\"scattergeo\\\":[{\\\"type\\\":\\\"scattergeo\\\",\\\"marker\\\":{\\\"colorbar\\\":{\\\"ticks\\\":\\\"\\\",\\\"outlinewidth\\\":0}}}],\\\"histogram\\\":[{\\\"type\\\":\\\"histogram\\\",\\\"marker\\\":{\\\"colorbar\\\":{\\\"ticks\\\":\\\"\\\",\\\"outlinewidth\\\":0}}}],\\\"pie\\\":[{\\\"type\\\":\\\"pie\\\",\\\"automargin\\\":true}],\\\"choropleth\\\":[{\\\"colorbar\\\":{\\\"ticks\\\":\\\"\\\",\\\"outlinewidth\\\":0},\\\"type\\\":\\\"choropleth\\\"}],\\\"heatmapgl\\\":[{\\\"colorbar\\\":{\\\"ticks\\\":\\\"\\\",\\\"outlinewidth\\\":0},\\\"type\\\":\\\"heatmapgl\\\",\\\"colorscale\\\":[[0.0,\\\"#0d0887\\\"],[0.1111111111111111,\\\"#46039f\\\"],[0.2222222222222222,\\\"#7201a8\\\"],[0.3333333333333333,\\\"#9c179e\\\"],[0.4444444444444444,\\\"#bd3786\\\"],[0.5555555555555556,\\\"#d8576b\\\"],[0.6666666666666666,\\\"#ed7953\\\"],[0.7777777777777778,\\\"#fb9f3a\\\"],[0.8888888888888888,\\\"#fdca26\\\"],[1.0,\\\"#f0f921\\\"]]}],\\\"bar\\\":[{\\\"type\\\":\\\"bar\\\",\\\"error_y\\\":{\\\"color\\\":\\\"#2a3f5f\\\"},\\\"error_x\\\":{\\\"color\\\":\\\"#2a3f5f\\\"},\\\"marker\\\":{\\\"line\\\":{\\\"color\\\":\\\"#E5ECF6\\\",\\\"width\\\":0.5}}}],\\\"heatmap\\\":[{\\\"colorbar\\\":{\\\"ticks\\\":\\\"\\\",\\\"outlinewidth\\\":0},\\\"type\\\":\\\"heatmap\\\",\\\"colorscale\\\":[[0.0,\\\"#0d0887\\\"],[0.1111111111111111,\\\"#46039f\\\"],[0.2222222222222222,\\\"#7201a8\\\"],[0.3333333333333333,\\\"#9c179e\\\"],[0.4444444444444444,\\\"#bd3786\\\"],[0.5555555555555556,\\\"#d8576b\\\"],[0.6666666666666666,\\\"#ed7953\\\"],[0.7777777777777778,\\\"#fb9f3a\\\"],[0.8888888888888888,\\\"#fdca26\\\"],[1.0,\\\"#f0f921\\\"]]}],\\\"contourcarpet\\\":[{\\\"colorbar\\\":{\\\"ticks\\\":\\\"\\\",\\\"outlinewidth\\\":0},\\\"type\\\":\\\"contourcarpet\\\"}],\\\"table\\\":[{\\\"type\\\":\\\"table\\\",\\\"header\\\":{\\\"line\\\":{\\\"color\\\":\\\"white\\\"},\\\"fill\\\":{\\\"color\\\":\\\"#C8D4E3\\\"}},\\\"cells\\\":{\\\"line\\\":{\\\"color\\\":\\\"white\\\"},\\\"fill\\\":{\\\"color\\\":\\\"#EBF0F8\\\"}}}],\\\"scatter3d\\\":[{\\\"line\\\":{\\\"colorbar\\\":{\\\"ticks\\\":\\\"\\\",\\\"outlinewidth\\\":0}},\\\"type\\\":\\\"scatter3d\\\",\\\"marker\\\":{\\\"colorbar\\\":{\\\"ticks\\\":\\\"\\\",\\\"outlinewidth\\\":0}}}],\\\"scattergl\\\":[{\\\"type\\\":\\\"scattergl\\\",\\\"marker\\\":{\\\"colorbar\\\":{\\\"ticks\\\":\\\"\\\",\\\"outlinewidth\\\":0}}}],\\\"histogram2d\\\":[{\\\"colorbar\\\":{\\\"ticks\\\":\\\"\\\",\\\"outlinewidth\\\":0},\\\"type\\\":\\\"histogram2d\\\",\\\"colorscale\\\":[[0.0,\\\"#0d0887\\\"],[0.1111111111111111,\\\"#46039f\\\"],[0.2222222222222222,\\\"#7201a8\\\"],[0.3333333333333333,\\\"#9c179e\\\"],[0.4444444444444444,\\\"#bd3786\\\"],[0.5555555555555556,\\\"#d8576b\\\"],[0.6666666666666666,\\\"#ed7953\\\"],[0.7777777777777778,\\\"#fb9f3a\\\"],[0.8888888888888888,\\\"#fdca26\\\"],[1.0,\\\"#f0f921\\\"]]}],\\\"scatterternary\\\":[{\\\"type\\\":\\\"scatterternary\\\",\\\"marker\\\":{\\\"colorbar\\\":{\\\"ticks\\\":\\\"\\\",\\\"outlinewidth\\\":0}}}],\\\"scatterpolargl\\\":[{\\\"type\\\":\\\"scatterpolargl\\\",\\\"marker\\\":{\\\"colorbar\\\":{\\\"ticks\\\":\\\"\\\",\\\"outlinewidth\\\":0}}}]}},\\\"margin\\\":{\\\"l\\\":50,\\\"b\\\":50,\\\"r\\\":50,\\\"t\\\":60},\\\"title\\\":\\\"2D Heat Conduction through fabric over time\\\",\\\"yaxis\\\":{\\\"title\\\":{\\\"text\\\":\\\"time [s]\\\"}}},{\\\"showLink\\\":false,\\\"editable\\\":false,\\\"responsive\\\":true,\\\"staticPlot\\\":false,\\\"scrollZoom\\\":false}); gd.on(\\\"plotly_hover\\\",(function (data){var filtered_data=WebIO.PlotlyCommands.filterEventData(gd,data,\\\"hover\\\"); return !(filtered_data.isnil) ? (WebIO.setval({\\\"name\\\":\\\"hover\\\",\\\"scope\\\":\\\"3290061223744904891\\\",\\\"id\\\":\\\"13584207466740957304\\\",\\\"type\\\":\\\"observable\\\"},filtered_data.out)) : undefined})); gd.on(\\\"plotly_unhover\\\",(function (){return WebIO.setval({\\\"name\\\":\\\"hover\\\",\\\"scope\\\":\\\"3290061223744904891\\\",\\\"id\\\":\\\"13584207466740957304\\\",\\\"type\\\":\\\"observable\\\"},{})})); gd.on(\\\"plotly_selected\\\",(function (data){var filtered_data=WebIO.PlotlyCommands.filterEventData(gd,data,\\\"selected\\\"); return !(filtered_data.isnil) ? (WebIO.setval({\\\"name\\\":\\\"selected\\\",\\\"scope\\\":\\\"3290061223744904891\\\",\\\"id\\\":\\\"18377928404861922538\\\",\\\"type\\\":\\\"observable\\\"},filtered_data.out)) : undefined})); gd.on(\\\"plotly_deselect\\\",(function (){return WebIO.setval({\\\"name\\\":\\\"selected\\\",\\\"scope\\\":\\\"3290061223744904891\\\",\\\"id\\\":\\\"18377928404861922538\\\",\\\"type\\\":\\\"observable\\\"},{})})); gd.on(\\\"plotly_relayout\\\",(function (data){var filtered_data=WebIO.PlotlyCommands.filterEventData(gd,data,\\\"relayout\\\"); return !(filtered_data.isnil) ? (WebIO.setval({\\\"name\\\":\\\"relayout\\\",\\\"scope\\\":\\\"3290061223744904891\\\",\\\"id\\\":\\\"14011718650338966380\\\",\\\"type\\\":\\\"observable\\\"},filtered_data.out)) : undefined})); return gd.on(\\\"plotly_click\\\",(function (data){var filtered_data=WebIO.PlotlyCommands.filterEventData(gd,data,\\\"click\\\"); return !(filtered_data.isnil) ? (WebIO.setval({\\\"name\\\":\\\"click\\\",\\\"scope\\\":\\\"3290061223744904891\\\",\\\"id\\\":\\\"11715092309160514950\\\",\\\"type\\\":\\\"observable\\\"},filtered_data.out)) : undefined}))}));\\n    (WebIO.importBlock({\\\"data\\\":[{\\\"name\\\":\\\"Plotly\\\",\\\"type\\\":\\\"js\\\",\\\"url\\\":\\\"\\/assetserver\\/5b3939436337838b354347cfaa22b7bc3003989a-plotly.min.js\\\"},{\\\"name\\\":null,\\\"type\\\":\\\"js\\\",\\\"url\\\":\\\"\\/assetserver\\/7e2197e88325f41c44111d393955af302af7055d-plotly_webio.bundle.js\\\"}],\\\"type\\\":\\\"async_block\\\"})).then((imports) => handler.apply(this, imports));\\n}\\n\"],\"observables\":{\"_toImage\":{\"sync\":true,\"id\":\"10118908598800011445\",\"value\":{}},\"hover\":{\"sync\":false,\"id\":\"13584207466740957304\",\"value\":{}},\"selected\":{\"sync\":false,\"id\":\"18377928404861922538\",\"value\":{}},\"__gd_contents\":{\"sync\":false,\"id\":\"5526300374138771336\",\"value\":{}},\"click\":{\"sync\":false,\"id\":\"11715092309160514950\",\"value\":{}},\"image\":{\"sync\":true,\"id\":\"10242325809105451854\",\"value\":\"\"},\"__get_gd_contents\":{\"sync\":true,\"id\":\"91189313454975284\",\"value\":\"\"},\"_downloadImage\":{\"sync\":true,\"id\":\"804461748178891720\",\"value\":{}},\"relayout\":{\"sync\":false,\"id\":\"14011718650338966380\",\"value\":{}},\"_commands\":{\"sync\":true,\"id\":\"12516614089791476282\",\"value\":[]}}},\"children\":[{\"props\":{\"id\":\"plot-160b049d-5e5a-418d-87fa-813327f6fb1a\"},\"nodeType\":\"DOM\",\"type\":\"node\",\"instanceArgs\":{\"namespace\":\"html\",\"tag\":\"div\"},\"children\":[]}]},\n",
       "        window,\n",
       "    );\n",
       "    })()\n",
       "    </script>\n",
       "</div>\n"
      ],
      "text/plain": [
       "data: [\n",
       "  \"contour with fields colorbar, transpose, type, x, y, and z\"\n",
       "]\n",
       "\n",
       "layout: \"layout with fields margin, template, title, xaxis, and yaxis\"\n",
       "\n"
      ]
     },
     "metadata": {},
     "output_type": "display_data"
    }
   ],
   "source": [
    "\n",
    "PlotlyJS.plot(PlotlyJS.contour(x=x, y=time_val_arr, z=T_f',     colorbar=attr(\n",
    "    title=\"Temperature [K]\", # title here\n",
    ")), \n",
    "Layout(;title=\"2D Heat Conduction through fabric over time\", xaxis_title=\"x [m]\", yaxis_title=\"time [s]\"),\n",
    "config=PlotConfig(scrollZoom=false))"
   ]
  }
 ],
 "metadata": {
  "kernelspec": {
   "display_name": "Julia 1.7.2",
   "language": "julia",
   "name": "julia-1.7"
  },
  "language_info": {
   "file_extension": ".jl",
   "mimetype": "application/julia",
   "name": "julia",
   "version": "1.7.2"
  },
  "orig_nbformat": 4
 },
 "nbformat": 4,
 "nbformat_minor": 2
}
