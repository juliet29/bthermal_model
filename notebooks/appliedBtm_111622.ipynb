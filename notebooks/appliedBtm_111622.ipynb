{
 "cells": [
  {
   "cell_type": "code",
   "execution_count": null,
   "metadata": {},
   "outputs": [],
   "source": [
    "using Plots\n",
    "using PlotlyJS\n",
    "using Statistics\n",
    "using QuadGK\n",
    "using MAT"
   ]
  },
  {
   "cell_type": "markdown",
   "metadata": {},
   "source": [
    "## constants"
   ]
  },
  {
   "cell_type": "code",
   "execution_count": null,
   "metadata": {},
   "outputs": [],
   "source": [
    "# physical constants\n",
    "g = 9.81 # gravitational acceleration [m/s^2]\n",
    "\n",
    "# fluid properties \n",
    "rho_a    = 1.225;     # Density of air [kg/m^3]\n",
    "c_a      = 1005;      # Specific heat of air [J/KgK]\n",
    "\n",
    "# building model properties\n",
    "v_a      = 2880;     # Volume of air inside the building [m^3]\n",
    "A_f     = 2*90;       # Area of the 3 floors [m^2]\n",
    "th      = 0.1;       # Thickness of thermal mass floors[m]\n",
    "E_int    = 250;      # Internal loads due to occupancy, lighting and equipment [W]\n",
    "\n",
    "# material properties\n",
    "rho_f   = 2300;     # Density of Thermal Mass concrete [kg/m^3]\n",
    "k_f     = 0.8;         # Conductivity of Thermal Mass concrete [W/mK]\n",
    "c_f     = 750;        # Specific heat of Thermal Mass concrete [J/KgK]\n",
    "h  = 4;           # Convective heat coefficient [W/m2.K]"
   ]
  },
  {
   "cell_type": "markdown",
   "metadata": {},
   "source": [
    "## functions"
   ]
  },
  {
   "cell_type": "code",
   "execution_count": null,
   "metadata": {},
   "outputs": [],
   "source": [
    "\n",
    "function conductionMatrix(lambda, dt, dx, Nx)\n",
    "    \"\"\"calculate temperature evolution within a fabric \"\"\"\n",
    "    A = zeros(Nx, Nx)\n",
    "\n",
    "    A[1,1] = 1-lambda;  \n",
    "    A[1,2] = lambda;\n",
    "    A[Nx,Nx-1] = lambda;\n",
    "    A[Nx,Nx] = 1-lambda;  \n",
    "    \n",
    "    # all other rows \n",
    "    for i = 2:Nx-1\n",
    "        A[i, i-1] = lambda;\n",
    "        A[i, i] = 1-2*lambda;\n",
    "        A[i, i+1] = lambda;\n",
    "    end\n",
    "\n",
    "    return A\n",
    "\n",
    "end\n",
    "\n",
    "function cd_pivot(alpha)\n",
    "    \"calculate discharge coefficient based on window opening angle\"\n",
    "    W=1;\n",
    "    H=1;\n",
    "    W_pivot = z -> (1/W^2 + 1/(2*(H-z)*tand(alpha)+sind(alpha)*W).^2) .^(-1/2)\n",
    "    h = H * (1- cosd(alpha));\n",
    "    integral, est = quadgk(W_pivot,h,H) #rtol=1e-8 -> error when go to last element of angle array\n",
    "    A_eff = W*h + integral ;\n",
    "    Cd0 = 0.611;\n",
    "    Cd = A_eff / (H*W) * Cd0;   \n",
    "    \n",
    "end"
   ]
  },
  {
   "cell_type": "markdown",
   "metadata": {},
   "source": [
    "## initialize variables for convective heat transfer calculation "
   ]
  },
  {
   "cell_type": "code",
   "execution_count": null,
   "metadata": {},
   "outputs": [],
   "source": [
    "# Discrete variables for 1D conduction calculation over time => T(t+1,x) = A*T(t,x) + b\n",
    "dt = 15;\n",
    "dx = th/10;\n",
    "x = range(0, th, step = dx)  |> collect \n",
    "Nx = length(x)"
   ]
  },
  {
   "cell_type": "code",
   "execution_count": null,
   "metadata": {},
   "outputs": [],
   "source": [
    "# initialize A matrix \n",
    "alpha = k_f/(rho_f*c_f) # thermal conductivity / (density * specific heat )\n",
    "lambda = alpha * dt / dx^2 # this could all go into the matrix \n",
    "A = conductionMatrix(lambda, dt, dx, Nx);"
   ]
  },
  {
   "cell_type": "code",
   "execution_count": null,
   "metadata": {},
   "outputs": [],
   "source": [
    "A"
   ]
  },
  {
   "cell_type": "code",
   "execution_count": null,
   "metadata": {},
   "outputs": [],
   "source": [
    "# initialize T_f matrix\n",
    "# T_f => [x * t]"
   ]
  },
  {
   "cell_type": "markdown",
   "metadata": {},
   "source": [
    "## initialize variables for natural ventilation calculation"
   ]
  },
  {
   "cell_type": "code",
   "execution_count": null,
   "metadata": {},
   "outputs": [],
   "source": [
    "# window properties \n",
    "w1 = Dict(\"alpha\" => 42, \"area\" => 1.61, \"l\" => 11.34)\n",
    "w1[\"cd\"] = cd_pivot(w1[\"alpha\"])\n",
    "\n",
    "w2 = Dict(\"alpha\" => 42, \"area\" => 1.755, \"l\" => 6.62)\n",
    "w2[\"cd\"] = cd_pivot(w2[\"alpha\"])\n",
    "\n",
    "w3 = Dict(\"alpha\" => 42, \"area\" => 1.755, \"l\" => 2.07)\n",
    "w3[\"cd\"] = cd_pivot(w3[\"alpha\"]);"
   ]
  },
  {
   "cell_type": "code",
   "execution_count": null,
   "metadata": {},
   "outputs": [],
   "source": [
    "function init_arrays()\n",
    "    # missing variables -> based on actual data! (do dummy first though )\n",
    "    time = range(0, dt*20, step = dt)\n",
    "    to_Kelvin = 273.5\n",
    "    T_in_meas = sind.(time) .+ to_Kelvin\n",
    "    T_out_meas_meas = T_in_meas .- (sind.(time.* 0.1)) .- 0.1 \n",
    "\n",
    "    # values to calculate \n",
    "    T_in = zeros(length(time))\n",
    "    T_f = zeros(length(x),length(time));\n",
    "\n",
    "    # values to\n",
    "    T_in[1] = T_in_meas[1];  # interior starts at the fabric?\n",
    "    T_f[:,1] .= 280;\n",
    "    # TODO -> issue fabric and calculated interior air temperature cant be initialized to equal each other if they are being subtracted to determine the convective heat flux??\n",
    "\n",
    "    Q1 = zeros(length(time));\n",
    "    Q2 = zeros(length(time));\n",
    "    Q3 = zeros(length(time));\n",
    "    Q_tot = zeros(length(time));\n",
    "    E_nv = zeros(length(time));\n",
    "    E_convst = zeros(length(time));\n",
    "    b = zeros(1,Nx)\n",
    "    Eist = zeros(length(time));\n",
    "\n",
    "    \n",
    "\n",
    "end"
   ]
  },
  {
   "cell_type": "code",
   "execution_count": null,
   "metadata": {},
   "outputs": [],
   "source": [
    "T_f"
   ]
  },
  {
   "cell_type": "code",
   "execution_count": null,
   "metadata": {},
   "outputs": [],
   "source": [
    "Plots.plot(time, T_in_meas, label=\"T_in_meas\")\n",
    "Plots.plot!(time, T_out_meas, label=\"T_out_meas\")"
   ]
  },
  {
   "cell_type": "code",
   "execution_count": null,
   "metadata": {},
   "outputs": [],
   "source": [
    "init_arrays()"
   ]
  },
  {
   "cell_type": "code",
   "execution_count": null,
   "metadata": {},
   "outputs": [],
   "source": [
    "time = range(0, dt*20, step = dt)\n",
    "to_Kelvin = 273.5\n",
    "T_in_meas = sind.(time) .+ to_Kelvin\n",
    "T_out_meas_meas = T_in_meas .- (sind.(time.* 0.1)) .- 0.1 \n",
    "\n",
    "# values to calculate \n",
    "T_in = zeros(length(time))\n",
    "T_f = zeros(length(x),length(time));\n",
    "\n",
    "# values to\n",
    "T_in[1] = T_in_meas[1];  # interior starts at the fabric?\n",
    "T_f[:,1] .= 280;\n",
    "# TODO -> issue fabric and calculated interior air temperature cant be initialized to equal each other if they are being subtracted to determine the convective heat flux??\n",
    "\n",
    "Q1 = zeros(length(time));\n",
    "Q2 = zeros(length(time));\n",
    "Q3 = zeros(length(time));\n",
    "Q_tot = zeros(length(time));\n",
    "E_nv = zeros(length(time));\n",
    "E_convst = zeros(length(time));\n",
    "b = zeros(1,Nx)\n",
    "Eist = zeros(length(time));"
   ]
  },
  {
   "cell_type": "markdown",
   "metadata": {},
   "source": [
    "## dynamic thermal model"
   ]
  },
  {
   "cell_type": "code",
   "execution_count": null,
   "metadata": {},
   "outputs": [],
   "source": [
    "\n",
    "\n",
    "for t=1:length(time)-1\n",
    "\n",
    "    # calculate E_nv at each time step \n",
    "    # TODO make function that calculates E_nv, how was this done before we knew outside vs inside?\n",
    "    for (w, Q) in zip([w1, w2, w3], [Q1, Q2, Q3]) \n",
    "        \n",
    "        # TODO adjust this to comsider wind ventilation, in addition to buoyancy \n",
    "        Q[t] = w[\"cd\"] * w[\"area\"] * sqrt(2*g*w[\"l\"] * (T_in_meas[t]-T_out_meas[t]) /(T_out_meas[t]))\n",
    "    end\n",
    "    Q_tot[t] = Q1[t] + Q2[t] + Q3[t]\n",
    "    E_nv[t] = rho_a * c_a * Q_tot[t] * (T_out_meas[t] - T_in[t])\n",
    "\n",
    "\n",
    "    # calculate E_conv at each time step \n",
    "    E_conv = h * A_f * (T_f[1,t] - T_in[t]) # TODO multiply by number of surfaces being considered\n",
    "    # print(\"T_f[1,t] $(T_f[1,t]) , T_in[t] $(T_in[t]) \\n\")\n",
    "    E_convst[t] =  E_conv # guessing this is holding the variable?\n",
    "\n",
    "    # # wall boundary conditions \n",
    "    # initialize the b matrix, this likely is related to the boundary conditions somehow..\n",
    "    b[1] = - lambda * dx / (k_f * E_conv)\n",
    "    b[Nx] = - lambda * dx / (k_f * E_conv)\n",
    "    # print(\"b $b, time $t \\n\")\n",
    "\n",
    "    # calculate surface temperature at each time step\n",
    "    T_f[:, t+1] = A*T_f[:,t] + b'\n",
    "\n",
    "    # calculate interior average air temperaure at each time step \n",
    "    T_in[t + 1] = T_in[t] + (E_conv * A_f + E_int + E_nv[t]) * dt/(v_a * rho_a * c_a)\n",
    "    Eist[t] = E_int # what does this do///\n",
    "\n",
    "\n",
    " end"
   ]
  },
  {
   "cell_type": "code",
   "execution_count": null,
   "metadata": {},
   "outputs": [],
   "source": [
    "A"
   ]
  },
  {
   "cell_type": "code",
   "execution_count": null,
   "metadata": {},
   "outputs": [],
   "source": [
    "T_f"
   ]
  },
  {
   "cell_type": "code",
   "execution_count": null,
   "metadata": {},
   "outputs": [],
   "source": [
    "labels = [\"T_in(t)\",\"'T_f(x=th,t)'\",\"'T_out_meas(t)'\",\"'T_in_meas(t)'\"];\n",
    "vals = [T_in[1:end-1], T_f[end, 1:end-1], T_out_meas, T_in_meas]\n",
    "linewidths = [3,3,3,3]\n",
    "dashtypes = [\"dot\", \"dashdot\", \"none\", \"none\"]\n",
    "\n",
    "\n",
    "traces = [PlotlyJS.scatter(x=vec(time),  y=val, mode=\"lines\", name=label, line=attr(width=lw, dash=dt)) for (val,label, lw, dt) in zip(vals, labels, linewidths, dashtypes)];\n",
    "\n",
    "\n",
    "p3 = PlotlyJS.plot(traces, Layout(;title=\"Temperature over Time\", showlegend=true, xaxis_title=\"Time (hours)\", yaxis_title=\"Temperature (K)\" ),  config=PlotConfig(scrollZoom=false));\n",
    "p3"
   ]
  },
  {
   "cell_type": "code",
   "execution_count": null,
   "metadata": {},
   "outputs": [],
   "source": [
    "T_f"
   ]
  },
  {
   "cell_type": "code",
   "execution_count": null,
   "metadata": {},
   "outputs": [],
   "source": [
    "x"
   ]
  },
  {
   "cell_type": "code",
   "execution_count": null,
   "metadata": {},
   "outputs": [],
   "source": [
    "time_arr"
   ]
  },
  {
   "cell_type": "code",
   "execution_count": null,
   "metadata": {},
   "outputs": [],
   "source": [
    "time_arr = time |> collect;"
   ]
  },
  {
   "cell_type": "code",
   "execution_count": 127,
   "metadata": {},
   "outputs": [],
   "source": [
    "PlotlyJS.plot(PlotlyJS.contour(x=x, y=time_arr, z=T_f', config=PlotConfig(scrollZoom=false), Layout(;title=\"temp through fabric\", xaxis_title=\"x[m]\", yaxis_title=\"Time (s)\" )\n",
    "))"
   ]
  },
  {
   "cell_type": "code",
   "execution_count": null,
   "metadata": {},
   "outputs": [],
   "source": [
    "T_f"
   ]
  }
 ],
 "metadata": {
  "kernelspec": {
   "display_name": "Julia 1.7.2",
   "language": "julia",
   "name": "julia-1.7"
  },
  "language_info": {
   "file_extension": ".jl",
   "mimetype": "application/julia",
   "name": "julia",
   "version": "1.7.2"
  },
  "orig_nbformat": 4
 },
 "nbformat": 4,
 "nbformat_minor": 2
}
