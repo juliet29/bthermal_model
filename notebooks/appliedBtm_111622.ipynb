{
 "cells": [
  {
   "cell_type": "code",
   "execution_count": 10,
   "metadata": {},
   "outputs": [],
   "source": [
    "using Plots\n",
    "using PlotlyJS\n",
    "using Statistics\n",
    "using QuadGK\n",
    "using MAT"
   ]
  },
  {
   "cell_type": "markdown",
   "metadata": {},
   "source": [
    "## constants"
   ]
  },
  {
   "cell_type": "code",
   "execution_count": 11,
   "metadata": {},
   "outputs": [],
   "source": [
    "# physical constants\n",
    "g = 9.81 # gravitational acceleration [m/s^2]\n",
    "\n",
    "# fluid properties \n",
    "rho_a    = 1.225;     # Density of air [kg/m^3]\n",
    "c_a      = 1005;      # Specific heat of air [J/KgK]\n",
    "\n",
    "# building model properties\n",
    "v_a      = 2880;     # Volume of air inside the building [m^3]\n",
    "A_f     = 2*90;       # Area of the 3 floors [m^2]\n",
    "th      = 0.1;       # Thickness of thermal mass floors[m]\n",
    "E_int    = 250;      # Internal loads due to occupancy, lighting and equipment [W]\n",
    "\n",
    "# material properties\n",
    "rho_f   = 2300;     # Density of Thermal Mass concrete [kg/m^3]\n",
    "k_f     = 0.8;         # Conductivity of Thermal Mass concrete [W/mK]\n",
    "c_f     = 750;        # Specific heat of Thermal Mass concrete [J/KgK]\n",
    "h  = 4;           # Convective heat coefficient [W/m2.K]"
   ]
  },
  {
   "cell_type": "markdown",
   "metadata": {},
   "source": [
    "## functions"
   ]
  },
  {
   "cell_type": "code",
   "execution_count": 12,
   "metadata": {},
   "outputs": [
    {
     "data": {
      "text/plain": [
       "cd_pivot (generic function with 1 method)"
      ]
     },
     "metadata": {},
     "output_type": "display_data"
    }
   ],
   "source": [
    "\n",
    "function conductionMatrix(lambda, dt, dx, Nx)\n",
    "    \"\"\"calculate temperature evolution within a fabric \"\"\"\n",
    "    A = zeros(Nx, Nx)\n",
    "\n",
    "    A[1,1] = 1-lambda;  \n",
    "    A[1,2] = lambda;\n",
    "    A[Nx,Nx-1] = lambda;\n",
    "    A[Nx,Nx] = 1-lambda;  \n",
    "    \n",
    "    # all other rows \n",
    "    for i = 2:Nx-1\n",
    "        A[i, i-1] = lambda;\n",
    "        A[i, i] = 1-2*lambda;\n",
    "        A[i, i+1] = lambda;\n",
    "    end\n",
    "\n",
    "    return A\n",
    "\n",
    "end\n",
    "\n",
    "function cd_pivot(alpha)\n",
    "    \"calculate discharge coefficient based on window opening angle\"\n",
    "    W=1;\n",
    "    H=1;\n",
    "    W_pivot = z -> (1/W^2 + 1/(2*(H-z)*tand(alpha)+sind(alpha)*W).^2) .^(-1/2)\n",
    "    h = H * (1- cosd(alpha));\n",
    "    integral, est = quadgk(W_pivot,h,H) #rtol=1e-8 -> error when go to last element of angle array\n",
    "    A_eff = W*h + integral ;\n",
    "    Cd0 = 0.611;\n",
    "    Cd = A_eff / (H*W) * Cd0;   \n",
    "    \n",
    "end"
   ]
  },
  {
   "cell_type": "markdown",
   "metadata": {},
   "source": [
    "## initialize variables for convective heat transfer calculation "
   ]
  },
  {
   "cell_type": "code",
   "execution_count": 13,
   "metadata": {},
   "outputs": [
    {
     "data": {
      "text/plain": [
       "11"
      ]
     },
     "metadata": {},
     "output_type": "display_data"
    }
   ],
   "source": [
    "# Discrete variables for 1D conduction calculation over time => T(t+1,x) = A*T(t,x) + b\n",
    "dt = 15;\n",
    "dx = th/10;\n",
    "x = range(0, th, step = dx)  |> collect \n",
    "Nx = length(x)"
   ]
  },
  {
   "cell_type": "code",
   "execution_count": 14,
   "metadata": {},
   "outputs": [],
   "source": [
    "# initialize A matrix \n",
    "alpha = k_f/(rho_f*c_f) # thermal conductivity / (density * specific heat )\n",
    "lambda = alpha * dt / dx^2 # this could all go into the matrix \n",
    "A = conductionMatrix(lambda, dt, dx, Nx);"
   ]
  },
  {
   "cell_type": "code",
   "execution_count": 71,
   "metadata": {},
   "outputs": [
    {
     "data": {
      "text/plain": [
       "11×11 Matrix{Float64}:\n",
       " 0.930435   0.0695652  0.0        …  0.0        0.0        0.0\n",
       " 0.0695652  0.86087    0.0695652     0.0        0.0        0.0\n",
       " 0.0        0.0695652  0.86087       0.0        0.0        0.0\n",
       " 0.0        0.0        0.0695652     0.0        0.0        0.0\n",
       " 0.0        0.0        0.0           0.0        0.0        0.0\n",
       " 0.0        0.0        0.0        …  0.0        0.0        0.0\n",
       " 0.0        0.0        0.0           0.0        0.0        0.0\n",
       " 0.0        0.0        0.0           0.0695652  0.0        0.0\n",
       " 0.0        0.0        0.0           0.86087    0.0695652  0.0\n",
       " 0.0        0.0        0.0           0.0695652  0.86087    0.0695652\n",
       " 0.0        0.0        0.0        …  0.0        0.0695652  0.930435"
      ]
     },
     "metadata": {},
     "output_type": "display_data"
    }
   ],
   "source": [
    "A"
   ]
  },
  {
   "cell_type": "code",
   "execution_count": 15,
   "metadata": {},
   "outputs": [],
   "source": [
    "# initialize T_f matrix\n",
    "# T_f => [x * t]"
   ]
  },
  {
   "cell_type": "markdown",
   "metadata": {},
   "source": [
    "## initialize variables for natural ventilation calculation"
   ]
  },
  {
   "cell_type": "code",
   "execution_count": 59,
   "metadata": {},
   "outputs": [],
   "source": [
    "# window properties \n",
    "w1 = Dict(\"alpha\" => 42, \"area\" => 1.61, \"l\" => 11.34)\n",
    "w1[\"cd\"] = cd_pivot(w1[\"alpha\"])\n",
    "\n",
    "w2 = Dict(\"alpha\" => 42, \"area\" => 1.755, \"l\" => 6.62)\n",
    "w2[\"cd\"] = cd_pivot(w2[\"alpha\"])\n",
    "\n",
    "w3 = Dict(\"alpha\" => 42, \"area\" => 1.755, \"l\" => 2.07)\n",
    "w3[\"cd\"] = cd_pivot(w3[\"alpha\"]);"
   ]
  },
  {
   "cell_type": "code",
   "execution_count": 94,
   "metadata": {},
   "outputs": [
    {
     "data": {
      "text/plain": [
       "init_arrays (generic function with 1 method)"
      ]
     },
     "metadata": {},
     "output_type": "display_data"
    }
   ],
   "source": [
    "function init_arrays()\n",
    "    # missing variables -> based on actual data! (do dummy first though )\n",
    "    time = range(0, dt*20, step = dt)\n",
    "    to_Kelvin = 273.5\n",
    "    T_in_meas = sind.(time) .+ to_Kelvin\n",
    "    T_out_meas_meas = T_in_meas .- (sind.(time.* 0.1)) .- 0.1 \n",
    "\n",
    "    # values to calculate \n",
    "    T_in = zeros(length(time))\n",
    "    T_f = zeros(length(x),length(time));\n",
    "\n",
    "    # values to\n",
    "    T_in[1] = T_in_meas[1];  # interior starts at the fabric?\n",
    "    T_f[:,1] .= 280;\n",
    "    # TODO -> issue fabric and calculated interior air temperature cant be initialized to equal each other if they are being subtracted to determine the convective heat flux??\n",
    "\n",
    "    Q1 = zeros(length(time));\n",
    "    Q2 = zeros(length(time));\n",
    "    Q3 = zeros(length(time));\n",
    "    Q_tot = zeros(length(time));\n",
    "    E_nv = zeros(length(time));\n",
    "    E_convst = zeros(length(time));\n",
    "    b = zeros(1,Nx)\n",
    "    Eist = zeros(length(time));\n",
    "\n",
    "    \n",
    "\n",
    "end"
   ]
  },
  {
   "cell_type": "code",
   "execution_count": 84,
   "metadata": {},
   "outputs": [
    {
     "data": {
      "text/plain": [
       "11×21 Matrix{Float64}:\n",
       " 280.0  0.0  0.0  0.0  0.0  0.0  0.0  …  0.0  0.0  0.0  0.0  0.0  0.0  0.0\n",
       " 280.0  0.0  0.0  0.0  0.0  0.0  0.0     0.0  0.0  0.0  0.0  0.0  0.0  0.0\n",
       " 280.0  0.0  0.0  0.0  0.0  0.0  0.0     0.0  0.0  0.0  0.0  0.0  0.0  0.0\n",
       " 280.0  0.0  0.0  0.0  0.0  0.0  0.0     0.0  0.0  0.0  0.0  0.0  0.0  0.0\n",
       " 280.0  0.0  0.0  0.0  0.0  0.0  0.0     0.0  0.0  0.0  0.0  0.0  0.0  0.0\n",
       " 280.0  0.0  0.0  0.0  0.0  0.0  0.0  …  0.0  0.0  0.0  0.0  0.0  0.0  0.0\n",
       " 280.0  0.0  0.0  0.0  0.0  0.0  0.0     0.0  0.0  0.0  0.0  0.0  0.0  0.0\n",
       " 280.0  0.0  0.0  0.0  0.0  0.0  0.0     0.0  0.0  0.0  0.0  0.0  0.0  0.0\n",
       " 280.0  0.0  0.0  0.0  0.0  0.0  0.0     0.0  0.0  0.0  0.0  0.0  0.0  0.0\n",
       " 280.0  0.0  0.0  0.0  0.0  0.0  0.0     0.0  0.0  0.0  0.0  0.0  0.0  0.0\n",
       " 280.0  0.0  0.0  0.0  0.0  0.0  0.0  …  0.0  0.0  0.0  0.0  0.0  0.0  0.0"
      ]
     },
     "metadata": {},
     "output_type": "display_data"
    }
   ],
   "source": [
    "T_f"
   ]
  },
  {
   "cell_type": "code",
   "execution_count": 54,
   "metadata": {},
   "outputs": [
    {
     "data": {
      "image/png": "[encoded data removed]",
      "image/svg+xml": "<?xml version=\"1.0\" encoding=\"utf-8\"?>\n<svg xmlns=\"http://www.w3.org/2000/svg\" xmlns:xlink=\"http://www.w3.org/1999/xlink\" width=\"600\" height=\"400\" viewBox=\"0 0 2400 1600\">\n<defs>\n  <clipPath id=\"clip640\">\n    <rect x=\"0\" y=\"0\" width=\"2400\" height=\"1600\"/>\n  </clipPath>\n</defs>\n<path clip-path=\"url(#clip640)\" d=\"\nM0 1600 L2400 1600 L2400 0 L0 0  Z\n  \" fill=\"#ffffff\" fill-rule=\"evenodd\" fill-opacity=\"1\"/>\n<defs>\n  <clipPath id=\"clip641\">\n    <rect x=\"480\" y=\"0\" width=\"1681\" height=\"1600\"/>\n  </clipPath>\n</defs>\n<path clip-path=\"url(#clip640)\" d=\"\nM216.089 1486.45 L2352.76 1486.45 L2352.76 47.2441 L216.089 47.2441  Z\n  \" fill=\"#ffffff\" fill-rule=\"evenodd\" fill-opacity=\"1\"/>\n<defs>\n  <clipPath id=\"clip642\">\n    <rect x=\"216\" y=\"47\" width=\"2138\" height=\"1440\"/>\n  </clipPath>\n</defs>\n<polyline clip-path=\"url(#clip642)\" style=\"stroke:#000000; stroke-linecap:round; stroke-linejoin:round; stroke-width:2; stroke-opacity:0.1; fill:none\" points=\"\n  276.56,1486.45 276.56,47.2441 \n  \"/>\n<polyline clip-path=\"url(#clip642)\" style=\"stroke:#000000; stroke-linecap:round; stroke-linejoin:round; stroke-width:2; stroke-opacity:0.1; fill:none\" points=\"\n  948.468,1486.45 948.468,47.2441 \n  \"/>\n<polyline clip-path=\"url(#clip642)\" style=\"stroke:#000000; stroke-linecap:round; stroke-linejoin:round; stroke-width:2; stroke-opacity:0.1; fill:none\" points=\"\n  1620.38,1486.45 1620.38,47.2441 \n  \"/>\n<polyline clip-path=\"url(#clip642)\" style=\"stroke:#000000; stroke-linecap:round; stroke-linejoin:round; stroke-width:2; stroke-opacity:0.1; fill:none\" points=\"\n  2292.28,1486.45 2292.28,47.2441 \n  \"/>\n<polyline clip-path=\"url(#clip640)\" style=\"stroke:#000000; stroke-linecap:round; stroke-linejoin:round; stroke-width:4; stroke-opacity:1; fill:none\" points=\"\n  216.089,1486.45 2352.76,1486.45 \n  \"/>\n<polyline clip-path=\"url(#clip640)\" style=\"stroke:#000000; stroke-linecap:round; stroke-linejoin:round; stroke-width:4; stroke-opacity:1; fill:none\" points=\"\n  276.56,1486.45 276.56,1467.55 \n  \"/>\n<polyline clip-path=\"url(#clip640)\" style=\"stroke:#000000; stroke-linecap:round; stroke-linejoin:round; stroke-width:4; stroke-opacity:1; fill:none\" points=\"\n  948.468,1486.45 948.468,1467.55 \n  \"/>\n<polyline clip-path=\"url(#clip640)\" style=\"stroke:#000000; stroke-linecap:round; stroke-linejoin:round; stroke-width:4; stroke-opacity:1; fill:none\" points=\"\n  1620.38,1486.45 1620.38,1467.55 \n  \"/>\n<polyline clip-path=\"url(#clip640)\" style=\"stroke:#000000; stroke-linecap:round; stroke-linejoin:round; stroke-width:4; stroke-opacity:1; fill:none\" points=\"\n  2292.28,1486.45 2292.28,1467.55 \n  \"/>\n<path clip-path=\"url(#clip640)\" d=\"M276.56 1517.37 Q272.949 1517.37 271.121 1520.93 Q269.315 1524.47 269.315 1531.6 Q269.315 1538.71 271.121 1542.27 Q272.949 1545.82 276.56 1545.82 Q280.195 1545.82 282 1542.27 Q283.829 1538.71 283.829 1531.6 Q283.829 1524.47 282 1520.93 Q280.195 1517.37 276.56 1517.37 M276.56 1513.66 Q282.371 1513.66 285.426 1518.27 Q288.505 1522.85 288.505 1531.6 Q288.505 1540.33 285.426 1544.94 Q282.371 1549.52 276.56 1549.52 Q270.75 1549.52 267.672 1544.94 Q264.616 1540.33 264.616 1531.6 Q264.616 1522.85 267.672 1518.27 Q270.75 1513.66 276.56 1513.66 Z\" fill=\"#000000\" fill-rule=\"evenodd\" fill-opacity=\"1\" /><path clip-path=\"url(#clip640)\" d=\"M908.075 1544.91 L915.714 1544.91 L915.714 1518.55 L907.404 1520.21 L907.404 1515.95 L915.668 1514.29 L920.343 1514.29 L920.343 1544.91 L927.982 1544.91 L927.982 1548.85 L908.075 1548.85 L908.075 1544.91 Z\" fill=\"#000000\" fill-rule=\"evenodd\" fill-opacity=\"1\" /><path clip-path=\"url(#clip640)\" d=\"M947.427 1517.37 Q943.816 1517.37 941.987 1520.93 Q940.181 1524.47 940.181 1531.6 Q940.181 1538.71 941.987 1542.27 Q943.816 1545.82 947.427 1545.82 Q951.061 1545.82 952.866 1542.27 Q954.695 1538.71 954.695 1531.6 Q954.695 1524.47 952.866 1520.93 Q951.061 1517.37 947.427 1517.37 M947.427 1513.66 Q953.237 1513.66 956.292 1518.27 Q959.371 1522.85 959.371 1531.6 Q959.371 1540.33 956.292 1544.94 Q953.237 1549.52 947.427 1549.52 Q941.616 1549.52 938.538 1544.94 Q935.482 1540.33 935.482 1531.6 Q935.482 1522.85 938.538 1518.27 Q941.616 1513.66 947.427 1513.66 Z\" fill=\"#000000\" fill-rule=\"evenodd\" fill-opacity=\"1\" /><path clip-path=\"url(#clip640)\" d=\"M977.589 1517.37 Q973.977 1517.37 972.149 1520.93 Q970.343 1524.47 970.343 1531.6 Q970.343 1538.71 972.149 1542.27 Q973.977 1545.82 977.589 1545.82 Q981.223 1545.82 983.028 1542.27 Q984.857 1538.71 984.857 1531.6 Q984.857 1524.47 983.028 1520.93 Q981.223 1517.37 977.589 1517.37 M977.589 1513.66 Q983.399 1513.66 986.454 1518.27 Q989.533 1522.85 989.533 1531.6 Q989.533 1540.33 986.454 1544.94 Q983.399 1549.52 977.589 1549.52 Q971.778 1549.52 968.7 1544.94 Q965.644 1540.33 965.644 1531.6 Q965.644 1522.85 968.7 1518.27 Q971.778 1513.66 977.589 1513.66 Z\" fill=\"#000000\" fill-rule=\"evenodd\" fill-opacity=\"1\" /><path clip-path=\"url(#clip640)\" d=\"M1584.07 1544.91 L1600.39 1544.91 L1600.39 1548.85 L1578.44 1548.85 L1578.44 1544.91 Q1581.11 1542.16 1585.69 1537.53 Q1590.3 1532.88 1591.48 1531.53 Q1593.72 1529.01 1594.6 1527.27 Q1595.5 1525.51 1595.5 1523.82 Q1595.5 1521.07 1593.56 1519.33 Q1591.64 1517.6 1588.54 1517.6 Q1586.34 1517.6 1583.88 1518.36 Q1581.45 1519.13 1578.68 1520.68 L1578.68 1515.95 Q1581.5 1514.82 1583.95 1514.24 Q1586.41 1513.66 1588.44 1513.66 Q1593.81 1513.66 1597.01 1516.35 Q1600.2 1519.03 1600.2 1523.52 Q1600.2 1525.65 1599.39 1527.57 Q1598.61 1529.47 1596.5 1532.07 Q1595.92 1532.74 1592.82 1535.95 Q1589.72 1539.15 1584.07 1544.91 Z\" fill=\"#000000\" fill-rule=\"evenodd\" fill-opacity=\"1\" /><path clip-path=\"url(#clip640)\" d=\"M1620.2 1517.37 Q1616.59 1517.37 1614.76 1520.93 Q1612.96 1524.47 1612.96 1531.6 Q1612.96 1538.71 1614.76 1542.27 Q1616.59 1545.82 1620.2 1545.82 Q1623.84 1545.82 1625.64 1542.27 Q1627.47 1538.71 1627.47 1531.6 Q1627.47 1524.47 1625.64 1520.93 Q1623.84 1517.37 1620.2 1517.37 M1620.2 1513.66 Q1626.01 1513.66 1629.07 1518.27 Q1632.15 1522.85 1632.15 1531.6 Q1632.15 1540.33 1629.07 1544.94 Q1626.01 1549.52 1620.2 1549.52 Q1614.39 1549.52 1611.31 1544.94 Q1608.26 1540.33 1608.26 1531.6 Q1608.26 1522.85 1611.31 1518.27 Q1614.39 1513.66 1620.2 1513.66 Z\" fill=\"#000000\" fill-rule=\"evenodd\" fill-opacity=\"1\" /><path clip-path=\"url(#clip640)\" d=\"M1650.36 1517.37 Q1646.75 1517.37 1644.92 1520.93 Q1643.12 1524.47 1643.12 1531.6 Q1643.12 1538.71 1644.92 1542.27 Q1646.75 1545.82 1650.36 1545.82 Q1654 1545.82 1655.8 1542.27 Q1657.63 1538.71 1657.63 1531.6 Q1657.63 1524.47 1655.8 1520.93 Q1654 1517.37 1650.36 1517.37 M1650.36 1513.66 Q1656.17 1513.66 1659.23 1518.27 Q1662.31 1522.85 1662.31 1531.6 Q1662.31 1540.33 1659.23 1544.94 Q1656.17 1549.52 1650.36 1549.52 Q1644.55 1549.52 1641.48 1544.94 Q1638.42 1540.33 1638.42 1531.6 Q1638.42 1522.85 1641.48 1518.27 Q1644.55 1513.66 1650.36 1513.66 Z\" fill=\"#000000\" fill-rule=\"evenodd\" fill-opacity=\"1\" /><path clip-path=\"url(#clip640)\" d=\"M2266.05 1530.21 Q2269.4 1530.93 2271.28 1533.2 Q2273.18 1535.47 2273.18 1538.8 Q2273.18 1543.92 2269.66 1546.72 Q2266.14 1549.52 2259.66 1549.52 Q2257.48 1549.52 2255.17 1549.08 Q2252.87 1548.66 2250.42 1547.81 L2250.42 1543.29 Q2252.37 1544.43 2254.68 1545.01 Q2257 1545.58 2259.52 1545.58 Q2263.92 1545.58 2266.21 1543.85 Q2268.52 1542.11 2268.52 1538.8 Q2268.52 1535.75 2266.37 1534.03 Q2264.24 1532.3 2260.42 1532.3 L2256.39 1532.3 L2256.39 1528.45 L2260.61 1528.45 Q2264.06 1528.45 2265.88 1527.09 Q2267.71 1525.7 2267.71 1523.11 Q2267.71 1520.45 2265.81 1519.03 Q2263.94 1517.6 2260.42 1517.6 Q2258.5 1517.6 2256.3 1518.01 Q2254.1 1518.43 2251.46 1519.31 L2251.46 1515.14 Q2254.12 1514.4 2256.44 1514.03 Q2258.78 1513.66 2260.84 1513.66 Q2266.16 1513.66 2269.26 1516.09 Q2272.37 1518.5 2272.37 1522.62 Q2272.37 1525.49 2270.72 1527.48 Q2269.08 1529.45 2266.05 1530.21 Z\" fill=\"#000000\" fill-rule=\"evenodd\" fill-opacity=\"1\" /><path clip-path=\"url(#clip640)\" d=\"M2292.04 1517.37 Q2288.43 1517.37 2286.6 1520.93 Q2284.8 1524.47 2284.8 1531.6 Q2284.8 1538.71 2286.6 1542.27 Q2288.43 1545.82 2292.04 1545.82 Q2295.68 1545.82 2297.48 1542.27 Q2299.31 1538.71 2299.31 1531.6 Q2299.31 1524.47 2297.48 1520.93 Q2295.68 1517.37 2292.04 1517.37 M2292.04 1513.66 Q2297.85 1513.66 2300.91 1518.27 Q2303.99 1522.85 2303.99 1531.6 Q2303.99 1540.33 2300.91 1544.94 Q2297.85 1549.52 2292.04 1549.52 Q2286.23 1549.52 2283.15 1544.94 Q2280.1 1540.33 2280.1 1531.6 Q2280.1 1522.85 2283.15 1518.27 Q2286.23 1513.66 2292.04 1513.66 Z\" fill=\"#000000\" fill-rule=\"evenodd\" fill-opacity=\"1\" /><path clip-path=\"url(#clip640)\" d=\"M2322.2 1517.37 Q2318.59 1517.37 2316.76 1520.93 Q2314.96 1524.47 2314.96 1531.6 Q2314.96 1538.71 2316.76 1542.27 Q2318.59 1545.82 2322.2 1545.82 Q2325.84 1545.82 2327.64 1542.27 Q2329.47 1538.71 2329.47 1531.6 Q2329.47 1524.47 2327.64 1520.93 Q2325.84 1517.37 2322.2 1517.37 M2322.2 1513.66 Q2328.01 1513.66 2331.07 1518.27 Q2334.15 1522.85 2334.15 1531.6 Q2334.15 1540.33 2331.07 1544.94 Q2328.01 1549.52 2322.2 1549.52 Q2316.39 1549.52 2313.31 1544.94 Q2310.26 1540.33 2310.26 1531.6 Q2310.26 1522.85 2313.31 1518.27 Q2316.39 1513.66 2322.2 1513.66 Z\" fill=\"#000000\" fill-rule=\"evenodd\" fill-opacity=\"1\" /><polyline clip-path=\"url(#clip642)\" style=\"stroke:#000000; stroke-linecap:round; stroke-linejoin:round; stroke-width:2; stroke-opacity:0.1; fill:none\" points=\"\n  216.089,1417.01 2352.76,1417.01 \n  \"/>\n<polyline clip-path=\"url(#clip642)\" style=\"stroke:#000000; stroke-linecap:round; stroke-linejoin:round; stroke-width:2; stroke-opacity:0.1; fill:none\" points=\"\n  216.089,1151.21 2352.76,1151.21 \n  \"/>\n<polyline clip-path=\"url(#clip642)\" style=\"stroke:#000000; stroke-linecap:round; stroke-linejoin:round; stroke-width:2; stroke-opacity:0.1; fill:none\" points=\"\n  216.089,885.399 2352.76,885.399 \n  \"/>\n<polyline clip-path=\"url(#clip642)\" style=\"stroke:#000000; stroke-linecap:round; stroke-linejoin:round; stroke-width:2; stroke-opacity:0.1; fill:none\" points=\"\n  216.089,619.591 2352.76,619.591 \n  \"/>\n<polyline clip-path=\"url(#clip642)\" style=\"stroke:#000000; stroke-linecap:round; stroke-linejoin:round; stroke-width:2; stroke-opacity:0.1; fill:none\" points=\"\n  216.089,353.784 2352.76,353.784 \n  \"/>\n<polyline clip-path=\"url(#clip642)\" style=\"stroke:#000000; stroke-linecap:round; stroke-linejoin:round; stroke-width:2; stroke-opacity:0.1; fill:none\" points=\"\n  216.089,87.9763 2352.76,87.9763 \n  \"/>\n<polyline clip-path=\"url(#clip640)\" style=\"stroke:#000000; stroke-linecap:round; stroke-linejoin:round; stroke-width:4; stroke-opacity:1; fill:none\" points=\"\n  216.089,1486.45 216.089,47.2441 \n  \"/>\n<polyline clip-path=\"url(#clip640)\" style=\"stroke:#000000; stroke-linecap:round; stroke-linejoin:round; stroke-width:4; stroke-opacity:1; fill:none\" points=\"\n  216.089,1417.01 234.986,1417.01 \n  \"/>\n<polyline clip-path=\"url(#clip640)\" style=\"stroke:#000000; stroke-linecap:round; stroke-linejoin:round; stroke-width:4; stroke-opacity:1; fill:none\" points=\"\n  216.089,1151.21 234.986,1151.21 \n  \"/>\n<polyline clip-path=\"url(#clip640)\" style=\"stroke:#000000; stroke-linecap:round; stroke-linejoin:round; stroke-width:4; stroke-opacity:1; fill:none\" points=\"\n  216.089,885.399 234.986,885.399 \n  \"/>\n<polyline clip-path=\"url(#clip640)\" style=\"stroke:#000000; stroke-linecap:round; stroke-linejoin:round; stroke-width:4; stroke-opacity:1; fill:none\" points=\"\n  216.089,619.591 234.986,619.591 \n  \"/>\n<polyline clip-path=\"url(#clip640)\" style=\"stroke:#000000; stroke-linecap:round; stroke-linejoin:round; stroke-width:4; stroke-opacity:1; fill:none\" points=\"\n  216.089,353.784 234.986,353.784 \n  \"/>\n<polyline clip-path=\"url(#clip640)\" style=\"stroke:#000000; stroke-linecap:round; stroke-linejoin:round; stroke-width:4; stroke-opacity:1; fill:none\" points=\"\n  216.089,87.9763 234.986,87.9763 \n  \"/>\n<path clip-path=\"url(#clip640)\" d=\"M56.6171 1430.36 L72.9365 1430.36 L72.9365 1434.29 L50.9921 1434.29 L50.9921 1430.36 Q53.6541 1427.6 58.2375 1422.97 Q62.8439 1418.32 64.0245 1416.98 Q66.2698 1414.46 67.1494 1412.72 Q68.0522 1410.96 68.0522 1409.27 Q68.0522 1406.52 66.1078 1404.78 Q64.1865 1403.04 61.0847 1403.04 Q58.8856 1403.04 56.4319 1403.81 Q54.0014 1404.57 51.2236 1406.12 L51.2236 1401.4 Q54.0477 1400.27 56.5014 1399.69 Q58.955 1399.11 60.9921 1399.11 Q66.3624 1399.11 69.5568 1401.79 Q72.7513 1404.48 72.7513 1408.97 Q72.7513 1411.1 71.9411 1413.02 Q71.1541 1414.92 69.0476 1417.51 Q68.4689 1418.18 65.367 1421.4 Q62.2652 1424.59 56.6171 1430.36 Z\" fill=\"#000000\" fill-rule=\"evenodd\" fill-opacity=\"1\" /><path clip-path=\"url(#clip640)\" d=\"M81.5707 1399.73 L103.793 1399.73 L103.793 1401.72 L91.2465 1434.29 L86.3623 1434.29 L98.1678 1403.67 L81.5707 1403.67 L81.5707 1399.73 Z\" fill=\"#000000\" fill-rule=\"evenodd\" fill-opacity=\"1\" /><path clip-path=\"url(#clip640)\" d=\"M116.941 1430.36 L133.26 1430.36 L133.26 1434.29 L111.316 1434.29 L111.316 1430.36 Q113.978 1427.6 118.561 1422.97 Q123.168 1418.32 124.348 1416.98 Q126.594 1414.46 127.473 1412.72 Q128.376 1410.96 128.376 1409.27 Q128.376 1406.52 126.432 1404.78 Q124.51 1403.04 121.408 1403.04 Q119.209 1403.04 116.756 1403.81 Q114.325 1404.57 111.547 1406.12 L111.547 1401.4 Q114.371 1400.27 116.825 1399.69 Q119.279 1399.11 121.316 1399.11 Q126.686 1399.11 129.881 1401.79 Q133.075 1404.48 133.075 1408.97 Q133.075 1411.1 132.265 1413.02 Q131.478 1414.92 129.371 1417.51 Q128.793 1418.18 125.691 1421.4 Q122.589 1424.59 116.941 1430.36 Z\" fill=\"#000000\" fill-rule=\"evenodd\" fill-opacity=\"1\" /><path clip-path=\"url(#clip640)\" d=\"M143.075 1428.41 L147.959 1428.41 L147.959 1434.29 L143.075 1434.29 L143.075 1428.41 Z\" fill=\"#000000\" fill-rule=\"evenodd\" fill-opacity=\"1\" /><path clip-path=\"url(#clip640)\" d=\"M168.144 1402.81 Q164.533 1402.81 162.704 1406.38 Q160.899 1409.92 160.899 1417.05 Q160.899 1424.15 162.704 1427.72 Q164.533 1431.26 168.144 1431.26 Q171.779 1431.26 173.584 1427.72 Q175.413 1424.15 175.413 1417.05 Q175.413 1409.92 173.584 1406.38 Q171.779 1402.81 168.144 1402.81 M168.144 1399.11 Q173.954 1399.11 177.01 1403.71 Q180.089 1408.3 180.089 1417.05 Q180.089 1425.78 177.01 1430.38 Q173.954 1434.96 168.144 1434.96 Q162.334 1434.96 159.255 1430.38 Q156.2 1425.78 156.2 1417.05 Q156.2 1408.3 159.255 1403.71 Q162.334 1399.11 168.144 1399.11 Z\" fill=\"#000000\" fill-rule=\"evenodd\" fill-opacity=\"1\" /><path clip-path=\"url(#clip640)\" d=\"M57.6125 1164.55 L73.9318 1164.55 L73.9318 1168.49 L51.9875 1168.49 L51.9875 1164.55 Q54.6495 1161.8 59.2328 1157.17 Q63.8393 1152.51 65.0198 1151.17 Q67.2652 1148.65 68.1448 1146.91 Q69.0476 1145.15 69.0476 1143.46 Q69.0476 1140.71 67.1032 1138.97 Q65.1819 1137.24 62.08 1137.24 Q59.881 1137.24 57.4273 1138 Q54.9967 1138.76 52.219 1140.31 L52.219 1135.59 Q55.043 1134.46 57.4967 1133.88 Q59.9504 1133.3 61.9874 1133.3 Q67.3578 1133.3 70.5522 1135.99 Q73.7466 1138.67 73.7466 1143.16 Q73.7466 1145.29 72.9365 1147.21 Q72.1494 1149.11 70.0429 1151.7 Q69.4642 1152.38 66.3624 1155.59 Q63.2606 1158.79 57.6125 1164.55 Z\" fill=\"#000000\" fill-rule=\"evenodd\" fill-opacity=\"1\" /><path clip-path=\"url(#clip640)\" d=\"M82.566 1133.93 L104.788 1133.93 L104.788 1135.92 L92.2419 1168.49 L87.3577 1168.49 L99.1632 1137.86 L82.566 1137.86 L82.566 1133.93 Z\" fill=\"#000000\" fill-rule=\"evenodd\" fill-opacity=\"1\" /><path clip-path=\"url(#clip640)\" d=\"M117.936 1164.55 L134.256 1164.55 L134.256 1168.49 L112.311 1168.49 L112.311 1164.55 Q114.973 1161.8 119.557 1157.17 Q124.163 1152.51 125.344 1151.17 Q127.589 1148.65 128.469 1146.91 Q129.371 1145.15 129.371 1143.46 Q129.371 1140.71 127.427 1138.97 Q125.506 1137.24 122.404 1137.24 Q120.205 1137.24 117.751 1138 Q115.32 1138.76 112.543 1140.31 L112.543 1135.59 Q115.367 1134.46 117.82 1133.88 Q120.274 1133.3 122.311 1133.3 Q127.682 1133.3 130.876 1135.99 Q134.07 1138.67 134.07 1143.16 Q134.07 1145.29 133.26 1147.21 Q132.473 1149.11 130.367 1151.7 Q129.788 1152.38 126.686 1155.59 Q123.584 1158.79 117.936 1164.55 Z\" fill=\"#000000\" fill-rule=\"evenodd\" fill-opacity=\"1\" /><path clip-path=\"url(#clip640)\" d=\"M144.07 1162.61 L148.955 1162.61 L148.955 1168.49 L144.07 1168.49 L144.07 1162.61 Z\" fill=\"#000000\" fill-rule=\"evenodd\" fill-opacity=\"1\" /><path clip-path=\"url(#clip640)\" d=\"M159.186 1133.93 L177.542 1133.93 L177.542 1137.86 L163.468 1137.86 L163.468 1146.33 Q164.487 1145.99 165.505 1145.82 Q166.524 1145.64 167.542 1145.64 Q173.329 1145.64 176.709 1148.81 Q180.089 1151.98 180.089 1157.4 Q180.089 1162.98 176.616 1166.08 Q173.144 1169.16 166.825 1169.16 Q164.649 1169.16 162.38 1168.79 Q160.135 1168.42 157.728 1167.68 L157.728 1162.98 Q159.811 1164.11 162.033 1164.67 Q164.255 1165.22 166.732 1165.22 Q170.737 1165.22 173.075 1163.12 Q175.413 1161.01 175.413 1157.4 Q175.413 1153.79 173.075 1151.68 Q170.737 1149.57 166.732 1149.57 Q164.857 1149.57 162.982 1149.99 Q161.13 1150.41 159.186 1151.29 L159.186 1133.93 Z\" fill=\"#000000\" fill-rule=\"evenodd\" fill-opacity=\"1\" /><path clip-path=\"url(#clip640)\" d=\"M56.6171 898.743 L72.9365 898.743 L72.9365 902.679 L50.9921 902.679 L50.9921 898.743 Q53.6541 895.989 58.2375 891.359 Q62.8439 886.706 64.0245 885.364 Q66.2698 882.841 67.1494 881.105 Q68.0522 879.345 68.0522 877.656 Q68.0522 874.901 66.1078 873.165 Q64.1865 871.429 61.0847 871.429 Q58.8856 871.429 56.4319 872.193 Q54.0014 872.957 51.2236 874.507 L51.2236 869.785 Q54.0477 868.651 56.5014 868.072 Q58.955 867.494 60.9921 867.494 Q66.3624 867.494 69.5568 870.179 Q72.7513 872.864 72.7513 877.355 Q72.7513 879.484 71.9411 881.406 Q71.1541 883.304 69.0476 885.896 Q68.4689 886.568 65.367 889.785 Q62.2652 892.98 56.6171 898.743 Z\" fill=\"#000000\" fill-rule=\"evenodd\" fill-opacity=\"1\" /><path clip-path=\"url(#clip640)\" d=\"M81.5707 868.119 L103.793 868.119 L103.793 870.109 L91.2465 902.679 L86.3623 902.679 L98.1678 872.054 L81.5707 872.054 L81.5707 868.119 Z\" fill=\"#000000\" fill-rule=\"evenodd\" fill-opacity=\"1\" /><path clip-path=\"url(#clip640)\" d=\"M127.08 884.044 Q130.436 884.762 132.311 887.031 Q134.209 889.299 134.209 892.632 Q134.209 897.748 130.691 900.549 Q127.172 903.35 120.691 903.35 Q118.515 903.35 116.2 902.91 Q113.908 902.493 111.455 901.637 L111.455 897.123 Q113.399 898.257 115.714 898.836 Q118.029 899.415 120.552 899.415 Q124.95 899.415 127.242 897.679 Q129.557 895.943 129.557 892.632 Q129.557 889.577 127.404 887.864 Q125.274 886.128 121.455 886.128 L117.427 886.128 L117.427 882.285 L121.64 882.285 Q125.089 882.285 126.918 880.919 Q128.746 879.531 128.746 876.938 Q128.746 874.276 126.848 872.864 Q124.973 871.429 121.455 871.429 Q119.533 871.429 117.334 871.845 Q115.135 872.262 112.496 873.142 L112.496 868.975 Q115.158 868.234 117.473 867.864 Q119.811 867.494 121.871 867.494 Q127.195 867.494 130.297 869.924 Q133.399 872.332 133.399 876.452 Q133.399 879.322 131.756 881.313 Q130.112 883.281 127.08 884.044 Z\" fill=\"#000000\" fill-rule=\"evenodd\" fill-opacity=\"1\" /><path clip-path=\"url(#clip640)\" d=\"M143.075 896.799 L147.959 896.799 L147.959 902.679 L143.075 902.679 L143.075 896.799 Z\" fill=\"#000000\" fill-rule=\"evenodd\" fill-opacity=\"1\" /><path clip-path=\"url(#clip640)\" d=\"M168.144 871.197 Q164.533 871.197 162.704 874.762 Q160.899 878.304 160.899 885.433 Q160.899 892.54 162.704 896.105 Q164.533 899.646 168.144 899.646 Q171.779 899.646 173.584 896.105 Q175.413 892.54 175.413 885.433 Q175.413 878.304 173.584 874.762 Q171.779 871.197 168.144 871.197 M168.144 867.494 Q173.954 867.494 177.01 872.1 Q180.089 876.683 180.089 885.433 Q180.089 894.16 177.01 898.767 Q173.954 903.35 168.144 903.35 Q162.334 903.35 159.255 898.767 Q156.2 894.16 156.2 885.433 Q156.2 876.683 159.255 872.1 Q162.334 867.494 168.144 867.494 Z\" fill=\"#000000\" fill-rule=\"evenodd\" fill-opacity=\"1\" /><path clip-path=\"url(#clip640)\" d=\"M57.6125 632.936 L73.9318 632.936 L73.9318 636.871 L51.9875 636.871 L51.9875 632.936 Q54.6495 630.181 59.2328 625.552 Q63.8393 620.899 65.0198 619.556 Q67.2652 617.033 68.1448 615.297 Q69.0476 613.538 69.0476 611.848 Q69.0476 609.094 67.1032 607.357 Q65.1819 605.621 62.08 605.621 Q59.881 605.621 57.4273 606.385 Q54.9967 607.149 52.219 608.7 L52.219 603.978 Q55.043 602.844 57.4967 602.265 Q59.9504 601.686 61.9874 601.686 Q67.3578 601.686 70.5522 604.371 Q73.7466 607.057 73.7466 611.547 Q73.7466 613.677 72.9365 615.598 Q72.1494 617.496 70.0429 620.089 Q69.4642 620.76 66.3624 623.978 Q63.2606 627.172 57.6125 632.936 Z\" fill=\"#000000\" fill-rule=\"evenodd\" fill-opacity=\"1\" /><path clip-path=\"url(#clip640)\" d=\"M82.566 602.311 L104.788 602.311 L104.788 604.302 L92.2419 636.871 L87.3577 636.871 L99.1632 606.246 L82.566 606.246 L82.566 602.311 Z\" fill=\"#000000\" fill-rule=\"evenodd\" fill-opacity=\"1\" /><path clip-path=\"url(#clip640)\" d=\"M128.075 618.237 Q131.432 618.955 133.306 621.223 Q135.205 623.492 135.205 626.825 Q135.205 631.941 131.686 634.742 Q128.168 637.542 121.686 637.542 Q119.51 637.542 117.195 637.103 Q114.904 636.686 112.45 635.83 L112.45 631.316 Q114.395 632.45 116.709 633.029 Q119.024 633.607 121.547 633.607 Q125.945 633.607 128.237 631.871 Q130.552 630.135 130.552 626.825 Q130.552 623.769 128.399 622.056 Q126.27 620.32 122.45 620.32 L118.422 620.32 L118.422 616.478 L122.635 616.478 Q126.084 616.478 127.913 615.112 Q129.742 613.723 129.742 611.131 Q129.742 608.469 127.844 607.057 Q125.969 605.621 122.45 605.621 Q120.529 605.621 118.33 606.038 Q116.131 606.455 113.492 607.334 L113.492 603.168 Q116.154 602.427 118.469 602.057 Q120.807 601.686 122.867 601.686 Q128.191 601.686 131.293 604.117 Q134.394 606.524 134.394 610.644 Q134.394 613.515 132.751 615.506 Q131.107 617.473 128.075 618.237 Z\" fill=\"#000000\" fill-rule=\"evenodd\" fill-opacity=\"1\" /><path clip-path=\"url(#clip640)\" d=\"M144.07 630.992 L148.955 630.992 L148.955 636.871 L144.07 636.871 L144.07 630.992 Z\" fill=\"#000000\" fill-rule=\"evenodd\" fill-opacity=\"1\" /><path clip-path=\"url(#clip640)\" d=\"M159.186 602.311 L177.542 602.311 L177.542 606.246 L163.468 606.246 L163.468 614.719 Q164.487 614.371 165.505 614.209 Q166.524 614.024 167.542 614.024 Q173.329 614.024 176.709 617.195 Q180.089 620.367 180.089 625.783 Q180.089 631.362 176.616 634.464 Q173.144 637.542 166.825 637.542 Q164.649 637.542 162.38 637.172 Q160.135 636.802 157.728 636.061 L157.728 631.362 Q159.811 632.496 162.033 633.052 Q164.255 633.607 166.732 633.607 Q170.737 633.607 173.075 631.501 Q175.413 629.394 175.413 625.783 Q175.413 622.172 173.075 620.066 Q170.737 617.959 166.732 617.959 Q164.857 617.959 162.982 618.376 Q161.13 618.793 159.186 619.672 L159.186 602.311 Z\" fill=\"#000000\" fill-rule=\"evenodd\" fill-opacity=\"1\" /><path clip-path=\"url(#clip640)\" d=\"M56.6171 367.129 L72.9365 367.129 L72.9365 371.064 L50.9921 371.064 L50.9921 367.129 Q53.6541 364.374 58.2375 359.744 Q62.8439 355.092 64.0245 353.749 Q66.2698 351.226 67.1494 349.49 Q68.0522 347.731 68.0522 346.041 Q68.0522 343.286 66.1078 341.55 Q64.1865 339.814 61.0847 339.814 Q58.8856 339.814 56.4319 340.578 Q54.0014 341.342 51.2236 342.893 L51.2236 338.17 Q54.0477 337.036 56.5014 336.457 Q58.955 335.879 60.9921 335.879 Q66.3624 335.879 69.5568 338.564 Q72.7513 341.249 72.7513 345.74 Q72.7513 347.869 71.9411 349.791 Q71.1541 351.689 69.0476 354.281 Q68.4689 354.953 65.367 358.17 Q62.2652 361.365 56.6171 367.129 Z\" fill=\"#000000\" fill-rule=\"evenodd\" fill-opacity=\"1\" /><path clip-path=\"url(#clip640)\" d=\"M81.5707 336.504 L103.793 336.504 L103.793 338.494 L91.2465 371.064 L86.3623 371.064 L98.1678 340.439 L81.5707 340.439 L81.5707 336.504 Z\" fill=\"#000000\" fill-rule=\"evenodd\" fill-opacity=\"1\" /><path clip-path=\"url(#clip640)\" d=\"M125.76 340.578 L113.955 359.027 L125.76 359.027 L125.76 340.578 M124.533 336.504 L130.413 336.504 L130.413 359.027 L135.344 359.027 L135.344 362.916 L130.413 362.916 L130.413 371.064 L125.76 371.064 L125.76 362.916 L110.158 362.916 L110.158 358.402 L124.533 336.504 Z\" fill=\"#000000\" fill-rule=\"evenodd\" fill-opacity=\"1\" /><path clip-path=\"url(#clip640)\" d=\"M143.075 365.184 L147.959 365.184 L147.959 371.064 L143.075 371.064 L143.075 365.184 Z\" fill=\"#000000\" fill-rule=\"evenodd\" fill-opacity=\"1\" /><path clip-path=\"url(#clip640)\" d=\"M168.144 339.582 Q164.533 339.582 162.704 343.147 Q160.899 346.689 160.899 353.818 Q160.899 360.925 162.704 364.49 Q164.533 368.031 168.144 368.031 Q171.779 368.031 173.584 364.49 Q175.413 360.925 175.413 353.818 Q175.413 346.689 173.584 343.147 Q171.779 339.582 168.144 339.582 M168.144 335.879 Q173.954 335.879 177.01 340.485 Q180.089 345.068 180.089 353.818 Q180.089 362.545 177.01 367.152 Q173.954 371.735 168.144 371.735 Q162.334 371.735 159.255 367.152 Q156.2 362.545 156.2 353.818 Q156.2 345.068 159.255 340.485 Q162.334 335.879 168.144 335.879 Z\" fill=\"#000000\" fill-rule=\"evenodd\" fill-opacity=\"1\" /><path clip-path=\"url(#clip640)\" d=\"M57.6125 101.321 L73.9318 101.321 L73.9318 105.256 L51.9875 105.256 L51.9875 101.321 Q54.6495 98.5665 59.2328 93.9369 Q63.8393 89.2841 65.0198 87.9416 Q67.2652 85.4184 68.1448 83.6823 Q69.0476 81.9231 69.0476 80.2333 Q69.0476 77.4786 67.1032 75.7425 Q65.1819 74.0064 62.08 74.0064 Q59.881 74.0064 57.4273 74.7703 Q54.9967 75.5342 52.219 77.0851 L52.219 72.3629 Q55.043 71.2287 57.4967 70.65 Q59.9504 70.0713 61.9874 70.0713 Q67.3578 70.0713 70.5522 72.7565 Q73.7466 75.4416 73.7466 79.9323 Q73.7466 82.062 72.9365 83.9832 Q72.1494 85.8814 70.0429 88.474 Q69.4642 89.1453 66.3624 92.3628 Q63.2606 95.5573 57.6125 101.321 Z\" fill=\"#000000\" fill-rule=\"evenodd\" fill-opacity=\"1\" /><path clip-path=\"url(#clip640)\" d=\"M82.566 70.6963 L104.788 70.6963 L104.788 72.687 L92.2419 105.256 L87.3577 105.256 L99.1632 74.6314 L82.566 74.6314 L82.566 70.6963 Z\" fill=\"#000000\" fill-rule=\"evenodd\" fill-opacity=\"1\" /><path clip-path=\"url(#clip640)\" d=\"M126.756 74.7703 L114.95 93.2193 L126.756 93.2193 L126.756 74.7703 M125.529 70.6963 L131.408 70.6963 L131.408 93.2193 L136.339 93.2193 L136.339 97.1082 L131.408 97.1082 L131.408 105.256 L126.756 105.256 L126.756 97.1082 L111.154 97.1082 L111.154 92.5943 L125.529 70.6963 Z\" fill=\"#000000\" fill-rule=\"evenodd\" fill-opacity=\"1\" /><path clip-path=\"url(#clip640)\" d=\"M144.07 99.3767 L148.955 99.3767 L148.955 105.256 L144.07 105.256 L144.07 99.3767 Z\" fill=\"#000000\" fill-rule=\"evenodd\" fill-opacity=\"1\" /><path clip-path=\"url(#clip640)\" d=\"M159.186 70.6963 L177.542 70.6963 L177.542 74.6314 L163.468 74.6314 L163.468 83.1036 Q164.487 82.7564 165.505 82.5944 Q166.524 82.4092 167.542 82.4092 Q173.329 82.4092 176.709 85.5805 Q180.089 88.7517 180.089 94.1684 Q180.089 99.747 176.616 102.849 Q173.144 105.928 166.825 105.928 Q164.649 105.928 162.38 105.557 Q160.135 105.187 157.728 104.446 L157.728 99.747 Q159.811 100.881 162.033 101.437 Q164.255 101.992 166.732 101.992 Q170.737 101.992 173.075 99.8859 Q175.413 97.7795 175.413 94.1684 Q175.413 90.5573 173.075 88.4508 Q170.737 86.3443 166.732 86.3443 Q164.857 86.3443 162.982 86.761 Q161.13 87.1777 159.186 88.0573 L159.186 70.6963 Z\" fill=\"#000000\" fill-rule=\"evenodd\" fill-opacity=\"1\" /><polyline clip-path=\"url(#clip642)\" style=\"stroke:#009af9; stroke-linecap:round; stroke-linejoin:round; stroke-width:4; stroke-opacity:1; fill:none\" points=\"\n  276.56,619.591 377.347,481.999 478.133,353.784 578.919,243.683 679.705,159.199 780.491,106.091 881.278,87.9763 982.064,106.091 1082.85,159.199 1183.64,243.683 \n  1284.42,353.784 1385.21,481.999 1485.99,619.591 1586.78,757.183 1687.57,885.399 1788.35,995.5 1889.14,1079.98 1989.93,1133.09 2090.71,1151.21 2191.5,1133.09 \n  2292.28,1079.98 \n  \"/>\n<polyline clip-path=\"url(#clip642)\" style=\"stroke:#e26f46; stroke-linecap:round; stroke-linejoin:round; stroke-width:4; stroke-opacity:1; fill:none\" points=\"\n  276.56,672.753 377.347,549.077 478.133,434.768 578.919,338.554 679.705,267.93 780.491,228.642 881.278,224.301 982.064,256.131 1082.85,322.89 1183.64,420.947 \n  1284.42,544.537 1385.21,686.147 1485.99,837.031 1586.78,987.801 1687.57,1129.07 1788.35,1252.1 1889.14,1349.37 1989.93,1415.12 2090.71,1445.72 2191.5,1439.92 \n  2292.28,1398.95 \n  \"/>\n<path clip-path=\"url(#clip640)\" d=\"\nM1763.2 250.738 L2281.53 250.738 L2281.53 95.2176 L1763.2 95.2176  Z\n  \" fill=\"#ffffff\" fill-rule=\"evenodd\" fill-opacity=\"1\"/>\n<polyline clip-path=\"url(#clip640)\" style=\"stroke:#000000; stroke-linecap:round; stroke-linejoin:round; stroke-width:4; stroke-opacity:1; fill:none\" points=\"\n  1763.2,250.738 2281.53,250.738 2281.53,95.2176 1763.2,95.2176 1763.2,250.738 \n  \"/>\n<polyline clip-path=\"url(#clip640)\" style=\"stroke:#009af9; stroke-linecap:round; stroke-linejoin:round; stroke-width:4; stroke-opacity:1; fill:none\" points=\"\n  1786.94,147.058 1929.39,147.058 \n  \"/>\n<path clip-path=\"url(#clip640)\" d=\"M1953.13 129.778 L1982.36 129.778 L1982.36 133.713 L1970.1 133.713 L1970.1 164.338 L1965.4 164.338 L1965.4 133.713 L1953.13 133.713 L1953.13 129.778 Z\" fill=\"#000000\" fill-rule=\"evenodd\" fill-opacity=\"1\" /><path clip-path=\"url(#clip640)\" d=\"M2006.39 172.208 L2006.39 175.518 L1981.76 175.518 L1981.76 172.208 L2006.39 172.208 Z\" fill=\"#000000\" fill-rule=\"evenodd\" fill-opacity=\"1\" /><path clip-path=\"url(#clip640)\" d=\"M2010.4 138.412 L2014.66 138.412 L2014.66 164.338 L2010.4 164.338 L2010.4 138.412 M2010.4 128.319 L2014.66 128.319 L2014.66 133.713 L2010.4 133.713 L2010.4 128.319 Z\" fill=\"#000000\" fill-rule=\"evenodd\" fill-opacity=\"1\" /><path clip-path=\"url(#clip640)\" d=\"M2045.12 148.689 L2045.12 164.338 L2040.86 164.338 L2040.86 148.828 Q2040.86 145.148 2039.42 143.319 Q2037.99 141.49 2035.12 141.49 Q2031.67 141.49 2029.68 143.69 Q2027.69 145.889 2027.69 149.685 L2027.69 164.338 L2023.41 164.338 L2023.41 138.412 L2027.69 138.412 L2027.69 142.44 Q2029.22 140.102 2031.28 138.944 Q2033.36 137.787 2036.07 137.787 Q2040.53 137.787 2042.83 140.565 Q2045.12 143.319 2045.12 148.689 Z\" fill=\"#000000\" fill-rule=\"evenodd\" fill-opacity=\"1\" /><path clip-path=\"url(#clip640)\" d=\"M2073.31 172.208 L2073.31 175.518 L2048.68 175.518 L2048.68 172.208 L2073.31 172.208 Z\" fill=\"#000000\" fill-rule=\"evenodd\" fill-opacity=\"1\" /><path clip-path=\"url(#clip640)\" d=\"M2097.5 143.389 Q2099.1 140.518 2101.32 139.153 Q2103.54 137.787 2106.55 137.787 Q2110.6 137.787 2112.8 140.634 Q2115 143.458 2115 148.689 L2115 164.338 L2110.72 164.338 L2110.72 148.828 Q2110.72 145.102 2109.4 143.296 Q2108.08 141.49 2105.37 141.49 Q2102.06 141.49 2100.14 143.69 Q2098.22 145.889 2098.22 149.685 L2098.22 164.338 L2093.94 164.338 L2093.94 148.828 Q2093.94 145.078 2092.62 143.296 Q2091.3 141.49 2088.54 141.49 Q2085.28 141.49 2083.36 143.713 Q2081.44 145.912 2081.44 149.685 L2081.44 164.338 L2077.15 164.338 L2077.15 138.412 L2081.44 138.412 L2081.44 142.44 Q2082.9 140.055 2084.93 138.921 Q2086.97 137.787 2089.77 137.787 Q2092.59 137.787 2094.56 139.222 Q2096.55 140.657 2097.5 143.389 Z\" fill=\"#000000\" fill-rule=\"evenodd\" fill-opacity=\"1\" /><path clip-path=\"url(#clip640)\" d=\"M2145.67 150.31 L2145.67 152.393 L2126.09 152.393 Q2126.37 156.791 2128.73 159.106 Q2131.11 161.398 2135.35 161.398 Q2137.8 161.398 2140.09 160.796 Q2142.41 160.194 2144.68 158.99 L2144.68 163.018 Q2142.39 163.99 2139.98 164.5 Q2137.57 165.009 2135.09 165.009 Q2128.89 165.009 2125.26 161.398 Q2121.65 157.787 2121.65 151.629 Q2121.65 145.264 2125.07 141.537 Q2128.52 137.787 2134.35 137.787 Q2139.59 137.787 2142.62 141.166 Q2145.67 144.523 2145.67 150.31 M2141.41 149.06 Q2141.37 145.565 2139.45 143.481 Q2137.55 141.398 2134.4 141.398 Q2130.84 141.398 2128.68 143.412 Q2126.55 145.426 2126.23 149.083 L2141.41 149.06 Z\" fill=\"#000000\" fill-rule=\"evenodd\" fill-opacity=\"1\" /><path clip-path=\"url(#clip640)\" d=\"M2164.45 151.305 Q2159.28 151.305 2157.29 152.486 Q2155.3 153.666 2155.3 156.514 Q2155.3 158.782 2156.78 160.125 Q2158.29 161.444 2160.86 161.444 Q2164.4 161.444 2166.53 158.944 Q2168.68 156.421 2168.68 152.254 L2168.68 151.305 L2164.45 151.305 M2172.94 149.546 L2172.94 164.338 L2168.68 164.338 L2168.68 160.402 Q2167.22 162.763 2165.05 163.898 Q2162.87 165.009 2159.72 165.009 Q2155.74 165.009 2153.38 162.787 Q2151.04 160.541 2151.04 156.791 Q2151.04 152.416 2153.96 150.194 Q2156.9 147.972 2162.71 147.972 L2168.68 147.972 L2168.68 147.555 Q2168.68 144.615 2166.74 143.018 Q2164.82 141.398 2161.32 141.398 Q2159.1 141.398 2156.99 141.93 Q2154.89 142.463 2152.94 143.527 L2152.94 139.592 Q2155.28 138.69 2157.48 138.25 Q2159.68 137.787 2161.76 137.787 Q2167.39 137.787 2170.16 140.703 Q2172.94 143.62 2172.94 149.546 Z\" fill=\"#000000\" fill-rule=\"evenodd\" fill-opacity=\"1\" /><path clip-path=\"url(#clip640)\" d=\"M2198.24 139.176 L2198.24 143.203 Q2196.44 142.277 2194.49 141.815 Q2192.55 141.352 2190.46 141.352 Q2187.29 141.352 2185.7 142.324 Q2184.12 143.296 2184.12 145.24 Q2184.12 146.722 2185.26 147.578 Q2186.39 148.412 2189.82 149.176 L2191.27 149.5 Q2195.81 150.472 2197.71 152.254 Q2199.63 154.014 2199.63 157.185 Q2199.63 160.796 2196.76 162.902 Q2193.91 165.009 2188.91 165.009 Q2186.83 165.009 2184.56 164.592 Q2182.32 164.199 2179.82 163.388 L2179.82 158.99 Q2182.18 160.217 2184.47 160.842 Q2186.76 161.444 2189.01 161.444 Q2192.02 161.444 2193.64 160.426 Q2195.26 159.384 2195.26 157.509 Q2195.26 155.773 2194.08 154.847 Q2192.92 153.921 2188.96 153.064 L2187.48 152.717 Q2183.52 151.884 2181.76 150.171 Q2180 148.435 2180 145.426 Q2180 141.768 2182.59 139.778 Q2185.19 137.787 2189.96 137.787 Q2192.32 137.787 2194.4 138.134 Q2196.48 138.481 2198.24 139.176 Z\" fill=\"#000000\" fill-rule=\"evenodd\" fill-opacity=\"1\" /><polyline clip-path=\"url(#clip640)\" style=\"stroke:#e26f46; stroke-linecap:round; stroke-linejoin:round; stroke-width:4; stroke-opacity:1; fill:none\" points=\"\n  1786.94,198.898 1929.39,198.898 \n  \"/>\n<path clip-path=\"url(#clip640)\" d=\"M1953.13 181.618 L1982.36 181.618 L1982.36 185.553 L1970.1 185.553 L1970.1 216.178 L1965.4 216.178 L1965.4 185.553 L1953.13 185.553 L1953.13 181.618 Z\" fill=\"#000000\" fill-rule=\"evenodd\" fill-opacity=\"1\" /><path clip-path=\"url(#clip640)\" d=\"M2006.39 224.048 L2006.39 227.358 L1981.76 227.358 L1981.76 224.048 L2006.39 224.048 Z\" fill=\"#000000\" fill-rule=\"evenodd\" fill-opacity=\"1\" /><path clip-path=\"url(#clip640)\" d=\"M2020.44 193.238 Q2017.02 193.238 2015.03 195.923 Q2013.03 198.585 2013.03 203.238 Q2013.03 207.891 2015 210.576 Q2016.99 213.238 2020.44 213.238 Q2023.84 213.238 2025.84 210.553 Q2027.83 207.867 2027.83 203.238 Q2027.83 198.631 2025.84 195.946 Q2023.84 193.238 2020.44 193.238 M2020.44 189.627 Q2026 189.627 2029.17 193.238 Q2032.34 196.849 2032.34 203.238 Q2032.34 209.604 2029.17 213.238 Q2026 216.849 2020.44 216.849 Q2014.86 216.849 2011.69 213.238 Q2008.54 209.604 2008.54 203.238 Q2008.54 196.849 2011.69 193.238 Q2014.86 189.627 2020.44 189.627 Z\" fill=\"#000000\" fill-rule=\"evenodd\" fill-opacity=\"1\" /><path clip-path=\"url(#clip640)\" d=\"M2038.96 205.946 L2038.96 190.252 L2043.22 190.252 L2043.22 205.784 Q2043.22 209.465 2044.66 211.316 Q2046.09 213.145 2048.96 213.145 Q2052.41 213.145 2054.4 210.946 Q2056.41 208.747 2056.41 204.951 L2056.41 190.252 L2060.67 190.252 L2060.67 216.178 L2056.41 216.178 L2056.41 212.196 Q2054.86 214.557 2052.8 215.715 Q2050.77 216.849 2048.06 216.849 Q2043.59 216.849 2041.28 214.071 Q2038.96 211.293 2038.96 205.946 M2049.68 189.627 L2049.68 189.627 Z\" fill=\"#000000\" fill-rule=\"evenodd\" fill-opacity=\"1\" /><path clip-path=\"url(#clip640)\" d=\"M2073.66 182.891 L2073.66 190.252 L2082.43 190.252 L2082.43 193.562 L2073.66 193.562 L2073.66 207.636 Q2073.66 210.807 2074.52 211.71 Q2075.4 212.613 2078.06 212.613 L2082.43 212.613 L2082.43 216.178 L2078.06 216.178 Q2073.13 216.178 2071.25 214.349 Q2069.38 212.497 2069.38 207.636 L2069.38 193.562 L2066.25 193.562 L2066.25 190.252 L2069.38 190.252 L2069.38 182.891 L2073.66 182.891 Z\" fill=\"#000000\" fill-rule=\"evenodd\" fill-opacity=\"1\" /><path clip-path=\"url(#clip640)\" d=\"M2107.73 224.048 L2107.73 227.358 L2083.1 227.358 L2083.1 224.048 L2107.73 224.048 Z\" fill=\"#000000\" fill-rule=\"evenodd\" fill-opacity=\"1\" /><path clip-path=\"url(#clip640)\" d=\"M2131.92 195.229 Q2133.52 192.358 2135.74 190.993 Q2137.96 189.627 2140.97 189.627 Q2145.02 189.627 2147.22 192.474 Q2149.42 195.298 2149.42 200.529 L2149.42 216.178 L2145.14 216.178 L2145.14 200.668 Q2145.14 196.942 2143.82 195.136 Q2142.5 193.33 2139.79 193.33 Q2136.48 193.33 2134.56 195.53 Q2132.64 197.729 2132.64 201.525 L2132.64 216.178 L2128.36 216.178 L2128.36 200.668 Q2128.36 196.918 2127.04 195.136 Q2125.72 193.33 2122.96 193.33 Q2119.7 193.33 2117.78 195.553 Q2115.86 197.752 2115.86 201.525 L2115.86 216.178 L2111.58 216.178 L2111.58 190.252 L2115.86 190.252 L2115.86 194.28 Q2117.32 191.895 2119.35 190.761 Q2121.39 189.627 2124.19 189.627 Q2127.02 189.627 2128.98 191.062 Q2130.97 192.497 2131.92 195.229 Z\" fill=\"#000000\" fill-rule=\"evenodd\" fill-opacity=\"1\" /><path clip-path=\"url(#clip640)\" d=\"M2180.09 202.15 L2180.09 204.233 L2160.51 204.233 Q2160.79 208.631 2163.15 210.946 Q2165.53 213.238 2169.77 213.238 Q2172.22 213.238 2174.52 212.636 Q2176.83 212.034 2179.1 210.83 L2179.1 214.858 Q2176.81 215.83 2174.4 216.34 Q2171.99 216.849 2169.52 216.849 Q2163.31 216.849 2159.68 213.238 Q2156.07 209.627 2156.07 203.469 Q2156.07 197.104 2159.49 193.377 Q2162.94 189.627 2168.77 189.627 Q2174.01 189.627 2177.04 193.006 Q2180.09 196.363 2180.09 202.15 M2175.83 200.9 Q2175.79 197.405 2173.87 195.321 Q2171.97 193.238 2168.82 193.238 Q2165.26 193.238 2163.1 195.252 Q2160.97 197.266 2160.65 200.923 L2175.83 200.9 Z\" fill=\"#000000\" fill-rule=\"evenodd\" fill-opacity=\"1\" /><path clip-path=\"url(#clip640)\" d=\"M2198.87 203.145 Q2193.71 203.145 2191.71 204.326 Q2189.72 205.506 2189.72 208.354 Q2189.72 210.622 2191.21 211.965 Q2192.71 213.284 2195.28 213.284 Q2198.82 213.284 2200.95 210.784 Q2203.1 208.261 2203.1 204.094 L2203.1 203.145 L2198.87 203.145 M2207.36 201.386 L2207.36 216.178 L2203.1 216.178 L2203.1 212.242 Q2201.64 214.603 2199.47 215.738 Q2197.29 216.849 2194.14 216.849 Q2190.16 216.849 2187.8 214.627 Q2185.46 212.381 2185.46 208.631 Q2185.46 204.256 2188.38 202.034 Q2191.32 199.812 2197.13 199.812 L2203.1 199.812 L2203.1 199.395 Q2203.1 196.455 2201.16 194.858 Q2199.24 193.238 2195.74 193.238 Q2193.52 193.238 2191.41 193.77 Q2189.31 194.303 2187.36 195.367 L2187.36 191.432 Q2189.7 190.53 2191.9 190.09 Q2194.1 189.627 2196.18 189.627 Q2201.81 189.627 2204.58 192.543 Q2207.36 195.46 2207.36 201.386 Z\" fill=\"#000000\" fill-rule=\"evenodd\" fill-opacity=\"1\" /><path clip-path=\"url(#clip640)\" d=\"M2232.66 191.016 L2232.66 195.043 Q2230.86 194.117 2228.91 193.655 Q2226.97 193.192 2224.89 193.192 Q2221.71 193.192 2220.12 194.164 Q2218.54 195.136 2218.54 197.08 Q2218.54 198.562 2219.68 199.418 Q2220.81 200.252 2224.24 201.016 L2225.7 201.34 Q2230.23 202.312 2232.13 204.094 Q2234.05 205.854 2234.05 209.025 Q2234.05 212.636 2231.18 214.742 Q2228.33 216.849 2223.33 216.849 Q2221.25 216.849 2218.98 216.432 Q2216.74 216.039 2214.24 215.228 L2214.24 210.83 Q2216.6 212.057 2218.89 212.682 Q2221.18 213.284 2223.43 213.284 Q2226.44 213.284 2228.06 212.266 Q2229.68 211.224 2229.68 209.349 Q2229.68 207.613 2228.5 206.687 Q2227.34 205.761 2223.38 204.904 L2221.9 204.557 Q2217.94 203.724 2216.18 202.011 Q2214.42 200.275 2214.42 197.266 Q2214.42 193.608 2217.02 191.618 Q2219.61 189.627 2224.38 189.627 Q2226.74 189.627 2228.82 189.974 Q2230.9 190.321 2232.66 191.016 Z\" fill=\"#000000\" fill-rule=\"evenodd\" fill-opacity=\"1\" /></svg>\n",
      "text/html": [
       "<?xml version=\"1.0\" encoding=\"utf-8\"?>\n",
       "<svg xmlns=\"http://www.w3.org/2000/svg\" xmlns:xlink=\"http://www.w3.org/1999/xlink\" width=\"600\" height=\"400\" viewBox=\"0 0 2400 1600\">\n",
       "<defs>\n",
       "  <clipPath id=\"clip690\">\n",
       "    <rect x=\"0\" y=\"0\" width=\"2400\" height=\"1600\"/>\n",
       "  </clipPath>\n",
       "</defs>\n",
       "<path clip-path=\"url(#clip690)\" d=\"\n",
       "M0 1600 L2400 1600 L2400 0 L0 0  Z\n",
       "  \" fill=\"#ffffff\" fill-rule=\"evenodd\" fill-opacity=\"1\"/>\n",
       "<defs>\n",
       "  <clipPath id=\"clip691\">\n",
       "    <rect x=\"480\" y=\"0\" width=\"1681\" height=\"1600\"/>\n",
       "  </clipPath>\n",
       "</defs>\n",
       "<path clip-path=\"url(#clip690)\" d=\"\n",
       "M216.089 1486.45 L2352.76 1486.45 L2352.76 47.2441 L216.089 47.2441  Z\n",
       "  \" fill=\"#ffffff\" fill-rule=\"evenodd\" fill-opacity=\"1\"/>\n",
       "<defs>\n",
       "  <clipPath id=\"clip692\">\n",
       "    <rect x=\"216\" y=\"47\" width=\"2138\" height=\"1440\"/>\n",
       "  </clipPath>\n",
       "</defs>\n",
       "<polyline clip-path=\"url(#clip692)\" style=\"stroke:#000000; stroke-linecap:round; stroke-linejoin:round; stroke-width:2; stroke-opacity:0.1; fill:none\" points=\"\n",
       "  276.56,1486.45 276.56,47.2441 \n",
       "  \"/>\n",
       "<polyline clip-path=\"url(#clip692)\" style=\"stroke:#000000; stroke-linecap:round; stroke-linejoin:round; stroke-width:2; stroke-opacity:0.1; fill:none\" points=\"\n",
       "  948.468,1486.45 948.468,47.2441 \n",
       "  \"/>\n",
       "<polyline clip-path=\"url(#clip692)\" style=\"stroke:#000000; stroke-linecap:round; stroke-linejoin:round; stroke-width:2; stroke-opacity:0.1; fill:none\" points=\"\n",
       "  1620.38,1486.45 1620.38,47.2441 \n",
       "  \"/>\n",
       "<polyline clip-path=\"url(#clip692)\" style=\"stroke:#000000; stroke-linecap:round; stroke-linejoin:round; stroke-width:2; stroke-opacity:0.1; fill:none\" points=\"\n",
       "  2292.28,1486.45 2292.28,47.2441 \n",
       "  \"/>\n",
       "<polyline clip-path=\"url(#clip690)\" style=\"stroke:#000000; stroke-linecap:round; stroke-linejoin:round; stroke-width:4; stroke-opacity:1; fill:none\" points=\"\n",
       "  216.089,1486.45 2352.76,1486.45 \n",
       "  \"/>\n",
       "<polyline clip-path=\"url(#clip690)\" style=\"stroke:#000000; stroke-linecap:round; stroke-linejoin:round; stroke-width:4; stroke-opacity:1; fill:none\" points=\"\n",
       "  276.56,1486.45 276.56,1467.55 \n",
       "  \"/>\n",
       "<polyline clip-path=\"url(#clip690)\" style=\"stroke:#000000; stroke-linecap:round; stroke-linejoin:round; stroke-width:4; stroke-opacity:1; fill:none\" points=\"\n",
       "  948.468,1486.45 948.468,1467.55 \n",
       "  \"/>\n",
       "<polyline clip-path=\"url(#clip690)\" style=\"stroke:#000000; stroke-linecap:round; stroke-linejoin:round; stroke-width:4; stroke-opacity:1; fill:none\" points=\"\n",
       "  1620.38,1486.45 1620.38,1467.55 \n",
       "  \"/>\n",
       "<polyline clip-path=\"url(#clip690)\" style=\"stroke:#000000; stroke-linecap:round; stroke-linejoin:round; stroke-width:4; stroke-opacity:1; fill:none\" points=\"\n",
       "  2292.28,1486.45 2292.28,1467.55 \n",
       "  \"/>\n",
       "<path clip-path=\"url(#clip690)\" d=\"M276.56 1517.37 Q272.949 1517.37 271.121 1520.93 Q269.315 1524.47 269.315 1531.6 Q269.315 1538.71 271.121 1542.27 Q272.949 1545.82 276.56 1545.82 Q280.195 1545.82 282 1542.27 Q283.829 1538.71 283.829 1531.6 Q283.829 1524.47 282 1520.93 Q280.195 1517.37 276.56 1517.37 M276.56 1513.66 Q282.371 1513.66 285.426 1518.27 Q288.505 1522.85 288.505 1531.6 Q288.505 1540.33 285.426 1544.94 Q282.371 1549.52 276.56 1549.52 Q270.75 1549.52 267.672 1544.94 Q264.616 1540.33 264.616 1531.6 Q264.616 1522.85 267.672 1518.27 Q270.75 1513.66 276.56 1513.66 Z\" fill=\"#000000\" fill-rule=\"evenodd\" fill-opacity=\"1\" /><path clip-path=\"url(#clip690)\" d=\"M908.075 1544.91 L915.714 1544.91 L915.714 1518.55 L907.404 1520.21 L907.404 1515.95 L915.668 1514.29 L920.343 1514.29 L920.343 1544.91 L927.982 1544.91 L927.982 1548.85 L908.075 1548.85 L908.075 1544.91 Z\" fill=\"#000000\" fill-rule=\"evenodd\" fill-opacity=\"1\" /><path clip-path=\"url(#clip690)\" d=\"M947.427 1517.37 Q943.816 1517.37 941.987 1520.93 Q940.181 1524.47 940.181 1531.6 Q940.181 1538.71 941.987 1542.27 Q943.816 1545.82 947.427 1545.82 Q951.061 1545.82 952.866 1542.27 Q954.695 1538.71 954.695 1531.6 Q954.695 1524.47 952.866 1520.93 Q951.061 1517.37 947.427 1517.37 M947.427 1513.66 Q953.237 1513.66 956.292 1518.27 Q959.371 1522.85 959.371 1531.6 Q959.371 1540.33 956.292 1544.94 Q953.237 1549.52 947.427 1549.52 Q941.616 1549.52 938.538 1544.94 Q935.482 1540.33 935.482 1531.6 Q935.482 1522.85 938.538 1518.27 Q941.616 1513.66 947.427 1513.66 Z\" fill=\"#000000\" fill-rule=\"evenodd\" fill-opacity=\"1\" /><path clip-path=\"url(#clip690)\" d=\"M977.589 1517.37 Q973.977 1517.37 972.149 1520.93 Q970.343 1524.47 970.343 1531.6 Q970.343 1538.71 972.149 1542.27 Q973.977 1545.82 977.589 1545.82 Q981.223 1545.82 983.028 1542.27 Q984.857 1538.71 984.857 1531.6 Q984.857 1524.47 983.028 1520.93 Q981.223 1517.37 977.589 1517.37 M977.589 1513.66 Q983.399 1513.66 986.454 1518.27 Q989.533 1522.85 989.533 1531.6 Q989.533 1540.33 986.454 1544.94 Q983.399 1549.52 977.589 1549.52 Q971.778 1549.52 968.7 1544.94 Q965.644 1540.33 965.644 1531.6 Q965.644 1522.85 968.7 1518.27 Q971.778 1513.66 977.589 1513.66 Z\" fill=\"#000000\" fill-rule=\"evenodd\" fill-opacity=\"1\" /><path clip-path=\"url(#clip690)\" d=\"M1584.07 1544.91 L1600.39 1544.91 L1600.39 1548.85 L1578.44 1548.85 L1578.44 1544.91 Q1581.11 1542.16 1585.69 1537.53 Q1590.3 1532.88 1591.48 1531.53 Q1593.72 1529.01 1594.6 1527.27 Q1595.5 1525.51 1595.5 1523.82 Q1595.5 1521.07 1593.56 1519.33 Q1591.64 1517.6 1588.54 1517.6 Q1586.34 1517.6 1583.88 1518.36 Q1581.45 1519.13 1578.68 1520.68 L1578.68 1515.95 Q1581.5 1514.82 1583.95 1514.24 Q1586.41 1513.66 1588.44 1513.66 Q1593.81 1513.66 1597.01 1516.35 Q1600.2 1519.03 1600.2 1523.52 Q1600.2 1525.65 1599.39 1527.57 Q1598.61 1529.47 1596.5 1532.07 Q1595.92 1532.74 1592.82 1535.95 Q1589.72 1539.15 1584.07 1544.91 Z\" fill=\"#000000\" fill-rule=\"evenodd\" fill-opacity=\"1\" /><path clip-path=\"url(#clip690)\" d=\"M1620.2 1517.37 Q1616.59 1517.37 1614.76 1520.93 Q1612.96 1524.47 1612.96 1531.6 Q1612.96 1538.71 1614.76 1542.27 Q1616.59 1545.82 1620.2 1545.82 Q1623.84 1545.82 1625.64 1542.27 Q1627.47 1538.71 1627.47 1531.6 Q1627.47 1524.47 1625.64 1520.93 Q1623.84 1517.37 1620.2 1517.37 M1620.2 1513.66 Q1626.01 1513.66 1629.07 1518.27 Q1632.15 1522.85 1632.15 1531.6 Q1632.15 1540.33 1629.07 1544.94 Q1626.01 1549.52 1620.2 1549.52 Q1614.39 1549.52 1611.31 1544.94 Q1608.26 1540.33 1608.26 1531.6 Q1608.26 1522.85 1611.31 1518.27 Q1614.39 1513.66 1620.2 1513.66 Z\" fill=\"#000000\" fill-rule=\"evenodd\" fill-opacity=\"1\" /><path clip-path=\"url(#clip690)\" d=\"M1650.36 1517.37 Q1646.75 1517.37 1644.92 1520.93 Q1643.12 1524.47 1643.12 1531.6 Q1643.12 1538.71 1644.92 1542.27 Q1646.75 1545.82 1650.36 1545.82 Q1654 1545.82 1655.8 1542.27 Q1657.63 1538.71 1657.63 1531.6 Q1657.63 1524.47 1655.8 1520.93 Q1654 1517.37 1650.36 1517.37 M1650.36 1513.66 Q1656.17 1513.66 1659.23 1518.27 Q1662.31 1522.85 1662.31 1531.6 Q1662.31 1540.33 1659.23 1544.94 Q1656.17 1549.52 1650.36 1549.52 Q1644.55 1549.52 1641.48 1544.94 Q1638.42 1540.33 1638.42 1531.6 Q1638.42 1522.85 1641.48 1518.27 Q1644.55 1513.66 1650.36 1513.66 Z\" fill=\"#000000\" fill-rule=\"evenodd\" fill-opacity=\"1\" /><path clip-path=\"url(#clip690)\" d=\"M2266.05 1530.21 Q2269.4 1530.93 2271.28 1533.2 Q2273.18 1535.47 2273.18 1538.8 Q2273.18 1543.92 2269.66 1546.72 Q2266.14 1549.52 2259.66 1549.52 Q2257.48 1549.52 2255.17 1549.08 Q2252.87 1548.66 2250.42 1547.81 L2250.42 1543.29 Q2252.37 1544.43 2254.68 1545.01 Q2257 1545.58 2259.52 1545.58 Q2263.92 1545.58 2266.21 1543.85 Q2268.52 1542.11 2268.52 1538.8 Q2268.52 1535.75 2266.37 1534.03 Q2264.24 1532.3 2260.42 1532.3 L2256.39 1532.3 L2256.39 1528.45 L2260.61 1528.45 Q2264.06 1528.45 2265.88 1527.09 Q2267.71 1525.7 2267.71 1523.11 Q2267.71 1520.45 2265.81 1519.03 Q2263.94 1517.6 2260.42 1517.6 Q2258.5 1517.6 2256.3 1518.01 Q2254.1 1518.43 2251.46 1519.31 L2251.46 1515.14 Q2254.12 1514.4 2256.44 1514.03 Q2258.78 1513.66 2260.84 1513.66 Q2266.16 1513.66 2269.26 1516.09 Q2272.37 1518.5 2272.37 1522.62 Q2272.37 1525.49 2270.72 1527.48 Q2269.08 1529.45 2266.05 1530.21 Z\" fill=\"#000000\" fill-rule=\"evenodd\" fill-opacity=\"1\" /><path clip-path=\"url(#clip690)\" d=\"M2292.04 1517.37 Q2288.43 1517.37 2286.6 1520.93 Q2284.8 1524.47 2284.8 1531.6 Q2284.8 1538.71 2286.6 1542.27 Q2288.43 1545.82 2292.04 1545.82 Q2295.68 1545.82 2297.48 1542.27 Q2299.31 1538.71 2299.31 1531.6 Q2299.31 1524.47 2297.48 1520.93 Q2295.68 1517.37 2292.04 1517.37 M2292.04 1513.66 Q2297.85 1513.66 2300.91 1518.27 Q2303.99 1522.85 2303.99 1531.6 Q2303.99 1540.33 2300.91 1544.94 Q2297.85 1549.52 2292.04 1549.52 Q2286.23 1549.52 2283.15 1544.94 Q2280.1 1540.33 2280.1 1531.6 Q2280.1 1522.85 2283.15 1518.27 Q2286.23 1513.66 2292.04 1513.66 Z\" fill=\"#000000\" fill-rule=\"evenodd\" fill-opacity=\"1\" /><path clip-path=\"url(#clip690)\" d=\"M2322.2 1517.37 Q2318.59 1517.37 2316.76 1520.93 Q2314.96 1524.47 2314.96 1531.6 Q2314.96 1538.71 2316.76 1542.27 Q2318.59 1545.82 2322.2 1545.82 Q2325.84 1545.82 2327.64 1542.27 Q2329.47 1538.71 2329.47 1531.6 Q2329.47 1524.47 2327.64 1520.93 Q2325.84 1517.37 2322.2 1517.37 M2322.2 1513.66 Q2328.01 1513.66 2331.07 1518.27 Q2334.15 1522.85 2334.15 1531.6 Q2334.15 1540.33 2331.07 1544.94 Q2328.01 1549.52 2322.2 1549.52 Q2316.39 1549.52 2313.31 1544.94 Q2310.26 1540.33 2310.26 1531.6 Q2310.26 1522.85 2313.31 1518.27 Q2316.39 1513.66 2322.2 1513.66 Z\" fill=\"#000000\" fill-rule=\"evenodd\" fill-opacity=\"1\" /><polyline clip-path=\"url(#clip692)\" style=\"stroke:#000000; stroke-linecap:round; stroke-linejoin:round; stroke-width:2; stroke-opacity:0.1; fill:none\" points=\"\n",
       "  216.089,1417.01 2352.76,1417.01 \n",
       "  \"/>\n",
       "<polyline clip-path=\"url(#clip692)\" style=\"stroke:#000000; stroke-linecap:round; stroke-linejoin:round; stroke-width:2; stroke-opacity:0.1; fill:none\" points=\"\n",
       "  216.089,1151.21 2352.76,1151.21 \n",
       "  \"/>\n",
       "<polyline clip-path=\"url(#clip692)\" style=\"stroke:#000000; stroke-linecap:round; stroke-linejoin:round; stroke-width:2; stroke-opacity:0.1; fill:none\" points=\"\n",
       "  216.089,885.399 2352.76,885.399 \n",
       "  \"/>\n",
       "<polyline clip-path=\"url(#clip692)\" style=\"stroke:#000000; stroke-linecap:round; stroke-linejoin:round; stroke-width:2; stroke-opacity:0.1; fill:none\" points=\"\n",
       "  216.089,619.591 2352.76,619.591 \n",
       "  \"/>\n",
       "<polyline clip-path=\"url(#clip692)\" style=\"stroke:#000000; stroke-linecap:round; stroke-linejoin:round; stroke-width:2; stroke-opacity:0.1; fill:none\" points=\"\n",
       "  216.089,353.784 2352.76,353.784 \n",
       "  \"/>\n",
       "<polyline clip-path=\"url(#clip692)\" style=\"stroke:#000000; stroke-linecap:round; stroke-linejoin:round; stroke-width:2; stroke-opacity:0.1; fill:none\" points=\"\n",
       "  216.089,87.9763 2352.76,87.9763 \n",
       "  \"/>\n",
       "<polyline clip-path=\"url(#clip690)\" style=\"stroke:#000000; stroke-linecap:round; stroke-linejoin:round; stroke-width:4; stroke-opacity:1; fill:none\" points=\"\n",
       "  216.089,1486.45 216.089,47.2441 \n",
       "  \"/>\n",
       "<polyline clip-path=\"url(#clip690)\" style=\"stroke:#000000; stroke-linecap:round; stroke-linejoin:round; stroke-width:4; stroke-opacity:1; fill:none\" points=\"\n",
       "  216.089,1417.01 234.986,1417.01 \n",
       "  \"/>\n",
       "<polyline clip-path=\"url(#clip690)\" style=\"stroke:#000000; stroke-linecap:round; stroke-linejoin:round; stroke-width:4; stroke-opacity:1; fill:none\" points=\"\n",
       "  216.089,1151.21 234.986,1151.21 \n",
       "  \"/>\n",
       "<polyline clip-path=\"url(#clip690)\" style=\"stroke:#000000; stroke-linecap:round; stroke-linejoin:round; stroke-width:4; stroke-opacity:1; fill:none\" points=\"\n",
       "  216.089,885.399 234.986,885.399 \n",
       "  \"/>\n",
       "<polyline clip-path=\"url(#clip690)\" style=\"stroke:#000000; stroke-linecap:round; stroke-linejoin:round; stroke-width:4; stroke-opacity:1; fill:none\" points=\"\n",
       "  216.089,619.591 234.986,619.591 \n",
       "  \"/>\n",
       "<polyline clip-path=\"url(#clip690)\" style=\"stroke:#000000; stroke-linecap:round; stroke-linejoin:round; stroke-width:4; stroke-opacity:1; fill:none\" points=\"\n",
       "  216.089,353.784 234.986,353.784 \n",
       "  \"/>\n",
       "<polyline clip-path=\"url(#clip690)\" style=\"stroke:#000000; stroke-linecap:round; stroke-linejoin:round; stroke-width:4; stroke-opacity:1; fill:none\" points=\"\n",
       "  216.089,87.9763 234.986,87.9763 \n",
       "  \"/>\n",
       "<path clip-path=\"url(#clip690)\" d=\"M56.6171 1430.36 L72.9365 1430.36 L72.9365 1434.29 L50.9921 1434.29 L50.9921 1430.36 Q53.6541 1427.6 58.2375 1422.97 Q62.8439 1418.32 64.0245 1416.98 Q66.2698 1414.46 67.1494 1412.72 Q68.0522 1410.96 68.0522 1409.27 Q68.0522 1406.52 66.1078 1404.78 Q64.1865 1403.04 61.0847 1403.04 Q58.8856 1403.04 56.4319 1403.81 Q54.0014 1404.57 51.2236 1406.12 L51.2236 1401.4 Q54.0477 1400.27 56.5014 1399.69 Q58.955 1399.11 60.9921 1399.11 Q66.3624 1399.11 69.5568 1401.79 Q72.7513 1404.48 72.7513 1408.97 Q72.7513 1411.1 71.9411 1413.02 Q71.1541 1414.92 69.0476 1417.51 Q68.4689 1418.18 65.367 1421.4 Q62.2652 1424.59 56.6171 1430.36 Z\" fill=\"#000000\" fill-rule=\"evenodd\" fill-opacity=\"1\" /><path clip-path=\"url(#clip690)\" d=\"M81.5707 1399.73 L103.793 1399.73 L103.793 1401.72 L91.2465 1434.29 L86.3623 1434.29 L98.1678 1403.67 L81.5707 1403.67 L81.5707 1399.73 Z\" fill=\"#000000\" fill-rule=\"evenodd\" fill-opacity=\"1\" /><path clip-path=\"url(#clip690)\" d=\"M116.941 1430.36 L133.26 1430.36 L133.26 1434.29 L111.316 1434.29 L111.316 1430.36 Q113.978 1427.6 118.561 1422.97 Q123.168 1418.32 124.348 1416.98 Q126.594 1414.46 127.473 1412.72 Q128.376 1410.96 128.376 1409.27 Q128.376 1406.52 126.432 1404.78 Q124.51 1403.04 121.408 1403.04 Q119.209 1403.04 116.756 1403.81 Q114.325 1404.57 111.547 1406.12 L111.547 1401.4 Q114.371 1400.27 116.825 1399.69 Q119.279 1399.11 121.316 1399.11 Q126.686 1399.11 129.881 1401.79 Q133.075 1404.48 133.075 1408.97 Q133.075 1411.1 132.265 1413.02 Q131.478 1414.92 129.371 1417.51 Q128.793 1418.18 125.691 1421.4 Q122.589 1424.59 116.941 1430.36 Z\" fill=\"#000000\" fill-rule=\"evenodd\" fill-opacity=\"1\" /><path clip-path=\"url(#clip690)\" d=\"M143.075 1428.41 L147.959 1428.41 L147.959 1434.29 L143.075 1434.29 L143.075 1428.41 Z\" fill=\"#000000\" fill-rule=\"evenodd\" fill-opacity=\"1\" /><path clip-path=\"url(#clip690)\" d=\"M168.144 1402.81 Q164.533 1402.81 162.704 1406.38 Q160.899 1409.92 160.899 1417.05 Q160.899 1424.15 162.704 1427.72 Q164.533 1431.26 168.144 1431.26 Q171.779 1431.26 173.584 1427.72 Q175.413 1424.15 175.413 1417.05 Q175.413 1409.92 173.584 1406.38 Q171.779 1402.81 168.144 1402.81 M168.144 1399.11 Q173.954 1399.11 177.01 1403.71 Q180.089 1408.3 180.089 1417.05 Q180.089 1425.78 177.01 1430.38 Q173.954 1434.96 168.144 1434.96 Q162.334 1434.96 159.255 1430.38 Q156.2 1425.78 156.2 1417.05 Q156.2 1408.3 159.255 1403.71 Q162.334 1399.11 168.144 1399.11 Z\" fill=\"#000000\" fill-rule=\"evenodd\" fill-opacity=\"1\" /><path clip-path=\"url(#clip690)\" d=\"M57.6125 1164.55 L73.9318 1164.55 L73.9318 1168.49 L51.9875 1168.49 L51.9875 1164.55 Q54.6495 1161.8 59.2328 1157.17 Q63.8393 1152.51 65.0198 1151.17 Q67.2652 1148.65 68.1448 1146.91 Q69.0476 1145.15 69.0476 1143.46 Q69.0476 1140.71 67.1032 1138.97 Q65.1819 1137.24 62.08 1137.24 Q59.881 1137.24 57.4273 1138 Q54.9967 1138.76 52.219 1140.31 L52.219 1135.59 Q55.043 1134.46 57.4967 1133.88 Q59.9504 1133.3 61.9874 1133.3 Q67.3578 1133.3 70.5522 1135.99 Q73.7466 1138.67 73.7466 1143.16 Q73.7466 1145.29 72.9365 1147.21 Q72.1494 1149.11 70.0429 1151.7 Q69.4642 1152.38 66.3624 1155.59 Q63.2606 1158.79 57.6125 1164.55 Z\" fill=\"#000000\" fill-rule=\"evenodd\" fill-opacity=\"1\" /><path clip-path=\"url(#clip690)\" d=\"M82.566 1133.93 L104.788 1133.93 L104.788 1135.92 L92.2419 1168.49 L87.3577 1168.49 L99.1632 1137.86 L82.566 1137.86 L82.566 1133.93 Z\" fill=\"#000000\" fill-rule=\"evenodd\" fill-opacity=\"1\" /><path clip-path=\"url(#clip690)\" d=\"M117.936 1164.55 L134.256 1164.55 L134.256 1168.49 L112.311 1168.49 L112.311 1164.55 Q114.973 1161.8 119.557 1157.17 Q124.163 1152.51 125.344 1151.17 Q127.589 1148.65 128.469 1146.91 Q129.371 1145.15 129.371 1143.46 Q129.371 1140.71 127.427 1138.97 Q125.506 1137.24 122.404 1137.24 Q120.205 1137.24 117.751 1138 Q115.32 1138.76 112.543 1140.31 L112.543 1135.59 Q115.367 1134.46 117.82 1133.88 Q120.274 1133.3 122.311 1133.3 Q127.682 1133.3 130.876 1135.99 Q134.07 1138.67 134.07 1143.16 Q134.07 1145.29 133.26 1147.21 Q132.473 1149.11 130.367 1151.7 Q129.788 1152.38 126.686 1155.59 Q123.584 1158.79 117.936 1164.55 Z\" fill=\"#000000\" fill-rule=\"evenodd\" fill-opacity=\"1\" /><path clip-path=\"url(#clip690)\" d=\"M144.07 1162.61 L148.955 1162.61 L148.955 1168.49 L144.07 1168.49 L144.07 1162.61 Z\" fill=\"#000000\" fill-rule=\"evenodd\" fill-opacity=\"1\" /><path clip-path=\"url(#clip690)\" d=\"M159.186 1133.93 L177.542 1133.93 L177.542 1137.86 L163.468 1137.86 L163.468 1146.33 Q164.487 1145.99 165.505 1145.82 Q166.524 1145.64 167.542 1145.64 Q173.329 1145.64 176.709 1148.81 Q180.089 1151.98 180.089 1157.4 Q180.089 1162.98 176.616 1166.08 Q173.144 1169.16 166.825 1169.16 Q164.649 1169.16 162.38 1168.79 Q160.135 1168.42 157.728 1167.68 L157.728 1162.98 Q159.811 1164.11 162.033 1164.67 Q164.255 1165.22 166.732 1165.22 Q170.737 1165.22 173.075 1163.12 Q175.413 1161.01 175.413 1157.4 Q175.413 1153.79 173.075 1151.68 Q170.737 1149.57 166.732 1149.57 Q164.857 1149.57 162.982 1149.99 Q161.13 1150.41 159.186 1151.29 L159.186 1133.93 Z\" fill=\"#000000\" fill-rule=\"evenodd\" fill-opacity=\"1\" /><path clip-path=\"url(#clip690)\" d=\"M56.6171 898.743 L72.9365 898.743 L72.9365 902.679 L50.9921 902.679 L50.9921 898.743 Q53.6541 895.989 58.2375 891.359 Q62.8439 886.706 64.0245 885.364 Q66.2698 882.841 67.1494 881.105 Q68.0522 879.345 68.0522 877.656 Q68.0522 874.901 66.1078 873.165 Q64.1865 871.429 61.0847 871.429 Q58.8856 871.429 56.4319 872.193 Q54.0014 872.957 51.2236 874.507 L51.2236 869.785 Q54.0477 868.651 56.5014 868.072 Q58.955 867.494 60.9921 867.494 Q66.3624 867.494 69.5568 870.179 Q72.7513 872.864 72.7513 877.355 Q72.7513 879.484 71.9411 881.406 Q71.1541 883.304 69.0476 885.896 Q68.4689 886.568 65.367 889.785 Q62.2652 892.98 56.6171 898.743 Z\" fill=\"#000000\" fill-rule=\"evenodd\" fill-opacity=\"1\" /><path clip-path=\"url(#clip690)\" d=\"M81.5707 868.119 L103.793 868.119 L103.793 870.109 L91.2465 902.679 L86.3623 902.679 L98.1678 872.054 L81.5707 872.054 L81.5707 868.119 Z\" fill=\"#000000\" fill-rule=\"evenodd\" fill-opacity=\"1\" /><path clip-path=\"url(#clip690)\" d=\"M127.08 884.044 Q130.436 884.762 132.311 887.031 Q134.209 889.299 134.209 892.632 Q134.209 897.748 130.691 900.549 Q127.172 903.35 120.691 903.35 Q118.515 903.35 116.2 902.91 Q113.908 902.493 111.455 901.637 L111.455 897.123 Q113.399 898.257 115.714 898.836 Q118.029 899.415 120.552 899.415 Q124.95 899.415 127.242 897.679 Q129.557 895.943 129.557 892.632 Q129.557 889.577 127.404 887.864 Q125.274 886.128 121.455 886.128 L117.427 886.128 L117.427 882.285 L121.64 882.285 Q125.089 882.285 126.918 880.919 Q128.746 879.531 128.746 876.938 Q128.746 874.276 126.848 872.864 Q124.973 871.429 121.455 871.429 Q119.533 871.429 117.334 871.845 Q115.135 872.262 112.496 873.142 L112.496 868.975 Q115.158 868.234 117.473 867.864 Q119.811 867.494 121.871 867.494 Q127.195 867.494 130.297 869.924 Q133.399 872.332 133.399 876.452 Q133.399 879.322 131.756 881.313 Q130.112 883.281 127.08 884.044 Z\" fill=\"#000000\" fill-rule=\"evenodd\" fill-opacity=\"1\" /><path clip-path=\"url(#clip690)\" d=\"M143.075 896.799 L147.959 896.799 L147.959 902.679 L143.075 902.679 L143.075 896.799 Z\" fill=\"#000000\" fill-rule=\"evenodd\" fill-opacity=\"1\" /><path clip-path=\"url(#clip690)\" d=\"M168.144 871.197 Q164.533 871.197 162.704 874.762 Q160.899 878.304 160.899 885.433 Q160.899 892.54 162.704 896.105 Q164.533 899.646 168.144 899.646 Q171.779 899.646 173.584 896.105 Q175.413 892.54 175.413 885.433 Q175.413 878.304 173.584 874.762 Q171.779 871.197 168.144 871.197 M168.144 867.494 Q173.954 867.494 177.01 872.1 Q180.089 876.683 180.089 885.433 Q180.089 894.16 177.01 898.767 Q173.954 903.35 168.144 903.35 Q162.334 903.35 159.255 898.767 Q156.2 894.16 156.2 885.433 Q156.2 876.683 159.255 872.1 Q162.334 867.494 168.144 867.494 Z\" fill=\"#000000\" fill-rule=\"evenodd\" fill-opacity=\"1\" /><path clip-path=\"url(#clip690)\" d=\"M57.6125 632.936 L73.9318 632.936 L73.9318 636.871 L51.9875 636.871 L51.9875 632.936 Q54.6495 630.181 59.2328 625.552 Q63.8393 620.899 65.0198 619.556 Q67.2652 617.033 68.1448 615.297 Q69.0476 613.538 69.0476 611.848 Q69.0476 609.094 67.1032 607.357 Q65.1819 605.621 62.08 605.621 Q59.881 605.621 57.4273 606.385 Q54.9967 607.149 52.219 608.7 L52.219 603.978 Q55.043 602.844 57.4967 602.265 Q59.9504 601.686 61.9874 601.686 Q67.3578 601.686 70.5522 604.371 Q73.7466 607.057 73.7466 611.547 Q73.7466 613.677 72.9365 615.598 Q72.1494 617.496 70.0429 620.089 Q69.4642 620.76 66.3624 623.978 Q63.2606 627.172 57.6125 632.936 Z\" fill=\"#000000\" fill-rule=\"evenodd\" fill-opacity=\"1\" /><path clip-path=\"url(#clip690)\" d=\"M82.566 602.311 L104.788 602.311 L104.788 604.302 L92.2419 636.871 L87.3577 636.871 L99.1632 606.246 L82.566 606.246 L82.566 602.311 Z\" fill=\"#000000\" fill-rule=\"evenodd\" fill-opacity=\"1\" /><path clip-path=\"url(#clip690)\" d=\"M128.075 618.237 Q131.432 618.955 133.306 621.223 Q135.205 623.492 135.205 626.825 Q135.205 631.941 131.686 634.742 Q128.168 637.542 121.686 637.542 Q119.51 637.542 117.195 637.103 Q114.904 636.686 112.45 635.83 L112.45 631.316 Q114.395 632.45 116.709 633.029 Q119.024 633.607 121.547 633.607 Q125.945 633.607 128.237 631.871 Q130.552 630.135 130.552 626.825 Q130.552 623.769 128.399 622.056 Q126.27 620.32 122.45 620.32 L118.422 620.32 L118.422 616.478 L122.635 616.478 Q126.084 616.478 127.913 615.112 Q129.742 613.723 129.742 611.131 Q129.742 608.469 127.844 607.057 Q125.969 605.621 122.45 605.621 Q120.529 605.621 118.33 606.038 Q116.131 606.455 113.492 607.334 L113.492 603.168 Q116.154 602.427 118.469 602.057 Q120.807 601.686 122.867 601.686 Q128.191 601.686 131.293 604.117 Q134.394 606.524 134.394 610.644 Q134.394 613.515 132.751 615.506 Q131.107 617.473 128.075 618.237 Z\" fill=\"#000000\" fill-rule=\"evenodd\" fill-opacity=\"1\" /><path clip-path=\"url(#clip690)\" d=\"M144.07 630.992 L148.955 630.992 L148.955 636.871 L144.07 636.871 L144.07 630.992 Z\" fill=\"#000000\" fill-rule=\"evenodd\" fill-opacity=\"1\" /><path clip-path=\"url(#clip690)\" d=\"M159.186 602.311 L177.542 602.311 L177.542 606.246 L163.468 606.246 L163.468 614.719 Q164.487 614.371 165.505 614.209 Q166.524 614.024 167.542 614.024 Q173.329 614.024 176.709 617.195 Q180.089 620.367 180.089 625.783 Q180.089 631.362 176.616 634.464 Q173.144 637.542 166.825 637.542 Q164.649 637.542 162.38 637.172 Q160.135 636.802 157.728 636.061 L157.728 631.362 Q159.811 632.496 162.033 633.052 Q164.255 633.607 166.732 633.607 Q170.737 633.607 173.075 631.501 Q175.413 629.394 175.413 625.783 Q175.413 622.172 173.075 620.066 Q170.737 617.959 166.732 617.959 Q164.857 617.959 162.982 618.376 Q161.13 618.793 159.186 619.672 L159.186 602.311 Z\" fill=\"#000000\" fill-rule=\"evenodd\" fill-opacity=\"1\" /><path clip-path=\"url(#clip690)\" d=\"M56.6171 367.129 L72.9365 367.129 L72.9365 371.064 L50.9921 371.064 L50.9921 367.129 Q53.6541 364.374 58.2375 359.744 Q62.8439 355.092 64.0245 353.749 Q66.2698 351.226 67.1494 349.49 Q68.0522 347.731 68.0522 346.041 Q68.0522 343.286 66.1078 341.55 Q64.1865 339.814 61.0847 339.814 Q58.8856 339.814 56.4319 340.578 Q54.0014 341.342 51.2236 342.893 L51.2236 338.17 Q54.0477 337.036 56.5014 336.457 Q58.955 335.879 60.9921 335.879 Q66.3624 335.879 69.5568 338.564 Q72.7513 341.249 72.7513 345.74 Q72.7513 347.869 71.9411 349.791 Q71.1541 351.689 69.0476 354.281 Q68.4689 354.953 65.367 358.17 Q62.2652 361.365 56.6171 367.129 Z\" fill=\"#000000\" fill-rule=\"evenodd\" fill-opacity=\"1\" /><path clip-path=\"url(#clip690)\" d=\"M81.5707 336.504 L103.793 336.504 L103.793 338.494 L91.2465 371.064 L86.3623 371.064 L98.1678 340.439 L81.5707 340.439 L81.5707 336.504 Z\" fill=\"#000000\" fill-rule=\"evenodd\" fill-opacity=\"1\" /><path clip-path=\"url(#clip690)\" d=\"M125.76 340.578 L113.955 359.027 L125.76 359.027 L125.76 340.578 M124.533 336.504 L130.413 336.504 L130.413 359.027 L135.344 359.027 L135.344 362.916 L130.413 362.916 L130.413 371.064 L125.76 371.064 L125.76 362.916 L110.158 362.916 L110.158 358.402 L124.533 336.504 Z\" fill=\"#000000\" fill-rule=\"evenodd\" fill-opacity=\"1\" /><path clip-path=\"url(#clip690)\" d=\"M143.075 365.184 L147.959 365.184 L147.959 371.064 L143.075 371.064 L143.075 365.184 Z\" fill=\"#000000\" fill-rule=\"evenodd\" fill-opacity=\"1\" /><path clip-path=\"url(#clip690)\" d=\"M168.144 339.582 Q164.533 339.582 162.704 343.147 Q160.899 346.689 160.899 353.818 Q160.899 360.925 162.704 364.49 Q164.533 368.031 168.144 368.031 Q171.779 368.031 173.584 364.49 Q175.413 360.925 175.413 353.818 Q175.413 346.689 173.584 343.147 Q171.779 339.582 168.144 339.582 M168.144 335.879 Q173.954 335.879 177.01 340.485 Q180.089 345.068 180.089 353.818 Q180.089 362.545 177.01 367.152 Q173.954 371.735 168.144 371.735 Q162.334 371.735 159.255 367.152 Q156.2 362.545 156.2 353.818 Q156.2 345.068 159.255 340.485 Q162.334 335.879 168.144 335.879 Z\" fill=\"#000000\" fill-rule=\"evenodd\" fill-opacity=\"1\" /><path clip-path=\"url(#clip690)\" d=\"M57.6125 101.321 L73.9318 101.321 L73.9318 105.256 L51.9875 105.256 L51.9875 101.321 Q54.6495 98.5665 59.2328 93.9369 Q63.8393 89.2841 65.0198 87.9416 Q67.2652 85.4184 68.1448 83.6823 Q69.0476 81.9231 69.0476 80.2333 Q69.0476 77.4786 67.1032 75.7425 Q65.1819 74.0064 62.08 74.0064 Q59.881 74.0064 57.4273 74.7703 Q54.9967 75.5342 52.219 77.0851 L52.219 72.3629 Q55.043 71.2287 57.4967 70.65 Q59.9504 70.0713 61.9874 70.0713 Q67.3578 70.0713 70.5522 72.7565 Q73.7466 75.4416 73.7466 79.9323 Q73.7466 82.062 72.9365 83.9832 Q72.1494 85.8814 70.0429 88.474 Q69.4642 89.1453 66.3624 92.3628 Q63.2606 95.5573 57.6125 101.321 Z\" fill=\"#000000\" fill-rule=\"evenodd\" fill-opacity=\"1\" /><path clip-path=\"url(#clip690)\" d=\"M82.566 70.6963 L104.788 70.6963 L104.788 72.687 L92.2419 105.256 L87.3577 105.256 L99.1632 74.6314 L82.566 74.6314 L82.566 70.6963 Z\" fill=\"#000000\" fill-rule=\"evenodd\" fill-opacity=\"1\" /><path clip-path=\"url(#clip690)\" d=\"M126.756 74.7703 L114.95 93.2193 L126.756 93.2193 L126.756 74.7703 M125.529 70.6963 L131.408 70.6963 L131.408 93.2193 L136.339 93.2193 L136.339 97.1082 L131.408 97.1082 L131.408 105.256 L126.756 105.256 L126.756 97.1082 L111.154 97.1082 L111.154 92.5943 L125.529 70.6963 Z\" fill=\"#000000\" fill-rule=\"evenodd\" fill-opacity=\"1\" /><path clip-path=\"url(#clip690)\" d=\"M144.07 99.3767 L148.955 99.3767 L148.955 105.256 L144.07 105.256 L144.07 99.3767 Z\" fill=\"#000000\" fill-rule=\"evenodd\" fill-opacity=\"1\" /><path clip-path=\"url(#clip690)\" d=\"M159.186 70.6963 L177.542 70.6963 L177.542 74.6314 L163.468 74.6314 L163.468 83.1036 Q164.487 82.7564 165.505 82.5944 Q166.524 82.4092 167.542 82.4092 Q173.329 82.4092 176.709 85.5805 Q180.089 88.7517 180.089 94.1684 Q180.089 99.747 176.616 102.849 Q173.144 105.928 166.825 105.928 Q164.649 105.928 162.38 105.557 Q160.135 105.187 157.728 104.446 L157.728 99.747 Q159.811 100.881 162.033 101.437 Q164.255 101.992 166.732 101.992 Q170.737 101.992 173.075 99.8859 Q175.413 97.7795 175.413 94.1684 Q175.413 90.5573 173.075 88.4508 Q170.737 86.3443 166.732 86.3443 Q164.857 86.3443 162.982 86.761 Q161.13 87.1777 159.186 88.0573 L159.186 70.6963 Z\" fill=\"#000000\" fill-rule=\"evenodd\" fill-opacity=\"1\" /><polyline clip-path=\"url(#clip692)\" style=\"stroke:#009af9; stroke-linecap:round; stroke-linejoin:round; stroke-width:4; stroke-opacity:1; fill:none\" points=\"\n",
       "  276.56,619.591 377.347,481.999 478.133,353.784 578.919,243.683 679.705,159.199 780.491,106.091 881.278,87.9763 982.064,106.091 1082.85,159.199 1183.64,243.683 \n",
       "  1284.42,353.784 1385.21,481.999 1485.99,619.591 1586.78,757.183 1687.57,885.399 1788.35,995.5 1889.14,1079.98 1989.93,1133.09 2090.71,1151.21 2191.5,1133.09 \n",
       "  2292.28,1079.98 \n",
       "  \"/>\n",
       "<polyline clip-path=\"url(#clip692)\" style=\"stroke:#e26f46; stroke-linecap:round; stroke-linejoin:round; stroke-width:4; stroke-opacity:1; fill:none\" points=\"\n",
       "  276.56,672.753 377.347,549.077 478.133,434.768 578.919,338.554 679.705,267.93 780.491,228.642 881.278,224.301 982.064,256.131 1082.85,322.89 1183.64,420.947 \n",
       "  1284.42,544.537 1385.21,686.147 1485.99,837.031 1586.78,987.801 1687.57,1129.07 1788.35,1252.1 1889.14,1349.37 1989.93,1415.12 2090.71,1445.72 2191.5,1439.92 \n",
       "  2292.28,1398.95 \n",
       "  \"/>\n",
       "<path clip-path=\"url(#clip690)\" d=\"\n",
       "M1763.2 250.738 L2281.53 250.738 L2281.53 95.2176 L1763.2 95.2176  Z\n",
       "  \" fill=\"#ffffff\" fill-rule=\"evenodd\" fill-opacity=\"1\"/>\n",
       "<polyline clip-path=\"url(#clip690)\" style=\"stroke:#000000; stroke-linecap:round; stroke-linejoin:round; stroke-width:4; stroke-opacity:1; fill:none\" points=\"\n",
       "  1763.2,250.738 2281.53,250.738 2281.53,95.2176 1763.2,95.2176 1763.2,250.738 \n",
       "  \"/>\n",
       "<polyline clip-path=\"url(#clip690)\" style=\"stroke:#009af9; stroke-linecap:round; stroke-linejoin:round; stroke-width:4; stroke-opacity:1; fill:none\" points=\"\n",
       "  1786.94,147.058 1929.39,147.058 \n",
       "  \"/>\n",
       "<path clip-path=\"url(#clip690)\" d=\"M1953.13 129.778 L1982.36 129.778 L1982.36 133.713 L1970.1 133.713 L1970.1 164.338 L1965.4 164.338 L1965.4 133.713 L1953.13 133.713 L1953.13 129.778 Z\" fill=\"#000000\" fill-rule=\"evenodd\" fill-opacity=\"1\" /><path clip-path=\"url(#clip690)\" d=\"M2006.39 172.208 L2006.39 175.518 L1981.76 175.518 L1981.76 172.208 L2006.39 172.208 Z\" fill=\"#000000\" fill-rule=\"evenodd\" fill-opacity=\"1\" /><path clip-path=\"url(#clip690)\" d=\"M2010.4 138.412 L2014.66 138.412 L2014.66 164.338 L2010.4 164.338 L2010.4 138.412 M2010.4 128.319 L2014.66 128.319 L2014.66 133.713 L2010.4 133.713 L2010.4 128.319 Z\" fill=\"#000000\" fill-rule=\"evenodd\" fill-opacity=\"1\" /><path clip-path=\"url(#clip690)\" d=\"M2045.12 148.689 L2045.12 164.338 L2040.86 164.338 L2040.86 148.828 Q2040.86 145.148 2039.42 143.319 Q2037.99 141.49 2035.12 141.49 Q2031.67 141.49 2029.68 143.69 Q2027.69 145.889 2027.69 149.685 L2027.69 164.338 L2023.41 164.338 L2023.41 138.412 L2027.69 138.412 L2027.69 142.44 Q2029.22 140.102 2031.28 138.944 Q2033.36 137.787 2036.07 137.787 Q2040.53 137.787 2042.83 140.565 Q2045.12 143.319 2045.12 148.689 Z\" fill=\"#000000\" fill-rule=\"evenodd\" fill-opacity=\"1\" /><path clip-path=\"url(#clip690)\" d=\"M2073.31 172.208 L2073.31 175.518 L2048.68 175.518 L2048.68 172.208 L2073.31 172.208 Z\" fill=\"#000000\" fill-rule=\"evenodd\" fill-opacity=\"1\" /><path clip-path=\"url(#clip690)\" d=\"M2097.5 143.389 Q2099.1 140.518 2101.32 139.153 Q2103.54 137.787 2106.55 137.787 Q2110.6 137.787 2112.8 140.634 Q2115 143.458 2115 148.689 L2115 164.338 L2110.72 164.338 L2110.72 148.828 Q2110.72 145.102 2109.4 143.296 Q2108.08 141.49 2105.37 141.49 Q2102.06 141.49 2100.14 143.69 Q2098.22 145.889 2098.22 149.685 L2098.22 164.338 L2093.94 164.338 L2093.94 148.828 Q2093.94 145.078 2092.62 143.296 Q2091.3 141.49 2088.54 141.49 Q2085.28 141.49 2083.36 143.713 Q2081.44 145.912 2081.44 149.685 L2081.44 164.338 L2077.15 164.338 L2077.15 138.412 L2081.44 138.412 L2081.44 142.44 Q2082.9 140.055 2084.93 138.921 Q2086.97 137.787 2089.77 137.787 Q2092.59 137.787 2094.56 139.222 Q2096.55 140.657 2097.5 143.389 Z\" fill=\"#000000\" fill-rule=\"evenodd\" fill-opacity=\"1\" /><path clip-path=\"url(#clip690)\" d=\"M2145.67 150.31 L2145.67 152.393 L2126.09 152.393 Q2126.37 156.791 2128.73 159.106 Q2131.11 161.398 2135.35 161.398 Q2137.8 161.398 2140.09 160.796 Q2142.41 160.194 2144.68 158.99 L2144.68 163.018 Q2142.39 163.99 2139.98 164.5 Q2137.57 165.009 2135.09 165.009 Q2128.89 165.009 2125.26 161.398 Q2121.65 157.787 2121.65 151.629 Q2121.65 145.264 2125.07 141.537 Q2128.52 137.787 2134.35 137.787 Q2139.59 137.787 2142.62 141.166 Q2145.67 144.523 2145.67 150.31 M2141.41 149.06 Q2141.37 145.565 2139.45 143.481 Q2137.55 141.398 2134.4 141.398 Q2130.84 141.398 2128.68 143.412 Q2126.55 145.426 2126.23 149.083 L2141.41 149.06 Z\" fill=\"#000000\" fill-rule=\"evenodd\" fill-opacity=\"1\" /><path clip-path=\"url(#clip690)\" d=\"M2164.45 151.305 Q2159.28 151.305 2157.29 152.486 Q2155.3 153.666 2155.3 156.514 Q2155.3 158.782 2156.78 160.125 Q2158.29 161.444 2160.86 161.444 Q2164.4 161.444 2166.53 158.944 Q2168.68 156.421 2168.68 152.254 L2168.68 151.305 L2164.45 151.305 M2172.94 149.546 L2172.94 164.338 L2168.68 164.338 L2168.68 160.402 Q2167.22 162.763 2165.05 163.898 Q2162.87 165.009 2159.72 165.009 Q2155.74 165.009 2153.38 162.787 Q2151.04 160.541 2151.04 156.791 Q2151.04 152.416 2153.96 150.194 Q2156.9 147.972 2162.71 147.972 L2168.68 147.972 L2168.68 147.555 Q2168.68 144.615 2166.74 143.018 Q2164.82 141.398 2161.32 141.398 Q2159.1 141.398 2156.99 141.93 Q2154.89 142.463 2152.94 143.527 L2152.94 139.592 Q2155.28 138.69 2157.48 138.25 Q2159.68 137.787 2161.76 137.787 Q2167.39 137.787 2170.16 140.703 Q2172.94 143.62 2172.94 149.546 Z\" fill=\"#000000\" fill-rule=\"evenodd\" fill-opacity=\"1\" /><path clip-path=\"url(#clip690)\" d=\"M2198.24 139.176 L2198.24 143.203 Q2196.44 142.277 2194.49 141.815 Q2192.55 141.352 2190.46 141.352 Q2187.29 141.352 2185.7 142.324 Q2184.12 143.296 2184.12 145.24 Q2184.12 146.722 2185.26 147.578 Q2186.39 148.412 2189.82 149.176 L2191.27 149.5 Q2195.81 150.472 2197.71 152.254 Q2199.63 154.014 2199.63 157.185 Q2199.63 160.796 2196.76 162.902 Q2193.91 165.009 2188.91 165.009 Q2186.83 165.009 2184.56 164.592 Q2182.32 164.199 2179.82 163.388 L2179.82 158.99 Q2182.18 160.217 2184.47 160.842 Q2186.76 161.444 2189.01 161.444 Q2192.02 161.444 2193.64 160.426 Q2195.26 159.384 2195.26 157.509 Q2195.26 155.773 2194.08 154.847 Q2192.92 153.921 2188.96 153.064 L2187.48 152.717 Q2183.52 151.884 2181.76 150.171 Q2180 148.435 2180 145.426 Q2180 141.768 2182.59 139.778 Q2185.19 137.787 2189.96 137.787 Q2192.32 137.787 2194.4 138.134 Q2196.48 138.481 2198.24 139.176 Z\" fill=\"#000000\" fill-rule=\"evenodd\" fill-opacity=\"1\" /><polyline clip-path=\"url(#clip690)\" style=\"stroke:#e26f46; stroke-linecap:round; stroke-linejoin:round; stroke-width:4; stroke-opacity:1; fill:none\" points=\"\n",
       "  1786.94,198.898 1929.39,198.898 \n",
       "  \"/>\n",
       "<path clip-path=\"url(#clip690)\" d=\"M1953.13 181.618 L1982.36 181.618 L1982.36 185.553 L1970.1 185.553 L1970.1 216.178 L1965.4 216.178 L1965.4 185.553 L1953.13 185.553 L1953.13 181.618 Z\" fill=\"#000000\" fill-rule=\"evenodd\" fill-opacity=\"1\" /><path clip-path=\"url(#clip690)\" d=\"M2006.39 224.048 L2006.39 227.358 L1981.76 227.358 L1981.76 224.048 L2006.39 224.048 Z\" fill=\"#000000\" fill-rule=\"evenodd\" fill-opacity=\"1\" /><path clip-path=\"url(#clip690)\" d=\"M2020.44 193.238 Q2017.02 193.238 2015.03 195.923 Q2013.03 198.585 2013.03 203.238 Q2013.03 207.891 2015 210.576 Q2016.99 213.238 2020.44 213.238 Q2023.84 213.238 2025.84 210.553 Q2027.83 207.867 2027.83 203.238 Q2027.83 198.631 2025.84 195.946 Q2023.84 193.238 2020.44 193.238 M2020.44 189.627 Q2026 189.627 2029.17 193.238 Q2032.34 196.849 2032.34 203.238 Q2032.34 209.604 2029.17 213.238 Q2026 216.849 2020.44 216.849 Q2014.86 216.849 2011.69 213.238 Q2008.54 209.604 2008.54 203.238 Q2008.54 196.849 2011.69 193.238 Q2014.86 189.627 2020.44 189.627 Z\" fill=\"#000000\" fill-rule=\"evenodd\" fill-opacity=\"1\" /><path clip-path=\"url(#clip690)\" d=\"M2038.96 205.946 L2038.96 190.252 L2043.22 190.252 L2043.22 205.784 Q2043.22 209.465 2044.66 211.316 Q2046.09 213.145 2048.96 213.145 Q2052.41 213.145 2054.4 210.946 Q2056.41 208.747 2056.41 204.951 L2056.41 190.252 L2060.67 190.252 L2060.67 216.178 L2056.41 216.178 L2056.41 212.196 Q2054.86 214.557 2052.8 215.715 Q2050.77 216.849 2048.06 216.849 Q2043.59 216.849 2041.28 214.071 Q2038.96 211.293 2038.96 205.946 M2049.68 189.627 L2049.68 189.627 Z\" fill=\"#000000\" fill-rule=\"evenodd\" fill-opacity=\"1\" /><path clip-path=\"url(#clip690)\" d=\"M2073.66 182.891 L2073.66 190.252 L2082.43 190.252 L2082.43 193.562 L2073.66 193.562 L2073.66 207.636 Q2073.66 210.807 2074.52 211.71 Q2075.4 212.613 2078.06 212.613 L2082.43 212.613 L2082.43 216.178 L2078.06 216.178 Q2073.13 216.178 2071.25 214.349 Q2069.38 212.497 2069.38 207.636 L2069.38 193.562 L2066.25 193.562 L2066.25 190.252 L2069.38 190.252 L2069.38 182.891 L2073.66 182.891 Z\" fill=\"#000000\" fill-rule=\"evenodd\" fill-opacity=\"1\" /><path clip-path=\"url(#clip690)\" d=\"M2107.73 224.048 L2107.73 227.358 L2083.1 227.358 L2083.1 224.048 L2107.73 224.048 Z\" fill=\"#000000\" fill-rule=\"evenodd\" fill-opacity=\"1\" /><path clip-path=\"url(#clip690)\" d=\"M2131.92 195.229 Q2133.52 192.358 2135.74 190.993 Q2137.96 189.627 2140.97 189.627 Q2145.02 189.627 2147.22 192.474 Q2149.42 195.298 2149.42 200.529 L2149.42 216.178 L2145.14 216.178 L2145.14 200.668 Q2145.14 196.942 2143.82 195.136 Q2142.5 193.33 2139.79 193.33 Q2136.48 193.33 2134.56 195.53 Q2132.64 197.729 2132.64 201.525 L2132.64 216.178 L2128.36 216.178 L2128.36 200.668 Q2128.36 196.918 2127.04 195.136 Q2125.72 193.33 2122.96 193.33 Q2119.7 193.33 2117.78 195.553 Q2115.86 197.752 2115.86 201.525 L2115.86 216.178 L2111.58 216.178 L2111.58 190.252 L2115.86 190.252 L2115.86 194.28 Q2117.32 191.895 2119.35 190.761 Q2121.39 189.627 2124.19 189.627 Q2127.02 189.627 2128.98 191.062 Q2130.97 192.497 2131.92 195.229 Z\" fill=\"#000000\" fill-rule=\"evenodd\" fill-opacity=\"1\" /><path clip-path=\"url(#clip690)\" d=\"M2180.09 202.15 L2180.09 204.233 L2160.51 204.233 Q2160.79 208.631 2163.15 210.946 Q2165.53 213.238 2169.77 213.238 Q2172.22 213.238 2174.52 212.636 Q2176.83 212.034 2179.1 210.83 L2179.1 214.858 Q2176.81 215.83 2174.4 216.34 Q2171.99 216.849 2169.52 216.849 Q2163.31 216.849 2159.68 213.238 Q2156.07 209.627 2156.07 203.469 Q2156.07 197.104 2159.49 193.377 Q2162.94 189.627 2168.77 189.627 Q2174.01 189.627 2177.04 193.006 Q2180.09 196.363 2180.09 202.15 M2175.83 200.9 Q2175.79 197.405 2173.87 195.321 Q2171.97 193.238 2168.82 193.238 Q2165.26 193.238 2163.1 195.252 Q2160.97 197.266 2160.65 200.923 L2175.83 200.9 Z\" fill=\"#000000\" fill-rule=\"evenodd\" fill-opacity=\"1\" /><path clip-path=\"url(#clip690)\" d=\"M2198.87 203.145 Q2193.71 203.145 2191.71 204.326 Q2189.72 205.506 2189.72 208.354 Q2189.72 210.622 2191.21 211.965 Q2192.71 213.284 2195.28 213.284 Q2198.82 213.284 2200.95 210.784 Q2203.1 208.261 2203.1 204.094 L2203.1 203.145 L2198.87 203.145 M2207.36 201.386 L2207.36 216.178 L2203.1 216.178 L2203.1 212.242 Q2201.64 214.603 2199.47 215.738 Q2197.29 216.849 2194.14 216.849 Q2190.16 216.849 2187.8 214.627 Q2185.46 212.381 2185.46 208.631 Q2185.46 204.256 2188.38 202.034 Q2191.32 199.812 2197.13 199.812 L2203.1 199.812 L2203.1 199.395 Q2203.1 196.455 2201.16 194.858 Q2199.24 193.238 2195.74 193.238 Q2193.52 193.238 2191.41 193.77 Q2189.31 194.303 2187.36 195.367 L2187.36 191.432 Q2189.7 190.53 2191.9 190.09 Q2194.1 189.627 2196.18 189.627 Q2201.81 189.627 2204.58 192.543 Q2207.36 195.46 2207.36 201.386 Z\" fill=\"#000000\" fill-rule=\"evenodd\" fill-opacity=\"1\" /><path clip-path=\"url(#clip690)\" d=\"M2232.66 191.016 L2232.66 195.043 Q2230.86 194.117 2228.91 193.655 Q2226.97 193.192 2224.89 193.192 Q2221.71 193.192 2220.12 194.164 Q2218.54 195.136 2218.54 197.08 Q2218.54 198.562 2219.68 199.418 Q2220.81 200.252 2224.24 201.016 L2225.7 201.34 Q2230.23 202.312 2232.13 204.094 Q2234.05 205.854 2234.05 209.025 Q2234.05 212.636 2231.18 214.742 Q2228.33 216.849 2223.33 216.849 Q2221.25 216.849 2218.98 216.432 Q2216.74 216.039 2214.24 215.228 L2214.24 210.83 Q2216.6 212.057 2218.89 212.682 Q2221.18 213.284 2223.43 213.284 Q2226.44 213.284 2228.06 212.266 Q2229.68 211.224 2229.68 209.349 Q2229.68 207.613 2228.5 206.687 Q2227.34 205.761 2223.38 204.904 L2221.9 204.557 Q2217.94 203.724 2216.18 202.011 Q2214.42 200.275 2214.42 197.266 Q2214.42 193.608 2217.02 191.618 Q2219.61 189.627 2224.38 189.627 Q2226.74 189.627 2228.82 189.974 Q2230.9 190.321 2232.66 191.016 Z\" fill=\"#000000\" fill-rule=\"evenodd\" fill-opacity=\"1\" /></svg>\n"
      ]
     },
     "metadata": {},
     "output_type": "display_data"
    }
   ],
   "source": [
    "Plots.plot(time, T_in_meas, label=\"T_in_meas\")\n",
    "Plots.plot!(time, T_out_meas, label=\"T_out_meas\")"
   ]
  },
  {
   "cell_type": "code",
   "execution_count": 96,
   "metadata": {},
   "outputs": [
    {
     "data": {
      "text/plain": [
       "21-element Vector{Float64}:\n",
       " 0.0\n",
       " 0.0\n",
       " 0.0\n",
       " 0.0\n",
       " 0.0\n",
       " 0.0\n",
       " 0.0\n",
       " 0.0\n",
       " 0.0\n",
       " 0.0\n",
       " ⋮\n",
       " 0.0\n",
       " 0.0\n",
       " 0.0\n",
       " 0.0\n",
       " 0.0\n",
       " 0.0\n",
       " 0.0\n",
       " 0.0\n",
       " 0.0"
      ]
     },
     "metadata": {},
     "output_type": "display_data"
    }
   ],
   "source": [
    "init_arrays()"
   ]
  },
  {
   "cell_type": "code",
   "execution_count": 104,
   "metadata": {},
   "outputs": [],
   "source": [
    "time = range(0, dt*20, step = dt)\n",
    "to_Kelvin = 273.5\n",
    "T_in_meas = sind.(time) .+ to_Kelvin\n",
    "T_out_meas_meas = T_in_meas .- (sind.(time.* 0.1)) .- 0.1 \n",
    "\n",
    "# values to calculate \n",
    "T_in = zeros(length(time))\n",
    "T_f = zeros(length(x),length(time));\n",
    "\n",
    "# values to\n",
    "T_in[1] = T_in_meas[1];  # interior starts at the fabric?\n",
    "T_f[:,1] .= 280;\n",
    "# TODO -> issue fabric and calculated interior air temperature cant be initialized to equal each other if they are being subtracted to determine the convective heat flux??\n",
    "\n",
    "Q1 = zeros(length(time));\n",
    "Q2 = zeros(length(time));\n",
    "Q3 = zeros(length(time));\n",
    "Q_tot = zeros(length(time));\n",
    "E_nv = zeros(length(time));\n",
    "E_convst = zeros(length(time));\n",
    "b = zeros(1,Nx)\n",
    "Eist = zeros(length(time));"
   ]
  },
  {
   "cell_type": "code",
   "execution_count": 105,
   "metadata": {},
   "outputs": [
    {
     "data": {
      "text/plain": [
       "11×21 Matrix{Float64}:\n",
       " 280.0  0.0  0.0  0.0  0.0  0.0  0.0  …  0.0  0.0  0.0  0.0  0.0  0.0  0.0\n",
       " 280.0  0.0  0.0  0.0  0.0  0.0  0.0     0.0  0.0  0.0  0.0  0.0  0.0  0.0\n",
       " 280.0  0.0  0.0  0.0  0.0  0.0  0.0     0.0  0.0  0.0  0.0  0.0  0.0  0.0\n",
       " 280.0  0.0  0.0  0.0  0.0  0.0  0.0     0.0  0.0  0.0  0.0  0.0  0.0  0.0\n",
       " 280.0  0.0  0.0  0.0  0.0  0.0  0.0     0.0  0.0  0.0  0.0  0.0  0.0  0.0\n",
       " 280.0  0.0  0.0  0.0  0.0  0.0  0.0  …  0.0  0.0  0.0  0.0  0.0  0.0  0.0\n",
       " 280.0  0.0  0.0  0.0  0.0  0.0  0.0     0.0  0.0  0.0  0.0  0.0  0.0  0.0\n",
       " 280.0  0.0  0.0  0.0  0.0  0.0  0.0     0.0  0.0  0.0  0.0  0.0  0.0  0.0\n",
       " 280.0  0.0  0.0  0.0  0.0  0.0  0.0     0.0  0.0  0.0  0.0  0.0  0.0  0.0\n",
       " 280.0  0.0  0.0  0.0  0.0  0.0  0.0     0.0  0.0  0.0  0.0  0.0  0.0  0.0\n",
       " 280.0  0.0  0.0  0.0  0.0  0.0  0.0  …  0.0  0.0  0.0  0.0  0.0  0.0  0.0"
      ]
     },
     "metadata": {},
     "output_type": "display_data"
    }
   ],
   "source": [
    "T_f"
   ]
  },
  {
   "cell_type": "markdown",
   "metadata": {},
   "source": [
    "## dynamic thermal model"
   ]
  },
  {
   "cell_type": "code",
   "execution_count": 100,
   "metadata": {},
   "outputs": [],
   "source": [
    "\n",
    "\n",
    "for t=1:length(time)-1\n",
    "\n",
    "    # calculate E_nv at each time step \n",
    "    # TODO make function that calculates E_nv, how was this done before we knew outside vs inside?\n",
    "    for (w, Q) in zip([w1, w2, w3], [Q1, Q2, Q3]) \n",
    "        \n",
    "        # TODO adjust this to comsider wind ventilation, in addition to buoyancy \n",
    "        Q[t] = w[\"cd\"] * w[\"area\"] * sqrt(2*g*w[\"l\"] * (T_in_meas[t]-T_out_meas[t]) /(T_out_meas[t]))\n",
    "    end\n",
    "    Q_tot[t] = Q1[t] + Q2[t] + Q3[t]\n",
    "    E_nv[t] = rho_a * c_a * Q_tot[t] * (T_out_meas[t] - T_in[t])\n",
    "\n",
    "\n",
    "    # calculate E_conv at each time step \n",
    "    E_conv = h * A_f * (T_f[1,t] - T_in[t]) # TODO multiply by number of surfaces being considered\n",
    "    # print(\"T_f[1,t] $(T_f[1,t]) , T_in[t] $(T_in[t]) \\n\")\n",
    "    E_convst[t] =  E_conv # guessing this is holding the variable?\n",
    "\n",
    "    # # wall boundary conditions \n",
    "    # initialize the b matrix, this likely is related to the boundary conditions somehow..\n",
    "    b[1] = - lambda * dx / (k_f * E_conv)\n",
    "    b[Nx] = - lambda * dx / (k_f * E_conv)\n",
    "    # print(\"b $b, time $t \\n\")\n",
    "\n",
    "    # calculate surface temperature at each time step\n",
    "    T_f[:, t+1] = A*T_f[:,t] + b'\n",
    "\n",
    "    # calculate interior average air temperaure at each time step \n",
    "    T_in[t + 1] = T_in[t] + (E_conv * A_f + E_int + E_nv[t]) * dt/(v_a * rho_a * c_a)\n",
    "    Eist[t] = E_int # what does this do///\n",
    "\n",
    "\n",
    " end"
   ]
  },
  {
   "cell_type": "code",
   "execution_count": 106,
   "metadata": {},
   "outputs": [
    {
     "data": {
      "text/plain": [
       "11×11 Matrix{Float64}:\n",
       " 0.930435   0.0695652  0.0        …  0.0        0.0        0.0\n",
       " 0.0695652  0.86087    0.0695652     0.0        0.0        0.0\n",
       " 0.0        0.0695652  0.86087       0.0        0.0        0.0\n",
       " 0.0        0.0        0.0695652     0.0        0.0        0.0\n",
       " 0.0        0.0        0.0           0.0        0.0        0.0\n",
       " 0.0        0.0        0.0        …  0.0        0.0        0.0\n",
       " 0.0        0.0        0.0           0.0        0.0        0.0\n",
       " 0.0        0.0        0.0           0.0695652  0.0        0.0\n",
       " 0.0        0.0        0.0           0.86087    0.0695652  0.0\n",
       " 0.0        0.0        0.0           0.0695652  0.86087    0.0695652\n",
       " 0.0        0.0        0.0        …  0.0        0.0695652  0.930435"
      ]
     },
     "metadata": {},
     "output_type": "display_data"
    }
   ],
   "source": [
    "A"
   ]
  },
  {
   "cell_type": "code",
   "execution_count": 103,
   "metadata": {},
   "outputs": [
    {
     "data": {
      "text/plain": [
       "11×21 Matrix{Float64}:\n",
       " 280.0  280.0  280.0  280.0  280.0  …  280.0  280.0  280.0  280.0  280.0\n",
       " 280.0  280.0  280.0  280.0  280.0     280.0  280.0  280.0  280.0  280.0\n",
       " 280.0  280.0  280.0  280.0  280.0     280.0  280.0  280.0  280.0  280.0\n",
       " 280.0  280.0  280.0  280.0  280.0     280.0  280.0  280.0  280.0  280.0\n",
       " 280.0  280.0  280.0  280.0  280.0     280.0  280.0  280.0  280.0  280.0\n",
       " 280.0  280.0  280.0  280.0  280.0  …  280.0  280.0  280.0  280.0  280.0\n",
       " 280.0  280.0  280.0  280.0  280.0     280.0  280.0  280.0  280.0  280.0\n",
       " 280.0  280.0  280.0  280.0  280.0     280.0  280.0  280.0  280.0  280.0\n",
       " 280.0  280.0  280.0  280.0  280.0     280.0  280.0  280.0  280.0  280.0\n",
       " 280.0  280.0  280.0  280.0  280.0     280.0  280.0  280.0  280.0  280.0\n",
       " 280.0  280.0  280.0  280.0  280.0  …  280.0  280.0  280.0  280.0  280.0"
      ]
     },
     "metadata": {},
     "output_type": "display_data"
    }
   ],
   "source": [
    "T_f"
   ]
  },
  {
   "cell_type": "code",
   "execution_count": 102,
   "metadata": {},
   "outputs": [
    {
     "data": {
      "application/vnd.plotly.v1+json": {
       "config": {
        "editable": false,
        "responsive": true,
        "scrollZoom": false,
        "showLink": false,
        "staticPlot": false
       },
       "data": [
        {
         "line": {
          "dash": "dot",
          "width": 3
         },
         "mode": "lines",
         "name": "T_in(t)",
         "type": "scatter",
         "x": [
          0,
          15,
          30,
          45,
          60,
          75,
          90,
          105,
          120,
          135,
          150,
          165,
          180,
          195,
          210,
          225,
          240,
          255,
          270,
          285,
          300
         ],
         "y": [
          273.5,
          277.06459100851106,
          278.6642738867083,
          279.3810370728981,
          279.70144551287024,
          279.8440223879979,
          279.90676980926446,
          279.93356277421566,
          279.9440029586692,
          279.9468328016676,
          279.94595852121347,
          279.94315109112307,
          279.93925460507506,
          279.9347237830708,
          279.92985901987674,
          279.9249042431,
          279.92008211719775,
          279.9156006321119,
          279.91164704417173,
          279.9083770550951
         ]
        },
        {
         "line": {
          "dash": "dashdot",
          "width": 3
         },
         "mode": "lines",
         "name": "'T_f(x=th,t)'",
         "type": "scatter",
         "x": [
          0,
          15,
          30,
          45,
          60,
          75,
          90,
          105,
          120,
          135,
          150,
          165,
          180,
          195,
          210,
          225,
          240,
          255,
          270,
          285,
          300
         ],
         "y": [
          280,
          279.99999981419546,
          279.99999941568615,
          279.99999855126,
          279.999996697221,
          279.99999287156237,
          279.99998559942014,
          279.99997358908547,
          279.9999571226954,
          279.9999382914379,
          279.9999194358955,
          279.9999020085359,
          279.9998865908105,
          279.99987325997444,
          279.9998618598459,
          279.9998521432699,
          279.99984383982655,
          279.9998366869587,
          279.99983044351404,
          279.99982489456875
         ]
        },
        {
         "line": {
          "dash": "none",
          "width": 3
         },
         "mode": "lines",
         "name": "'T_out_meas(t)'",
         "type": "scatter",
         "x": [
          0,
          15,
          30,
          45,
          60,
          75,
          90,
          105,
          120,
          135,
          150,
          165,
          180,
          195,
          210,
          225,
          240,
          255,
          270,
          285,
          300
         ],
         "y": [
          273.4,
          273.63264209679465,
          273.84766404375705,
          274.0286476854587,
          274.16149694051677,
          274.23539963406904,
          274.24356553495977,
          274.1836903007969,
          274.05811371296664,
          273.87366141733065,
          273.64118095489744,
          273.3748037003986,
          273.09098300562505,
          272.80737409566365,
          272.54163205045467,
          272.31020978644835,
          272.12723795313974,
          272.0035630769026,
          271.9460095002604,
          271.95691541345127,
          272.03397459621556
         ]
        },
        {
         "line": {
          "dash": "none",
          "width": 3
         },
         "mode": "lines",
         "name": "'T_in_meas(t)'",
         "type": "scatter",
         "x": [
          0,
          15,
          30,
          45,
          60,
          75,
          90,
          105,
          120,
          135,
          150,
          165,
          180,
          195,
          210,
          225,
          240,
          255,
          270,
          285,
          300
         ],
         "y": [
          273.5,
          273.75881904510254,
          274,
          274.20710678118655,
          274.3660254037844,
          274.4659258262891,
          274.5,
          274.4659258262891,
          274.3660254037844,
          274.20710678118655,
          274,
          273.75881904510254,
          273.5,
          273.24118095489746,
          273,
          272.79289321881345,
          272.6339745962156,
          272.5340741737109,
          272.5,
          272.5340741737109,
          272.6339745962156
         ]
        }
       ],
       "frames": [],
       "layout": {
        "margin": {
         "b": 50,
         "l": 50,
         "r": 50,
         "t": 60
        },
        "showlegend": true,
        "template": {
         "data": {
          "bar": [
           {
            "error_x": {
             "color": "#2a3f5f"
            },
            "error_y": {
             "color": "#2a3f5f"
            },
            "marker": {
             "line": {
              "color": "#E5ECF6",
              "width": 0.5
             }
            },
            "type": "bar"
           }
          ],
          "barpolar": [
           {
            "marker": {
             "line": {
              "color": "#E5ECF6",
              "width": 0.5
             }
            },
            "type": "barpolar"
           }
          ],
          "carpet": [
           {
            "aaxis": {
             "endlinecolor": "#2a3f5f",
             "gridcolor": "white",
             "linecolor": "white",
             "minorgridcolor": "white",
             "startlinecolor": "#2a3f5f"
            },
            "baxis": {
             "endlinecolor": "#2a3f5f",
             "gridcolor": "white",
             "linecolor": "white",
             "minorgridcolor": "white",
             "startlinecolor": "#2a3f5f"
            },
            "type": "carpet"
           }
          ],
          "choropleth": [
           {
            "colorbar": {
             "outlinewidth": 0,
             "ticks": ""
            },
            "type": "choropleth"
           }
          ],
          "contour": [
           {
            "colorbar": {
             "outlinewidth": 0,
             "ticks": ""
            },
            "colorscale": [
             [
              0,
              "#0d0887"
             ],
             [
              0.1111111111111111,
              "#46039f"
             ],
             [
              0.2222222222222222,
              "#7201a8"
             ],
             [
              0.3333333333333333,
              "#9c179e"
             ],
             [
              0.4444444444444444,
              "#bd3786"
             ],
             [
              0.5555555555555556,
              "#d8576b"
             ],
             [
              0.6666666666666666,
              "#ed7953"
             ],
             [
              0.7777777777777778,
              "#fb9f3a"
             ],
             [
              0.8888888888888888,
              "#fdca26"
             ],
             [
              1,
              "#f0f921"
             ]
            ],
            "type": "contour"
           }
          ],
          "contourcarpet": [
           {
            "colorbar": {
             "outlinewidth": 0,
             "ticks": ""
            },
            "type": "contourcarpet"
           }
          ],
          "heatmap": [
           {
            "colorbar": {
             "outlinewidth": 0,
             "ticks": ""
            },
            "colorscale": [
             [
              0,
              "#0d0887"
             ],
             [
              0.1111111111111111,
              "#46039f"
             ],
             [
              0.2222222222222222,
              "#7201a8"
             ],
             [
              0.3333333333333333,
              "#9c179e"
             ],
             [
              0.4444444444444444,
              "#bd3786"
             ],
             [
              0.5555555555555556,
              "#d8576b"
             ],
             [
              0.6666666666666666,
              "#ed7953"
             ],
             [
              0.7777777777777778,
              "#fb9f3a"
             ],
             [
              0.8888888888888888,
              "#fdca26"
             ],
             [
              1,
              "#f0f921"
             ]
            ],
            "type": "heatmap"
           }
          ],
          "heatmapgl": [
           {
            "colorbar": {
             "outlinewidth": 0,
             "ticks": ""
            },
            "colorscale": [
             [
              0,
              "#0d0887"
             ],
             [
              0.1111111111111111,
              "#46039f"
             ],
             [
              0.2222222222222222,
              "#7201a8"
             ],
             [
              0.3333333333333333,
              "#9c179e"
             ],
             [
              0.4444444444444444,
              "#bd3786"
             ],
             [
              0.5555555555555556,
              "#d8576b"
             ],
             [
              0.6666666666666666,
              "#ed7953"
             ],
             [
              0.7777777777777778,
              "#fb9f3a"
             ],
             [
              0.8888888888888888,
              "#fdca26"
             ],
             [
              1,
              "#f0f921"
             ]
            ],
            "type": "heatmapgl"
           }
          ],
          "histogram": [
           {
            "marker": {
             "colorbar": {
              "outlinewidth": 0,
              "ticks": ""
             }
            },
            "type": "histogram"
           }
          ],
          "histogram2d": [
           {
            "colorbar": {
             "outlinewidth": 0,
             "ticks": ""
            },
            "colorscale": [
             [
              0,
              "#0d0887"
             ],
             [
              0.1111111111111111,
              "#46039f"
             ],
             [
              0.2222222222222222,
              "#7201a8"
             ],
             [
              0.3333333333333333,
              "#9c179e"
             ],
             [
              0.4444444444444444,
              "#bd3786"
             ],
             [
              0.5555555555555556,
              "#d8576b"
             ],
             [
              0.6666666666666666,
              "#ed7953"
             ],
             [
              0.7777777777777778,
              "#fb9f3a"
             ],
             [
              0.8888888888888888,
              "#fdca26"
             ],
             [
              1,
              "#f0f921"
             ]
            ],
            "type": "histogram2d"
           }
          ],
          "histogram2dcontour": [
           {
            "colorbar": {
             "outlinewidth": 0,
             "ticks": ""
            },
            "colorscale": [
             [
              0,
              "#0d0887"
             ],
             [
              0.1111111111111111,
              "#46039f"
             ],
             [
              0.2222222222222222,
              "#7201a8"
             ],
             [
              0.3333333333333333,
              "#9c179e"
             ],
             [
              0.4444444444444444,
              "#bd3786"
             ],
             [
              0.5555555555555556,
              "#d8576b"
             ],
             [
              0.6666666666666666,
              "#ed7953"
             ],
             [
              0.7777777777777778,
              "#fb9f3a"
             ],
             [
              0.8888888888888888,
              "#fdca26"
             ],
             [
              1,
              "#f0f921"
             ]
            ],
            "type": "histogram2dcontour"
           }
          ],
          "mesh3d": [
           {
            "colorbar": {
             "outlinewidth": 0,
             "ticks": ""
            },
            "type": "mesh3d"
           }
          ],
          "parcoords": [
           {
            "line": {
             "colorbar": {
              "outlinewidth": 0,
              "ticks": ""
             }
            },
            "type": "parcoords"
           }
          ],
          "pie": [
           {
            "automargin": true,
            "type": "pie"
           }
          ],
          "scatter": [
           {
            "marker": {
             "colorbar": {
              "outlinewidth": 0,
              "ticks": ""
             }
            },
            "type": "scatter"
           }
          ],
          "scatter3d": [
           {
            "line": {
             "colorbar": {
              "outlinewidth": 0,
              "ticks": ""
             }
            },
            "marker": {
             "colorbar": {
              "outlinewidth": 0,
              "ticks": ""
             }
            },
            "type": "scatter3d"
           }
          ],
          "scattercarpet": [
           {
            "marker": {
             "colorbar": {
              "outlinewidth": 0,
              "ticks": ""
             }
            },
            "type": "scattercarpet"
           }
          ],
          "scattergeo": [
           {
            "marker": {
             "colorbar": {
              "outlinewidth": 0,
              "ticks": ""
             }
            },
            "type": "scattergeo"
           }
          ],
          "scattergl": [
           {
            "marker": {
             "colorbar": {
              "outlinewidth": 0,
              "ticks": ""
             }
            },
            "type": "scattergl"
           }
          ],
          "scattermapbox": [
           {
            "marker": {
             "colorbar": {
              "outlinewidth": 0,
              "ticks": ""
             }
            },
            "type": "scattermapbox"
           }
          ],
          "scatterpolar": [
           {
            "marker": {
             "colorbar": {
              "outlinewidth": 0,
              "ticks": ""
             }
            },
            "type": "scatterpolar"
           }
          ],
          "scatterpolargl": [
           {
            "marker": {
             "colorbar": {
              "outlinewidth": 0,
              "ticks": ""
             }
            },
            "type": "scatterpolargl"
           }
          ],
          "scatterternary": [
           {
            "marker": {
             "colorbar": {
              "outlinewidth": 0,
              "ticks": ""
             }
            },
            "type": "scatterternary"
           }
          ],
          "surface": [
           {
            "colorbar": {
             "outlinewidth": 0,
             "ticks": ""
            },
            "colorscale": [
             [
              0,
              "#0d0887"
             ],
             [
              0.1111111111111111,
              "#46039f"
             ],
             [
              0.2222222222222222,
              "#7201a8"
             ],
             [
              0.3333333333333333,
              "#9c179e"
             ],
             [
              0.4444444444444444,
              "#bd3786"
             ],
             [
              0.5555555555555556,
              "#d8576b"
             ],
             [
              0.6666666666666666,
              "#ed7953"
             ],
             [
              0.7777777777777778,
              "#fb9f3a"
             ],
             [
              0.8888888888888888,
              "#fdca26"
             ],
             [
              1,
              "#f0f921"
             ]
            ],
            "type": "surface"
           }
          ],
          "table": [
           {
            "cells": {
             "fill": {
              "color": "#EBF0F8"
             },
             "line": {
              "color": "white"
             }
            },
            "header": {
             "fill": {
              "color": "#C8D4E3"
             },
             "line": {
              "color": "white"
             }
            },
            "type": "table"
           }
          ]
         },
         "layout": {
          "annotationdefaults": {
           "arrowcolor": "#2a3f5f",
           "arrowhead": 0,
           "arrowwidth": 1
          },
          "autotypenumbers": "strict",
          "coloraxis": {
           "colorbar": {
            "outlinewidth": 0,
            "ticks": ""
           }
          },
          "colorscale": {
           "diverging": [
            [
             0,
             "#8e0152"
            ],
            [
             0.1,
             "#c51b7d"
            ],
            [
             0.2,
             "#de77ae"
            ],
            [
             0.3,
             "#f1b6da"
            ],
            [
             0.4,
             "#fde0ef"
            ],
            [
             0.5,
             "#f7f7f7"
            ],
            [
             0.6,
             "#e6f5d0"
            ],
            [
             0.7,
             "#b8e186"
            ],
            [
             0.8,
             "#7fbc41"
            ],
            [
             0.9,
             "#4d9221"
            ],
            [
             1,
             "#276419"
            ]
           ],
           "sequential": [
            [
             0,
             "#0d0887"
            ],
            [
             0.1111111111111111,
             "#46039f"
            ],
            [
             0.2222222222222222,
             "#7201a8"
            ],
            [
             0.3333333333333333,
             "#9c179e"
            ],
            [
             0.4444444444444444,
             "#bd3786"
            ],
            [
             0.5555555555555556,
             "#d8576b"
            ],
            [
             0.6666666666666666,
             "#ed7953"
            ],
            [
             0.7777777777777778,
             "#fb9f3a"
            ],
            [
             0.8888888888888888,
             "#fdca26"
            ],
            [
             1,
             "#f0f921"
            ]
           ],
           "sequentialminus": [
            [
             0,
             "#0d0887"
            ],
            [
             0.1111111111111111,
             "#46039f"
            ],
            [
             0.2222222222222222,
             "#7201a8"
            ],
            [
             0.3333333333333333,
             "#9c179e"
            ],
            [
             0.4444444444444444,
             "#bd3786"
            ],
            [
             0.5555555555555556,
             "#d8576b"
            ],
            [
             0.6666666666666666,
             "#ed7953"
            ],
            [
             0.7777777777777778,
             "#fb9f3a"
            ],
            [
             0.8888888888888888,
             "#fdca26"
            ],
            [
             1,
             "#f0f921"
            ]
           ]
          },
          "colorway": [
           "#636efa",
           "#EF553B",
           "#00cc96",
           "#ab63fa",
           "#FFA15A",
           "#19d3f3",
           "#FF6692",
           "#B6E880",
           "#FF97FF",
           "#FECB52"
          ],
          "font": {
           "color": "#2a3f5f"
          },
          "geo": {
           "bgcolor": "white",
           "lakecolor": "white",
           "landcolor": "#E5ECF6",
           "showlakes": true,
           "showland": true,
           "subunitcolor": "white"
          },
          "hoverlabel": {
           "align": "left"
          },
          "hovermode": "closest",
          "mapbox": {
           "style": "light"
          },
          "paper_bgcolor": "white",
          "plot_bgcolor": "#E5ECF6",
          "polar": {
           "angularaxis": {
            "gridcolor": "white",
            "linecolor": "white",
            "ticks": ""
           },
           "bgcolor": "#E5ECF6",
           "radialaxis": {
            "gridcolor": "white",
            "linecolor": "white",
            "ticks": ""
           }
          },
          "scene": {
           "xaxis": {
            "backgroundcolor": "#E5ECF6",
            "gridcolor": "white",
            "gridwidth": 2,
            "linecolor": "white",
            "showbackground": true,
            "ticks": "",
            "zerolinecolor": "white"
           },
           "yaxis": {
            "backgroundcolor": "#E5ECF6",
            "gridcolor": "white",
            "gridwidth": 2,
            "linecolor": "white",
            "showbackground": true,
            "ticks": "",
            "zerolinecolor": "white"
           },
           "zaxis": {
            "backgroundcolor": "#E5ECF6",
            "gridcolor": "white",
            "gridwidth": 2,
            "linecolor": "white",
            "showbackground": true,
            "ticks": "",
            "zerolinecolor": "white"
           }
          },
          "shapedefaults": {
           "line": {
            "color": "#2a3f5f"
           }
          },
          "ternary": {
           "aaxis": {
            "gridcolor": "white",
            "linecolor": "white",
            "ticks": ""
           },
           "baxis": {
            "gridcolor": "white",
            "linecolor": "white",
            "ticks": ""
           },
           "bgcolor": "#E5ECF6",
           "caxis": {
            "gridcolor": "white",
            "linecolor": "white",
            "ticks": ""
           }
          },
          "title": {
           "x": 0.05
          },
          "xaxis": {
           "automargin": true,
           "gridcolor": "white",
           "linecolor": "white",
           "ticks": "",
           "title": {
            "standoff": 15
           },
           "zerolinecolor": "white",
           "zerolinewidth": 2
          },
          "yaxis": {
           "automargin": true,
           "gridcolor": "white",
           "linecolor": "white",
           "ticks": "",
           "title": {
            "standoff": 15
           },
           "zerolinecolor": "white",
           "zerolinewidth": 2
          }
         }
        },
        "title": "Temperature over Time",
        "xaxis": {
         "title": {
          "text": "Time (hours)"
         }
        },
        "yaxis": {
         "title": {
          "text": "Temperature (K)"
         }
        }
       }
      },
      "image/png": "[encoded data removed]",
      "image/svg+xml": "<svg class=\"main-svg\" xmlns=\"http://www.w3.org/2000/svg\" xmlns:xlink=\"http://www.w3.org/1999/xlink\" width=\"700\" height=\"500\" style=\"\" viewBox=\"0 0 700 500\"><rect x=\"0\" y=\"0\" width=\"700\" height=\"500\" style=\"fill: rgb(255, 255, 255); fill-opacity: 1;\"/><defs id=\"defs-272993\"><g class=\"clips\"><clipPath id=\"clip272993xyplot\" class=\"plotclip\"><rect width=\"475\" height=\"388\"/></clipPath><clipPath class=\"axesclip\" id=\"clip272993x\"><rect x=\"61\" y=\"0\" width=\"475\" height=\"500\"/></clipPath><clipPath class=\"axesclip\" id=\"clip272993y\"><rect x=\"0\" y=\"60\" width=\"700\" height=\"388\"/></clipPath><clipPath class=\"axesclip\" id=\"clip272993xy\"><rect x=\"61\" y=\"60\" width=\"475\" height=\"388\"/></clipPath></g><g class=\"gradients\"/></defs><g class=\"bglayer\"><rect class=\"bg\" x=\"61\" y=\"60\" width=\"475\" height=\"388\" style=\"fill: rgb(229, 236, 246); fill-opacity: 1; stroke-width: 0;\"/></g><g class=\"layer-below\"><g class=\"imagelayer\"/><g class=\"shapelayer\"/></g><g class=\"cartesianlayer\"><g class=\"subplot xy\"><g class=\"layer-subplot\"><g class=\"shapelayer\"/><g class=\"imagelayer\"/></g><g class=\"gridlayer\"><g class=\"x\"><path class=\"xgrid crisp\" transform=\"translate(140.17000000000002,0)\" d=\"M0,60v388\" style=\"stroke: rgb(255, 255, 255); stroke-opacity: 1; stroke-width: 1px;\"/><path class=\"xgrid crisp\" transform=\"translate(219.33,0)\" d=\"M0,60v388\" style=\"stroke: rgb(255, 255, 255); stroke-opacity: 1; stroke-width: 1px;\"/><path class=\"xgrid crisp\" transform=\"translate(298.5,0)\" d=\"M0,60v388\" style=\"stroke: rgb(255, 255, 255); stroke-opacity: 1; stroke-width: 1px;\"/><path class=\"xgrid crisp\" transform=\"translate(377.67,0)\" d=\"M0,60v388\" style=\"stroke: rgb(255, 255, 255); stroke-opacity: 1; stroke-width: 1px;\"/><path class=\"xgrid crisp\" transform=\"translate(456.83,0)\" d=\"M0,60v388\" style=\"stroke: rgb(255, 255, 255); stroke-opacity: 1; stroke-width: 1px;\"/></g><g class=\"y\"><path class=\"ygrid crisp\" transform=\"translate(0,426.26)\" d=\"M61,0h475\" style=\"stroke: rgb(255, 255, 255); stroke-opacity: 1; stroke-width: 1px;\"/><path class=\"ygrid crisp\" transform=\"translate(0,382.9)\" d=\"M61,0h475\" style=\"stroke: rgb(255, 255, 255); stroke-opacity: 1; stroke-width: 1px;\"/><path class=\"ygrid crisp\" transform=\"translate(0,339.54)\" d=\"M61,0h475\" style=\"stroke: rgb(255, 255, 255); stroke-opacity: 1; stroke-width: 1px;\"/><path class=\"ygrid crisp\" transform=\"translate(0,296.19)\" d=\"M61,0h475\" style=\"stroke: rgb(255, 255, 255); stroke-opacity: 1; stroke-width: 1px;\"/><path class=\"ygrid crisp\" transform=\"translate(0,252.83)\" d=\"M61,0h475\" style=\"stroke: rgb(255, 255, 255); stroke-opacity: 1; stroke-width: 1px;\"/><path class=\"ygrid crisp\" transform=\"translate(0,209.47)\" d=\"M61,0h475\" style=\"stroke: rgb(255, 255, 255); stroke-opacity: 1; stroke-width: 1px;\"/><path class=\"ygrid crisp\" transform=\"translate(0,166.11)\" d=\"M61,0h475\" style=\"stroke: rgb(255, 255, 255); stroke-opacity: 1; stroke-width: 1px;\"/><path class=\"ygrid crisp\" transform=\"translate(0,122.75999999999999)\" d=\"M61,0h475\" style=\"stroke: rgb(255, 255, 255); stroke-opacity: 1; stroke-width: 1px;\"/><path class=\"ygrid crisp\" transform=\"translate(0,79.4)\" d=\"M61,0h475\" style=\"stroke: rgb(255, 255, 255); stroke-opacity: 1; stroke-width: 1px;\"/></g></g><g class=\"zerolinelayer\"><path class=\"xzl zl crisp\" transform=\"translate(61,0)\" d=\"M0,60v388\" style=\"stroke: rgb(255, 255, 255); stroke-opacity: 1; stroke-width: 2px;\"/></g><path class=\"xlines-below\"/><path class=\"ylines-below\"/><g class=\"overlines-below\"/><g class=\"xaxislayer-below\"/><g class=\"yaxislayer-below\"/><g class=\"overaxes-below\"/><g class=\"plot\" transform=\"translate(61,60)\" clip-path=\"url('#clip272993xyplot')\"><g class=\"scatterlayer mlayer\"><g class=\"trace scatter tracead842b\" style=\"stroke-miterlimit: 2; opacity: 1;\"><g class=\"fills\"/><g class=\"errorbars\"/><g class=\"lines\"><path class=\"js-line\" d=\"M0,301.22L23.75,146.67L47.5,77.31L71.25,46.24L95,32.34L118.75,26.16L142.5,23.44L190,21.83L213.75,21.71L332.5,22.44L356.25,22.66L451.25,23.37\" style=\"vector-effect: non-scaling-stroke; fill: none; stroke: rgb(99, 110, 250); stroke-opacity: 1; stroke-width: 3px; opacity: 1; stroke-dasharray: 3px, 3px;\"/></g><g class=\"points\"/><g class=\"text\"/></g><g class=\"trace scatter trace3ad1a3\" style=\"stroke-miterlimit: 2; opacity: 1;\"><g class=\"fills\"/><g class=\"errorbars\"/><g class=\"lines\"><path class=\"js-line\" d=\"M0,19.4L451.25,19.41\" style=\"vector-effect: non-scaling-stroke; fill: none; stroke: rgb(239, 85, 59); stroke-opacity: 1; stroke-width: 3px; opacity: 1; stroke-dasharray: 9px, 3px, 3px, 3px;\"/></g><g class=\"points\"/><g class=\"text\"/></g><g class=\"trace scatter trace35e56a\" style=\"stroke-miterlimit: 2; opacity: 1;\"><g class=\"fills\"/><g class=\"errorbars\"/><g class=\"lines\"><path class=\"js-line\" d=\"M0,305.56L47.5,286.15L71.25,278.3L95,272.54L118.75,269.34L142.5,268.98L166.25,271.58L190,277.02L213.75,285.02L237.5,295.1L261.25,306.65L332.5,342.78L356.25,352.81L380,360.74L403.75,366.1L427.5,368.6L451.25,368.13L475,364.79\" style=\"vector-effect: non-scaling-stroke; fill: none; stroke: rgb(0, 204, 150); stroke-opacity: 1; stroke-width: 3px; opacity: 1; stroke-dasharray: none;\"/></g><g class=\"points\"/><g class=\"text\"/></g><g class=\"trace scatter traceb290f7\" style=\"stroke-miterlimit: 2; opacity: 1;\"><g class=\"fills\"/><g class=\"errorbars\"/><g class=\"lines\"><path class=\"js-line\" d=\"M0,301.22L47.5,279.54L71.25,270.56L95,263.67L118.75,259.34L142.5,257.87L166.25,259.34L190,263.67L213.75,270.56L237.5,279.54L261.25,290L332.5,322.9L356.25,331.88L380,338.77L403.75,343.1L427.5,344.58L451.25,343.1L475,338.77\" style=\"vector-effect: non-scaling-stroke; fill: none; stroke: rgb(171, 99, 250); stroke-opacity: 1; stroke-width: 3px; opacity: 1; stroke-dasharray: none;\"/></g><g class=\"points\"/><g class=\"text\"/></g></g></g><g class=\"overplot\"/><path class=\"xlines-above crisp\" d=\"M0,0\" style=\"fill: none;\"/><path class=\"ylines-above crisp\" d=\"M0,0\" style=\"fill: none;\"/><g class=\"overlines-above\"/><g class=\"xaxislayer-above\"><g class=\"xtick\"><text text-anchor=\"middle\" x=\"0\" y=\"461\" transform=\"translate(61,0)\" style=\"font-family: 'Open Sans', verdana, arial, sans-serif; font-size: 12px; fill: rgb(42, 63, 95); fill-opacity: 1; white-space: pre;\">0</text></g><g class=\"xtick\"><text text-anchor=\"middle\" x=\"0\" y=\"461\" transform=\"translate(140.17000000000002,0)\" style=\"font-family: 'Open Sans', verdana, arial, sans-serif; font-size: 12px; fill: rgb(42, 63, 95); fill-opacity: 1; white-space: pre;\">50</text></g><g class=\"xtick\"><text text-anchor=\"middle\" x=\"0\" y=\"461\" transform=\"translate(219.33,0)\" style=\"font-family: 'Open Sans', verdana, arial, sans-serif; font-size: 12px; fill: rgb(42, 63, 95); fill-opacity: 1; white-space: pre;\">100</text></g><g class=\"xtick\"><text text-anchor=\"middle\" x=\"0\" y=\"461\" transform=\"translate(298.5,0)\" style=\"font-family: 'Open Sans', verdana, arial, sans-serif; font-size: 12px; fill: rgb(42, 63, 95); fill-opacity: 1; white-space: pre;\">150</text></g><g class=\"xtick\"><text text-anchor=\"middle\" x=\"0\" y=\"461\" transform=\"translate(377.67,0)\" style=\"font-family: 'Open Sans', verdana, arial, sans-serif; font-size: 12px; fill: rgb(42, 63, 95); fill-opacity: 1; white-space: pre;\">200</text></g><g class=\"xtick\"><text text-anchor=\"middle\" x=\"0\" y=\"461\" transform=\"translate(456.83,0)\" style=\"font-family: 'Open Sans', verdana, arial, sans-serif; font-size: 12px; fill: rgb(42, 63, 95); fill-opacity: 1; white-space: pre;\">250</text></g><g class=\"xtick\"><text text-anchor=\"middle\" x=\"0\" y=\"461\" transform=\"translate(536,0)\" style=\"font-family: 'Open Sans', verdana, arial, sans-serif; font-size: 12px; fill: rgb(42, 63, 95); fill-opacity: 1; white-space: pre;\">300</text></g></g><g class=\"yaxislayer-above\"><g class=\"ytick\"><text text-anchor=\"end\" x=\"60\" y=\"4.199999999999999\" transform=\"translate(0,426.26)\" style=\"font-family: 'Open Sans', verdana, arial, sans-serif; font-size: 12px; fill: rgb(42, 63, 95); fill-opacity: 1; white-space: pre;\">272</text></g><g class=\"ytick\"><text text-anchor=\"end\" x=\"60\" y=\"4.199999999999999\" transform=\"translate(0,382.9)\" style=\"font-family: 'Open Sans', verdana, arial, sans-serif; font-size: 12px; fill: rgb(42, 63, 95); fill-opacity: 1; white-space: pre;\">273</text></g><g class=\"ytick\"><text text-anchor=\"end\" x=\"60\" y=\"4.199999999999999\" transform=\"translate(0,339.54)\" style=\"font-family: 'Open Sans', verdana, arial, sans-serif; font-size: 12px; fill: rgb(42, 63, 95); fill-opacity: 1; white-space: pre;\">274</text></g><g class=\"ytick\"><text text-anchor=\"end\" x=\"60\" y=\"4.199999999999999\" transform=\"translate(0,296.19)\" style=\"font-family: 'Open Sans', verdana, arial, sans-serif; font-size: 12px; fill: rgb(42, 63, 95); fill-opacity: 1; white-space: pre;\">275</text></g><g class=\"ytick\"><text text-anchor=\"end\" x=\"60\" y=\"4.199999999999999\" transform=\"translate(0,252.83)\" style=\"font-family: 'Open Sans', verdana, arial, sans-serif; font-size: 12px; fill: rgb(42, 63, 95); fill-opacity: 1; white-space: pre;\">276</text></g><g class=\"ytick\"><text text-anchor=\"end\" x=\"60\" y=\"4.199999999999999\" transform=\"translate(0,209.47)\" style=\"font-family: 'Open Sans', verdana, arial, sans-serif; font-size: 12px; fill: rgb(42, 63, 95); fill-opacity: 1; white-space: pre;\">277</text></g><g class=\"ytick\"><text text-anchor=\"end\" x=\"60\" y=\"4.199999999999999\" transform=\"translate(0,166.11)\" style=\"font-family: 'Open Sans', verdana, arial, sans-serif; font-size: 12px; fill: rgb(42, 63, 95); fill-opacity: 1; white-space: pre;\">278</text></g><g class=\"ytick\"><text text-anchor=\"end\" x=\"60\" y=\"4.199999999999999\" transform=\"translate(0,122.75999999999999)\" style=\"font-family: 'Open Sans', verdana, arial, sans-serif; font-size: 12px; fill: rgb(42, 63, 95); fill-opacity: 1; white-space: pre;\">279</text></g><g class=\"ytick\"><text text-anchor=\"end\" x=\"60\" y=\"4.199999999999999\" transform=\"translate(0,79.4)\" style=\"font-family: 'Open Sans', verdana, arial, sans-serif; font-size: 12px; fill: rgb(42, 63, 95); fill-opacity: 1; white-space: pre;\">280</text></g></g><g class=\"overaxes-above\"/></g></g><g class=\"polarlayer\"/><g class=\"ternarylayer\"/><g class=\"geolayer\"/><g class=\"funnelarealayer\"/><g class=\"pielayer\"/><g class=\"treemaplayer\"/><g class=\"sunburstlayer\"/><g class=\"glimages\"/><defs id=\"topdefs-272993\"><g class=\"clips\"/><clipPath id=\"legend272993\"><rect width=\"142\" height=\"86\" x=\"0\" y=\"0\"/></clipPath></defs><g class=\"layer-above\"><g class=\"imagelayer\"/><g class=\"shapelayer\"/></g><g class=\"infolayer\"><g class=\"legend\" pointer-events=\"all\" transform=\"translate(545.5,60)\"><rect class=\"bg\" shape-rendering=\"crispEdges\" style=\"stroke: rgb(68, 68, 68); stroke-opacity: 1; fill: rgb(255, 255, 255); fill-opacity: 1; stroke-width: 0px;\" width=\"142\" height=\"86\" x=\"0\" y=\"0\"/><g class=\"scrollbox\" transform=\"\" clip-path=\"url('#legend272993')\"><g class=\"groups\"><g class=\"traces\" transform=\"translate(0,14.5)\" style=\"opacity: 1;\"><text class=\"legendtext\" text-anchor=\"start\" x=\"40\" y=\"4.680000000000001\" style=\"font-family: 'Open Sans', verdana, arial, sans-serif; font-size: 12px; fill: rgb(42, 63, 95); fill-opacity: 1; white-space: pre;\">T_in(t)</text><g class=\"layers\" style=\"opacity: 1;\"><g class=\"legendfill\"/><g class=\"legendlines\"><path class=\"js-line\" d=\"M5,0h30\" style=\"fill: none; stroke: rgb(99, 110, 250); stroke-opacity: 1; stroke-dasharray: 3px, 3px; stroke-width: 3px;\"/></g><g class=\"legendsymbols\"><g class=\"legendpoints\"/></g></g><rect class=\"legendtoggle\" x=\"0\" y=\"-9.5\" width=\"136.609375\" height=\"19\" style=\"fill: rgb(0, 0, 0); fill-opacity: 0;\"/></g><g class=\"traces\" transform=\"translate(0,33.5)\" style=\"opacity: 1;\"><text class=\"legendtext\" text-anchor=\"start\" x=\"40\" y=\"4.680000000000001\" style=\"font-family: 'Open Sans', verdana, arial, sans-serif; font-size: 12px; fill: rgb(42, 63, 95); fill-opacity: 1; white-space: pre;\">'T_f(x=th,t)'</text><g class=\"layers\" style=\"opacity: 1;\"><g class=\"legendfill\"/><g class=\"legendlines\"><path class=\"js-line\" d=\"M5,0h30\" style=\"fill: none; stroke: rgb(239, 85, 59); stroke-opacity: 1; stroke-dasharray: 9px, 3px, 3px, 3px; stroke-width: 3px;\"/></g><g class=\"legendsymbols\"><g class=\"legendpoints\"/></g></g><rect class=\"legendtoggle\" x=\"0\" y=\"-9.5\" width=\"136.609375\" height=\"19\" style=\"fill: rgb(0, 0, 0); fill-opacity: 0;\"/></g><g class=\"traces\" transform=\"translate(0,52.5)\" style=\"opacity: 1;\"><text class=\"legendtext\" text-anchor=\"start\" x=\"40\" y=\"4.680000000000001\" style=\"font-family: 'Open Sans', verdana, arial, sans-serif; font-size: 12px; fill: rgb(42, 63, 95); fill-opacity: 1; white-space: pre;\">'T_out_meas(t)'</text><g class=\"layers\" style=\"opacity: 1;\"><g class=\"legendfill\"/><g class=\"legendlines\"><path class=\"js-line\" d=\"M5,0h30\" style=\"fill: none; stroke: rgb(0, 204, 150); stroke-opacity: 1; stroke-dasharray: none; stroke-width: 3px;\"/></g><g class=\"legendsymbols\"><g class=\"legendpoints\"/></g></g><rect class=\"legendtoggle\" x=\"0\" y=\"-9.5\" width=\"136.609375\" height=\"19\" style=\"fill: rgb(0, 0, 0); fill-opacity: 0;\"/></g><g class=\"traces\" transform=\"translate(0,71.5)\" style=\"opacity: 1;\"><text class=\"legendtext\" text-anchor=\"start\" x=\"40\" y=\"4.680000000000001\" style=\"font-family: 'Open Sans', verdana, arial, sans-serif; font-size: 12px; fill: rgb(42, 63, 95); fill-opacity: 1; white-space: pre;\">'T_in_meas(t)'</text><g class=\"layers\" style=\"opacity: 1;\"><g class=\"legendfill\"/><g class=\"legendlines\"><path class=\"js-line\" d=\"M5,0h30\" style=\"fill: none; stroke: rgb(171, 99, 250); stroke-opacity: 1; stroke-dasharray: none; stroke-width: 3px;\"/></g><g class=\"legendsymbols\"><g class=\"legendpoints\"/></g></g><rect class=\"legendtoggle\" x=\"0\" y=\"-9.5\" width=\"136.609375\" height=\"19\" style=\"fill: rgb(0, 0, 0); fill-opacity: 0;\"/></g></g></g><rect class=\"scrollbar\" rx=\"20\" ry=\"3\" width=\"0\" height=\"0\" style=\"fill: rgb(128, 139, 164); fill-opacity: 1;\" x=\"0\" y=\"0\"/></g><g class=\"g-gtitle\"><text class=\"gtitle\" x=\"35\" y=\"30\" text-anchor=\"start\" dy=\"0em\" style=\"font-family: 'Open Sans', verdana, arial, sans-serif; font-size: 17px; fill: rgb(42, 63, 95); opacity: 1; font-weight: normal; white-space: pre;\">Temperature over Time</text></g><g class=\"g-xtitle\"><text class=\"xtitle\" x=\"298.5\" y=\"488.3\" text-anchor=\"middle\" style=\"font-family: 'Open Sans', verdana, arial, sans-serif; font-size: 14px; fill: rgb(42, 63, 95); opacity: 1; font-weight: normal; white-space: pre;\">Time (hours)</text></g><g class=\"g-ytitle\" transform=\"translate(1.6904296875,0)\"><text class=\"ytitle\" transform=\"rotate(-90,12.309375000000003,254)\" x=\"12.309375000000003\" y=\"254\" text-anchor=\"middle\" style=\"font-family: 'Open Sans', verdana, arial, sans-serif; font-size: 14px; fill: rgb(42, 63, 95); opacity: 1; font-weight: normal; white-space: pre;\">Temperature (K)</text></g></g></svg>",
      "text/html": [
       "<div\n",
       "    class=\"webio-mountpoint\"\n",
       "    data-webio-mountpoint=\"607060027627721273\"\n",
       ">\n",
       "    <script>\n",
       "    (function(){\n",
       "    // Some integrations (namely, IJulia/Jupyter) use an alternate render pathway than\n",
       "    // just putting the html on the page. If WebIO isn't defined, then it's pretty likely\n",
       "    // that we're in one of those situations and the integration just isn't installed\n",
       "    // correctly.\n",
       "    if (typeof window.WebIO === \"undefined\") {\n",
       "        document\n",
       "            .querySelector('[data-webio-mountpoint=\"607060027627721273\"]')\n",
       "            .innerHTML = (\n",
       "                '<div style=\"padding: 1em; background-color: #f8d6da; border: 1px solid #f5c6cb; font-weight: bold;\">' +\n",
       "                '<p><strong>WebIO not detected.</strong></p>' +\n",
       "                '<p>Please read ' +\n",
       "                '<a href=\"https://juliagizmos.github.io/WebIO.jl/latest/troubleshooting/not-detected/\" target=\"_blank\">the troubleshooting guide</a> ' +\n",
       "                'for more information on how to resolve this issue.</p>' +\n",
       "                '<p><a href=\"https://juliagizmos.github.io/WebIO.jl/latest/troubleshooting/not-detected/\" target=\"_blank\">https://juliagizmos.github.io/WebIO.jl/latest/troubleshooting/not-detected/</a></p>' +\n",
       "                '</div>'\n",
       "            );\n",
       "        return;\n",
       "    }\n",
       "    WebIO.mount(\n",
       "        document.querySelector('[data-webio-mountpoint=\"607060027627721273\"]'),\n",
       "        {\"props\":{},\"nodeType\":\"Scope\",\"type\":\"node\",\"instanceArgs\":{\"imports\":{\"data\":[{\"name\":\"Plotly\",\"type\":\"js\",\"url\":\"\\/assetserver\\/5b3939436337838b354347cfaa22b7bc3003989a-plotly.min.js\"},{\"name\":null,\"type\":\"js\",\"url\":\"\\/assetserver\\/7e2197e88325f41c44111d393955af302af7055d-plotly_webio.bundle.js\"}],\"type\":\"async_block\"},\"id\":\"13366397823878943146\",\"handlers\":{\"_toImage\":[\"(function (options){return this.Plotly.toImage(this.plotElem,options).then((function (data){return WebIO.setval({\\\"name\\\":\\\"image\\\",\\\"scope\\\":\\\"13366397823878943146\\\",\\\"id\\\":\\\"16683823248831153619\\\",\\\"type\\\":\\\"observable\\\"},data)}))})\"],\"__get_gd_contents\":[\"(function (prop){prop==\\\"data\\\" ? (WebIO.setval({\\\"name\\\":\\\"__gd_contents\\\",\\\"scope\\\":\\\"13366397823878943146\\\",\\\"id\\\":\\\"4641418759867348913\\\",\\\"type\\\":\\\"observable\\\"},this.plotElem.data)) : undefined; return prop==\\\"layout\\\" ? (WebIO.setval({\\\"name\\\":\\\"__gd_contents\\\",\\\"scope\\\":\\\"13366397823878943146\\\",\\\"id\\\":\\\"4641418759867348913\\\",\\\"type\\\":\\\"observable\\\"},this.plotElem.layout)) : undefined})\"],\"_downloadImage\":[\"(function (options){return this.Plotly.downloadImage(this.plotElem,options)})\"],\"_commands\":[\"(function (args){var fn=args.shift(); var elem=this.plotElem; var Plotly=this.Plotly; args.unshift(elem); return Plotly[fn].apply(this,args)})\"]},\"systemjs_options\":null,\"mount_callbacks\":[\"function () {\\n    var handler = ((function (Plotly,PlotlyWebIO){PlotlyWebIO.init(WebIO); var gd=this.dom.querySelector(\\\"#plot-2dfacec9-cc45-448f-a4c1-38a10a136923\\\"); this.plotElem=gd; this.Plotly=Plotly; (window.Blink!==undefined) ? (gd.style.width=\\\"100%\\\", gd.style.height=\\\"100vh\\\", gd.style.marginLeft=\\\"0%\\\", gd.style.marginTop=\\\"0vh\\\") : undefined; window.onresize=(function (){return Plotly.Plots.resize(gd)}); Plotly.newPlot(gd,[{\\\"mode\\\":\\\"lines\\\",\\\"line\\\":{\\\"dash\\\":\\\"dot\\\",\\\"width\\\":3},\\\"y\\\":[273.5,277.06459100851106,278.6642738867083,279.3810370728981,279.70144551287024,279.8440223879979,279.90676980926446,279.93356277421566,279.9440029586692,279.9468328016676,279.94595852121347,279.94315109112307,279.93925460507506,279.9347237830708,279.92985901987674,279.9249042431,279.92008211719775,279.9156006321119,279.91164704417173,279.9083770550951],\\\"type\\\":\\\"scatter\\\",\\\"name\\\":\\\"T_in(t)\\\",\\\"x\\\":[0,15,30,45,60,75,90,105,120,135,150,165,180,195,210,225,240,255,270,285,300]},{\\\"mode\\\":\\\"lines\\\",\\\"line\\\":{\\\"dash\\\":\\\"dashdot\\\",\\\"width\\\":3},\\\"y\\\":[280.0,279.99999981419546,279.99999941568615,279.99999855126,279.999996697221,279.99999287156237,279.99998559942014,279.99997358908547,279.9999571226954,279.9999382914379,279.9999194358955,279.9999020085359,279.9998865908105,279.99987325997444,279.9998618598459,279.9998521432699,279.99984383982655,279.9998366869587,279.99983044351404,279.99982489456875],\\\"type\\\":\\\"scatter\\\",\\\"name\\\":\\\"'T_f(x=th,t)'\\\",\\\"x\\\":[0,15,30,45,60,75,90,105,120,135,150,165,180,195,210,225,240,255,270,285,300]},{\\\"mode\\\":\\\"lines\\\",\\\"line\\\":{\\\"dash\\\":\\\"none\\\",\\\"width\\\":3},\\\"y\\\":[273.4,273.63264209679465,273.84766404375705,274.0286476854587,274.16149694051677,274.23539963406904,274.24356553495977,274.1836903007969,274.05811371296664,273.87366141733065,273.64118095489744,273.3748037003986,273.09098300562505,272.80737409566365,272.54163205045467,272.31020978644835,272.12723795313974,272.0035630769026,271.9460095002604,271.95691541345127,272.03397459621556],\\\"type\\\":\\\"scatter\\\",\\\"name\\\":\\\"'T_out_meas(t)'\\\",\\\"x\\\":[0,15,30,45,60,75,90,105,120,135,150,165,180,195,210,225,240,255,270,285,300]},{\\\"mode\\\":\\\"lines\\\",\\\"line\\\":{\\\"dash\\\":\\\"none\\\",\\\"width\\\":3},\\\"y\\\":[273.5,273.75881904510254,274.0,274.20710678118655,274.3660254037844,274.4659258262891,274.5,274.4659258262891,274.3660254037844,274.20710678118655,274.0,273.75881904510254,273.5,273.24118095489746,273.0,272.79289321881345,272.6339745962156,272.5340741737109,272.5,272.5340741737109,272.6339745962156],\\\"type\\\":\\\"scatter\\\",\\\"name\\\":\\\"'T_in_meas(t)'\\\",\\\"x\\\":[0,15,30,45,60,75,90,105,120,135,150,165,180,195,210,225,240,255,270,285,300]}],{\\\"showlegend\\\":true,\\\"xaxis\\\":{\\\"title\\\":{\\\"text\\\":\\\"Time (hours)\\\"}},\\\"template\\\":{\\\"layout\\\":{\\\"coloraxis\\\":{\\\"colorbar\\\":{\\\"ticks\\\":\\\"\\\",\\\"outlinewidth\\\":0}},\\\"xaxis\\\":{\\\"gridcolor\\\":\\\"white\\\",\\\"zerolinewidth\\\":2,\\\"title\\\":{\\\"standoff\\\":15},\\\"ticks\\\":\\\"\\\",\\\"zerolinecolor\\\":\\\"white\\\",\\\"automargin\\\":true,\\\"linecolor\\\":\\\"white\\\"},\\\"hovermode\\\":\\\"closest\\\",\\\"paper_bgcolor\\\":\\\"white\\\",\\\"geo\\\":{\\\"showlakes\\\":true,\\\"showland\\\":true,\\\"landcolor\\\":\\\"#E5ECF6\\\",\\\"bgcolor\\\":\\\"white\\\",\\\"subunitcolor\\\":\\\"white\\\",\\\"lakecolor\\\":\\\"white\\\"},\\\"colorscale\\\":{\\\"sequential\\\":[[0.0,\\\"#0d0887\\\"],[0.1111111111111111,\\\"#46039f\\\"],[0.2222222222222222,\\\"#7201a8\\\"],[0.3333333333333333,\\\"#9c179e\\\"],[0.4444444444444444,\\\"#bd3786\\\"],[0.5555555555555556,\\\"#d8576b\\\"],[0.6666666666666666,\\\"#ed7953\\\"],[0.7777777777777778,\\\"#fb9f3a\\\"],[0.8888888888888888,\\\"#fdca26\\\"],[1.0,\\\"#f0f921\\\"]],\\\"diverging\\\":[[0,\\\"#8e0152\\\"],[0.1,\\\"#c51b7d\\\"],[0.2,\\\"#de77ae\\\"],[0.3,\\\"#f1b6da\\\"],[0.4,\\\"#fde0ef\\\"],[0.5,\\\"#f7f7f7\\\"],[0.6,\\\"#e6f5d0\\\"],[0.7,\\\"#b8e186\\\"],[0.8,\\\"#7fbc41\\\"],[0.9,\\\"#4d9221\\\"],[1,\\\"#276419\\\"]],\\\"sequentialminus\\\":[[0.0,\\\"#0d0887\\\"],[0.1111111111111111,\\\"#46039f\\\"],[0.2222222222222222,\\\"#7201a8\\\"],[0.3333333333333333,\\\"#9c179e\\\"],[0.4444444444444444,\\\"#bd3786\\\"],[0.5555555555555556,\\\"#d8576b\\\"],[0.6666666666666666,\\\"#ed7953\\\"],[0.7777777777777778,\\\"#fb9f3a\\\"],[0.8888888888888888,\\\"#fdca26\\\"],[1.0,\\\"#f0f921\\\"]]},\\\"yaxis\\\":{\\\"gridcolor\\\":\\\"white\\\",\\\"zerolinewidth\\\":2,\\\"title\\\":{\\\"standoff\\\":15},\\\"ticks\\\":\\\"\\\",\\\"zerolinecolor\\\":\\\"white\\\",\\\"automargin\\\":true,\\\"linecolor\\\":\\\"white\\\"},\\\"shapedefaults\\\":{\\\"line\\\":{\\\"color\\\":\\\"#2a3f5f\\\"}},\\\"hoverlabel\\\":{\\\"align\\\":\\\"left\\\"},\\\"mapbox\\\":{\\\"style\\\":\\\"light\\\"},\\\"polar\\\":{\\\"angularaxis\\\":{\\\"gridcolor\\\":\\\"white\\\",\\\"ticks\\\":\\\"\\\",\\\"linecolor\\\":\\\"white\\\"},\\\"bgcolor\\\":\\\"#E5ECF6\\\",\\\"radialaxis\\\":{\\\"gridcolor\\\":\\\"white\\\",\\\"ticks\\\":\\\"\\\",\\\"linecolor\\\":\\\"white\\\"}},\\\"autotypenumbers\\\":\\\"strict\\\",\\\"font\\\":{\\\"color\\\":\\\"#2a3f5f\\\"},\\\"ternary\\\":{\\\"baxis\\\":{\\\"gridcolor\\\":\\\"white\\\",\\\"ticks\\\":\\\"\\\",\\\"linecolor\\\":\\\"white\\\"},\\\"bgcolor\\\":\\\"#E5ECF6\\\",\\\"caxis\\\":{\\\"gridcolor\\\":\\\"white\\\",\\\"ticks\\\":\\\"\\\",\\\"linecolor\\\":\\\"white\\\"},\\\"aaxis\\\":{\\\"gridcolor\\\":\\\"white\\\",\\\"ticks\\\":\\\"\\\",\\\"linecolor\\\":\\\"white\\\"}},\\\"annotationdefaults\\\":{\\\"arrowhead\\\":0,\\\"arrowwidth\\\":1,\\\"arrowcolor\\\":\\\"#2a3f5f\\\"},\\\"plot_bgcolor\\\":\\\"#E5ECF6\\\",\\\"title\\\":{\\\"x\\\":0.05},\\\"scene\\\":{\\\"xaxis\\\":{\\\"gridcolor\\\":\\\"white\\\",\\\"gridwidth\\\":2,\\\"backgroundcolor\\\":\\\"#E5ECF6\\\",\\\"ticks\\\":\\\"\\\",\\\"showbackground\\\":true,\\\"zerolinecolor\\\":\\\"white\\\",\\\"linecolor\\\":\\\"white\\\"},\\\"zaxis\\\":{\\\"gridcolor\\\":\\\"white\\\",\\\"gridwidth\\\":2,\\\"backgroundcolor\\\":\\\"#E5ECF6\\\",\\\"ticks\\\":\\\"\\\",\\\"showbackground\\\":true,\\\"zerolinecolor\\\":\\\"white\\\",\\\"linecolor\\\":\\\"white\\\"},\\\"yaxis\\\":{\\\"gridcolor\\\":\\\"white\\\",\\\"gridwidth\\\":2,\\\"backgroundcolor\\\":\\\"#E5ECF6\\\",\\\"ticks\\\":\\\"\\\",\\\"showbackground\\\":true,\\\"zerolinecolor\\\":\\\"white\\\",\\\"linecolor\\\":\\\"white\\\"}},\\\"colorway\\\":[\\\"#636efa\\\",\\\"#EF553B\\\",\\\"#00cc96\\\",\\\"#ab63fa\\\",\\\"#FFA15A\\\",\\\"#19d3f3\\\",\\\"#FF6692\\\",\\\"#B6E880\\\",\\\"#FF97FF\\\",\\\"#FECB52\\\"]},\\\"data\\\":{\\\"barpolar\\\":[{\\\"type\\\":\\\"barpolar\\\",\\\"marker\\\":{\\\"line\\\":{\\\"color\\\":\\\"#E5ECF6\\\",\\\"width\\\":0.5}}}],\\\"carpet\\\":[{\\\"aaxis\\\":{\\\"gridcolor\\\":\\\"white\\\",\\\"endlinecolor\\\":\\\"#2a3f5f\\\",\\\"minorgridcolor\\\":\\\"white\\\",\\\"startlinecolor\\\":\\\"#2a3f5f\\\",\\\"linecolor\\\":\\\"white\\\"},\\\"type\\\":\\\"carpet\\\",\\\"baxis\\\":{\\\"gridcolor\\\":\\\"white\\\",\\\"endlinecolor\\\":\\\"#2a3f5f\\\",\\\"minorgridcolor\\\":\\\"white\\\",\\\"startlinecolor\\\":\\\"#2a3f5f\\\",\\\"linecolor\\\":\\\"white\\\"}}],\\\"scatterpolar\\\":[{\\\"type\\\":\\\"scatterpolar\\\",\\\"marker\\\":{\\\"colorbar\\\":{\\\"ticks\\\":\\\"\\\",\\\"outlinewidth\\\":0}}}],\\\"parcoords\\\":[{\\\"line\\\":{\\\"colorbar\\\":{\\\"ticks\\\":\\\"\\\",\\\"outlinewidth\\\":0}},\\\"type\\\":\\\"parcoords\\\"}],\\\"scatter\\\":[{\\\"type\\\":\\\"scatter\\\",\\\"marker\\\":{\\\"colorbar\\\":{\\\"ticks\\\":\\\"\\\",\\\"outlinewidth\\\":0}}}],\\\"histogram2dcontour\\\":[{\\\"colorbar\\\":{\\\"ticks\\\":\\\"\\\",\\\"outlinewidth\\\":0},\\\"type\\\":\\\"histogram2dcontour\\\",\\\"colorscale\\\":[[0.0,\\\"#0d0887\\\"],[0.1111111111111111,\\\"#46039f\\\"],[0.2222222222222222,\\\"#7201a8\\\"],[0.3333333333333333,\\\"#9c179e\\\"],[0.4444444444444444,\\\"#bd3786\\\"],[0.5555555555555556,\\\"#d8576b\\\"],[0.6666666666666666,\\\"#ed7953\\\"],[0.7777777777777778,\\\"#fb9f3a\\\"],[0.8888888888888888,\\\"#fdca26\\\"],[1.0,\\\"#f0f921\\\"]]}],\\\"contour\\\":[{\\\"colorbar\\\":{\\\"ticks\\\":\\\"\\\",\\\"outlinewidth\\\":0},\\\"type\\\":\\\"contour\\\",\\\"colorscale\\\":[[0.0,\\\"#0d0887\\\"],[0.1111111111111111,\\\"#46039f\\\"],[0.2222222222222222,\\\"#7201a8\\\"],[0.3333333333333333,\\\"#9c179e\\\"],[0.4444444444444444,\\\"#bd3786\\\"],[0.5555555555555556,\\\"#d8576b\\\"],[0.6666666666666666,\\\"#ed7953\\\"],[0.7777777777777778,\\\"#fb9f3a\\\"],[0.8888888888888888,\\\"#fdca26\\\"],[1.0,\\\"#f0f921\\\"]]}],\\\"scattercarpet\\\":[{\\\"type\\\":\\\"scattercarpet\\\",\\\"marker\\\":{\\\"colorbar\\\":{\\\"ticks\\\":\\\"\\\",\\\"outlinewidth\\\":0}}}],\\\"mesh3d\\\":[{\\\"colorbar\\\":{\\\"ticks\\\":\\\"\\\",\\\"outlinewidth\\\":0},\\\"type\\\":\\\"mesh3d\\\"}],\\\"surface\\\":[{\\\"colorbar\\\":{\\\"ticks\\\":\\\"\\\",\\\"outlinewidth\\\":0},\\\"type\\\":\\\"surface\\\",\\\"colorscale\\\":[[0.0,\\\"#0d0887\\\"],[0.1111111111111111,\\\"#46039f\\\"],[0.2222222222222222,\\\"#7201a8\\\"],[0.3333333333333333,\\\"#9c179e\\\"],[0.4444444444444444,\\\"#bd3786\\\"],[0.5555555555555556,\\\"#d8576b\\\"],[0.6666666666666666,\\\"#ed7953\\\"],[0.7777777777777778,\\\"#fb9f3a\\\"],[0.8888888888888888,\\\"#fdca26\\\"],[1.0,\\\"#f0f921\\\"]]}],\\\"scattermapbox\\\":[{\\\"type\\\":\\\"scattermapbox\\\",\\\"marker\\\":{\\\"colorbar\\\":{\\\"ticks\\\":\\\"\\\",\\\"outlinewidth\\\":0}}}],\\\"scattergeo\\\":[{\\\"type\\\":\\\"scattergeo\\\",\\\"marker\\\":{\\\"colorbar\\\":{\\\"ticks\\\":\\\"\\\",\\\"outlinewidth\\\":0}}}],\\\"histogram\\\":[{\\\"type\\\":\\\"histogram\\\",\\\"marker\\\":{\\\"colorbar\\\":{\\\"ticks\\\":\\\"\\\",\\\"outlinewidth\\\":0}}}],\\\"pie\\\":[{\\\"type\\\":\\\"pie\\\",\\\"automargin\\\":true}],\\\"choropleth\\\":[{\\\"colorbar\\\":{\\\"ticks\\\":\\\"\\\",\\\"outlinewidth\\\":0},\\\"type\\\":\\\"choropleth\\\"}],\\\"heatmapgl\\\":[{\\\"colorbar\\\":{\\\"ticks\\\":\\\"\\\",\\\"outlinewidth\\\":0},\\\"type\\\":\\\"heatmapgl\\\",\\\"colorscale\\\":[[0.0,\\\"#0d0887\\\"],[0.1111111111111111,\\\"#46039f\\\"],[0.2222222222222222,\\\"#7201a8\\\"],[0.3333333333333333,\\\"#9c179e\\\"],[0.4444444444444444,\\\"#bd3786\\\"],[0.5555555555555556,\\\"#d8576b\\\"],[0.6666666666666666,\\\"#ed7953\\\"],[0.7777777777777778,\\\"#fb9f3a\\\"],[0.8888888888888888,\\\"#fdca26\\\"],[1.0,\\\"#f0f921\\\"]]}],\\\"bar\\\":[{\\\"type\\\":\\\"bar\\\",\\\"error_y\\\":{\\\"color\\\":\\\"#2a3f5f\\\"},\\\"error_x\\\":{\\\"color\\\":\\\"#2a3f5f\\\"},\\\"marker\\\":{\\\"line\\\":{\\\"color\\\":\\\"#E5ECF6\\\",\\\"width\\\":0.5}}}],\\\"heatmap\\\":[{\\\"colorbar\\\":{\\\"ticks\\\":\\\"\\\",\\\"outlinewidth\\\":0},\\\"type\\\":\\\"heatmap\\\",\\\"colorscale\\\":[[0.0,\\\"#0d0887\\\"],[0.1111111111111111,\\\"#46039f\\\"],[0.2222222222222222,\\\"#7201a8\\\"],[0.3333333333333333,\\\"#9c179e\\\"],[0.4444444444444444,\\\"#bd3786\\\"],[0.5555555555555556,\\\"#d8576b\\\"],[0.6666666666666666,\\\"#ed7953\\\"],[0.7777777777777778,\\\"#fb9f3a\\\"],[0.8888888888888888,\\\"#fdca26\\\"],[1.0,\\\"#f0f921\\\"]]}],\\\"contourcarpet\\\":[{\\\"colorbar\\\":{\\\"ticks\\\":\\\"\\\",\\\"outlinewidth\\\":0},\\\"type\\\":\\\"contourcarpet\\\"}],\\\"table\\\":[{\\\"type\\\":\\\"table\\\",\\\"header\\\":{\\\"line\\\":{\\\"color\\\":\\\"white\\\"},\\\"fill\\\":{\\\"color\\\":\\\"#C8D4E3\\\"}},\\\"cells\\\":{\\\"line\\\":{\\\"color\\\":\\\"white\\\"},\\\"fill\\\":{\\\"color\\\":\\\"#EBF0F8\\\"}}}],\\\"scatter3d\\\":[{\\\"line\\\":{\\\"colorbar\\\":{\\\"ticks\\\":\\\"\\\",\\\"outlinewidth\\\":0}},\\\"type\\\":\\\"scatter3d\\\",\\\"marker\\\":{\\\"colorbar\\\":{\\\"ticks\\\":\\\"\\\",\\\"outlinewidth\\\":0}}}],\\\"scattergl\\\":[{\\\"type\\\":\\\"scattergl\\\",\\\"marker\\\":{\\\"colorbar\\\":{\\\"ticks\\\":\\\"\\\",\\\"outlinewidth\\\":0}}}],\\\"histogram2d\\\":[{\\\"colorbar\\\":{\\\"ticks\\\":\\\"\\\",\\\"outlinewidth\\\":0},\\\"type\\\":\\\"histogram2d\\\",\\\"colorscale\\\":[[0.0,\\\"#0d0887\\\"],[0.1111111111111111,\\\"#46039f\\\"],[0.2222222222222222,\\\"#7201a8\\\"],[0.3333333333333333,\\\"#9c179e\\\"],[0.4444444444444444,\\\"#bd3786\\\"],[0.5555555555555556,\\\"#d8576b\\\"],[0.6666666666666666,\\\"#ed7953\\\"],[0.7777777777777778,\\\"#fb9f3a\\\"],[0.8888888888888888,\\\"#fdca26\\\"],[1.0,\\\"#f0f921\\\"]]}],\\\"scatterternary\\\":[{\\\"type\\\":\\\"scatterternary\\\",\\\"marker\\\":{\\\"colorbar\\\":{\\\"ticks\\\":\\\"\\\",\\\"outlinewidth\\\":0}}}],\\\"scatterpolargl\\\":[{\\\"type\\\":\\\"scatterpolargl\\\",\\\"marker\\\":{\\\"colorbar\\\":{\\\"ticks\\\":\\\"\\\",\\\"outlinewidth\\\":0}}}]}},\\\"margin\\\":{\\\"l\\\":50,\\\"b\\\":50,\\\"r\\\":50,\\\"t\\\":60},\\\"title\\\":\\\"Temperature over Time\\\",\\\"yaxis\\\":{\\\"title\\\":{\\\"text\\\":\\\"Temperature (K)\\\"}}},{\\\"showLink\\\":false,\\\"editable\\\":false,\\\"responsive\\\":true,\\\"staticPlot\\\":false,\\\"scrollZoom\\\":false}); gd.on(\\\"plotly_hover\\\",(function (data){var filtered_data=WebIO.PlotlyCommands.filterEventData(gd,data,\\\"hover\\\"); return !(filtered_data.isnil) ? (WebIO.setval({\\\"name\\\":\\\"hover\\\",\\\"scope\\\":\\\"13366397823878943146\\\",\\\"id\\\":\\\"12165874305438204715\\\",\\\"type\\\":\\\"observable\\\"},filtered_data.out)) : undefined})); gd.on(\\\"plotly_unhover\\\",(function (){return WebIO.setval({\\\"name\\\":\\\"hover\\\",\\\"scope\\\":\\\"13366397823878943146\\\",\\\"id\\\":\\\"12165874305438204715\\\",\\\"type\\\":\\\"observable\\\"},{})})); gd.on(\\\"plotly_selected\\\",(function (data){var filtered_data=WebIO.PlotlyCommands.filterEventData(gd,data,\\\"selected\\\"); return !(filtered_data.isnil) ? (WebIO.setval({\\\"name\\\":\\\"selected\\\",\\\"scope\\\":\\\"13366397823878943146\\\",\\\"id\\\":\\\"14731665723188281717\\\",\\\"type\\\":\\\"observable\\\"},filtered_data.out)) : undefined})); gd.on(\\\"plotly_deselect\\\",(function (){return WebIO.setval({\\\"name\\\":\\\"selected\\\",\\\"scope\\\":\\\"13366397823878943146\\\",\\\"id\\\":\\\"14731665723188281717\\\",\\\"type\\\":\\\"observable\\\"},{})})); gd.on(\\\"plotly_relayout\\\",(function (data){var filtered_data=WebIO.PlotlyCommands.filterEventData(gd,data,\\\"relayout\\\"); return !(filtered_data.isnil) ? (WebIO.setval({\\\"name\\\":\\\"relayout\\\",\\\"scope\\\":\\\"13366397823878943146\\\",\\\"id\\\":\\\"9055789795179206559\\\",\\\"type\\\":\\\"observable\\\"},filtered_data.out)) : undefined})); return gd.on(\\\"plotly_click\\\",(function (data){var filtered_data=WebIO.PlotlyCommands.filterEventData(gd,data,\\\"click\\\"); return !(filtered_data.isnil) ? (WebIO.setval({\\\"name\\\":\\\"click\\\",\\\"scope\\\":\\\"13366397823878943146\\\",\\\"id\\\":\\\"15817747349512686685\\\",\\\"type\\\":\\\"observable\\\"},filtered_data.out)) : undefined}))}));\\n    (WebIO.importBlock({\\\"data\\\":[{\\\"name\\\":\\\"Plotly\\\",\\\"type\\\":\\\"js\\\",\\\"url\\\":\\\"\\/assetserver\\/5b3939436337838b354347cfaa22b7bc3003989a-plotly.min.js\\\"},{\\\"name\\\":null,\\\"type\\\":\\\"js\\\",\\\"url\\\":\\\"\\/assetserver\\/7e2197e88325f41c44111d393955af302af7055d-plotly_webio.bundle.js\\\"}],\\\"type\\\":\\\"async_block\\\"})).then((imports) => handler.apply(this, imports));\\n}\\n\"],\"observables\":{\"_toImage\":{\"sync\":true,\"id\":\"418888037410754482\",\"value\":{}},\"hover\":{\"sync\":false,\"id\":\"12165874305438204715\",\"value\":{}},\"selected\":{\"sync\":false,\"id\":\"14731665723188281717\",\"value\":{}},\"__gd_contents\":{\"sync\":false,\"id\":\"4641418759867348913\",\"value\":{}},\"click\":{\"sync\":false,\"id\":\"15817747349512686685\",\"value\":{}},\"image\":{\"sync\":true,\"id\":\"16683823248831153619\",\"value\":\"\"},\"__get_gd_contents\":{\"sync\":true,\"id\":\"1606578597766740257\",\"value\":\"\"},\"_downloadImage\":{\"sync\":true,\"id\":\"12752029705423162737\",\"value\":{}},\"relayout\":{\"sync\":false,\"id\":\"9055789795179206559\",\"value\":{}},\"_commands\":{\"sync\":true,\"id\":\"10599067069718061693\",\"value\":[]}}},\"children\":[{\"props\":{\"id\":\"plot-2dfacec9-cc45-448f-a4c1-38a10a136923\"},\"nodeType\":\"DOM\",\"type\":\"node\",\"instanceArgs\":{\"namespace\":\"html\",\"tag\":\"div\"},\"children\":[]}]},\n",
       "        window,\n",
       "    );\n",
       "    })()\n",
       "    </script>\n",
       "</div>\n"
      ],
      "text/plain": [
       "data: [\n",
       "  \"scatter with fields line, mode, name, type, x, and y\",\n",
       "  \"scatter with fields line, mode, name, type, x, and y\",\n",
       "  \"scatter with fields line, mode, name, type, x, and y\",\n",
       "  \"scatter with fields line, mode, name, type, x, and y\"\n",
       "]\n",
       "\n",
       "layout: \"layout with fields margin, showlegend, template, title, xaxis, and yaxis\"\n",
       "\n"
      ]
     },
     "metadata": {},
     "output_type": "display_data"
    }
   ],
   "source": [
    "labels = [\"T_in(t)\",\"'T_f(x=th,t)'\",\"'T_out_meas(t)'\",\"'T_in_meas(t)'\"];\n",
    "vals = [T_in[1:end-1], T_f[end, 1:end-1], T_out_meas, T_in_meas]\n",
    "linewidths = [3,3,3,3]\n",
    "dashtypes = [\"dot\", \"dashdot\", \"none\", \"none\"]\n",
    "\n",
    "\n",
    "traces = [PlotlyJS.scatter(x=vec(time),  y=val, mode=\"lines\", name=label, line=attr(width=lw, dash=dt)) for (val,label, lw, dt) in zip(vals, labels, linewidths, dashtypes)];\n",
    "\n",
    "\n",
    "p3 = PlotlyJS.plot(traces, Layout(;title=\"Temperature over Time\", showlegend=true, xaxis_title=\"Time (hours)\", yaxis_title=\"Temperature (K)\" ),  config=PlotConfig(scrollZoom=false));\n",
    "p3"
   ]
  }
 ],
 "metadata": {
  "kernelspec": {
   "display_name": "Julia 1.7.2",
   "language": "julia",
   "name": "julia-1.7"
  },
  "language_info": {
   "file_extension": ".jl",
   "mimetype": "application/julia",
   "name": "julia",
   "version": "1.7.2"
  },
  "orig_nbformat": 4
 },
 "nbformat": 4,
 "nbformat_minor": 2
}
